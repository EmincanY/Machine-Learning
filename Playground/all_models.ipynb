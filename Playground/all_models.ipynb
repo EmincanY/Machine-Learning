{
 "cells": [
  {
   "cell_type": "code",
   "execution_count": 1,
   "metadata": {},
   "outputs": [],
   "source": [
    "import numpy as np\n",
    "import pandas as pd\n",
    "\n",
    "import matplotlib.pyplot as plt\n",
    "import seaborn as sns"
   ]
  },
  {
   "cell_type": "code",
   "execution_count": 2,
   "metadata": {},
   "outputs": [
    {
     "data": {
      "text/html": [
       "<div>\n",
       "<style scoped>\n",
       "    .dataframe tbody tr th:only-of-type {\n",
       "        vertical-align: middle;\n",
       "    }\n",
       "\n",
       "    .dataframe tbody tr th {\n",
       "        vertical-align: top;\n",
       "    }\n",
       "\n",
       "    .dataframe thead th {\n",
       "        text-align: right;\n",
       "    }\n",
       "</style>\n",
       "<table border=\"1\" class=\"dataframe\">\n",
       "  <thead>\n",
       "    <tr style=\"text-align: right;\">\n",
       "      <th></th>\n",
       "      <th>id</th>\n",
       "      <th>Sex</th>\n",
       "      <th>Length</th>\n",
       "      <th>Diameter</th>\n",
       "      <th>Height</th>\n",
       "      <th>Weight</th>\n",
       "      <th>Shucked Weight</th>\n",
       "      <th>Viscera Weight</th>\n",
       "      <th>Shell Weight</th>\n",
       "      <th>Age</th>\n",
       "    </tr>\n",
       "  </thead>\n",
       "  <tbody>\n",
       "    <tr>\n",
       "      <th>0</th>\n",
       "      <td>0</td>\n",
       "      <td>I</td>\n",
       "      <td>1.5250</td>\n",
       "      <td>1.1750</td>\n",
       "      <td>0.3750</td>\n",
       "      <td>28.973189</td>\n",
       "      <td>12.728926</td>\n",
       "      <td>6.647958</td>\n",
       "      <td>8.348928</td>\n",
       "      <td>9</td>\n",
       "    </tr>\n",
       "    <tr>\n",
       "      <th>1</th>\n",
       "      <td>1</td>\n",
       "      <td>I</td>\n",
       "      <td>1.1000</td>\n",
       "      <td>0.8250</td>\n",
       "      <td>0.2750</td>\n",
       "      <td>10.418441</td>\n",
       "      <td>4.521745</td>\n",
       "      <td>2.324659</td>\n",
       "      <td>3.401940</td>\n",
       "      <td>8</td>\n",
       "    </tr>\n",
       "    <tr>\n",
       "      <th>2</th>\n",
       "      <td>2</td>\n",
       "      <td>M</td>\n",
       "      <td>1.3875</td>\n",
       "      <td>1.1125</td>\n",
       "      <td>0.3750</td>\n",
       "      <td>24.777463</td>\n",
       "      <td>11.339800</td>\n",
       "      <td>5.556502</td>\n",
       "      <td>6.662133</td>\n",
       "      <td>9</td>\n",
       "    </tr>\n",
       "    <tr>\n",
       "      <th>3</th>\n",
       "      <td>3</td>\n",
       "      <td>F</td>\n",
       "      <td>1.7000</td>\n",
       "      <td>1.4125</td>\n",
       "      <td>0.5000</td>\n",
       "      <td>50.660556</td>\n",
       "      <td>20.354941</td>\n",
       "      <td>10.991839</td>\n",
       "      <td>14.996885</td>\n",
       "      <td>11</td>\n",
       "    </tr>\n",
       "    <tr>\n",
       "      <th>4</th>\n",
       "      <td>4</td>\n",
       "      <td>I</td>\n",
       "      <td>1.2500</td>\n",
       "      <td>1.0125</td>\n",
       "      <td>0.3375</td>\n",
       "      <td>23.289114</td>\n",
       "      <td>11.977664</td>\n",
       "      <td>4.507570</td>\n",
       "      <td>5.953395</td>\n",
       "      <td>8</td>\n",
       "    </tr>\n",
       "  </tbody>\n",
       "</table>\n",
       "</div>"
      ],
      "text/plain": [
       "   id Sex  Length  Diameter  Height     Weight  Shucked Weight   \n",
       "0   0   I  1.5250    1.1750  0.3750  28.973189       12.728926  \\\n",
       "1   1   I  1.1000    0.8250  0.2750  10.418441        4.521745   \n",
       "2   2   M  1.3875    1.1125  0.3750  24.777463       11.339800   \n",
       "3   3   F  1.7000    1.4125  0.5000  50.660556       20.354941   \n",
       "4   4   I  1.2500    1.0125  0.3375  23.289114       11.977664   \n",
       "\n",
       "   Viscera Weight  Shell Weight  Age  \n",
       "0        6.647958      8.348928    9  \n",
       "1        2.324659      3.401940    8  \n",
       "2        5.556502      6.662133    9  \n",
       "3       10.991839     14.996885   11  \n",
       "4        4.507570      5.953395    8  "
      ]
     },
     "execution_count": 2,
     "metadata": {},
     "output_type": "execute_result"
    }
   ],
   "source": [
    "train = pd.read_csv(r'C:\\Users\\Emincan\\Desktop\\Playground\\train.csv')\n",
    "# test = pd.read_csv(r'C:\\Users\\Emincan\\Desktop\\Playground\\test.csv')\n",
    "\n",
    "train.head()"
   ]
  },
  {
   "cell_type": "code",
   "execution_count": 3,
   "metadata": {},
   "outputs": [
    {
     "data": {
      "text/plain": [
       "(74051, 10)"
      ]
     },
     "execution_count": 3,
     "metadata": {},
     "output_type": "execute_result"
    }
   ],
   "source": [
    "train.shape"
   ]
  },
  {
   "cell_type": "code",
   "execution_count": 4,
   "metadata": {},
   "outputs": [
    {
     "name": "stdout",
     "output_type": "stream",
     "text": [
      "<class 'pandas.core.frame.DataFrame'>\n",
      "RangeIndex: 74051 entries, 0 to 74050\n",
      "Data columns (total 10 columns):\n",
      " #   Column          Non-Null Count  Dtype  \n",
      "---  ------          --------------  -----  \n",
      " 0   id              74051 non-null  int64  \n",
      " 1   Sex             74051 non-null  object \n",
      " 2   Length          74051 non-null  float64\n",
      " 3   Diameter        74051 non-null  float64\n",
      " 4   Height          74051 non-null  float64\n",
      " 5   Weight          74051 non-null  float64\n",
      " 6   Shucked Weight  74051 non-null  float64\n",
      " 7   Viscera Weight  74051 non-null  float64\n",
      " 8   Shell Weight    74051 non-null  float64\n",
      " 9   Age             74051 non-null  int64  \n",
      "dtypes: float64(7), int64(2), object(1)\n",
      "memory usage: 5.6+ MB\n"
     ]
    }
   ],
   "source": [
    "train.info()"
   ]
  },
  {
   "cell_type": "code",
   "execution_count": 5,
   "metadata": {},
   "outputs": [],
   "source": [
    "train.drop('id' , axis =1 , inplace = True)"
   ]
  },
  {
   "cell_type": "code",
   "execution_count": 6,
   "metadata": {},
   "outputs": [],
   "source": [
    "# simple preprocessing for categorical variable!\n",
    "train = pd.get_dummies(train, columns=['Sex'])"
   ]
  },
  {
   "cell_type": "code",
   "execution_count": 7,
   "metadata": {},
   "outputs": [
    {
     "data": {
      "text/html": [
       "<div>\n",
       "<style scoped>\n",
       "    .dataframe tbody tr th:only-of-type {\n",
       "        vertical-align: middle;\n",
       "    }\n",
       "\n",
       "    .dataframe tbody tr th {\n",
       "        vertical-align: top;\n",
       "    }\n",
       "\n",
       "    .dataframe thead th {\n",
       "        text-align: right;\n",
       "    }\n",
       "</style>\n",
       "<table border=\"1\" class=\"dataframe\">\n",
       "  <thead>\n",
       "    <tr style=\"text-align: right;\">\n",
       "      <th></th>\n",
       "      <th>count</th>\n",
       "      <th>mean</th>\n",
       "      <th>std</th>\n",
       "      <th>min</th>\n",
       "      <th>25%</th>\n",
       "      <th>50%</th>\n",
       "      <th>75%</th>\n",
       "      <th>max</th>\n",
       "    </tr>\n",
       "  </thead>\n",
       "  <tbody>\n",
       "    <tr>\n",
       "      <th>Length</th>\n",
       "      <td>74051.0</td>\n",
       "      <td>1.317460</td>\n",
       "      <td>0.287757</td>\n",
       "      <td>0.187500</td>\n",
       "      <td>1.150000</td>\n",
       "      <td>1.375000</td>\n",
       "      <td>1.537500</td>\n",
       "      <td>2.012815</td>\n",
       "    </tr>\n",
       "    <tr>\n",
       "      <th>Diameter</th>\n",
       "      <td>74051.0</td>\n",
       "      <td>1.024496</td>\n",
       "      <td>0.237396</td>\n",
       "      <td>0.137500</td>\n",
       "      <td>0.887500</td>\n",
       "      <td>1.075000</td>\n",
       "      <td>1.200000</td>\n",
       "      <td>1.612500</td>\n",
       "    </tr>\n",
       "    <tr>\n",
       "      <th>Height</th>\n",
       "      <td>74051.0</td>\n",
       "      <td>0.348089</td>\n",
       "      <td>0.092034</td>\n",
       "      <td>0.000000</td>\n",
       "      <td>0.300000</td>\n",
       "      <td>0.362500</td>\n",
       "      <td>0.412500</td>\n",
       "      <td>2.825000</td>\n",
       "    </tr>\n",
       "    <tr>\n",
       "      <th>Weight</th>\n",
       "      <td>74051.0</td>\n",
       "      <td>23.385217</td>\n",
       "      <td>12.648153</td>\n",
       "      <td>0.056699</td>\n",
       "      <td>13.437663</td>\n",
       "      <td>23.799405</td>\n",
       "      <td>32.162508</td>\n",
       "      <td>80.101512</td>\n",
       "    </tr>\n",
       "    <tr>\n",
       "      <th>Shucked Weight</th>\n",
       "      <td>74051.0</td>\n",
       "      <td>10.104270</td>\n",
       "      <td>5.618025</td>\n",
       "      <td>0.028349</td>\n",
       "      <td>5.712424</td>\n",
       "      <td>9.908150</td>\n",
       "      <td>14.033003</td>\n",
       "      <td>42.184056</td>\n",
       "    </tr>\n",
       "    <tr>\n",
       "      <th>Viscera Weight</th>\n",
       "      <td>74051.0</td>\n",
       "      <td>5.058386</td>\n",
       "      <td>2.792729</td>\n",
       "      <td>0.042524</td>\n",
       "      <td>2.863300</td>\n",
       "      <td>4.989512</td>\n",
       "      <td>6.988152</td>\n",
       "      <td>21.545620</td>\n",
       "    </tr>\n",
       "    <tr>\n",
       "      <th>Shell Weight</th>\n",
       "      <td>74051.0</td>\n",
       "      <td>6.723870</td>\n",
       "      <td>3.584372</td>\n",
       "      <td>0.042524</td>\n",
       "      <td>3.968930</td>\n",
       "      <td>6.931453</td>\n",
       "      <td>9.071840</td>\n",
       "      <td>28.491248</td>\n",
       "    </tr>\n",
       "    <tr>\n",
       "      <th>Age</th>\n",
       "      <td>74051.0</td>\n",
       "      <td>9.967806</td>\n",
       "      <td>3.175189</td>\n",
       "      <td>1.000000</td>\n",
       "      <td>8.000000</td>\n",
       "      <td>10.000000</td>\n",
       "      <td>11.000000</td>\n",
       "      <td>29.000000</td>\n",
       "    </tr>\n",
       "  </tbody>\n",
       "</table>\n",
       "</div>"
      ],
      "text/plain": [
       "                  count       mean        std       min        25%        50%   \n",
       "Length          74051.0   1.317460   0.287757  0.187500   1.150000   1.375000  \\\n",
       "Diameter        74051.0   1.024496   0.237396  0.137500   0.887500   1.075000   \n",
       "Height          74051.0   0.348089   0.092034  0.000000   0.300000   0.362500   \n",
       "Weight          74051.0  23.385217  12.648153  0.056699  13.437663  23.799405   \n",
       "Shucked Weight  74051.0  10.104270   5.618025  0.028349   5.712424   9.908150   \n",
       "Viscera Weight  74051.0   5.058386   2.792729  0.042524   2.863300   4.989512   \n",
       "Shell Weight    74051.0   6.723870   3.584372  0.042524   3.968930   6.931453   \n",
       "Age             74051.0   9.967806   3.175189  1.000000   8.000000  10.000000   \n",
       "\n",
       "                      75%        max  \n",
       "Length           1.537500   2.012815  \n",
       "Diameter         1.200000   1.612500  \n",
       "Height           0.412500   2.825000  \n",
       "Weight          32.162508  80.101512  \n",
       "Shucked Weight  14.033003  42.184056  \n",
       "Viscera Weight   6.988152  21.545620  \n",
       "Shell Weight     9.071840  28.491248  \n",
       "Age             11.000000  29.000000  "
      ]
     },
     "execution_count": 7,
     "metadata": {},
     "output_type": "execute_result"
    }
   ],
   "source": [
    "train.describe().T"
   ]
  },
  {
   "cell_type": "code",
   "execution_count": 8,
   "metadata": {},
   "outputs": [
    {
     "data": {
      "text/plain": [
       "28"
      ]
     },
     "execution_count": 8,
     "metadata": {},
     "output_type": "execute_result"
    }
   ],
   "source": [
    "train['Age'].nunique()"
   ]
  },
  {
   "cell_type": "code",
   "execution_count": 9,
   "metadata": {},
   "outputs": [
    {
     "data": {
      "image/png": "[encoded data removed]",
      "text/plain": [
       "<Figure size 1400x800 with 2 Axes>"
      ]
     },
     "metadata": {},
     "output_type": "display_data"
    }
   ],
   "source": [
    "plt.figure(figsize=(14,8) ,dpi=100)\n",
    "\n",
    "sns.heatmap(train.corr(numeric_only=True) , annot = True);"
   ]
  },
  {
   "attachments": {},
   "cell_type": "markdown",
   "metadata": {},
   "source": [
    "# Utils"
   ]
  },
  {
   "cell_type": "code",
   "execution_count": 10,
   "metadata": {},
   "outputs": [],
   "source": [
    "from sklearn.metrics import accuracy_score, f1_score, precision_score, recall_score , confusion_matrix, classification_report, mean_absolute_error, mean_squared_error, r2_score , roc_auc_score\n",
    "from sklearn.model_selection import train_test_split\n",
    "from sklearn.model_selection import GridSearchCV , RandomizedSearchCV\n",
    "from imblearn.over_sampling import SMOTE , ADASYN\n",
    "\n",
    "\n",
    "\n",
    "class fonks:\n",
    "    \"\"\"\n",
    "    Class'ın amacı:\n",
    "    - Sıkça kullanılacak fonksiyonları oluşturmak ve kolayca çağırmak.\n",
    "    - Daha düzenli ve değiştirilebilir bir programlama yapmak.\n",
    "    \"\"\"\n",
    "    \n",
    "    label = 'Fertility'\n",
    "    \n",
    "    def overSample(X , y , tactic = 'smote'):\n",
    "        if tactic == 'smote':\n",
    "            smote = SMOTE()\n",
    "            X_resampled , y_resampled = smote.fit_resample(X , y)\n",
    "            return X_resampled , y_resampled\n",
    "        elif tactic == 'adasyn':\n",
    "            adasyn = ADASYN()\n",
    "            X_resampled , y_resampled = adasyn.fit_resample(X , y)\n",
    "            return X_resampled , y_resampled\n",
    "            \n",
    "    \n",
    "    def trainTest(X , y , test_size = 0.2 , stratify = None):\n",
    "        \"\"\"\n",
    "        Alınan datayı istenen oranda Train & Test şeklinde bölüp X_train , X_test , y_train , y_test adındaki 4 değişken döndürür.\n",
    "\n",
    "        Parameters\n",
    "        ----------\n",
    "        data : pandas.DataFrame\n",
    "            Train & Test olarak bölünecek veri seti.\n",
    "        label : str, optional\n",
    "            Hedef değişkenin adı, by default 'Knowledge'.\n",
    "        test_size : float, optional\n",
    "            Test veri setinin boyutu, by default 0.2.\n",
    "\n",
    "        Returns\n",
    "        -------\n",
    "        tuple\n",
    "            X_train, X_test, y_train, y_test\n",
    "        \"\"\"\n",
    "\n",
    "        if stratify == 'y' :\n",
    "            X_train, X_test, y_train, y_test = train_test_split(X , y , test_size=test_size , random_state=53 , stratify=y)\n",
    "        else :\n",
    "            X_train, X_test, y_train, y_test = train_test_split(X , y , test_size=test_size , random_state=53)\n",
    "        \n",
    "        return X_train, X_test, y_train,y_test\n",
    "\n",
    "\n",
    "    def simple_scores(y_train, y_train_pred, y_test, y_pred, name='Model' , task = 'reg'):\n",
    "        \"\"\"\n",
    "        Model ismini, Train ve Test'e ait tahmin ve gerçek değerleri alıp, Alınan acc, f1 ve precision skorlarını yazdırır.\n",
    "        Hem Regression hem Classification taskleri için tasarlanmıştır.\n",
    "        \n",
    "        Parameters\n",
    "        ----------\n",
    "        y_train : pandas.DataFrame\n",
    "            Train verisinin gerçek değerleri.\n",
    "        y_train_pred : pandas.DataFrame\n",
    "            Train verisine ait tahmin değerleri.\n",
    "        y_test : pandas.DataFrame\n",
    "            Test verisinin gerçek değerleri.\n",
    "        y_pred : pandas.DataFrame\n",
    "            Test verisine ait tahmin değerleri.\n",
    "        name : str optional\n",
    "            Tahmini alınan modelin ismi, by default 'Model'.\n",
    "        task : str optional, default 'reg'\n",
    "            Görevin type'ı 'reg' or 'class'\n",
    "            \n",
    "        Returns\n",
    "        -------\n",
    "        print\n",
    "            Train Acc , Train F1 , Train Precision , Test Acc , Test F1 , Test Precision\n",
    "        \"\"\"\n",
    "        \n",
    "        \n",
    "        if task == 'class':\n",
    "            print(f'{name} Train Accuracy : {accuracy_score(y_train , y_train_pred)}')\n",
    "            print(f'{name} Train Recall : {recall_score(y_train, y_train_pred, pos_label=1)}')\n",
    "            print(f'{name} Train Precision : {precision_score(y_train , y_train_pred, pos_label=1)}')\n",
    "            print(f'{name} Train F1 : {f1_score(y_train , y_train_pred , pos_label=1)}')\n",
    "            \n",
    "            \n",
    "            print(\"\\n****************\\n\")\n",
    "            \n",
    "            print(f'{name} Test Accuracy : {accuracy_score(y_test , y_pred)}')\n",
    "            print(f'{name} Test Recall : {recall_score(y_test, y_pred, pos_label=1)}')\n",
    "            print(f'{name} Test Precision : {precision_score(y_test , y_pred, pos_label=1)}')\n",
    "            print(f'{name} Test F1 : {f1_score(y_test , y_pred, pos_label=1)}')\n",
    "        elif task == 'reg':\n",
    "            print(f'{name} Train R2 : {r2_score(y_train , y_train_pred)}')\n",
    "            print(f'{name} Train Mae : {mean_absolute_error(y_train, y_train_pred)}')\n",
    "            print(f'{name} Train RMSE : {mean_squared_error(y_train , y_train_pred)**0.5}')\n",
    "            print(f'{name} Train MSE : {mean_squared_error(y_train , y_train_pred)}')\n",
    "            \n",
    "            \n",
    "            print(\"\\n****************\\n\")\n",
    "            \n",
    "            print(f'{name} Test R2 : {r2_score(y_test , y_pred)}')\n",
    "            print(f'{name} Test Mae : {mean_absolute_error(y_test, y_pred)}')\n",
    "            print(f'{name} Test RMSE : {mean_squared_error(y_test , y_pred)**0.5}')\n",
    "            print(f'{name} Test MSE : {mean_squared_error(y_test , y_pred)}')\n",
    "        \n",
    "    def get_r2_score(y_true, y_pred):\n",
    "        return r2_score(y_true,y_pred)\n",
    "    def get_mae_score(y_true, y_pred):\n",
    "        return mean_absolute_error(y_true,y_pred)\n",
    "    def get_rmse_score(y_true, y_pred):\n",
    "        return mean_squared_error(y_true,y_pred)**0.5\n",
    "    def get_mse_score(y_true, y_pred):\n",
    "        return mean_squared_error(y_true,y_pred)\n",
    "        \n",
    "        \n",
    "    def get_acc_score(y_true, y_pred):\n",
    "        return accuracy_score(y_true , y_pred)    \n",
    "    def get_f1_score(y_true, y_pred):\n",
    "        return f1_score(y_true , y_pred , pos_label=1)\n",
    "    \n",
    "    def get_recall(y_true, y_pred):\n",
    "        return recall_score(y_true, y_pred, pos_label=1)\n",
    "    \n",
    "    def get_roc_auc(y_true, y_pred):\n",
    "        return roc_auc_score(y_true, y_pred, pos_label=1)\n",
    "    \n",
    "    \n",
    "    def eval_metric(y_train, y_train_pred, y_test, y_pred, name='Model'):\n",
    "        \"\"\"\n",
    "        Model ismini, Train ve Test'e ait tahmin ve gerçek değerleri alıp, Confusion_matrix ve Classification_report'u yazdırır..\n",
    "        Sadece Classification taskleri için tasarlanmıştır.\n",
    "        \n",
    "        Parameters\n",
    "        ----------\n",
    "        y_train : pandas.DataFrame\n",
    "            Train verisinin gerçek değerleri.\n",
    "        y_train_pred : pandas.DataFrame\n",
    "            Train verisine ait tahmin değerleri.\n",
    "        y_test : pandas.DataFrame\n",
    "            Test verisinin gerçek değerleri.\n",
    "        y_test_pred : pandas.DataFrame\n",
    "            Test verisine ait tahmin değerleri.\n",
    "        name : str optional\n",
    "            Tahmini alınan modelin ismi, by default 'Model'.\n",
    "        task : str optional, default 'reg'\n",
    "            Görevin type'ı 'reg' or 'class'            \n",
    "            \n",
    "        Returns\n",
    "        -------\n",
    "        print\n",
    "            Train Confusion_matrix , Train Classification_report , Test Confusion_matrix , Test Classification_report\n",
    "        \"\"\"\n",
    "        \n",
    "        print(f\"Test_Set {name}\")\n",
    "        print(confusion_matrix(y_test, y_pred))\n",
    "        print(classification_report(y_test, y_pred))\n",
    "        print()\n",
    "        print(f\"Train_Set {name}\")\n",
    "        print(confusion_matrix(y_train, y_train_pred))\n",
    "        print(classification_report(y_train, y_train_pred))         \n",
    "        \n",
    "    \n",
    "\n",
    "    def train_test_df(y_train, y_train_pred, y_test, y_pred, name='Model' , task='reg'):\n",
    "        \"\"\"\n",
    "        Model ismini, Train ve Test'e ait tahmin ve gerçek değerleri alıp, Accuracy, Recall, Precision,  yazdırır..\n",
    "        Hem Regression hem Classification taskleri için tasarlanmıştır.\n",
    "        \n",
    "        Parameters\n",
    "        ----------\n",
    "        y_train : pandas.DataFrame\n",
    "            Train verisinin gerçek değerleri.\n",
    "        y_train_pred : pandas.DataFrame\n",
    "            Train verisine ait tahmin değerleri.\n",
    "        y_test : pandas.DataFrame\n",
    "            Test verisinin gerçek değerleri.\n",
    "        y_test_pred : pandas.DataFrame\n",
    "            Test verisine ait tahmin değerleri.\n",
    "        name : str optional\n",
    "            Tahmini alınan modelin ismi, by default 'Model'.\n",
    "        task : str optional, default 'reg'\n",
    "            Datamızın task'i, 'reg' or 'class'\n",
    "            \n",
    "        Returns\n",
    "        -------\n",
    "        print\n",
    "            Train Accuracy , Train Recall , Train Precision , Train F1 , Test Accuracy , Test Recall , Test Precision , Test F1\n",
    "        \"\"\"\n",
    "        \n",
    "        \n",
    "        if task == 'classification':\n",
    "            scores = {name+\"_train\": {\"Accuracy\" : accuracy_score(y_train, y_train_pred),\n",
    "            \"Recall\" : recall_score(y_train, y_train_pred , pos_label=1),\n",
    "            \"Precision\" : precision_score(y_train, y_train_pred , pos_label=1),\n",
    "            \"F1\" : np.sqrt(f1_score(y_train, y_train_pred , pos_label=1))},\n",
    "                    \n",
    "            name+\"_test\": {\"Accuracy\" : accuracy_score(y_test, y_pred),\n",
    "            \"Recall\" : recall_score(y_test, y_pred , pos_label=1),\n",
    "            \"Precision\" : precision_score(y_test, y_pred , pos_label=1),\n",
    "            \"F1\" : np.sqrt(f1_score(y_test, y_pred , pos_label=1))}}\n",
    "            return pd.DataFrame(scores)\n",
    "        \n",
    "        \n",
    "        \n",
    "        if task == 'reg':\n",
    "            \n",
    "            scores = {name+\"_train\": {\"R2\" : r2_score(y_train, y_train_pred),\n",
    "            \"mae\" : mean_absolute_error(y_train, y_train_pred),\n",
    "            \"mse\" : mean_squared_error(y_train, y_train_pred),\n",
    "            \"rmse\" : np.sqrt(mean_squared_error(y_train, y_train_pred))},\n",
    "                    \n",
    "            name+\"_test\": {\"R2\" : r2_score(y_test, y_pred),\n",
    "            \"mae\" : mean_absolute_error(y_test, y_pred),\n",
    "            \"mse\" : mean_squared_error(y_test, y_pred),\n",
    "            \"rmse\" : np.sqrt(mean_squared_error(y_test, y_pred))}}\n",
    "            return pd.DataFrame(scores)\n",
    "\n",
    "    # Fonksiyonun özeti\n",
    "    def summary(df):\n",
    "        # Print the shape of the DataFrame\n",
    "        print(f'data shape: {df.shape}')  \n",
    "        # Create a summary DataFrame\n",
    "        summ = pd.DataFrame(df.dtypes, columns=['data type'])\n",
    "        # Calculate the number of missing values\n",
    "        summ['#missing'] = df.isnull().sum().values \n",
    "        # Calculate the percentage of missing values\n",
    "        summ['%missing'] = df.isnull().sum().values / len(df)* 100\n",
    "        # Calculate the number of unique values\n",
    "        summ['#unique'] = df.nunique().values\n",
    "        # Create a descriptive DataFrame\n",
    "        desc = pd.DataFrame(df.describe(include='all').transpose())\n",
    "        # Add the minimum, maximum, and first three values to the summary DataFrame\n",
    "        summ['min'] = desc['min'].values\n",
    "        summ['max'] = desc['max'].values\n",
    "        summ['first value'] = df.loc[0].values\n",
    "        summ['second value'] = df.loc[1].values\n",
    "        summ['third value'] = df.loc[2].values\n",
    "        \n",
    "        # Return the summary DataFrame\n",
    "        return summ\n",
    "    \n",
    "    def plot_correlation_heatmap(df: pd.core.frame.DataFrame, title_name: str='Train correlation') -> None:\n",
    "        corr = df.corr()  \n",
    "        fig, axes = plt.subplots(figsize=(14, 8))\n",
    "        mask = np.zeros_like(corr)\n",
    "        mask[np.triu_indices_from(mask)] = True\n",
    "        sns.heatmap(corr, mask=mask, linewidths=.5, cmap='YlOrRd', annot=True)\n",
    "        plt.title(title_name)\n",
    "        plt.show()\n",
    "\n",
    "    # # plot_correlation_heatmap(original, 'Original Dataset Correlation')\n",
    "    # plot_correlation_heatmap(train, 'Train Dataset Correlation')"
   ]
  },
  {
   "cell_type": "code",
   "execution_count": 11,
   "metadata": {},
   "outputs": [
    {
     "data": {
      "image/png": "[encoded data removed]",
      "text/plain": [
       "<Figure size 1400x800 with 2 Axes>"
      ]
     },
     "metadata": {},
     "output_type": "display_data"
    }
   ],
   "source": [
    "fonks.plot_correlation_heatmap(train)"
   ]
  },
  {
   "attachments": {},
   "cell_type": "markdown",
   "metadata": {},
   "source": [
    "# Train | Test Split"
   ]
  },
  {
   "cell_type": "code",
   "execution_count": 12,
   "metadata": {},
   "outputs": [],
   "source": [
    "X = train.drop('Age' , axis = 1)\n",
    "y = train['Age']"
   ]
  },
  {
   "cell_type": "code",
   "execution_count": 13,
   "metadata": {},
   "outputs": [],
   "source": [
    "X_train , X_test , y_train , y_test = fonks.trainTest(X , y , test_size= 0.2 )"
   ]
  },
  {
   "attachments": {},
   "cell_type": "markdown",
   "metadata": {},
   "source": [
    "# Models"
   ]
  },
  {
   "attachments": {},
   "cell_type": "markdown",
   "metadata": {},
   "source": [
    "### Linear Model"
   ]
  },
  {
   "cell_type": "code",
   "execution_count": 14,
   "metadata": {},
   "outputs": [
    {
     "name": "stdout",
     "output_type": "stream",
     "text": [
      "LR Train R2 : 0.5385984312504916\n",
      "LR Train Mae : 1.4601114112086429\n",
      "LR Train RMSE : 2.15106791624151\n",
      "LR Train MSE : 4.627093180283592\n",
      "\n",
      "****************\n",
      "\n",
      "LR Test R2 : 0.5546473557274159\n",
      "LR Test Mae : 1.460941192357032\n",
      "LR Test RMSE : 2.141096788115834\n",
      "LR Test MSE : 4.584295456079941\n"
     ]
    }
   ],
   "source": [
    "from sklearn.linear_model import LinearRegression\n",
    "\n",
    "lr = LinearRegression()\n",
    "\n",
    "lr.fit(X_train , y_train)\n",
    "\n",
    "lr_train_pred = np.round(lr.predict(X_train))\n",
    "lr_pred = np.round(lr.predict(X_test))\n",
    "\n",
    "fonks.simple_scores(y_train, lr_train_pred , y_test , lr_pred , 'LR')"
   ]
  },
  {
   "cell_type": "code",
   "execution_count": 15,
   "metadata": {},
   "outputs": [
    {
     "data": {
      "text/html": [
       "<div>\n",
       "<style scoped>\n",
       "    .dataframe tbody tr th:only-of-type {\n",
       "        vertical-align: middle;\n",
       "    }\n",
       "\n",
       "    .dataframe tbody tr th {\n",
       "        vertical-align: top;\n",
       "    }\n",
       "\n",
       "    .dataframe thead th {\n",
       "        text-align: right;\n",
       "    }\n",
       "</style>\n",
       "<table border=\"1\" class=\"dataframe\">\n",
       "  <thead>\n",
       "    <tr style=\"text-align: right;\">\n",
       "      <th></th>\n",
       "      <th>LR_train</th>\n",
       "      <th>LR_test</th>\n",
       "    </tr>\n",
       "  </thead>\n",
       "  <tbody>\n",
       "    <tr>\n",
       "      <th>R2</th>\n",
       "      <td>0.538598</td>\n",
       "      <td>0.554647</td>\n",
       "    </tr>\n",
       "    <tr>\n",
       "      <th>mae</th>\n",
       "      <td>1.460111</td>\n",
       "      <td>1.460941</td>\n",
       "    </tr>\n",
       "    <tr>\n",
       "      <th>mse</th>\n",
       "      <td>4.627093</td>\n",
       "      <td>4.584295</td>\n",
       "    </tr>\n",
       "    <tr>\n",
       "      <th>rmse</th>\n",
       "      <td>2.151068</td>\n",
       "      <td>2.141097</td>\n",
       "    </tr>\n",
       "  </tbody>\n",
       "</table>\n",
       "</div>"
      ],
      "text/plain": [
       "      LR_train   LR_test\n",
       "R2    0.538598  0.554647\n",
       "mae   1.460111  1.460941\n",
       "mse   4.627093  4.584295\n",
       "rmse  2.151068  2.141097"
      ]
     },
     "execution_count": 15,
     "metadata": {},
     "output_type": "execute_result"
    }
   ],
   "source": [
    "lr_r2 = fonks.get_r2_score(y_test , lr_pred)\n",
    "lr_mae = fonks.get_mae_score(y_test , lr_pred)\n",
    "lr_rmse = fonks.get_rmse_score(y_test , lr_pred)\n",
    "# nb_rocauc = fonks.get_roc_auc(y_test , nb_pred , \"NB\")\n",
    "# nb_rocauc = roc_auc_score(y_test, nb_pred, multi_class='ovo')\n",
    "\n",
    "lr_df = fonks.train_test_df(y_train, lr_train_pred , y_test , lr_pred , 'LR')\n",
    "lr_df"
   ]
  },
  {
   "attachments": {},
   "cell_type": "markdown",
   "metadata": {},
   "source": [
    "### Ridge Model"
   ]
  },
  {
   "cell_type": "code",
   "execution_count": 16,
   "metadata": {},
   "outputs": [
    {
     "name": "stdout",
     "output_type": "stream",
     "text": [
      "Ridge Best Score : 0.547233026759405\n",
      "Ridge Best Alpha : 4.0009999999999994\n"
     ]
    }
   ],
   "source": [
    "from sklearn.linear_model import RidgeCV\n",
    "\n",
    "rdg_grid = RidgeCV(alphas=np.arange(0.001,100,1) , cv = 5)\n",
    "\n",
    "rdg_grid.fit(X_train , y_train)\n",
    "\n",
    "print(f\"Ridge Best Score : {rdg_grid.best_score_}\")\n",
    "print(f\"Ridge Best Alpha : {rdg_grid.alpha_}\")"
   ]
  },
  {
   "cell_type": "code",
   "execution_count": 17,
   "metadata": {},
   "outputs": [
    {
     "name": "stdout",
     "output_type": "stream",
     "text": [
      "Ridge Train R2 : 0.5385243670314219\n",
      "Ridge Train Mae : 1.4604827819041188\n",
      "Ridge Train RMSE : 2.151240554116286\n",
      "Ridge Train MSE : 4.627835921674544\n",
      "\n",
      "****************\n",
      "\n",
      "Ridge Test R2 : 0.5543062803275193\n",
      "Ridge Test Mae : 1.4621565053001149\n",
      "Ridge Test RMSE : 2.141916515678829\n",
      "Ridge Test MSE : 4.587806360137735\n"
     ]
    }
   ],
   "source": [
    "from sklearn.linear_model import Ridge\n",
    "\n",
    "rdg = Ridge(alpha = 4)\n",
    "\n",
    "rdg.fit(X_train , y_train)\n",
    "\n",
    "rdg_train_pred = np.round(rdg.predict(X_train))\n",
    "rdg_pred = np.round(rdg.predict(X_test))\n",
    "\n",
    "fonks.simple_scores(y_train, rdg_train_pred , y_test , rdg_pred , 'Ridge')"
   ]
  },
  {
   "cell_type": "code",
   "execution_count": 18,
   "metadata": {},
   "outputs": [
    {
     "data": {
      "text/html": [
       "<div>\n",
       "<style scoped>\n",
       "    .dataframe tbody tr th:only-of-type {\n",
       "        vertical-align: middle;\n",
       "    }\n",
       "\n",
       "    .dataframe tbody tr th {\n",
       "        vertical-align: top;\n",
       "    }\n",
       "\n",
       "    .dataframe thead th {\n",
       "        text-align: right;\n",
       "    }\n",
       "</style>\n",
       "<table border=\"1\" class=\"dataframe\">\n",
       "  <thead>\n",
       "    <tr style=\"text-align: right;\">\n",
       "      <th></th>\n",
       "      <th>LR_train</th>\n",
       "      <th>LR_test</th>\n",
       "      <th>Ridge_train</th>\n",
       "      <th>Ridge_test</th>\n",
       "    </tr>\n",
       "  </thead>\n",
       "  <tbody>\n",
       "    <tr>\n",
       "      <th>R2</th>\n",
       "      <td>0.538598</td>\n",
       "      <td>0.554647</td>\n",
       "      <td>0.538524</td>\n",
       "      <td>0.554306</td>\n",
       "    </tr>\n",
       "    <tr>\n",
       "      <th>mae</th>\n",
       "      <td>1.460111</td>\n",
       "      <td>1.460941</td>\n",
       "      <td>1.460483</td>\n",
       "      <td>1.462157</td>\n",
       "    </tr>\n",
       "    <tr>\n",
       "      <th>mse</th>\n",
       "      <td>4.627093</td>\n",
       "      <td>4.584295</td>\n",
       "      <td>4.627836</td>\n",
       "      <td>4.587806</td>\n",
       "    </tr>\n",
       "    <tr>\n",
       "      <th>rmse</th>\n",
       "      <td>2.151068</td>\n",
       "      <td>2.141097</td>\n",
       "      <td>2.151241</td>\n",
       "      <td>2.141917</td>\n",
       "    </tr>\n",
       "  </tbody>\n",
       "</table>\n",
       "</div>"
      ],
      "text/plain": [
       "      LR_train   LR_test  Ridge_train  Ridge_test\n",
       "R2    0.538598  0.554647     0.538524    0.554306\n",
       "mae   1.460111  1.460941     1.460483    1.462157\n",
       "mse   4.627093  4.584295     4.627836    4.587806\n",
       "rmse  2.151068  2.141097     2.151241    2.141917"
      ]
     },
     "execution_count": 18,
     "metadata": {},
     "output_type": "execute_result"
    }
   ],
   "source": [
    "rdg_r2 = fonks.get_r2_score(y_test , rdg_pred)\n",
    "rdg_mae = fonks.get_mae_score(y_test , rdg_pred)\n",
    "rdg_rmse = fonks.get_rmse_score(y_test , rdg_pred)\n",
    "# nb_rocauc = fonks.get_roc_auc(y_test , nb_pred , \"NB\")\n",
    "# nb_rocauc = roc_auc_score(y_test, nb_pred, multi_class='ovo')\n",
    "\n",
    "rdg_df = fonks.train_test_df(y_train, rdg_train_pred , y_test , rdg_pred , 'Ridge')\n",
    "all_df = pd.concat([lr_df , rdg_df] , axis = 1)\n",
    "all_df"
   ]
  },
  {
   "attachments": {},
   "cell_type": "markdown",
   "metadata": {},
   "source": [
    "### Lasso"
   ]
  },
  {
   "cell_type": "code",
   "execution_count": 19,
   "metadata": {},
   "outputs": [
    {
     "name": "stdout",
     "output_type": "stream",
     "text": [
      "Lasso Best Alpha : 0.001\n"
     ]
    }
   ],
   "source": [
    "from sklearn.linear_model import LassoCV\n",
    "\n",
    "las_grid = LassoCV(alphas=np.arange(0.001,100,1) , cv = 5)\n",
    "\n",
    "las_grid.fit(X_train , y_train)\n",
    "\n",
    "# print(f\"Lasso Best Score : {las_grid.best_score_}\")\n",
    "print(f\"Lasso Best Alpha : {las_grid.alpha_}\")"
   ]
  },
  {
   "cell_type": "code",
   "execution_count": 20,
   "metadata": {},
   "outputs": [],
   "source": [
    "# 0.001 is too low for C value. So Lasso is not good model for that dataset."
   ]
  },
  {
   "cell_type": "markdown",
   "metadata": {},
   "source": [
    "### SVR"
   ]
  },
  {
   "cell_type": "code",
   "execution_count": 21,
   "metadata": {},
   "outputs": [],
   "source": [
    "# from sklearn.svm import SVR\n",
    "# from sklearn.model_selection import GridSearchCV\n",
    "# import dpctl\n",
    "# from sklearnex import patch_sklearn, config_context , unpatch_sklearn\n",
    "\n",
    "# patch_sklearn()\n",
    "\n",
    "# with config_context(target_offload = 'gpu:0'):\n",
    "#     svr_base = SVR()\n",
    "\n",
    "#     params = {'kernel' : ['linear' , 'poly' , 'rbf' ] , 'degree' : [2,3] , 'gamma' : ['scale' , 'auto'] , 'C' : np.arange(0.01,100,10) }\n",
    "\n",
    "#     svr_grid = GridSearchCV(svr_base , params , scoring='neg_mean_squared_error' , cv = 3)\n",
    "#     svr_grid.fit(X_train , y_train)\n",
    "\n",
    "# print(f'Best parameters: {svr_grid.best_params_}')\n",
    "# print(f'Best score: {svr_grid.best_score_:.2f}')\n",
    "\n",
    "# unpatch_sklearn()"
   ]
  },
  {
   "cell_type": "code",
   "execution_count": 22,
   "metadata": {},
   "outputs": [
    {
     "name": "stdout",
     "output_type": "stream",
     "text": [
      "SVR Train R2 : 0.5526251843756704\n",
      "SVR Train Mae : 1.351147873058744\n",
      "SVR Train RMSE : 2.118118997867912\n",
      "SVR Train MSE : 4.4864280891289665\n",
      "\n",
      "****************\n",
      "\n",
      "SVR Test R2 : 0.565883166497084\n",
      "SVR Test Mae : 1.3529808925798392\n",
      "SVR Test RMSE : 2.1139153659335297\n",
      "SVR Test MSE : 4.4686381743298895\n"
     ]
    }
   ],
   "source": [
    "from sklearn.svm import SVR\n",
    "\n",
    "svr = SVR(kernel = 'rbf' , C=300 , gamma='scale')\n",
    "svr.fit(X_train , y_train)\n",
    "\n",
    "svr_train_pred = np.round(svr.predict(X_train))\n",
    "svr_pred = np.round(svr.predict(X_test))\n",
    "\n",
    "fonks.simple_scores(y_train, svr_train_pred , y_test , svr_pred , 'SVR')"
   ]
  },
  {
   "cell_type": "code",
   "execution_count": 23,
   "metadata": {},
   "outputs": [
    {
     "data": {
      "text/html": [
       "<div>\n",
       "<style scoped>\n",
       "    .dataframe tbody tr th:only-of-type {\n",
       "        vertical-align: middle;\n",
       "    }\n",
       "\n",
       "    .dataframe tbody tr th {\n",
       "        vertical-align: top;\n",
       "    }\n",
       "\n",
       "    .dataframe thead th {\n",
       "        text-align: right;\n",
       "    }\n",
       "</style>\n",
       "<table border=\"1\" class=\"dataframe\">\n",
       "  <thead>\n",
       "    <tr style=\"text-align: right;\">\n",
       "      <th></th>\n",
       "      <th>LR_train</th>\n",
       "      <th>LR_test</th>\n",
       "      <th>Ridge_train</th>\n",
       "      <th>Ridge_test</th>\n",
       "      <th>SVR_train</th>\n",
       "      <th>SVR_test</th>\n",
       "    </tr>\n",
       "  </thead>\n",
       "  <tbody>\n",
       "    <tr>\n",
       "      <th>R2</th>\n",
       "      <td>0.538598</td>\n",
       "      <td>0.554647</td>\n",
       "      <td>0.538524</td>\n",
       "      <td>0.554306</td>\n",
       "      <td>0.552625</td>\n",
       "      <td>0.565883</td>\n",
       "    </tr>\n",
       "    <tr>\n",
       "      <th>mae</th>\n",
       "      <td>1.460111</td>\n",
       "      <td>1.460941</td>\n",
       "      <td>1.460483</td>\n",
       "      <td>1.462157</td>\n",
       "      <td>1.351148</td>\n",
       "      <td>1.352981</td>\n",
       "    </tr>\n",
       "    <tr>\n",
       "      <th>mse</th>\n",
       "      <td>4.627093</td>\n",
       "      <td>4.584295</td>\n",
       "      <td>4.627836</td>\n",
       "      <td>4.587806</td>\n",
       "      <td>4.486428</td>\n",
       "      <td>4.468638</td>\n",
       "    </tr>\n",
       "    <tr>\n",
       "      <th>rmse</th>\n",
       "      <td>2.151068</td>\n",
       "      <td>2.141097</td>\n",
       "      <td>2.151241</td>\n",
       "      <td>2.141917</td>\n",
       "      <td>2.118119</td>\n",
       "      <td>2.113915</td>\n",
       "    </tr>\n",
       "  </tbody>\n",
       "</table>\n",
       "</div>"
      ],
      "text/plain": [
       "      LR_train   LR_test  Ridge_train  Ridge_test  SVR_train  SVR_test\n",
       "R2    0.538598  0.554647     0.538524    0.554306   0.552625  0.565883\n",
       "mae   1.460111  1.460941     1.460483    1.462157   1.351148  1.352981\n",
       "mse   4.627093  4.584295     4.627836    4.587806   4.486428  4.468638\n",
       "rmse  2.151068  2.141097     2.151241    2.141917   2.118119  2.113915"
      ]
     },
     "execution_count": 23,
     "metadata": {},
     "output_type": "execute_result"
    }
   ],
   "source": [
    "svr_r2 = fonks.get_r2_score(y_test , svr_pred)\n",
    "svr_mae = fonks.get_mae_score(y_test , svr_pred)\n",
    "svr_rmse = fonks.get_rmse_score(y_test , svr_pred)\n",
    "\n",
    "svr_df = fonks.train_test_df(y_train, svr_train_pred , y_test , svr_pred , 'SVR')\n",
    "all_df = pd.concat([all_df , svr_df] , axis = 1)\n",
    "all_df"
   ]
  },
  {
   "attachments": {},
   "cell_type": "markdown",
   "metadata": {},
   "source": [
    "### Decision Tree Model"
   ]
  },
  {
   "cell_type": "code",
   "execution_count": 24,
   "metadata": {},
   "outputs": [
    {
     "name": "stderr",
     "output_type": "stream",
     "text": [
      "Intel(R) Extension for Scikit-learn* enabled (https://github.com/intel/scikit-learn-intelex)\n"
     ]
    },
    {
     "name": "stdout",
     "output_type": "stream",
     "text": [
      "DT Best Params is : {'max_depth': 7, 'min_samples_split': 2}\n",
      "DT Best Score is : -1.4653443814032883\n"
     ]
    }
   ],
   "source": [
    "from sklearn.tree import DecisionTreeRegressor\n",
    "from sklearn.model_selection import GridSearchCV\n",
    "import dpctl\n",
    "from sklearnex import patch_sklearn, config_context , unpatch_sklearn\n",
    "\n",
    "patch_sklearn()\n",
    "\n",
    "with config_context(target_offload = 'gpu:0'):\n",
    "    dt_base = DecisionTreeRegressor(random_state= 53)\n",
    "\n",
    "    params = {'max_depth' : np.arange(2,8) , 'min_samples_split' : np.arange(2,6)}\n",
    "\n",
    "    dt_grid = GridSearchCV(dt_base , params , cv = 3 , scoring= 'neg_mean_absolute_error' )\n",
    "    dt_grid.fit(X_train , y_train)\n",
    "\n",
    "print(f\"DT Best Params is : {dt_grid.best_params_}\")\n",
    "print(f\"DT Best Score is : {dt_grid.best_score_}\")\n",
    "\n",
    "unpatch_sklearn()"
   ]
  },
  {
   "cell_type": "code",
   "execution_count": 25,
   "metadata": {},
   "outputs": [
    {
     "name": "stdout",
     "output_type": "stream",
     "text": [
      "DT Train R2 : 0.5605062905957697\n",
      "DT Train Mae : 1.4103983794733288\n",
      "DT Train RMSE : 2.0993793494595505\n",
      "DT Train MSE : 4.407393652937205\n",
      "\n",
      "****************\n",
      "\n",
      "DT Test R2 : 0.5599012287142835\n",
      "DT Test Mae : 1.4296806427655122\n",
      "DT Test RMSE : 2.128429944844968\n",
      "DT Test MSE : 4.530214030112754\n"
     ]
    }
   ],
   "source": [
    "from sklearn.tree import DecisionTreeRegressor\n",
    "\n",
    "dt = DecisionTreeRegressor(max_depth=7 , min_samples_split=2 , random_state= 53)\n",
    "dt.fit(X_train , y_train)\n",
    "\n",
    "dt_train_pred = np.round(dt.predict(X_train))\n",
    "dt_pred = np.round(dt.predict(X_test))\n",
    "\n",
    "fonks.simple_scores(y_train, dt_train_pred , y_test , dt_pred , 'DT')"
   ]
  },
  {
   "cell_type": "code",
   "execution_count": 26,
   "metadata": {},
   "outputs": [
    {
     "data": {
      "text/html": [
       "<div>\n",
       "<style scoped>\n",
       "    .dataframe tbody tr th:only-of-type {\n",
       "        vertical-align: middle;\n",
       "    }\n",
       "\n",
       "    .dataframe tbody tr th {\n",
       "        vertical-align: top;\n",
       "    }\n",
       "\n",
       "    .dataframe thead th {\n",
       "        text-align: right;\n",
       "    }\n",
       "</style>\n",
       "<table border=\"1\" class=\"dataframe\">\n",
       "  <thead>\n",
       "    <tr style=\"text-align: right;\">\n",
       "      <th></th>\n",
       "      <th>LR_train</th>\n",
       "      <th>LR_test</th>\n",
       "      <th>Ridge_train</th>\n",
       "      <th>Ridge_test</th>\n",
       "      <th>SVR_train</th>\n",
       "      <th>SVR_test</th>\n",
       "      <th>DT_train</th>\n",
       "      <th>DT_test</th>\n",
       "    </tr>\n",
       "  </thead>\n",
       "  <tbody>\n",
       "    <tr>\n",
       "      <th>R2</th>\n",
       "      <td>0.538598</td>\n",
       "      <td>0.554647</td>\n",
       "      <td>0.538524</td>\n",
       "      <td>0.554306</td>\n",
       "      <td>0.552625</td>\n",
       "      <td>0.565883</td>\n",
       "      <td>0.560506</td>\n",
       "      <td>0.559901</td>\n",
       "    </tr>\n",
       "    <tr>\n",
       "      <th>mae</th>\n",
       "      <td>1.460111</td>\n",
       "      <td>1.460941</td>\n",
       "      <td>1.460483</td>\n",
       "      <td>1.462157</td>\n",
       "      <td>1.351148</td>\n",
       "      <td>1.352981</td>\n",
       "      <td>1.410398</td>\n",
       "      <td>1.429681</td>\n",
       "    </tr>\n",
       "    <tr>\n",
       "      <th>mse</th>\n",
       "      <td>4.627093</td>\n",
       "      <td>4.584295</td>\n",
       "      <td>4.627836</td>\n",
       "      <td>4.587806</td>\n",
       "      <td>4.486428</td>\n",
       "      <td>4.468638</td>\n",
       "      <td>4.407394</td>\n",
       "      <td>4.530214</td>\n",
       "    </tr>\n",
       "    <tr>\n",
       "      <th>rmse</th>\n",
       "      <td>2.151068</td>\n",
       "      <td>2.141097</td>\n",
       "      <td>2.151241</td>\n",
       "      <td>2.141917</td>\n",
       "      <td>2.118119</td>\n",
       "      <td>2.113915</td>\n",
       "      <td>2.099379</td>\n",
       "      <td>2.128430</td>\n",
       "    </tr>\n",
       "  </tbody>\n",
       "</table>\n",
       "</div>"
      ],
      "text/plain": [
       "      LR_train   LR_test  Ridge_train  Ridge_test  SVR_train  SVR_test   \n",
       "R2    0.538598  0.554647     0.538524    0.554306   0.552625  0.565883  \\\n",
       "mae   1.460111  1.460941     1.460483    1.462157   1.351148  1.352981   \n",
       "mse   4.627093  4.584295     4.627836    4.587806   4.486428  4.468638   \n",
       "rmse  2.151068  2.141097     2.151241    2.141917   2.118119  2.113915   \n",
       "\n",
       "      DT_train   DT_test  \n",
       "R2    0.560506  0.559901  \n",
       "mae   1.410398  1.429681  \n",
       "mse   4.407394  4.530214  \n",
       "rmse  2.099379  2.128430  "
      ]
     },
     "execution_count": 26,
     "metadata": {},
     "output_type": "execute_result"
    }
   ],
   "source": [
    "dt_r2 = fonks.get_r2_score(y_test , dt_pred)\n",
    "dt_mae = fonks.get_mae_score(y_test , dt_pred)\n",
    "dt_rmse = fonks.get_rmse_score(y_test , dt_pred)\n",
    "\n",
    "dt_df = fonks.train_test_df(y_train, dt_train_pred , y_test , dt_pred , 'DT')\n",
    "all_df = pd.concat([all_df , dt_df] , axis = 1)\n",
    "all_df"
   ]
  },
  {
   "attachments": {},
   "cell_type": "markdown",
   "metadata": {},
   "source": [
    "### Random Forest Model"
   ]
  },
  {
   "cell_type": "code",
   "execution_count": 27,
   "metadata": {},
   "outputs": [
    {
     "name": "stderr",
     "output_type": "stream",
     "text": [
      "Intel(R) Extension for Scikit-learn* enabled (https://github.com/intel/scikit-learn-intelex)\n"
     ]
    }
   ],
   "source": [
    "from sklearn.ensemble import RandomForestRegressor\n",
    "from sklearn.model_selection import RandomizedSearchCV\n",
    "import dpctl\n",
    "from sklearnex import patch_sklearn, config_context , unpatch_sklearn\n",
    "\n",
    "patch_sklearn()\n",
    "\n",
    "with config_context(target_offload = 'gpu:0'):\n",
    "    rf_base = RandomForestRegressor()\n",
    "\n",
    "    params = {'n_estimators' : np.arange(80,500,10) , 'max_depth' : np.append(np.arange(2,8) , None) , 'max_features' : np.append(np.arange(2,6) , None) , 'min_samples_split' : [2,3]}\n",
    "\n",
    "    rf_grid = GridSearchCV(rf_base , params , scoring= 'neg_mean_absolute_error' , cv = 3)\n",
    "    rf_grid.fit(X_train , y_train)\n",
    "\n",
    "print(f\"RF Best Params is : {rf_grid.best_params_}\")\n",
    "print(f\"RF Best Score is : {rf_grid.best_score_}\")\n",
    "\n",
    "unpatch_sklearn()"
   ]
  },
  {
   "cell_type": "code",
   "execution_count": null,
   "metadata": {},
   "outputs": [],
   "source": [
    "from sklearn.ensemble import RandomForestRegressor\n",
    "\n",
    "# rf = RandomForestRegressor(n_estimators = 230 , max_depth=6 , min_samples_split=2 , max_features=5)\n",
    "rf = rf_grid.best_estimator_\n",
    "rf.fit(X_train , y_train)\n",
    "\n",
    "rf_train_pred = np.round(rf.predict(X_train))\n",
    "rf_pred = np.round(rf.predict(X_test))\n",
    "\n",
    "fonks.simple_scores(y_train, rf_train_pred , y_test , rf_pred , 'RF')"
   ]
  },
  {
   "cell_type": "code",
   "execution_count": null,
   "metadata": {},
   "outputs": [],
   "source": [
    "rf_r2 = fonks.get_r2_score(y_test , rf_pred)\n",
    "rf_mae = fonks.get_mae_score(y_test , rf_pred)\n",
    "rf_rmse = fonks.get_rmse_score(y_test , rf_pred)\n",
    "\n",
    "rf_df = fonks.train_test_df(y_train, rf_train_pred , y_test , rf_pred , 'RF')\n",
    "all_df = pd.concat([all_df , rf_df] , axis = 1)\n",
    "all_df"
   ]
  },
  {
   "attachments": {},
   "cell_type": "markdown",
   "metadata": {},
   "source": [
    "### Gradient Boosting"
   ]
  },
  {
   "cell_type": "code",
   "execution_count": null,
   "metadata": {},
   "outputs": [],
   "source": [
    "from sklearn.ensemble import GradientBoostingRegressor\n",
    "\n",
    "patch_sklearn()\n",
    "\n",
    "with config_context(target_offload = 'gpu:0'):\n",
    "    gb_base = GradientBoostingRegressor()\n",
    "\n",
    "    params = {'n_estimators' : np.arange(80,500,10) , 'learning_rate' : [0.01,0.1,1] , 'subsample' : [0.8 , 1] , 'max_depth' : np.arange(2,7)}\n",
    "\n",
    "    gb_grid = GridSearchCV(gb_base , params , scoring= 'neg_root_mean_squared_error' , cv = 5 , n_iter=50)\n",
    "    gb_grid.fit(X_train , y_train)\n",
    "\n",
    "print(f\"GB Best Params is : {gb_grid.best_params_}\")\n",
    "print(f\"GB Best Score is : {gb_grid.best_score_}\")\n",
    "\n",
    "unpatch_sklearn()"
   ]
  },
  {
   "cell_type": "code",
   "execution_count": null,
   "metadata": {},
   "outputs": [],
   "source": [
    "from sklearn.ensemble import GradientBoostingRegressor\n",
    "\n",
    "# gb = GradientBoostingRegressor(n_estimators= 240 , max_depth=10 , learning_rate= 0.01 , subsample= 0.8 )\n",
    "gb = gb_grid.best_estimator_\n",
    "gb.fit(X_train , y_train)\n",
    "\n",
    "gb_train_pred = np.round(gb.predict(X_train))\n",
    "gb_pred = np.round(gb.predict(X_test))\n",
    "\n",
    "fonks.simple_scores(y_train, gb_train_pred , y_test , gb_pred , 'GB')"
   ]
  },
  {
   "cell_type": "code",
   "execution_count": null,
   "metadata": {},
   "outputs": [],
   "source": [
    "gb_r2 = fonks.get_r2_score(y_test , gb_pred)\n",
    "gb_mae = fonks.get_mae_score(y_test , gb_pred)\n",
    "gb_rmse = fonks.get_rmse_score(y_test , gb_pred)\n",
    "\n",
    "gb_df = fonks.train_test_df(y_train, gb_train_pred , y_test , gb_pred , 'GB')\n",
    "all_df = pd.concat([all_df , gb_df] , axis = 1)\n",
    "all_df"
   ]
  },
  {
   "attachments": {},
   "cell_type": "markdown",
   "metadata": {},
   "source": [
    "### XGB Model"
   ]
  },
  {
   "cell_type": "code",
   "execution_count": null,
   "metadata": {},
   "outputs": [],
   "source": [
    "from xgboost import XGBRegressor\n",
    "\n",
    "patch_sklearn()\n",
    "\n",
    "with config_context(target_offload = 'gpu:0'):\n",
    "    xgb_base = XGBRegressor(tree_method = 'gpu_hist')\n",
    "\n",
    "    params = {\n",
    "        'learning_rate': [0.01, 0.05, 0.1],\n",
    "        'n_estimators': [100, 150 , 200, 300 , 400 , 500],\n",
    "        'max_depth': [3, 4, 5, 6 , 7],\n",
    "        'min_child_weight': [1, 3, 5],\n",
    "        'gamma': [0, 0.1, 0.2],\n",
    "        # 'subsample': [0.7, 0.8, 0.9],\n",
    "        # 'colsample_bytree': [0.6, 0.7, 0.8],\n",
    "        # 'reg_alpha': [0, 0.01, 0.05],\n",
    "        # 'reg_lambda': [0, 0.01, 0.05],\n",
    "    }\n",
    "\n",
    "    params2 = {\n",
    "        'learning_rate': [0.01, 0.05, 0.1, 0.2, 0.3],\n",
    "        'max_depth': [3, 4, 5, 6, 7, 8, 9, 10],\n",
    "        'subsample': [0.6, 0.7, 0.8, 0.9, 1.0],\n",
    "        'colsample_bytree': [0.6, 0.7, 0.8, 0.9, 1.0],\n",
    "        'n_estimators': [100, 200, 300, 400, 500],\n",
    "        'gamma': [0, 1, 5, 10],\n",
    "        'min_child_weight': [1, 3, 5, 7],\n",
    "        'scale_pos_weight': [1, 2, 3, 4, 5]\n",
    "    }\n",
    "\n",
    "    xgb_rnd = RandomizedSearchCV(xgb_base , params , scoring= 'neg_root_mean_squared_error' , cv = 5 , n_iter= 100)\n",
    "    xgb_rnd.fit(X_train , y_train)\n",
    "\n",
    "print(f\"XGB Best Params is : {xgb_rnd.best_params_}\")\n",
    "print(f\"XGB Best Score is : {xgb_rnd.best_score_}\")\n",
    "\n",
    "unpatch_sklearn()"
   ]
  },
  {
   "cell_type": "code",
   "execution_count": null,
   "metadata": {},
   "outputs": [],
   "source": [
    "from xgboost import XGBRegressor\n",
    "\n",
    "# xgb = XGBRegressor(n_estimators = 500 , min_child_weight = 5 , max_depth = 3 , learning_rate = 0.1 , gamma = 0, colsample_bytree = 0.7 , subsample= 0.7 , reg_alpha = 0.05 , reg_lambda=0.01)\n",
    "xgb = XGBRegressor(n_estimators = 500 , min_child_weight = 5 , max_depth = 3 , learning_rate = 0.1 , gamma = 0)\n",
    "xgb.fit(X_train , y_train)\n",
    "\n",
    "xgb_train_pred = xgb.predict(X_train)\n",
    "xgb_pred = xgb.predict(X_test)\n",
    "\n",
    "fonks.simple_scores(y_train, xgb_train_pred , y_test , xgb_pred , 'XGB')"
   ]
  },
  {
   "cell_type": "code",
   "execution_count": null,
   "metadata": {},
   "outputs": [],
   "source": [
    "xgb_r2 = fonks.get_r2_score(y_test , xgb_pred)\n",
    "xgb_mae = fonks.get_mae_score(y_test , xgb_pred)\n",
    "xgb_rmse = fonks.get_rmse_score(y_test , xgb_pred)\n",
    "\n",
    "xgb_df = fonks.train_test_df(y_train, xgb_train_pred , y_test , xgb_pred , 'XGB')\n",
    "all_df = pd.concat([all_df , xgb_df] , axis = 1)\n",
    "all_df"
   ]
  },
  {
   "attachments": {},
   "cell_type": "markdown",
   "metadata": {},
   "source": [
    "### LightGBM"
   ]
  },
  {
   "cell_type": "code",
   "execution_count": null,
   "metadata": {},
   "outputs": [],
   "source": [
    "from lightgbm import LGBMRegressor\n",
    "\n",
    "patch_sklearn()\n",
    "\n",
    "with config_context(target_offload='gpu:0'):\n",
    "        lgb_base = LGBMRegressor(device = 'gpu')\n",
    "\n",
    "        params = {\n",
    "                'n_estimators': [100, 200, 300 , 400 , 500],\n",
    "                'max_depth': [3, 5, 7 , 6 , 7, 8],\n",
    "                'learning_rate': [1,0.1,0.01],\n",
    "                'subsample': [0.7,0.8, 0.9, 1.0],\n",
    "                'colsample_bytree': [0.8, 0.9, 1.0],\n",
    "                }\n",
    "\n",
    "        lgb_rnd = RandomizedSearchCV(lgb_base , params , scoring='neg_mean_squared_error' , cv = 5,  n_iter= 50)\n",
    "        lgb_rnd.fit(X_train,y_train)\n",
    "\n",
    "\n",
    "print(f'Best parameters: {lgb_rnd.best_params_}')\n",
    "print(f'Best score: {lgb_rnd.best_score_:.2f}')\n",
    "\n",
    "unpatch_sklearn()"
   ]
  },
  {
   "cell_type": "code",
   "execution_count": null,
   "metadata": {},
   "outputs": [],
   "source": [
    "from lightgbm import LGBMRegressor\n",
    "\n",
    "lgb = LGBMRegressor(n_estimators= 100 , learning_rate = 0.1 , max_depth = 6 , subsample = 0.9 , colsample_bytree = 1)\n",
    "# lgb = lgb_grid.best_estimator_\n",
    "lgb.fit(X_train , y_train)\n",
    "\n",
    "lgb_train_pred = lgb.predict(X_train)\n",
    "lgb_pred = lgb.predict(X_test)\n",
    "\n",
    "fonks.simple_scores(y_train, lgb_train_pred , y_test , lgb_pred , 'LGB')"
   ]
  },
  {
   "cell_type": "code",
   "execution_count": null,
   "metadata": {},
   "outputs": [],
   "source": [
    "lgb_r2 = fonks.get_r2_score(y_test , lgb_pred)\n",
    "lgb_mae = fonks.get_mae_score(y_test , lgb_pred)\n",
    "lgb_rmse = fonks.get_rmse_score(y_test , lgb_pred)\n",
    "\n",
    "lgb_df = fonks.train_test_df(y_train, xgb_train_pred , y_test , lgb_pred , 'LGB')\n",
    "all_df = pd.concat([all_df , lgb_df] , axis = 1)\n",
    "all_df"
   ]
  },
  {
   "attachments": {},
   "cell_type": "markdown",
   "metadata": {},
   "source": [
    "### CatBoost"
   ]
  },
  {
   "cell_type": "code",
   "execution_count": null,
   "metadata": {},
   "outputs": [],
   "source": [
    "params = {'learning_rate': 0.03,\n",
    "          'objective':'MAE',\n",
    "          'depth': 6,\n",
    "          'early_stopping_rounds':1000,\n",
    "          'iterations': 10000,\n",
    "          'use_best_model': True,\n",
    "          'eval_metric': \"RMSE\",\n",
    "          'random_state': 986,\n",
    "          'allow_writing_files': False,\n",
    "          'thread_count':24\n",
    "          }"
   ]
  },
  {
   "cell_type": "code",
   "execution_count": null,
   "metadata": {},
   "outputs": [],
   "source": [
    "# X_train['X1 transaction date'] = X_train['X1 transaction date'].astype(int).astype('category')\n",
    "# X_test['X1 transaction date'] = X_test['X1 transaction date'].astype(int).astype('category')"
   ]
  },
  {
   "cell_type": "code",
   "execution_count": null,
   "metadata": {},
   "outputs": [],
   "source": [
    "from catboost import CatBoostRegressor\n",
    "\n",
    "cb = CatBoostRegressor(**params,\n",
    "                #        cat_features=['X1 transaction date']\n",
    "                        )\n",
    "cb.fit(X_train,y_train,\n",
    "        eval_set=[(X_test,y_test)],\n",
    "        verbose=500)\n",
    "\n",
    "cb_train_pred = cb.predict(X_train)\n",
    "cb_pred = cb.predict(X_test)\n",
    "\n",
    "fonks.simple_scores(y_train, cb_train_pred , y_test , cb_pred , 'CB')"
   ]
  },
  {
   "cell_type": "code",
   "execution_count": null,
   "metadata": {},
   "outputs": [],
   "source": [
    "cb_r2 = fonks.get_r2_score(y_test , cb_pred)\n",
    "cb_mae = fonks.get_mae_score(y_test , cb_pred)\n",
    "cb_rmse = fonks.get_rmse_score(y_test , cb_pred)\n",
    "\n",
    "cb_df = fonks.train_test_df(y_train, cb_train_pred , y_test , cb_pred , 'CB')\n",
    "all_df = pd.concat([all_df , cb_df] , axis = 1)\n",
    "all_df"
   ]
  },
  {
   "attachments": {},
   "cell_type": "markdown",
   "metadata": {},
   "source": [
    "### NN Model"
   ]
  },
  {
   "cell_type": "code",
   "execution_count": null,
   "metadata": {},
   "outputs": [],
   "source": [
    "import tensorflow as tf\n",
    "\n",
    "model = tf.keras.Sequential([\n",
    "  tf.keras.layers.Dense(64, activation='relu'),\n",
    "  tf.keras.layers.Dense(32, activation='relu'),\n",
    "  tf.keras.layers.Dense(1, activation='linear')\n",
    "])\n",
    "\n",
    "model.compile(optimizer='adam', loss='mse')\n",
    "\n",
    "model.fit(X_train, y_train, epochs=10)\n",
    "\n",
    "model_train_pred = model.predict(X_train)\n",
    "model_pred = model.predict(X_test)\n",
    "\n",
    "fonks.simple_scores(y_train, model_train_pred , y_test , model_pred , 'Model')"
   ]
  },
  {
   "cell_type": "code",
   "execution_count": null,
   "metadata": {},
   "outputs": [],
   "source": [
    "all_df"
   ]
  },
  {
   "attachments": {},
   "cell_type": "markdown",
   "metadata": {},
   "source": [
    "# Compare Models"
   ]
  },
  {
   "cell_type": "code",
   "execution_count": null,
   "metadata": {},
   "outputs": [],
   "source": [
    "compare = pd.DataFrame({\"Model\": [\"LinearRegression\", \"Ridge\", \"SVR\", \"DecisionTree\", \"RandomForest\", \"GradientBoosting\",\n",
    "                                 \"XGBoost\", \"LGBM\" , \"CatBoost\"],\n",
    "                        \"R2\": [lr_r2, rdg_r2, svr_r2, dt_r2, rf_r2 , gb_r2, xgb_r2, lgb_r2 , cb_r2],\n",
    "                        \"MAE\": [lr_mae, rdg_mae, svr_mae, dt_mae, rf_mae, gb_mae, xgb_mae, lgb_mae , cb_mae],\n",
    "                        \"RMSE\": [lr_rmse, rdg_rmse, svr_rmse, dt_rmse, rf_rmse, gb_rmse, xgb_rmse, lgb_rmse , cb_rmse],\n",
    "                        })\n",
    "\n",
    "def labels(ax):\n",
    "    for p in ax.patches:\n",
    "        width = p.get_width()                        # get bar length\n",
    "        ax.text(width,                               # set the text at 1 unit right of the bar\n",
    "                p.get_y() + p.get_height() / 2,      # get Y coordinate + X coordinate / 2\n",
    "                '{:1.3f}'.format(width),             # set variable to display, 2 decimals\n",
    "                ha = 'left',                         # horizontal alignment\n",
    "                va = 'center')                       # vertical alignment\n",
    "    \n",
    "plt.figure(figsize=(14,10))\n",
    "plt.subplot(311)\n",
    "compare = compare.sort_values(by=\"R2\", ascending=False)\n",
    "ax=sns.barplot(x=\"R2\", y=\"Model\", data=compare, palette=\"Blues_d\")\n",
    "labels(ax)\n",
    "\n",
    "plt.subplot(312)\n",
    "compare = compare.sort_values(by=\"MAE\", ascending=True)\n",
    "ax=sns.barplot(x=\"MAE\", y=\"Model\", data=compare, palette=\"Blues_d\")\n",
    "labels(ax)\n",
    "\n",
    "plt.subplot(313)\n",
    "compare = compare.sort_values(by=\"RMSE\", ascending=True)\n",
    "ax=sns.barplot(x=\"RMSE\", y=\"Model\", data=compare, palette=\"Blues_d\")\n",
    "labels(ax)\n",
    "plt.show()"
   ]
  },
  {
   "cell_type": "code",
   "execution_count": null,
   "metadata": {},
   "outputs": [],
   "source": [
    "#"
   ]
  },
  {
   "cell_type": "code",
   "execution_count": null,
   "metadata": {},
   "outputs": [],
   "source": [
    "gb_pred"
   ]
  },
  {
   "cell_type": "code",
   "execution_count": null,
   "metadata": {},
   "outputs": [],
   "source": [
    "xgb_pred"
   ]
  },
  {
   "cell_type": "code",
   "execution_count": null,
   "metadata": {},
   "outputs": [],
   "source": [
    "cb_pred"
   ]
  },
  {
   "cell_type": "code",
   "execution_count": null,
   "metadata": {},
   "outputs": [],
   "source": [
    "lgb_pred"
   ]
  },
  {
   "cell_type": "code",
   "execution_count": null,
   "metadata": {},
   "outputs": [],
   "source": []
  }
 ],
 "metadata": {
  "kernelspec": {
   "display_name": "ml",
   "language": "python",
   "name": "python3"
  },
  "language_info": {
   "codemirror_mode": {
    "name": "ipython",
    "version": 3
   },
   "file_extension": ".py",
   "mimetype": "text/x-python",
   "name": "python",
   "nbconvert_exporter": "python",
   "pygments_lexer": "ipython3",
   "version": "3.10.11"
  },
  "orig_nbformat": 4
 },
 "nbformat": 4,
 "nbformat_minor": 2
}
