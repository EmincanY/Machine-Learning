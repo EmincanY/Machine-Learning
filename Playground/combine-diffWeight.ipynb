{
 "cells": [
  {
   "cell_type": "code",
   "execution_count": 1,
   "metadata": {},
   "outputs": [],
   "source": [
    "import pandas as pd\n",
    "import numpy as np"
   ]
  },
  {
   "cell_type": "code",
   "execution_count": 4,
   "metadata": {},
   "outputs": [],
   "source": [
    "cb_preds = pd.read_csv('preds/cb_preds1.csv')\n",
    "lgb_preds = pd.read_csv('preds/lgb_preds1.csv')\n",
    "xgb_preds = pd.read_csv('preds/xgb_preds1.csv')\n",
    "gb_preds = pd.read_csv('preds/gb_preds1.csv')\n",
    "\n",
    "# Ağırlıkları belirle\n",
    "weights = [0.5, 0.2, 0.2, 0.1]\n",
    "\n",
    "# Her bir modelin tahminlerini ağırlıklandırarak ortalama al\n",
    "ensemble_preds = np.round((cb_preds['Age'] * weights[0] +\n",
    "                  lgb_preds['Age'] * weights[1] +\n",
    "                  xgb_preds['Age'] * weights[2] +\n",
    "                  gb_preds['Age'] * weights[3]))\n",
    "\n",
    "ensemble_df = pd.DataFrame({'id': cb_preds['id'], 'Age': ensemble_preds})\n"
   ]
  },
  {
   "cell_type": "code",
   "execution_count": 6,
   "metadata": {},
   "outputs": [],
   "source": [
    "ensemble_df.to_csv('preds/ensemble_preds1_2.csv', index=False)"
   ]
  },
  {
   "cell_type": "code",
   "execution_count": null,
   "metadata": {},
   "outputs": [],
   "source": [
    "# Done."
   ]
  }
 ],
 "metadata": {
  "kernelspec": {
   "display_name": "ml",
   "language": "python",
   "name": "python3"
  },
  "language_info": {
   "codemirror_mode": {
    "name": "ipython",
    "version": 3
   },
   "file_extension": ".py",
   "mimetype": "text/x-python",
   "name": "python",
   "nbconvert_exporter": "python",
   "pygments_lexer": "ipython3",
   "version": "3.10.11"
  },
  "orig_nbformat": 4
 },
 "nbformat": 4,
 "nbformat_minor": 2
}
