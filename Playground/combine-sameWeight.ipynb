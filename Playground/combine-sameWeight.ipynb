{
 "cells": [
  {
   "cell_type": "code",
   "execution_count": 2,
   "metadata": {},
   "outputs": [],
   "source": [
    "import pandas as pd\n",
    "import numpy as np"
   ]
  },
  {
   "cell_type": "code",
   "execution_count": 4,
   "metadata": {},
   "outputs": [],
   "source": [
    "# cb_preds = pd.read_csv('preds/cb_preds1.csv')\n",
    "cb2_preds = pd.read_csv('preds/cb_preds2.csv')\n",
    "pred_136 = pd.read_csv('preds/submitted/ensemble_preds1_1.36.csv')\n",
    "# lgb_preds = pd.read_csv('preds/lgb_preds1.csv')\n",
    "# xgb_preds = pd.read_csv('preds/xgb_preds1.csv')\n",
    "# gb_preds = pd.read_csv('preds/gb_preds1.csv')"
   ]
  },
  {
   "cell_type": "code",
   "execution_count": 3,
   "metadata": {},
   "outputs": [],
   "source": [
    "merged_preds = pd.concat([cb_preds['Age'], lgb_preds['Age'], xgb_preds['Age'], gb_preds['Age']], axis=1)"
   ]
  },
  {
   "cell_type": "code",
   "execution_count": 4,
   "metadata": {},
   "outputs": [
    {
     "data": {
      "text/html": [
       "<div>\n",
       "<style scoped>\n",
       "    .dataframe tbody tr th:only-of-type {\n",
       "        vertical-align: middle;\n",
       "    }\n",
       "\n",
       "    .dataframe tbody tr th {\n",
       "        vertical-align: top;\n",
       "    }\n",
       "\n",
       "    .dataframe thead th {\n",
       "        text-align: right;\n",
       "    }\n",
       "</style>\n",
       "<table border=\"1\" class=\"dataframe\">\n",
       "  <thead>\n",
       "    <tr style=\"text-align: right;\">\n",
       "      <th></th>\n",
       "      <th>Age</th>\n",
       "      <th>Age</th>\n",
       "      <th>Age</th>\n",
       "      <th>Age</th>\n",
       "    </tr>\n",
       "  </thead>\n",
       "  <tbody>\n",
       "    <tr>\n",
       "      <th>0</th>\n",
       "      <td>7.0</td>\n",
       "      <td>7.0</td>\n",
       "      <td>8.0</td>\n",
       "      <td>7.0</td>\n",
       "    </tr>\n",
       "    <tr>\n",
       "      <th>1</th>\n",
       "      <td>8.0</td>\n",
       "      <td>8.0</td>\n",
       "      <td>8.0</td>\n",
       "      <td>8.0</td>\n",
       "    </tr>\n",
       "    <tr>\n",
       "      <th>2</th>\n",
       "      <td>10.0</td>\n",
       "      <td>10.0</td>\n",
       "      <td>11.0</td>\n",
       "      <td>10.0</td>\n",
       "    </tr>\n",
       "    <tr>\n",
       "      <th>3</th>\n",
       "      <td>9.0</td>\n",
       "      <td>9.0</td>\n",
       "      <td>10.0</td>\n",
       "      <td>10.0</td>\n",
       "    </tr>\n",
       "    <tr>\n",
       "      <th>4</th>\n",
       "      <td>8.0</td>\n",
       "      <td>7.0</td>\n",
       "      <td>7.0</td>\n",
       "      <td>7.0</td>\n",
       "    </tr>\n",
       "    <tr>\n",
       "      <th>...</th>\n",
       "      <td>...</td>\n",
       "      <td>...</td>\n",
       "      <td>...</td>\n",
       "      <td>...</td>\n",
       "    </tr>\n",
       "    <tr>\n",
       "      <th>49363</th>\n",
       "      <td>9.0</td>\n",
       "      <td>9.0</td>\n",
       "      <td>9.0</td>\n",
       "      <td>9.0</td>\n",
       "    </tr>\n",
       "    <tr>\n",
       "      <th>49364</th>\n",
       "      <td>8.0</td>\n",
       "      <td>8.0</td>\n",
       "      <td>8.0</td>\n",
       "      <td>8.0</td>\n",
       "    </tr>\n",
       "    <tr>\n",
       "      <th>49365</th>\n",
       "      <td>12.0</td>\n",
       "      <td>12.0</td>\n",
       "      <td>13.0</td>\n",
       "      <td>12.0</td>\n",
       "    </tr>\n",
       "    <tr>\n",
       "      <th>49366</th>\n",
       "      <td>9.0</td>\n",
       "      <td>9.0</td>\n",
       "      <td>10.0</td>\n",
       "      <td>10.0</td>\n",
       "    </tr>\n",
       "    <tr>\n",
       "      <th>49367</th>\n",
       "      <td>12.0</td>\n",
       "      <td>12.0</td>\n",
       "      <td>13.0</td>\n",
       "      <td>12.0</td>\n",
       "    </tr>\n",
       "  </tbody>\n",
       "</table>\n",
       "<p>49368 rows × 4 columns</p>\n",
       "</div>"
      ],
      "text/plain": [
       "        Age   Age   Age   Age\n",
       "0       7.0   7.0   8.0   7.0\n",
       "1       8.0   8.0   8.0   8.0\n",
       "2      10.0  10.0  11.0  10.0\n",
       "3       9.0   9.0  10.0  10.0\n",
       "4       8.0   7.0   7.0   7.0\n",
       "...     ...   ...   ...   ...\n",
       "49363   9.0   9.0   9.0   9.0\n",
       "49364   8.0   8.0   8.0   8.0\n",
       "49365  12.0  12.0  13.0  12.0\n",
       "49366   9.0   9.0  10.0  10.0\n",
       "49367  12.0  12.0  13.0  12.0\n",
       "\n",
       "[49368 rows x 4 columns]"
      ]
     },
     "execution_count": 4,
     "metadata": {},
     "output_type": "execute_result"
    }
   ],
   "source": [
    "merged_preds"
   ]
  },
  {
   "cell_type": "code",
   "execution_count": 7,
   "metadata": {},
   "outputs": [
    {
     "data": {
      "text/plain": [
       "0         7.0\n",
       "1         8.0\n",
       "2        10.0\n",
       "3        10.0\n",
       "4         7.0\n",
       "         ... \n",
       "49363     9.0\n",
       "49364     8.0\n",
       "49365    12.0\n",
       "49366    10.0\n",
       "49367    12.0\n",
       "Length: 49368, dtype: float64"
      ]
     },
     "execution_count": 7,
     "metadata": {},
     "output_type": "execute_result"
    }
   ],
   "source": [
    "ensemble_preds = np.round(merged_preds.mean(axis=1))\n",
    "\n",
    "ensemble_preds"
   ]
  },
  {
   "cell_type": "code",
   "execution_count": 8,
   "metadata": {},
   "outputs": [],
   "source": [
    "ensemble_df = pd.DataFrame({'id': cb_preds['id'], 'Age': ensemble_preds})"
   ]
  },
  {
   "cell_type": "code",
   "execution_count": 9,
   "metadata": {},
   "outputs": [],
   "source": [
    "ensemble_df.to_csv('preds/ensemble_preds1.csv', index=False)"
   ]
  },
  {
   "cell_type": "code",
   "execution_count": null,
   "metadata": {},
   "outputs": [],
   "source": [
    "# Done"
   ]
  },
  {
   "cell_type": "code",
   "execution_count": 10,
   "metadata": {},
   "outputs": [
    {
     "data": {
      "text/plain": [
       "0         7.0\n",
       "1         8.0\n",
       "2        10.0\n",
       "3        10.0\n",
       "4         7.0\n",
       "         ... \n",
       "49363     9.0\n",
       "49364     8.0\n",
       "49365    12.0\n",
       "49366    10.0\n",
       "49367    12.0\n",
       "Length: 49368, dtype: float64"
      ]
     },
     "execution_count": 10,
     "metadata": {},
     "output_type": "execute_result"
    }
   ],
   "source": [
    "ensemble_preds"
   ]
  },
  {
   "cell_type": "code",
   "execution_count": 11,
   "metadata": {},
   "outputs": [
    {
     "data": {
      "text/html": [
       "<div>\n",
       "<style scoped>\n",
       "    .dataframe tbody tr th:only-of-type {\n",
       "        vertical-align: middle;\n",
       "    }\n",
       "\n",
       "    .dataframe tbody tr th {\n",
       "        vertical-align: top;\n",
       "    }\n",
       "\n",
       "    .dataframe thead th {\n",
       "        text-align: right;\n",
       "    }\n",
       "</style>\n",
       "<table border=\"1\" class=\"dataframe\">\n",
       "  <thead>\n",
       "    <tr style=\"text-align: right;\">\n",
       "      <th></th>\n",
       "      <th>id</th>\n",
       "      <th>Age</th>\n",
       "    </tr>\n",
       "  </thead>\n",
       "  <tbody>\n",
       "    <tr>\n",
       "      <th>0</th>\n",
       "      <td>74051</td>\n",
       "      <td>8.0</td>\n",
       "    </tr>\n",
       "    <tr>\n",
       "      <th>1</th>\n",
       "      <td>74052</td>\n",
       "      <td>8.0</td>\n",
       "    </tr>\n",
       "    <tr>\n",
       "      <th>2</th>\n",
       "      <td>74053</td>\n",
       "      <td>11.0</td>\n",
       "    </tr>\n",
       "    <tr>\n",
       "      <th>3</th>\n",
       "      <td>74054</td>\n",
       "      <td>10.0</td>\n",
       "    </tr>\n",
       "    <tr>\n",
       "      <th>4</th>\n",
       "      <td>74055</td>\n",
       "      <td>7.0</td>\n",
       "    </tr>\n",
       "    <tr>\n",
       "      <th>...</th>\n",
       "      <td>...</td>\n",
       "      <td>...</td>\n",
       "    </tr>\n",
       "    <tr>\n",
       "      <th>49363</th>\n",
       "      <td>123414</td>\n",
       "      <td>9.0</td>\n",
       "    </tr>\n",
       "    <tr>\n",
       "      <th>49364</th>\n",
       "      <td>123415</td>\n",
       "      <td>8.0</td>\n",
       "    </tr>\n",
       "    <tr>\n",
       "      <th>49365</th>\n",
       "      <td>123416</td>\n",
       "      <td>13.0</td>\n",
       "    </tr>\n",
       "    <tr>\n",
       "      <th>49366</th>\n",
       "      <td>123417</td>\n",
       "      <td>10.0</td>\n",
       "    </tr>\n",
       "    <tr>\n",
       "      <th>49367</th>\n",
       "      <td>123418</td>\n",
       "      <td>13.0</td>\n",
       "    </tr>\n",
       "  </tbody>\n",
       "</table>\n",
       "<p>49368 rows × 2 columns</p>\n",
       "</div>"
      ],
      "text/plain": [
       "           id   Age\n",
       "0       74051   8.0\n",
       "1       74052   8.0\n",
       "2       74053  11.0\n",
       "3       74054  10.0\n",
       "4       74055   7.0\n",
       "...       ...   ...\n",
       "49363  123414   9.0\n",
       "49364  123415   8.0\n",
       "49365  123416  13.0\n",
       "49366  123417  10.0\n",
       "49367  123418  13.0\n",
       "\n",
       "[49368 rows x 2 columns]"
      ]
     },
     "execution_count": 11,
     "metadata": {},
     "output_type": "execute_result"
    }
   ],
   "source": [
    "xgb_preds"
   ]
  },
  {
   "cell_type": "code",
   "execution_count": 12,
   "metadata": {},
   "outputs": [
    {
     "data": {
      "text/html": [
       "<div>\n",
       "<style scoped>\n",
       "    .dataframe tbody tr th:only-of-type {\n",
       "        vertical-align: middle;\n",
       "    }\n",
       "\n",
       "    .dataframe tbody tr th {\n",
       "        vertical-align: top;\n",
       "    }\n",
       "\n",
       "    .dataframe thead th {\n",
       "        text-align: right;\n",
       "    }\n",
       "</style>\n",
       "<table border=\"1\" class=\"dataframe\">\n",
       "  <thead>\n",
       "    <tr style=\"text-align: right;\">\n",
       "      <th></th>\n",
       "      <th>id</th>\n",
       "      <th>Age</th>\n",
       "    </tr>\n",
       "  </thead>\n",
       "  <tbody>\n",
       "    <tr>\n",
       "      <th>0</th>\n",
       "      <td>74051</td>\n",
       "      <td>7.0</td>\n",
       "    </tr>\n",
       "    <tr>\n",
       "      <th>1</th>\n",
       "      <td>74052</td>\n",
       "      <td>8.0</td>\n",
       "    </tr>\n",
       "    <tr>\n",
       "      <th>2</th>\n",
       "      <td>74053</td>\n",
       "      <td>10.0</td>\n",
       "    </tr>\n",
       "    <tr>\n",
       "      <th>3</th>\n",
       "      <td>74054</td>\n",
       "      <td>9.0</td>\n",
       "    </tr>\n",
       "    <tr>\n",
       "      <th>4</th>\n",
       "      <td>74055</td>\n",
       "      <td>8.0</td>\n",
       "    </tr>\n",
       "    <tr>\n",
       "      <th>...</th>\n",
       "      <td>...</td>\n",
       "      <td>...</td>\n",
       "    </tr>\n",
       "    <tr>\n",
       "      <th>49363</th>\n",
       "      <td>123414</td>\n",
       "      <td>9.0</td>\n",
       "    </tr>\n",
       "    <tr>\n",
       "      <th>49364</th>\n",
       "      <td>123415</td>\n",
       "      <td>8.0</td>\n",
       "    </tr>\n",
       "    <tr>\n",
       "      <th>49365</th>\n",
       "      <td>123416</td>\n",
       "      <td>12.0</td>\n",
       "    </tr>\n",
       "    <tr>\n",
       "      <th>49366</th>\n",
       "      <td>123417</td>\n",
       "      <td>9.0</td>\n",
       "    </tr>\n",
       "    <tr>\n",
       "      <th>49367</th>\n",
       "      <td>123418</td>\n",
       "      <td>12.0</td>\n",
       "    </tr>\n",
       "  </tbody>\n",
       "</table>\n",
       "<p>49368 rows × 2 columns</p>\n",
       "</div>"
      ],
      "text/plain": [
       "           id   Age\n",
       "0       74051   7.0\n",
       "1       74052   8.0\n",
       "2       74053  10.0\n",
       "3       74054   9.0\n",
       "4       74055   8.0\n",
       "...       ...   ...\n",
       "49363  123414   9.0\n",
       "49364  123415   8.0\n",
       "49365  123416  12.0\n",
       "49366  123417   9.0\n",
       "49367  123418  12.0\n",
       "\n",
       "[49368 rows x 2 columns]"
      ]
     },
     "execution_count": 12,
     "metadata": {},
     "output_type": "execute_result"
    }
   ],
   "source": [
    "cb_preds"
   ]
  },
  {
   "attachments": {},
   "cell_type": "markdown",
   "metadata": {},
   "source": [
    "# Compare"
   ]
  },
  {
   "cell_type": "code",
   "execution_count": 5,
   "metadata": {},
   "outputs": [],
   "source": [
    "def pearson_compare(df1 , df2 , feature = 'Age'):\n",
    "    from scipy.stats import pearsonr\n",
    "    df1_values = df1[feature].values\n",
    "    df2_values = df2[feature].values\n",
    "    \n",
    "    # Pearson korelasyon katsayısı hesaplama\n",
    "    correlation, _ = pearsonr(df1_values, df2_values)\n",
    "    \n",
    "    print(f\"Pearson Korelasyon Katsayısı:\", correlation)\n",
    "    \n",
    "  \n",
    "def jaccard_compare(df1 , df2 , feature = 'Age'):\n",
    "    from sklearn.metrics import jaccard_score\n",
    "    df1_values = df1[feature].values\n",
    "    df2_values = df2[feature].values\n",
    "    \n",
    "    # Jaccard benzerlik katsayısı hesaplama\n",
    "    jaccard_similarity = jaccard_score(df1_values, df2_values , average='weighted')\n",
    "    \n",
    "    print(f\"Jaccard Benzerlik Katsayısı:\", jaccard_similarity)  \n"
   ]
  },
  {
   "cell_type": "code",
   "execution_count": 7,
   "metadata": {},
   "outputs": [
    {
     "name": "stdout",
     "output_type": "stream",
     "text": [
      "1.36 & CB :\n",
      "Pearson Korelasyon Katsayısı: 0.9876057407377842\n"
     ]
    }
   ],
   "source": [
    "print('1.36 & CB :')\n",
    "pearson_compare(pred_136 , cb2_preds)"
   ]
  },
  {
   "cell_type": "code",
   "execution_count": 25,
   "metadata": {},
   "outputs": [
    {
     "name": "stdout",
     "output_type": "stream",
     "text": [
      "Ensemble & XGB :\n",
      "Pearson Korelasyon Katsayısı: 0.980033356193876\n",
      "Ensemble & GB :\n",
      "Pearson Korelasyon Katsayısı: 0.9881668278735037\n",
      "Ensemble & CB :\n",
      "Pearson Korelasyon Katsayısı: 0.986850050928861\n",
      "Ensemble & LightGBM :\n",
      "Pearson Korelasyon Katsayısı: 0.99155204763898\n"
     ]
    }
   ],
   "source": [
    "print('Ensemble & XGB :')\n",
    "pearson_compare(ensemble_df , xgb_preds)\n",
    "\n",
    "print('Ensemble & GB :')\n",
    "pearson_compare(ensemble_df , gb_preds)\n",
    "\n",
    "print('Ensemble & CB :')\n",
    "pearson_compare(ensemble_df , cb_preds)\n",
    "\n",
    "print('Ensemble & LightGBM :')\n",
    "pearson_compare(ensemble_df , lgb_preds)"
   ]
  },
  {
   "cell_type": "code",
   "execution_count": 8,
   "metadata": {},
   "outputs": [
    {
     "name": "stdout",
     "output_type": "stream",
     "text": [
      "1.36 & CB :\n",
      "Jaccard Benzerlik Katsayısı: 0.7708281677055938\n"
     ]
    }
   ],
   "source": [
    "print('1.36 & CB :')\n",
    "jaccard_compare(pred_136 , cb2_preds)"
   ]
  },
  {
   "cell_type": "code",
   "execution_count": 26,
   "metadata": {},
   "outputs": [
    {
     "name": "stdout",
     "output_type": "stream",
     "text": [
      "Ensemble & XGB :\n",
      "Jaccard Benzerlik Katsayısı: 0.5509807032010735\n",
      "Ensemble & GB :\n",
      "Jaccard Benzerlik Katsayısı: 0.77767027392535\n",
      "Ensemble & CB :\n",
      "Jaccard Benzerlik Katsayısı: 0.7616842336147495\n",
      "Ensemble & LightGBM :\n",
      "Jaccard Benzerlik Katsayısı: 0.8388477571091889\n"
     ]
    }
   ],
   "source": [
    "print('Ensemble & XGB :')\n",
    "jaccard_compare(ensemble_df , xgb_preds)\n",
    "\n",
    "print('Ensemble & GB :')\n",
    "jaccard_compare(ensemble_df , gb_preds)\n",
    "\n",
    "print('Ensemble & CB :')\n",
    "jaccard_compare(ensemble_df , cb_preds)\n",
    "\n",
    "print('Ensemble & LightGBM :')\n",
    "jaccard_compare(ensemble_df , lgb_preds)"
   ]
  },
  {
   "cell_type": "code",
   "execution_count": null,
   "metadata": {},
   "outputs": [],
   "source": []
  }
 ],
 "metadata": {
  "kernelspec": {
   "display_name": "ml",
   "language": "python",
   "name": "python3"
  },
  "language_info": {
   "codemirror_mode": {
    "name": "ipython",
    "version": 3
   },
   "file_extension": ".py",
   "mimetype": "text/x-python",
   "name": "python",
   "nbconvert_exporter": "python",
   "pygments_lexer": "ipython3",
   "version": "3.10.11"
  },
  "orig_nbformat": 4
 },
 "nbformat": 4,
 "nbformat_minor": 2
}
