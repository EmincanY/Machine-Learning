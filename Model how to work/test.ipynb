{
 "cells": [
  {
   "cell_type": "code",
   "execution_count": 1,
   "metadata": {},
   "outputs": [],
   "source": [
    "import numpy as np\n",
    "import pandas as pd\n",
    "\n",
    "import matplotlib.pyplot as plt\n",
    "import seaborn as sns"
   ]
  },
  {
   "cell_type": "code",
   "execution_count": 2,
   "metadata": {},
   "outputs": [
    {
     "data": {
      "text/html": [
       "<div>\n",
       "<style scoped>\n",
       "    .dataframe tbody tr th:only-of-type {\n",
       "        vertical-align: middle;\n",
       "    }\n",
       "\n",
       "    .dataframe tbody tr th {\n",
       "        vertical-align: top;\n",
       "    }\n",
       "\n",
       "    .dataframe thead th {\n",
       "        text-align: right;\n",
       "    }\n",
       "</style>\n",
       "<table border=\"1\" class=\"dataframe\">\n",
       "  <thead>\n",
       "    <tr style=\"text-align: right;\">\n",
       "      <th></th>\n",
       "      <th>x</th>\n",
       "      <th>y</th>\n",
       "    </tr>\n",
       "  </thead>\n",
       "  <tbody>\n",
       "    <tr>\n",
       "      <th>0</th>\n",
       "      <td>0.000000</td>\n",
       "      <td>0.496714</td>\n",
       "    </tr>\n",
       "    <tr>\n",
       "      <th>1</th>\n",
       "      <td>0.052632</td>\n",
       "      <td>0.019630</td>\n",
       "    </tr>\n",
       "    <tr>\n",
       "      <th>2</th>\n",
       "      <td>0.105263</td>\n",
       "      <td>0.963478</td>\n",
       "    </tr>\n",
       "    <tr>\n",
       "      <th>3</th>\n",
       "      <td>0.157895</td>\n",
       "      <td>1.996714</td>\n",
       "    </tr>\n",
       "    <tr>\n",
       "      <th>4</th>\n",
       "      <td>0.210526</td>\n",
       "      <td>0.397426</td>\n",
       "    </tr>\n",
       "  </tbody>\n",
       "</table>\n",
       "</div>"
      ],
      "text/plain": [
       "          x         y\n",
       "0  0.000000  0.496714\n",
       "1  0.052632  0.019630\n",
       "2  0.105263  0.963478\n",
       "3  0.157895  1.996714\n",
       "4  0.210526  0.397426"
      ]
     },
     "execution_count": 2,
     "metadata": {},
     "output_type": "execute_result"
    }
   ],
   "source": [
    "df = pd.read_csv(\"datapoints.csv\")\n",
    "df.head()"
   ]
  },
  {
   "cell_type": "code",
   "execution_count": 3,
   "metadata": {},
   "outputs": [
    {
     "data": {
      "text/plain": [
       "(20, 2)"
      ]
     },
     "execution_count": 3,
     "metadata": {},
     "output_type": "execute_result"
    }
   ],
   "source": [
    "df.shape"
   ]
  },
  {
   "cell_type": "code",
   "execution_count": 5,
   "metadata": {},
   "outputs": [
    {
     "data": {
      "image/png": "[encoded data removed]",
      "text/plain": [
       "<Figure size 432x288 with 1 Axes>"
      ]
     },
     "metadata": {
      "needs_background": "light"
     },
     "output_type": "display_data"
    }
   ],
   "source": [
    "sns.scatterplot(x = df[\"x\"] , y = df.y);"
   ]
  },
  {
   "cell_type": "code",
   "execution_count": 13,
   "metadata": {},
   "outputs": [
    {
     "data": {
      "text/plain": [
       "0      0.000000\n",
       "1      0.526316\n",
       "2      1.052632\n",
       "3      1.578947\n",
       "4      2.105263\n",
       "5      2.631579\n",
       "6      3.157895\n",
       "7      3.684211\n",
       "8      4.210526\n",
       "9      4.736842\n",
       "10     5.263158\n",
       "11     5.789474\n",
       "12     6.315789\n",
       "13     6.842105\n",
       "14     7.368421\n",
       "15     7.894737\n",
       "16     8.421053\n",
       "17     8.947368\n",
       "18     9.473684\n",
       "19    10.000000\n",
       "Name: x, dtype: float64"
      ]
     },
     "execution_count": 13,
     "metadata": {},
     "output_type": "execute_result"
    }
   ],
   "source": [
    "# y = ax + b\n",
    "# y = 10x\n",
    "a = 10\n",
    "\n",
    "y_pred = df[\"x\"] * a\n",
    "y_pred"
   ]
  },
  {
   "cell_type": "code",
   "execution_count": 14,
   "metadata": {},
   "outputs": [
    {
     "data": {
      "text/plain": [
       "21.30649941907101"
      ]
     },
     "execution_count": 14,
     "metadata": {},
     "output_type": "execute_result"
    }
   ],
   "source": [
    "(sum((y_pred - df.y)**2)) / len(y_pred)"
   ]
  },
  {
   "cell_type": "code",
   "execution_count": 18,
   "metadata": {},
   "outputs": [
    {
     "name": "stdout",
     "output_type": "stream",
     "text": [
      "0.7080422372498428\n",
      "2.2\n"
     ]
    }
   ],
   "source": [
    "lowest_mse = 21\n",
    "lowest_a = 10\n",
    "\n",
    "for i in range(1,100,1):\n",
    "    a = 10 - (i/10)\n",
    "    y_pred = df[\"x\"] * a\n",
    "    mse = (sum((y_pred - df.y)**2)) / len(y_pred)\n",
    "    if mse < lowest_mse :\n",
    "        lowest_mse = mse\n",
    "        lowest_a = a\n",
    "\n",
    "print(lowest_mse)\n",
    "print(lowest_a)"
   ]
  },
  {
   "cell_type": "code",
   "execution_count": null,
   "metadata": {},
   "outputs": [],
   "source": [
    "# y = 2.2x #\n",
    "# y = 10x "
   ]
  },
  {
   "cell_type": "code",
   "execution_count": 19,
   "metadata": {},
   "outputs": [
    {
     "name": "stdout",
     "output_type": "stream",
     "text": [
      "7.82889006440148\n",
      "-3.7\n"
     ]
    }
   ],
   "source": [
    "lowest_mse = 21\n",
    "a = 10\n",
    "ideal_b = 0\n",
    "\n",
    "for i in range(1,100,1):\n",
    "    b = -(i/10)\n",
    "    y_pred = df[\"x\"] * a + b\n",
    "    mse = (sum((y_pred - df.y)**2)) / len(y_pred)\n",
    "    if mse < lowest_mse :\n",
    "        lowest_mse = mse\n",
    "        ideal_b = b\n",
    "\n",
    "print(lowest_mse)\n",
    "print(ideal_b)"
   ]
  },
  {
   "cell_type": "code",
   "execution_count": null,
   "metadata": {},
   "outputs": [],
   "source": [
    "# y = 10x\n",
    "# y = 10x - 3.7"
   ]
  },
  {
   "cell_type": "code",
   "execution_count": null,
   "metadata": {},
   "outputs": [],
   "source": [
    "# y = 2.2x - 3.7"
   ]
  },
  {
   "cell_type": "code",
   "execution_count": 20,
   "metadata": {},
   "outputs": [],
   "source": [
    "# İç içe döngü kullanılarak y = ax + b lineer denklemindeki a ve b değerlerinin hepsi denenerek en düşük mse \n",
    "# hangi a ve b değerlerinde oluyor diye bulunabilir"
   ]
  },
  {
   "cell_type": "code",
   "execution_count": null,
   "metadata": {},
   "outputs": [],
   "source": [
    "# y = 10x - 0 -->\n",
    "# y = 10x - 0.1 -->\n",
    "# y = 10x - 0.2 -->\n",
    "\n",
    "# y = 9.9x - 0 -->\n",
    "# y = 9.9x - 0.1 -->\n",
    "# y = 9.9x - 0.2 -->\n",
    "# ...\n",
    "\n",
    "# y = 3.4x - 5.1 sonuç."
   ]
  }
 ],
 "metadata": {
  "kernelspec": {
   "display_name": "Python 3.10.5 64-bit",
   "language": "python",
   "name": "python3"
  },
  "language_info": {
   "codemirror_mode": {
    "name": "ipython",
    "version": 3
   },
   "file_extension": ".py",
   "mimetype": "text/x-python",
   "name": "python",
   "nbconvert_exporter": "python",
   "pygments_lexer": "ipython3",
   "version": "3.10.5"
  },
  "orig_nbformat": 4,
  "vscode": {
   "interpreter": {
    "hash": "2d8cd8638caa719e77c3ece9ee6c9cdab6f2065d170551d375a17b4273bc3a23"
   }
  }
 },
 "nbformat": 4,
 "nbformat_minor": 2
}
