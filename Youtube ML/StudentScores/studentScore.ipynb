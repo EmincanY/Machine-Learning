{
 "cells": [
  {
   "cell_type": "code",
   "execution_count": 1,
   "metadata": {},
   "outputs": [],
   "source": [
    "import numpy as np\n",
    "import pandas as pd\n",
    "\n",
    "import matplotlib.pyplot as plt\n",
    "import seaborn as sns\n",
    "import time"
   ]
  },
  {
   "cell_type": "code",
   "execution_count": 2,
   "metadata": {},
   "outputs": [
    {
     "data": {
      "text/html": [
       "<div>\n",
       "<style scoped>\n",
       "    .dataframe tbody tr th:only-of-type {\n",
       "        vertical-align: middle;\n",
       "    }\n",
       "\n",
       "    .dataframe tbody tr th {\n",
       "        vertical-align: top;\n",
       "    }\n",
       "\n",
       "    .dataframe thead th {\n",
       "        text-align: right;\n",
       "    }\n",
       "</style>\n",
       "<table border=\"1\" class=\"dataframe\">\n",
       "  <thead>\n",
       "    <tr style=\"text-align: right;\">\n",
       "      <th></th>\n",
       "      <th>Hours</th>\n",
       "      <th>Scores</th>\n",
       "    </tr>\n",
       "  </thead>\n",
       "  <tbody>\n",
       "    <tr>\n",
       "      <th>0</th>\n",
       "      <td>2.5</td>\n",
       "      <td>21</td>\n",
       "    </tr>\n",
       "    <tr>\n",
       "      <th>1</th>\n",
       "      <td>5.1</td>\n",
       "      <td>47</td>\n",
       "    </tr>\n",
       "    <tr>\n",
       "      <th>2</th>\n",
       "      <td>3.2</td>\n",
       "      <td>27</td>\n",
       "    </tr>\n",
       "    <tr>\n",
       "      <th>3</th>\n",
       "      <td>8.5</td>\n",
       "      <td>75</td>\n",
       "    </tr>\n",
       "    <tr>\n",
       "      <th>4</th>\n",
       "      <td>3.5</td>\n",
       "      <td>30</td>\n",
       "    </tr>\n",
       "  </tbody>\n",
       "</table>\n",
       "</div>"
      ],
      "text/plain": [
       "   Hours  Scores\n",
       "0    2.5      21\n",
       "1    5.1      47\n",
       "2    3.2      27\n",
       "3    8.5      75\n",
       "4    3.5      30"
      ]
     },
     "execution_count": 2,
     "metadata": {},
     "output_type": "execute_result"
    }
   ],
   "source": [
    "data = pd.read_csv(\"score2.csv\")\n",
    "data.head()"
   ]
  },
  {
   "cell_type": "code",
   "execution_count": 3,
   "metadata": {},
   "outputs": [
    {
     "data": {
      "text/plain": [
       "(25, 2)"
      ]
     },
     "execution_count": 3,
     "metadata": {},
     "output_type": "execute_result"
    }
   ],
   "source": [
    "data.shape"
   ]
  },
  {
   "cell_type": "code",
   "execution_count": 4,
   "metadata": {},
   "outputs": [
    {
     "data": {
      "text/plain": [
       "Hours     float64\n",
       "Scores      int64\n",
       "dtype: object"
      ]
     },
     "execution_count": 4,
     "metadata": {},
     "output_type": "execute_result"
    }
   ],
   "source": [
    "data.dtypes"
   ]
  },
  {
   "cell_type": "code",
   "execution_count": 5,
   "metadata": {},
   "outputs": [],
   "source": [
    "X = data[\"Hours\"]\n",
    "y = data[\"Scores\"]"
   ]
  },
  {
   "cell_type": "code",
   "execution_count": 6,
   "metadata": {},
   "outputs": [],
   "source": [
    "from sklearn.model_selection import train_test_split"
   ]
  },
  {
   "cell_type": "code",
   "execution_count": 7,
   "metadata": {},
   "outputs": [],
   "source": [
    "X_train,X_test , y_train , y_test = train_test_split(X,y,test_size=0.80)"
   ]
  },
  {
   "cell_type": "code",
   "execution_count": 8,
   "metadata": {},
   "outputs": [
    {
     "name": "stdout",
     "output_type": "stream",
     "text": [
      "Checking...\n",
      "\n",
      "(5,) <class 'pandas.core.series.Series'>\n",
      "(20,) <class 'pandas.core.series.Series'>\n",
      "(5,) <class 'pandas.core.series.Series'>\n",
      "(20,) <class 'pandas.core.series.Series'>\n"
     ]
    }
   ],
   "source": [
    "def check():\n",
    "    print(\"Checking...\\n\")\n",
    "    time.sleep(2)\n",
    "    for i in [X_train, X_test, y_train, y_test]:\n",
    "        print(i.shape, type(i))\n",
    "check()"
   ]
  },
  {
   "cell_type": "code",
   "execution_count": 9,
   "metadata": {},
   "outputs": [
    {
     "name": "stdout",
     "output_type": "stream",
     "text": [
      "Checking...\n",
      "\n",
      "(5, 1) <class 'numpy.ndarray'>\n",
      "(20, 1) <class 'numpy.ndarray'>\n",
      "(5, 1) <class 'numpy.ndarray'>\n",
      "(20, 1) <class 'numpy.ndarray'>\n"
     ]
    }
   ],
   "source": [
    "X_train = np.array(X_train).reshape(-1,1)\n",
    "X_test = np.array(X_test).reshape(-1,1)\n",
    "y_train = np.array(y_train).reshape(-1,1)\n",
    "y_test = np.array(y_test).reshape(-1,1)\n",
    "\n",
    "check()"
   ]
  },
  {
   "cell_type": "code",
   "execution_count": 10,
   "metadata": {},
   "outputs": [],
   "source": [
    "from sklearn.linear_model import LinearRegression"
   ]
  },
  {
   "cell_type": "code",
   "execution_count": 11,
   "metadata": {},
   "outputs": [],
   "source": [
    "lr = LinearRegression().fit(X_train,y_train)"
   ]
  },
  {
   "cell_type": "code",
   "execution_count": 12,
   "metadata": {},
   "outputs": [
    {
     "name": "stdout",
     "output_type": "stream",
     "text": [
      "[[80.34841449]\n",
      " [42.11145018]\n",
      " [89.40453761]\n",
      " [21.98673212]\n",
      " [66.26111185]\n",
      " [52.17380921]\n",
      " [ 7.89942948]\n",
      " [56.19875282]\n",
      " [15.9493167 ]\n",
      " [45.13015789]\n",
      " [48.1488656 ]\n",
      " [21.98673212]\n",
      " [86.38582991]\n",
      " [11.92437309]\n",
      " [74.31099907]\n",
      " [35.06779886]\n",
      " [30.03661934]\n",
      " [23.99920393]\n",
      " [58.21122463]\n",
      " [32.04909115]]\n"
     ]
    }
   ],
   "source": [
    "y_preds = lr.predict(X_test)\n",
    "\n",
    "print(y_preds)"
   ]
  },
  {
   "cell_type": "code",
   "execution_count": 13,
   "metadata": {},
   "outputs": [
    {
     "name": "stdout",
     "output_type": "stream",
     "text": [
      "Actual value 81.0 - Predicted Values :  80.34841448852329\n",
      "Actual value 41.0 - Predicted Values :  42.11145017911635\n",
      "Actual value 88.0 - Predicted Values :  89.40453761443544\n",
      "Actual value 21.0 - Predicted Values :  21.986732121533763\n",
      "Actual value 76.0 - Predicted Values :  66.26111184821548\n",
      "Actual value 60.0 - Predicted Values :  52.17380920790765\n",
      "Actual value 17.0 - Predicted Values :  7.899429481225946\n",
      "Actual value 62.0 - Predicted Values :  56.19875281942418\n",
      "Actual value 24.0 - Predicted Values :  15.949316704258983\n",
      "Actual value 54.0 - Predicted Values :  45.13015788775375\n",
      "Actual value 47.0 - Predicted Values :  48.14886559639113\n",
      "Actual value 30.0 - Predicted Values :  21.986732121533763\n",
      "Actual value 95.0 - Predicted Values :  86.38582990579806\n",
      "Actual value 20.0 - Predicted Values :  11.924373092742464\n",
      "Actual value 85.0 - Predicted Values :  74.3109990712485\n",
      "Actual value 35.0 - Predicted Values :  35.06779885896245\n",
      "Actual value 42.0 - Predicted Values :  30.036619344566795\n",
      "Actual value 30.0 - Predicted Values :  23.999203927292022\n",
      "Actual value 67.0 - Predicted Values :  58.211224625182425\n",
      "Actual value 30.0 - Predicted Values :  32.04909115032506\n"
     ]
    }
   ],
   "source": [
    "for i in range(len(y_test)):\n",
    "    print(\"Actual value\",float(y_test[i]), \"- Predicted Values : \",float(y_preds[i]))"
   ]
  },
  {
   "cell_type": "code",
   "execution_count": 14,
   "metadata": {},
   "outputs": [
    {
     "name": "stdout",
     "output_type": "stream",
     "text": [
      "r2 Score : 0.9163766666094948% Score : 0.9163766666094948\n"
     ]
    }
   ],
   "source": [
    "from sklearn.metrics import r2_score\n",
    "\n",
    "r2 = r2_score(y_test, y_preds)\n",
    "score = lr.score(X_test,y_test) # Same with r2 score.\n",
    "\n",
    "print(f\"r2 Score : {r2}%\",f\"Score : {score}\")"
   ]
  },
  {
   "cell_type": "code",
   "execution_count": 15,
   "metadata": {},
   "outputs": [],
   "source": [
    "X.shape\n",
    "X = np.array(X).reshape(-1,1)"
   ]
  },
  {
   "cell_type": "code",
   "execution_count": 17,
   "metadata": {},
   "outputs": [
    {
     "data": {
      "image/png": "[encoded data removed]",
      "text/plain": [
       "<Figure size 432x288 with 1 Axes>"
      ]
     },
     "metadata": {
      "needs_background": "light"
     },
     "output_type": "display_data"
    }
   ],
   "source": [
    "y_preds = lr.predict(X)\n",
    "\n",
    "plt.scatter(X,y);\n",
    "plt.plot(X,y_preds)\n",
    "plt.show()"
   ]
  },
  {
   "cell_type": "code",
   "execution_count": null,
   "metadata": {},
   "outputs": [],
   "source": []
  }
 ],
 "metadata": {
  "kernelspec": {
   "display_name": "Python 3.10.5 64-bit",
   "language": "python",
   "name": "python3"
  },
  "language_info": {
   "codemirror_mode": {
    "name": "ipython",
    "version": 3
   },
   "file_extension": ".py",
   "mimetype": "text/x-python",
   "name": "python",
   "nbconvert_exporter": "python",
   "pygments_lexer": "ipython3",
   "version": "3.10.5"
  },
  "orig_nbformat": 4,
  "vscode": {
   "interpreter": {
    "hash": "2d8cd8638caa719e77c3ece9ee6c9cdab6f2065d170551d375a17b4273bc3a23"
   }
  }
 },
 "nbformat": 4,
 "nbformat_minor": 2
}
