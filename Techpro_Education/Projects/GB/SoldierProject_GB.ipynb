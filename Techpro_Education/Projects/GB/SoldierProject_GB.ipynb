{
  "nbformat": 4,
  "nbformat_minor": 0,
  "metadata": {
    "colab": {
      "provenance": [],
      "machine_shape": "hm"
    },
    "kernelspec": {
      "name": "python3",
      "display_name": "Python 3"
    },
    "language_info": {
      "name": "python"
    },
    "accelerator": "GPU",
    "gpuClass": "standard"
  },
  "cells": [
    {
      "cell_type": "markdown",
      "source": [
        "# Import Libraries"
      ],
      "metadata": {
        "id": "3DHql4UaVcN8"
      }
    },
    {
      "cell_type": "code",
      "source": [
        "import numpy as np\n",
        "import pandas as pd\n",
        "\n",
        "import matplotlib.pyplot as plt\n",
        "import seaborn as sns"
      ],
      "metadata": {
        "id": "pq8e7FK4Vcm2"
      },
      "execution_count": 5,
      "outputs": []
    },
    {
      "cell_type": "markdown",
      "source": [
        "# Reading and Vieving the Dataset"
      ],
      "metadata": {
        "id": "zeeE60d8VeZe"
      }
    },
    {
      "cell_type": "code",
      "source": [
        "df_male = pd.read_csv(r\"/content/drive/MyDrive/Colab_Notebooks/Datasets/ANSUR II MALE Public.csv\",encoding='latin-1')\n",
        "\n",
        "df_female = pd.read_csv(r\"/content/drive/MyDrive/Colab_Notebooks/Datasets/ANSUR II FEMALE Public.csv\",encoding='latin-1')\n",
        "\n",
        "df = pd.concat([df_male, df_female])"
      ],
      "metadata": {
        "id": "tEhY4mn4Vewe"
      },
      "execution_count": 6,
      "outputs": []
    },
    {
      "cell_type": "code",
      "source": [
        "df.reset_index(drop=True, inplace=True)"
      ],
      "metadata": {
        "id": "i32Qo4tgVg0L"
      },
      "execution_count": 7,
      "outputs": []
    },
    {
      "cell_type": "code",
      "source": [
        "dropped = ['subjectid', \n",
        "           'SubjectNumericRace', \n",
        "           'Ethnicity', 'Heightin', \n",
        "           'Weightlbs', 'Date', \n",
        "           'Installation', 'Component', \n",
        "           'Branch', 'PrimaryMOS', \n",
        "           'SubjectId']"
      ],
      "metadata": {
        "id": "AhYF0xDHVg2x"
      },
      "execution_count": 8,
      "outputs": []
    },
    {
      "cell_type": "code",
      "source": [
        "df.drop(dropped , axis = 1 ,inplace = True)"
      ],
      "metadata": {
        "id": "TbI3tpcAVg5W"
      },
      "execution_count": 9,
      "outputs": []
    },
    {
      "cell_type": "code",
      "source": [
        "df.shape"
      ],
      "metadata": {
        "colab": {
          "base_uri": "https://localhost:8080/"
        },
        "id": "54dBbHk9Vg7s",
        "outputId": "e7bf6c1f-4251-47d9-ec08-7374be01e3a8"
      },
      "execution_count": 10,
      "outputs": [
        {
          "output_type": "execute_result",
          "data": {
            "text/plain": [
              "(6068, 98)"
            ]
          },
          "metadata": {},
          "execution_count": 10
        }
      ]
    },
    {
      "cell_type": "markdown",
      "source": [
        "## Dedecting Missing Values"
      ],
      "metadata": {
        "id": "FJIB7ZpzVuMF"
      }
    },
    {
      "cell_type": "code",
      "source": [
        "df.isna().sum().sum()"
      ],
      "metadata": {
        "colab": {
          "base_uri": "https://localhost:8080/"
        },
        "id": "nuV7xQnKVg-i",
        "outputId": "29d8094d-70fa-459b-9f41-746ae4f9176e"
      },
      "execution_count": 11,
      "outputs": [
        {
          "output_type": "execute_result",
          "data": {
            "text/plain": [
              "0"
            ]
          },
          "metadata": {},
          "execution_count": 11
        }
      ]
    },
    {
      "cell_type": "code",
      "source": [
        "df.describe().T"
      ],
      "metadata": {
        "colab": {
          "base_uri": "https://localhost:8080/",
          "height": 424
        },
        "id": "ZbNQr6H4VhBO",
        "outputId": "9017c517-dac8-4203-dc8a-e9a4651e450c"
      },
      "execution_count": 12,
      "outputs": [
        {
          "output_type": "execute_result",
          "data": {
            "text/plain": [
              "                                 count         mean         std     min  \\\n",
              "abdominalextensiondepthsitting  6068.0   246.468688   37.400106   155.0   \n",
              "acromialheight                  6068.0  1406.161338   79.091048  1115.0   \n",
              "acromionradialelength           6068.0   327.374423   20.720018   249.0   \n",
              "anklecircumference              6068.0   224.891397   16.051833   156.0   \n",
              "axillaheight                    6068.0  1299.608767   72.022286  1038.0   \n",
              "...                                ...          ...         ...     ...   \n",
              "weightkg                        6068.0   797.093935  156.528164   358.0   \n",
              "wristcircumference              6068.0   169.002966   13.124513   124.0   \n",
              "wristheight                     6068.0   830.059987   47.650519   672.0   \n",
              "DODRace                         6068.0     1.615030    0.979156     1.0   \n",
              "Age                             6068.0    29.761206    8.674650    17.0   \n",
              "\n",
              "                                   25%     50%      75%     max  \n",
              "abdominalextensiondepthsitting   219.0   242.0   271.00   451.0  \n",
              "acromialheight                  1350.0  1410.0  1462.00  1683.0  \n",
              "acromionradialelength            313.0   328.0   341.25   393.0  \n",
              "anklecircumference               214.0   225.0   235.00   293.0  \n",
              "axillaheight                    1249.0  1302.0  1349.00  1553.0  \n",
              "...                                ...     ...      ...     ...  \n",
              "weightkg                         682.0   785.0   896.00  1442.0  \n",
              "wristcircumference               159.0   170.0   179.00   216.0  \n",
              "wristheight                      797.0   830.0   863.00  1009.0  \n",
              "DODRace                            1.0     1.0     2.00     8.0  \n",
              "Age                               23.0    28.0    36.00    58.0  \n",
              "\n",
              "[95 rows x 8 columns]"
            ],
            "text/html": [
              "\n",
              "  <div id=\"df-13806df3-5126-48aa-85ac-27140231b58b\">\n",
              "    <div class=\"colab-df-container\">\n",
              "      <div>\n",
              "<style scoped>\n",
              "    .dataframe tbody tr th:only-of-type {\n",
              "        vertical-align: middle;\n",
              "    }\n",
              "\n",
              "    .dataframe tbody tr th {\n",
              "        vertical-align: top;\n",
              "    }\n",
              "\n",
              "    .dataframe thead th {\n",
              "        text-align: right;\n",
              "    }\n",
              "</style>\n",
              "<table border=\"1\" class=\"dataframe\">\n",
              "  <thead>\n",
              "    <tr style=\"text-align: right;\">\n",
              "      <th></th>\n",
              "      <th>count</th>\n",
              "      <th>mean</th>\n",
              "      <th>std</th>\n",
              "      <th>min</th>\n",
              "      <th>25%</th>\n",
              "      <th>50%</th>\n",
              "      <th>75%</th>\n",
              "      <th>max</th>\n",
              "    </tr>\n",
              "  </thead>\n",
              "  <tbody>\n",
              "    <tr>\n",
              "      <th>abdominalextensiondepthsitting</th>\n",
              "      <td>6068.0</td>\n",
              "      <td>246.468688</td>\n",
              "      <td>37.400106</td>\n",
              "      <td>155.0</td>\n",
              "      <td>219.0</td>\n",
              "      <td>242.0</td>\n",
              "      <td>271.00</td>\n",
              "      <td>451.0</td>\n",
              "    </tr>\n",
              "    <tr>\n",
              "      <th>acromialheight</th>\n",
              "      <td>6068.0</td>\n",
              "      <td>1406.161338</td>\n",
              "      <td>79.091048</td>\n",
              "      <td>1115.0</td>\n",
              "      <td>1350.0</td>\n",
              "      <td>1410.0</td>\n",
              "      <td>1462.00</td>\n",
              "      <td>1683.0</td>\n",
              "    </tr>\n",
              "    <tr>\n",
              "      <th>acromionradialelength</th>\n",
              "      <td>6068.0</td>\n",
              "      <td>327.374423</td>\n",
              "      <td>20.720018</td>\n",
              "      <td>249.0</td>\n",
              "      <td>313.0</td>\n",
              "      <td>328.0</td>\n",
              "      <td>341.25</td>\n",
              "      <td>393.0</td>\n",
              "    </tr>\n",
              "    <tr>\n",
              "      <th>anklecircumference</th>\n",
              "      <td>6068.0</td>\n",
              "      <td>224.891397</td>\n",
              "      <td>16.051833</td>\n",
              "      <td>156.0</td>\n",
              "      <td>214.0</td>\n",
              "      <td>225.0</td>\n",
              "      <td>235.00</td>\n",
              "      <td>293.0</td>\n",
              "    </tr>\n",
              "    <tr>\n",
              "      <th>axillaheight</th>\n",
              "      <td>6068.0</td>\n",
              "      <td>1299.608767</td>\n",
              "      <td>72.022286</td>\n",
              "      <td>1038.0</td>\n",
              "      <td>1249.0</td>\n",
              "      <td>1302.0</td>\n",
              "      <td>1349.00</td>\n",
              "      <td>1553.0</td>\n",
              "    </tr>\n",
              "    <tr>\n",
              "      <th>...</th>\n",
              "      <td>...</td>\n",
              "      <td>...</td>\n",
              "      <td>...</td>\n",
              "      <td>...</td>\n",
              "      <td>...</td>\n",
              "      <td>...</td>\n",
              "      <td>...</td>\n",
              "      <td>...</td>\n",
              "    </tr>\n",
              "    <tr>\n",
              "      <th>weightkg</th>\n",
              "      <td>6068.0</td>\n",
              "      <td>797.093935</td>\n",
              "      <td>156.528164</td>\n",
              "      <td>358.0</td>\n",
              "      <td>682.0</td>\n",
              "      <td>785.0</td>\n",
              "      <td>896.00</td>\n",
              "      <td>1442.0</td>\n",
              "    </tr>\n",
              "    <tr>\n",
              "      <th>wristcircumference</th>\n",
              "      <td>6068.0</td>\n",
              "      <td>169.002966</td>\n",
              "      <td>13.124513</td>\n",
              "      <td>124.0</td>\n",
              "      <td>159.0</td>\n",
              "      <td>170.0</td>\n",
              "      <td>179.00</td>\n",
              "      <td>216.0</td>\n",
              "    </tr>\n",
              "    <tr>\n",
              "      <th>wristheight</th>\n",
              "      <td>6068.0</td>\n",
              "      <td>830.059987</td>\n",
              "      <td>47.650519</td>\n",
              "      <td>672.0</td>\n",
              "      <td>797.0</td>\n",
              "      <td>830.0</td>\n",
              "      <td>863.00</td>\n",
              "      <td>1009.0</td>\n",
              "    </tr>\n",
              "    <tr>\n",
              "      <th>DODRace</th>\n",
              "      <td>6068.0</td>\n",
              "      <td>1.615030</td>\n",
              "      <td>0.979156</td>\n",
              "      <td>1.0</td>\n",
              "      <td>1.0</td>\n",
              "      <td>1.0</td>\n",
              "      <td>2.00</td>\n",
              "      <td>8.0</td>\n",
              "    </tr>\n",
              "    <tr>\n",
              "      <th>Age</th>\n",
              "      <td>6068.0</td>\n",
              "      <td>29.761206</td>\n",
              "      <td>8.674650</td>\n",
              "      <td>17.0</td>\n",
              "      <td>23.0</td>\n",
              "      <td>28.0</td>\n",
              "      <td>36.00</td>\n",
              "      <td>58.0</td>\n",
              "    </tr>\n",
              "  </tbody>\n",
              "</table>\n",
              "<p>95 rows × 8 columns</p>\n",
              "</div>\n",
              "      <button class=\"colab-df-convert\" onclick=\"convertToInteractive('df-13806df3-5126-48aa-85ac-27140231b58b')\"\n",
              "              title=\"Convert this dataframe to an interactive table.\"\n",
              "              style=\"display:none;\">\n",
              "        \n",
              "  <svg xmlns=\"http://www.w3.org/2000/svg\" height=\"24px\"viewBox=\"0 0 24 24\"\n",
              "       width=\"24px\">\n",
              "    <path d=\"M0 0h24v24H0V0z\" fill=\"none\"/>\n",
              "    <path d=\"M18.56 5.44l.94 2.06.94-2.06 2.06-.94-2.06-.94-.94-2.06-.94 2.06-2.06.94zm-11 1L8.5 8.5l.94-2.06 2.06-.94-2.06-.94L8.5 2.5l-.94 2.06-2.06.94zm10 10l.94 2.06.94-2.06 2.06-.94-2.06-.94-.94-2.06-.94 2.06-2.06.94z\"/><path d=\"M17.41 7.96l-1.37-1.37c-.4-.4-.92-.59-1.43-.59-.52 0-1.04.2-1.43.59L10.3 9.45l-7.72 7.72c-.78.78-.78 2.05 0 2.83L4 21.41c.39.39.9.59 1.41.59.51 0 1.02-.2 1.41-.59l7.78-7.78 2.81-2.81c.8-.78.8-2.07 0-2.86zM5.41 20L4 18.59l7.72-7.72 1.47 1.35L5.41 20z\"/>\n",
              "  </svg>\n",
              "      </button>\n",
              "      \n",
              "  <style>\n",
              "    .colab-df-container {\n",
              "      display:flex;\n",
              "      flex-wrap:wrap;\n",
              "      gap: 12px;\n",
              "    }\n",
              "\n",
              "    .colab-df-convert {\n",
              "      background-color: #E8F0FE;\n",
              "      border: none;\n",
              "      border-radius: 50%;\n",
              "      cursor: pointer;\n",
              "      display: none;\n",
              "      fill: #1967D2;\n",
              "      height: 32px;\n",
              "      padding: 0 0 0 0;\n",
              "      width: 32px;\n",
              "    }\n",
              "\n",
              "    .colab-df-convert:hover {\n",
              "      background-color: #E2EBFA;\n",
              "      box-shadow: 0px 1px 2px rgba(60, 64, 67, 0.3), 0px 1px 3px 1px rgba(60, 64, 67, 0.15);\n",
              "      fill: #174EA6;\n",
              "    }\n",
              "\n",
              "    [theme=dark] .colab-df-convert {\n",
              "      background-color: #3B4455;\n",
              "      fill: #D2E3FC;\n",
              "    }\n",
              "\n",
              "    [theme=dark] .colab-df-convert:hover {\n",
              "      background-color: #434B5C;\n",
              "      box-shadow: 0px 1px 3px 1px rgba(0, 0, 0, 0.15);\n",
              "      filter: drop-shadow(0px 1px 2px rgba(0, 0, 0, 0.3));\n",
              "      fill: #FFFFFF;\n",
              "    }\n",
              "  </style>\n",
              "\n",
              "      <script>\n",
              "        const buttonEl =\n",
              "          document.querySelector('#df-13806df3-5126-48aa-85ac-27140231b58b button.colab-df-convert');\n",
              "        buttonEl.style.display =\n",
              "          google.colab.kernel.accessAllowed ? 'block' : 'none';\n",
              "\n",
              "        async function convertToInteractive(key) {\n",
              "          const element = document.querySelector('#df-13806df3-5126-48aa-85ac-27140231b58b');\n",
              "          const dataTable =\n",
              "            await google.colab.kernel.invokeFunction('convertToInteractive',\n",
              "                                                     [key], {});\n",
              "          if (!dataTable) return;\n",
              "\n",
              "          const docLinkHtml = 'Like what you see? Visit the ' +\n",
              "            '<a target=\"_blank\" href=https://colab.research.google.com/notebooks/data_table.ipynb>data table notebook</a>'\n",
              "            + ' to learn more about interactive tables.';\n",
              "          element.innerHTML = '';\n",
              "          dataTable['output_type'] = 'display_data';\n",
              "          await google.colab.output.renderOutput(dataTable, element);\n",
              "          const docLink = document.createElement('div');\n",
              "          docLink.innerHTML = docLinkHtml;\n",
              "          element.appendChild(docLink);\n",
              "        }\n",
              "      </script>\n",
              "    </div>\n",
              "  </div>\n",
              "  "
            ]
          },
          "metadata": {},
          "execution_count": 12
        }
      ]
    },
    {
      "cell_type": "markdown",
      "source": [
        "## Outlier Dedection"
      ],
      "metadata": {
        "id": "ooGsyZ8cVwxC"
      }
    },
    {
      "cell_type": "code",
      "source": [
        "df.shape"
      ],
      "metadata": {
        "colab": {
          "base_uri": "https://localhost:8080/"
        },
        "id": "FRwgLkznVhDd",
        "outputId": "e2f2d937-b21c-4bad-8f1a-c542a39e6aff"
      },
      "execution_count": 13,
      "outputs": [
        {
          "output_type": "execute_result",
          "data": {
            "text/plain": [
              "(6068, 98)"
            ]
          },
          "metadata": {},
          "execution_count": 13
        }
      ]
    },
    {
      "cell_type": "code",
      "source": [
        "def outlier_deleter(df,whisker):\n",
        "  for col in df.drop('DODRace' , axis = 1).columns : \n",
        "    if df[col].dtype != 'object':\n",
        "      q3 =  np.percentile(df[col] , 75)\n",
        "      q1 =  np.percentile(df[col] , 25)\n",
        "\n",
        "      iqr = q3 - q1\n",
        "      low_lim = q1 - (whisker*iqr)\n",
        "      high_lim = q3 + (whisker*iqr)\n",
        "\n",
        "      outlier_indexes = df[ (df[col] > high_lim) | (df[col] < low_lim) ].index\n",
        "      df.drop(outlier_indexes , axis = 0 , inplace = True)\n",
        "      print(f'Total outlier {len(outlier_indexes)} in {col} column and dropped.')"
      ],
      "metadata": {
        "id": "z1fwpOnHVhGA"
      },
      "execution_count": 14,
      "outputs": []
    },
    {
      "cell_type": "code",
      "source": [
        "# outlier_deleter(df,1.5)"
      ],
      "metadata": {
        "id": "jWAE3B1aVhIo"
      },
      "execution_count": 15,
      "outputs": []
    },
    {
      "cell_type": "code",
      "source": [
        "df.shape"
      ],
      "metadata": {
        "colab": {
          "base_uri": "https://localhost:8080/"
        },
        "id": "k-RrHmMEVhLX",
        "outputId": "9ad4284d-e510-41df-969b-a5863766fa8b"
      },
      "execution_count": 16,
      "outputs": [
        {
          "output_type": "execute_result",
          "data": {
            "text/plain": [
              "(6068, 98)"
            ]
          },
          "metadata": {},
          "execution_count": 16
        }
      ]
    },
    {
      "cell_type": "code",
      "source": [
        "df.reset_index(drop=True, inplace=True)"
      ],
      "metadata": {
        "id": "KuH6dlOnVhNx"
      },
      "execution_count": 17,
      "outputs": []
    },
    {
      "cell_type": "markdown",
      "source": [
        "# Looking the Target Variable"
      ],
      "metadata": {
        "id": "prz0p7CaV7Tp"
      }
    },
    {
      "cell_type": "code",
      "source": [
        "df['DODRace'].value_counts()"
      ],
      "metadata": {
        "colab": {
          "base_uri": "https://localhost:8080/"
        },
        "id": "DP16wJ2KVhQg",
        "outputId": "dc394d05-721f-49f4-cb95-0b5b727a4e13"
      },
      "execution_count": 18,
      "outputs": [
        {
          "output_type": "execute_result",
          "data": {
            "text/plain": [
              "1    3792\n",
              "2    1298\n",
              "3     679\n",
              "4     188\n",
              "6      59\n",
              "5      49\n",
              "8       3\n",
              "Name: DODRace, dtype: int64"
            ]
          },
          "metadata": {},
          "execution_count": 18
        }
      ]
    },
    {
      "cell_type": "code",
      "source": [
        "df.drop(df[df['DODRace'] > 3].index, axis = 0, inplace=True) # We should drop some classes because there is less than 500 data. Model could'nt predict well them."
      ],
      "metadata": {
        "id": "iW5sJBKuVhTR"
      },
      "execution_count": 19,
      "outputs": []
    },
    {
      "cell_type": "code",
      "source": [
        "df.reset_index(inplace=True, drop=True)"
      ],
      "metadata": {
        "id": "knYOJJ1uVhVb"
      },
      "execution_count": 20,
      "outputs": []
    },
    {
      "cell_type": "code",
      "source": [
        "df.corr()['DODRace'].drop('DODRace').sort_values()"
      ],
      "metadata": {
        "colab": {
          "base_uri": "https://localhost:8080/"
        },
        "id": "ri4Tim0OVhYK",
        "outputId": "e51cb383-3382-44e3-88bd-9020925b7458"
      },
      "execution_count": 21,
      "outputs": [
        {
          "output_type": "execute_result",
          "data": {
            "text/plain": [
              "sittingheight           -0.324329\n",
              "eyeheightsitting        -0.319669\n",
              "wristheight             -0.267874\n",
              "stature                 -0.232736\n",
              "elbowrestheight         -0.227899\n",
              "                           ...   \n",
              "bizygomaticbreadth       0.032559\n",
              "thighcircumference       0.032906\n",
              "bitragionchinarc         0.083263\n",
              "heelbreadth              0.166804\n",
              "interpupillarybreadth    0.194548\n",
              "Name: DODRace, Length: 94, dtype: float64"
            ]
          },
          "metadata": {},
          "execution_count": 21
        }
      ]
    },
    {
      "cell_type": "code",
      "source": [
        "abs(df.corr()['DODRace'].drop('DODRace')).sort_values(ascending=False).head(10)"
      ],
      "metadata": {
        "colab": {
          "base_uri": "https://localhost:8080/"
        },
        "id": "kgAX7lg1Vhab",
        "outputId": "7e273c6d-9be2-43ab-f75d-bf8d0860e557"
      },
      "execution_count": 22,
      "outputs": [
        {
          "output_type": "execute_result",
          "data": {
            "text/plain": [
              "sittingheight             0.324329\n",
              "eyeheightsitting          0.319669\n",
              "wristheight               0.267874\n",
              "stature                   0.232736\n",
              "elbowrestheight           0.227899\n",
              "lateralmalleolusheight    0.218440\n",
              "acromialheight            0.217393\n",
              "cervicaleheight           0.215708\n",
              "waistbacklength           0.208262\n",
              "axillaheight              0.205576\n",
              "Name: DODRace, dtype: float64"
            ]
          },
          "metadata": {},
          "execution_count": 22
        }
      ]
    },
    {
      "cell_type": "code",
      "source": [
        "df.drop(abs(df.corr()['DODRace'].drop('DODRace')).sort_values(ascending=False).head(10).index , axis = 1 , inplace = True)"
      ],
      "metadata": {
        "id": "NrGZAPqaVhdJ"
      },
      "execution_count": 23,
      "outputs": []
    },
    {
      "cell_type": "code",
      "source": [
        "df['DODRace'].value_counts()"
      ],
      "metadata": {
        "colab": {
          "base_uri": "https://localhost:8080/"
        },
        "id": "x-5L1IZhVhf1",
        "outputId": "8b80358b-99fb-4ce6-9d5c-e4f3e2631292"
      },
      "execution_count": 24,
      "outputs": [
        {
          "output_type": "execute_result",
          "data": {
            "text/plain": [
              "1    3792\n",
              "2    1298\n",
              "3     679\n",
              "Name: DODRace, dtype: int64"
            ]
          },
          "metadata": {},
          "execution_count": 24
        }
      ]
    },
    {
      "cell_type": "markdown",
      "source": [
        "# Creating X and y features"
      ],
      "metadata": {
        "id": "Pwt3FH-sWFbH"
      }
    },
    {
      "cell_type": "code",
      "source": [
        "X = df.drop('DODRace',axis=1)\n",
        "# X_ohe = pd.get_dummies(df.drop('DODRace',axis=1),drop_first=True) # This might be better.\n",
        "y = df['DODRace']"
      ],
      "metadata": {
        "id": "2evouABTVhiJ"
      },
      "execution_count": 25,
      "outputs": []
    },
    {
      "cell_type": "code",
      "source": [
        "from sklearn.preprocessing import OrdinalEncoder\n",
        "from imblearn.over_sampling import SMOTE\n",
        "\n",
        "enc = OrdinalEncoder()\n",
        "\n",
        "cat = X.select_dtypes('object').columns\n",
        "\n",
        "X[cat] = enc.fit_transform(X[cat])\n",
        "\n",
        "oversample = SMOTE()\n",
        "\n",
        "X, y_smote = oversample.fit_resample(X,y) "
      ],
      "metadata": {
        "id": "6vUbio9vVhk7"
      },
      "execution_count": 26,
      "outputs": []
    },
    {
      "cell_type": "markdown",
      "source": [
        "## Handling Imbalanced Data"
      ],
      "metadata": {
        "id": "41OHBCdVeb6h"
      }
    },
    {
      "cell_type": "code",
      "source": [
        "# from imblearn.over_sampling import SMOTE\n",
        "\n",
        "# oversample = SMOTE()\n",
        "# X_ohe, y_smote = oversample.fit_resample(X_ohe, y)\n",
        "\n",
        "# This is doing oversampling."
      ],
      "metadata": {
        "id": "5YZTDoWLVhnV"
      },
      "execution_count": 27,
      "outputs": []
    },
    {
      "cell_type": "code",
      "source": [
        "# from imblearn.combine import SMOTETomek\n",
        "\n",
        "# smt = SMOTETomek(random_state=42)\n",
        "# X_ohe, y = smt.fit_resample(X_ohe, y)\n",
        "\n",
        "# It does both increment and decrement"
      ],
      "metadata": {
        "id": "B4VSdJsiVhpw"
      },
      "execution_count": 28,
      "outputs": []
    },
    {
      "cell_type": "code",
      "source": [
        "# from imblearn.combine import SMOTEENN\n",
        "\n",
        "# smt = SMOTEENN(random_state=42)\n",
        "# X_ohe, y = smt.fit_resample(X_ohe, y)"
      ],
      "metadata": {
        "id": "ia54G8izVhrx"
      },
      "execution_count": 29,
      "outputs": []
    },
    {
      "cell_type": "markdown",
      "source": [
        "## Train | Test Split"
      ],
      "metadata": {
        "id": "dWZBcG-TehZl"
      }
    },
    {
      "cell_type": "code",
      "source": [
        "from sklearn.model_selection import train_test_split\n",
        "\n",
        "X_train, X_test, y_train, y_test = train_test_split(X, y_smote, test_size = 0.15, random_state=53)"
      ],
      "metadata": {
        "id": "WQkVof1rVhub"
      },
      "execution_count": 30,
      "outputs": []
    },
    {
      "cell_type": "markdown",
      "source": [
        "## Scaling"
      ],
      "metadata": {
        "id": "0pu5EdTEej14"
      }
    },
    {
      "cell_type": "code",
      "source": [
        "# from sklearn.preprocessing import MinMaxScaler, StandardScaler\n",
        "\n",
        "# #scaler = MinMaxScaler()\n",
        "# scaler = StandardScaler()\n",
        "\n",
        "# X_train_scaled = scaler.fit_transform(X_train)\n",
        "# X_test_scaled = scaler.transform(X_test)"
      ],
      "metadata": {
        "id": "CuxT34FRVhwz"
      },
      "execution_count": 31,
      "outputs": []
    },
    {
      "cell_type": "markdown",
      "source": [
        "# Gradient Boosting"
      ],
      "metadata": {
        "id": "M-yivwlweneq"
      }
    },
    {
      "cell_type": "code",
      "source": [
        "from sklearn.ensemble import GradientBoostingClassifier\n",
        "from sklearn.model_selection import GridSearchCV"
      ],
      "metadata": {
        "id": "ZVsqq-zZVhzh"
      },
      "execution_count": 34,
      "outputs": []
    },
    {
      "cell_type": "code",
      "source": [
        "gb = GradientBoostingClassifier()"
      ],
      "metadata": {
        "id": "mhKNQKDXVh1-"
      },
      "execution_count": 35,
      "outputs": []
    },
    {
      "cell_type": "code",
      "source": [
        "params = {'n_estimators' : [80,100,150,300,500,800,1000] , 'learning_rate' : [0.1 , 0.3 , 0.5 , 0.8 , 1 , 3] , 'max_depth' : [2,3,5,8,None] }"
      ],
      "metadata": {
        "id": "WkA75FS0Vh4g"
      },
      "execution_count": 36,
      "outputs": []
    },
    {
      "cell_type": "code",
      "source": [
        "gb = GridSearchCV(gb , param_grid = params , scoring = 'accuracy' , n_jobs = -1 , verbose = 2 )\n",
        "\n",
        "gb.fit(X_train , y_train)"
      ],
      "metadata": {
        "colab": {
          "base_uri": "https://localhost:8080/"
        },
        "id": "Ki-uYhpMVh7E",
        "outputId": "53be76fc-6836-4339-941c-7edf6e37c98d"
      },
      "execution_count": 38,
      "outputs": [
        {
          "output_type": "stream",
          "name": "stdout",
          "text": [
            "Fitting 5 folds for each of 210 candidates, totalling 1050 fits\n"
          ]
        },
        {
          "output_type": "execute_result",
          "data": {
            "text/plain": [
              "GridSearchCV(estimator=GradientBoostingClassifier(), n_jobs=-1,\n",
              "             param_grid={'learning_rate': [0.1, 0.3, 0.5, 0.8, 1, 3],\n",
              "                         'max_depth': [2, 3, 5, 8, None],\n",
              "                         'n_estimators': [80, 100, 150, 300, 500, 800, 1000]},\n",
              "             scoring='accuracy', verbose=2)"
            ]
          },
          "metadata": {},
          "execution_count": 38
        }
      ]
    },
    {
      "cell_type": "code",
      "source": [
        "gb.best_score_"
      ],
      "metadata": {
        "colab": {
          "base_uri": "https://localhost:8080/"
        },
        "id": "9oBY2Kx2Vh9o",
        "outputId": "241bfc86-7572-4909-ae74-263f260a220d"
      },
      "execution_count": 39,
      "outputs": [
        {
          "output_type": "execute_result",
          "data": {
            "text/plain": [
              "0.9545969930628484"
            ]
          },
          "metadata": {},
          "execution_count": 39
        }
      ]
    },
    {
      "cell_type": "code",
      "source": [
        "gb.best_estimator_"
      ],
      "metadata": {
        "colab": {
          "base_uri": "https://localhost:8080/"
        },
        "id": "_2Qslv5tVh_8",
        "outputId": "8b8bb8bc-381c-4af2-eb08-48c37059fd8b"
      },
      "execution_count": 40,
      "outputs": [
        {
          "output_type": "execute_result",
          "data": {
            "text/plain": [
              "GradientBoostingClassifier(learning_rate=0.3, max_depth=8, n_estimators=1000)"
            ]
          },
          "metadata": {},
          "execution_count": 40
        }
      ]
    },
    {
      "cell_type": "code",
      "source": [
        "gb.best_params_"
      ],
      "metadata": {
        "colab": {
          "base_uri": "https://localhost:8080/"
        },
        "id": "nAe2aNdIViCs",
        "outputId": "c167059f-65d7-4cf7-cf2b-4176dbef3d64"
      },
      "execution_count": 41,
      "outputs": [
        {
          "output_type": "execute_result",
          "data": {
            "text/plain": [
              "{'learning_rate': 0.3, 'max_depth': 8, 'n_estimators': 1000}"
            ]
          },
          "metadata": {},
          "execution_count": 41
        }
      ]
    },
    {
      "cell_type": "code",
      "source": [
        "gb = GradientBoostingClassifier(learning_rate = 0.3 , max_depth = 8 , n_estimators = 1000 ).fit(X_train , y_train)"
      ],
      "metadata": {
        "id": "ttiVkt0hViFJ"
      },
      "execution_count": 43,
      "outputs": []
    },
    {
      "cell_type": "markdown",
      "source": [
        "# Model Evaluation"
      ],
      "metadata": {
        "id": "RRRiX5NXu_g5"
      }
    },
    {
      "cell_type": "code",
      "source": [
        "from sklearn.metrics import accuracy_score, classification_report, plot_confusion_matrix\n",
        "from sklearn.model_selection import cross_validate"
      ],
      "metadata": {
        "id": "nBjcKGflurI9"
      },
      "execution_count": 44,
      "outputs": []
    },
    {
      "cell_type": "code",
      "source": [
        "def eval_metric(model, X_train, y_train, X_test, y_test):\n",
        "    plot_confusion_matrix(model, X_test, y_test)\n",
        "    y_train_pred = model.predict(X_train)\n",
        "    y_pred = model.predict(X_test)\n",
        "    \n",
        "    print(\"Test Set\")\n",
        "    print(classification_report(y_test, y_pred), end='\\n')\n",
        "    print(\"Train Set\")\n",
        "    print(classification_report(y_train, y_train_pred))"
      ],
      "metadata": {
        "id": "JjPNZayMViH0"
      },
      "execution_count": 45,
      "outputs": []
    },
    {
      "cell_type": "code",
      "source": [
        "eval_metric(gb , X_train , y_train , X_test , y_test)"
      ],
      "metadata": {
        "colab": {
          "base_uri": "https://localhost:8080/",
          "height": 716
        },
        "id": "fG5kiaX1ViKh",
        "outputId": "af479aa4-0bb4-4aea-841d-cc1b1106585d"
      },
      "execution_count": 46,
      "outputs": [
        {
          "output_type": "stream",
          "name": "stderr",
          "text": [
            "/usr/local/lib/python3.7/dist-packages/sklearn/utils/deprecation.py:87: FutureWarning: Function plot_confusion_matrix is deprecated; Function `plot_confusion_matrix` is deprecated in 1.0 and will be removed in 1.2. Use one of the class methods: ConfusionMatrixDisplay.from_predictions or ConfusionMatrixDisplay.from_estimator.\n",
            "  warnings.warn(msg, category=FutureWarning)\n"
          ]
        },
        {
          "output_type": "stream",
          "name": "stdout",
          "text": [
            "Test Set\n",
            "              precision    recall  f1-score   support\n",
            "\n",
            "           1       0.96      0.95      0.96       585\n",
            "           2       0.98      0.97      0.98       559\n",
            "           3       0.95      0.98      0.96       563\n",
            "\n",
            "    accuracy                           0.96      1707\n",
            "   macro avg       0.97      0.97      0.96      1707\n",
            "weighted avg       0.96      0.96      0.96      1707\n",
            "\n",
            "Train Set\n",
            "              precision    recall  f1-score   support\n",
            "\n",
            "           1       1.00      1.00      1.00      3207\n",
            "           2       1.00      1.00      1.00      3233\n",
            "           3       1.00      1.00      1.00      3229\n",
            "\n",
            "    accuracy                           1.00      9669\n",
            "   macro avg       1.00      1.00      1.00      9669\n",
            "weighted avg       1.00      1.00      1.00      9669\n",
            "\n"
          ]
        },
        {
          "output_type": "display_data",
          "data": {
            "text/plain": [
              "<Figure size 432x288 with 2 Axes>"
            ],
            "image/png": "[encoded data removed]"
          },
          "metadata": {
            "needs_background": "light"
          }
        }
      ]
    },
    {
      "cell_type": "code",
      "source": [
        "gb = GradientBoostingClassifier(learning_rate = 0.3 , max_depth = 8 , n_estimators = 1000 ).fit(X_train , y_train)\n",
        "\n",
        "cross_validate(gb , X_train , y_train , cv = 5 , scoring='accuracy')['test_score'].mean()"
      ],
      "metadata": {
        "id": "y5eBwBRrvFYx"
      },
      "execution_count": null,
      "outputs": []
    },
    {
      "cell_type": "code",
      "source": [
        "# Done"
      ],
      "metadata": {
        "id": "rXmvqcLmvU-L"
      },
      "execution_count": null,
      "outputs": []
    }
  ]
}