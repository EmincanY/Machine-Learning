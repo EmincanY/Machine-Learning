{
  "nbformat": 4,
  "nbformat_minor": 0,
  "metadata": {
    "colab": {
      "provenance": [],
      "machine_shape": "hm"
    },
    "kernelspec": {
      "name": "python3",
      "display_name": "Python 3"
    },
    "language_info": {
      "name": "python"
    },
    "accelerator": "GPU"
  },
  "cells": [
    {
      "cell_type": "markdown",
      "source": [
        "# Import Libraries"
      ],
      "metadata": {
        "id": "CwK7zjmk7D1K"
      }
    },
    {
      "cell_type": "code",
      "execution_count": 1,
      "metadata": {
        "id": "URK6dp_w62eK"
      },
      "outputs": [],
      "source": [
        "import numpy as np\n",
        "import pandas as pd\n",
        "\n",
        "import matplotlib.pyplot as plt\n",
        "import seaborn as sns"
      ]
    },
    {
      "cell_type": "markdown",
      "source": [
        "# Reading and Vieving the Dataset"
      ],
      "metadata": {
        "id": "F0RzI6kx7HeO"
      }
    },
    {
      "cell_type": "code",
      "source": [
        "df_male = pd.read_csv(r\"/content/drive/MyDrive/Colab_Notebooks/Datasets/ANSUR II MALE Public.csv\",encoding='latin-1') \n",
        "\n",
        "df_female = pd.read_csv(r\"/content/drive/MyDrive/Colab_Notebooks/Datasets/ANSUR II FEMALE Public.csv\",encoding='latin-1')\n",
        "\n",
        "df = pd.concat([df_male, df_female])"
      ],
      "metadata": {
        "id": "nFq1KytJ7CU3"
      },
      "execution_count": 2,
      "outputs": []
    },
    {
      "cell_type": "code",
      "source": [
        "df.reset_index(drop=True, inplace=True)"
      ],
      "metadata": {
        "id": "nRhdDwxf7CXM"
      },
      "execution_count": 3,
      "outputs": []
    },
    {
      "cell_type": "code",
      "source": [
        "dropped = ['subjectid', \n",
        "           'SubjectNumericRace', \n",
        "           'Ethnicity', 'Heightin', \n",
        "           'Weightlbs', 'Date', \n",
        "           'Installation', 'Component', \n",
        "           'Branch', 'PrimaryMOS', \n",
        "           'SubjectId']"
      ],
      "metadata": {
        "id": "6dXdda-Q7CZw"
      },
      "execution_count": 4,
      "outputs": []
    },
    {
      "cell_type": "code",
      "source": [
        "df.drop(dropped , axis = 1 ,inplace = True)"
      ],
      "metadata": {
        "id": "pD2yV3oI7CcH"
      },
      "execution_count": 5,
      "outputs": []
    },
    {
      "cell_type": "code",
      "source": [
        "df.shape"
      ],
      "metadata": {
        "colab": {
          "base_uri": "https://localhost:8080/"
        },
        "id": "NBxub2k37Cec",
        "outputId": "706c2eec-6323-4dfd-84f5-32a6025942eb"
      },
      "execution_count": 6,
      "outputs": [
        {
          "output_type": "execute_result",
          "data": {
            "text/plain": [
              "(6068, 98)"
            ]
          },
          "metadata": {},
          "execution_count": 6
        }
      ]
    },
    {
      "cell_type": "markdown",
      "source": [
        "## Dedecting Missing Values"
      ],
      "metadata": {
        "id": "ORmopYFT7ONU"
      }
    },
    {
      "cell_type": "code",
      "source": [
        "df.isna().sum().sum()"
      ],
      "metadata": {
        "colab": {
          "base_uri": "https://localhost:8080/"
        },
        "id": "3pTgiFwA7Cgx",
        "outputId": "22c3b2c4-c9dd-49d9-d33e-7857816a5b8c"
      },
      "execution_count": 7,
      "outputs": [
        {
          "output_type": "execute_result",
          "data": {
            "text/plain": [
              "0"
            ]
          },
          "metadata": {},
          "execution_count": 7
        }
      ]
    },
    {
      "cell_type": "code",
      "source": [
        "df.describe().T"
      ],
      "metadata": {
        "colab": {
          "base_uri": "https://localhost:8080/",
          "height": 424
        },
        "id": "Sy0XhLmi7CjK",
        "outputId": "b4963c32-55ee-46b6-8b6a-a4b6446d0384"
      },
      "execution_count": 8,
      "outputs": [
        {
          "output_type": "execute_result",
          "data": {
            "text/plain": [
              "                                 count         mean         std     min  \\\n",
              "abdominalextensiondepthsitting  6068.0   246.468688   37.400106   155.0   \n",
              "acromialheight                  6068.0  1406.161338   79.091048  1115.0   \n",
              "acromionradialelength           6068.0   327.374423   20.720018   249.0   \n",
              "anklecircumference              6068.0   224.891397   16.051833   156.0   \n",
              "axillaheight                    6068.0  1299.608767   72.022286  1038.0   \n",
              "...                                ...          ...         ...     ...   \n",
              "weightkg                        6068.0   797.093935  156.528164   358.0   \n",
              "wristcircumference              6068.0   169.002966   13.124513   124.0   \n",
              "wristheight                     6068.0   830.059987   47.650519   672.0   \n",
              "DODRace                         6068.0     1.615030    0.979156     1.0   \n",
              "Age                             6068.0    29.761206    8.674650    17.0   \n",
              "\n",
              "                                   25%     50%      75%     max  \n",
              "abdominalextensiondepthsitting   219.0   242.0   271.00   451.0  \n",
              "acromialheight                  1350.0  1410.0  1462.00  1683.0  \n",
              "acromionradialelength            313.0   328.0   341.25   393.0  \n",
              "anklecircumference               214.0   225.0   235.00   293.0  \n",
              "axillaheight                    1249.0  1302.0  1349.00  1553.0  \n",
              "...                                ...     ...      ...     ...  \n",
              "weightkg                         682.0   785.0   896.00  1442.0  \n",
              "wristcircumference               159.0   170.0   179.00   216.0  \n",
              "wristheight                      797.0   830.0   863.00  1009.0  \n",
              "DODRace                            1.0     1.0     2.00     8.0  \n",
              "Age                               23.0    28.0    36.00    58.0  \n",
              "\n",
              "[95 rows x 8 columns]"
            ],
            "text/html": [
              "\n",
              "  <div id=\"df-98bf07aa-7159-430b-8b27-90be8629bc15\">\n",
              "    <div class=\"colab-df-container\">\n",
              "      <div>\n",
              "<style scoped>\n",
              "    .dataframe tbody tr th:only-of-type {\n",
              "        vertical-align: middle;\n",
              "    }\n",
              "\n",
              "    .dataframe tbody tr th {\n",
              "        vertical-align: top;\n",
              "    }\n",
              "\n",
              "    .dataframe thead th {\n",
              "        text-align: right;\n",
              "    }\n",
              "</style>\n",
              "<table border=\"1\" class=\"dataframe\">\n",
              "  <thead>\n",
              "    <tr style=\"text-align: right;\">\n",
              "      <th></th>\n",
              "      <th>count</th>\n",
              "      <th>mean</th>\n",
              "      <th>std</th>\n",
              "      <th>min</th>\n",
              "      <th>25%</th>\n",
              "      <th>50%</th>\n",
              "      <th>75%</th>\n",
              "      <th>max</th>\n",
              "    </tr>\n",
              "  </thead>\n",
              "  <tbody>\n",
              "    <tr>\n",
              "      <th>abdominalextensiondepthsitting</th>\n",
              "      <td>6068.0</td>\n",
              "      <td>246.468688</td>\n",
              "      <td>37.400106</td>\n",
              "      <td>155.0</td>\n",
              "      <td>219.0</td>\n",
              "      <td>242.0</td>\n",
              "      <td>271.00</td>\n",
              "      <td>451.0</td>\n",
              "    </tr>\n",
              "    <tr>\n",
              "      <th>acromialheight</th>\n",
              "      <td>6068.0</td>\n",
              "      <td>1406.161338</td>\n",
              "      <td>79.091048</td>\n",
              "      <td>1115.0</td>\n",
              "      <td>1350.0</td>\n",
              "      <td>1410.0</td>\n",
              "      <td>1462.00</td>\n",
              "      <td>1683.0</td>\n",
              "    </tr>\n",
              "    <tr>\n",
              "      <th>acromionradialelength</th>\n",
              "      <td>6068.0</td>\n",
              "      <td>327.374423</td>\n",
              "      <td>20.720018</td>\n",
              "      <td>249.0</td>\n",
              "      <td>313.0</td>\n",
              "      <td>328.0</td>\n",
              "      <td>341.25</td>\n",
              "      <td>393.0</td>\n",
              "    </tr>\n",
              "    <tr>\n",
              "      <th>anklecircumference</th>\n",
              "      <td>6068.0</td>\n",
              "      <td>224.891397</td>\n",
              "      <td>16.051833</td>\n",
              "      <td>156.0</td>\n",
              "      <td>214.0</td>\n",
              "      <td>225.0</td>\n",
              "      <td>235.00</td>\n",
              "      <td>293.0</td>\n",
              "    </tr>\n",
              "    <tr>\n",
              "      <th>axillaheight</th>\n",
              "      <td>6068.0</td>\n",
              "      <td>1299.608767</td>\n",
              "      <td>72.022286</td>\n",
              "      <td>1038.0</td>\n",
              "      <td>1249.0</td>\n",
              "      <td>1302.0</td>\n",
              "      <td>1349.00</td>\n",
              "      <td>1553.0</td>\n",
              "    </tr>\n",
              "    <tr>\n",
              "      <th>...</th>\n",
              "      <td>...</td>\n",
              "      <td>...</td>\n",
              "      <td>...</td>\n",
              "      <td>...</td>\n",
              "      <td>...</td>\n",
              "      <td>...</td>\n",
              "      <td>...</td>\n",
              "      <td>...</td>\n",
              "    </tr>\n",
              "    <tr>\n",
              "      <th>weightkg</th>\n",
              "      <td>6068.0</td>\n",
              "      <td>797.093935</td>\n",
              "      <td>156.528164</td>\n",
              "      <td>358.0</td>\n",
              "      <td>682.0</td>\n",
              "      <td>785.0</td>\n",
              "      <td>896.00</td>\n",
              "      <td>1442.0</td>\n",
              "    </tr>\n",
              "    <tr>\n",
              "      <th>wristcircumference</th>\n",
              "      <td>6068.0</td>\n",
              "      <td>169.002966</td>\n",
              "      <td>13.124513</td>\n",
              "      <td>124.0</td>\n",
              "      <td>159.0</td>\n",
              "      <td>170.0</td>\n",
              "      <td>179.00</td>\n",
              "      <td>216.0</td>\n",
              "    </tr>\n",
              "    <tr>\n",
              "      <th>wristheight</th>\n",
              "      <td>6068.0</td>\n",
              "      <td>830.059987</td>\n",
              "      <td>47.650519</td>\n",
              "      <td>672.0</td>\n",
              "      <td>797.0</td>\n",
              "      <td>830.0</td>\n",
              "      <td>863.00</td>\n",
              "      <td>1009.0</td>\n",
              "    </tr>\n",
              "    <tr>\n",
              "      <th>DODRace</th>\n",
              "      <td>6068.0</td>\n",
              "      <td>1.615030</td>\n",
              "      <td>0.979156</td>\n",
              "      <td>1.0</td>\n",
              "      <td>1.0</td>\n",
              "      <td>1.0</td>\n",
              "      <td>2.00</td>\n",
              "      <td>8.0</td>\n",
              "    </tr>\n",
              "    <tr>\n",
              "      <th>Age</th>\n",
              "      <td>6068.0</td>\n",
              "      <td>29.761206</td>\n",
              "      <td>8.674650</td>\n",
              "      <td>17.0</td>\n",
              "      <td>23.0</td>\n",
              "      <td>28.0</td>\n",
              "      <td>36.00</td>\n",
              "      <td>58.0</td>\n",
              "    </tr>\n",
              "  </tbody>\n",
              "</table>\n",
              "<p>95 rows × 8 columns</p>\n",
              "</div>\n",
              "      <button class=\"colab-df-convert\" onclick=\"convertToInteractive('df-98bf07aa-7159-430b-8b27-90be8629bc15')\"\n",
              "              title=\"Convert this dataframe to an interactive table.\"\n",
              "              style=\"display:none;\">\n",
              "        \n",
              "  <svg xmlns=\"http://www.w3.org/2000/svg\" height=\"24px\"viewBox=\"0 0 24 24\"\n",
              "       width=\"24px\">\n",
              "    <path d=\"M0 0h24v24H0V0z\" fill=\"none\"/>\n",
              "    <path d=\"M18.56 5.44l.94 2.06.94-2.06 2.06-.94-2.06-.94-.94-2.06-.94 2.06-2.06.94zm-11 1L8.5 8.5l.94-2.06 2.06-.94-2.06-.94L8.5 2.5l-.94 2.06-2.06.94zm10 10l.94 2.06.94-2.06 2.06-.94-2.06-.94-.94-2.06-.94 2.06-2.06.94z\"/><path d=\"M17.41 7.96l-1.37-1.37c-.4-.4-.92-.59-1.43-.59-.52 0-1.04.2-1.43.59L10.3 9.45l-7.72 7.72c-.78.78-.78 2.05 0 2.83L4 21.41c.39.39.9.59 1.41.59.51 0 1.02-.2 1.41-.59l7.78-7.78 2.81-2.81c.8-.78.8-2.07 0-2.86zM5.41 20L4 18.59l7.72-7.72 1.47 1.35L5.41 20z\"/>\n",
              "  </svg>\n",
              "      </button>\n",
              "      \n",
              "  <style>\n",
              "    .colab-df-container {\n",
              "      display:flex;\n",
              "      flex-wrap:wrap;\n",
              "      gap: 12px;\n",
              "    }\n",
              "\n",
              "    .colab-df-convert {\n",
              "      background-color: #E8F0FE;\n",
              "      border: none;\n",
              "      border-radius: 50%;\n",
              "      cursor: pointer;\n",
              "      display: none;\n",
              "      fill: #1967D2;\n",
              "      height: 32px;\n",
              "      padding: 0 0 0 0;\n",
              "      width: 32px;\n",
              "    }\n",
              "\n",
              "    .colab-df-convert:hover {\n",
              "      background-color: #E2EBFA;\n",
              "      box-shadow: 0px 1px 2px rgba(60, 64, 67, 0.3), 0px 1px 3px 1px rgba(60, 64, 67, 0.15);\n",
              "      fill: #174EA6;\n",
              "    }\n",
              "\n",
              "    [theme=dark] .colab-df-convert {\n",
              "      background-color: #3B4455;\n",
              "      fill: #D2E3FC;\n",
              "    }\n",
              "\n",
              "    [theme=dark] .colab-df-convert:hover {\n",
              "      background-color: #434B5C;\n",
              "      box-shadow: 0px 1px 3px 1px rgba(0, 0, 0, 0.15);\n",
              "      filter: drop-shadow(0px 1px 2px rgba(0, 0, 0, 0.3));\n",
              "      fill: #FFFFFF;\n",
              "    }\n",
              "  </style>\n",
              "\n",
              "      <script>\n",
              "        const buttonEl =\n",
              "          document.querySelector('#df-98bf07aa-7159-430b-8b27-90be8629bc15 button.colab-df-convert');\n",
              "        buttonEl.style.display =\n",
              "          google.colab.kernel.accessAllowed ? 'block' : 'none';\n",
              "\n",
              "        async function convertToInteractive(key) {\n",
              "          const element = document.querySelector('#df-98bf07aa-7159-430b-8b27-90be8629bc15');\n",
              "          const dataTable =\n",
              "            await google.colab.kernel.invokeFunction('convertToInteractive',\n",
              "                                                     [key], {});\n",
              "          if (!dataTable) return;\n",
              "\n",
              "          const docLinkHtml = 'Like what you see? Visit the ' +\n",
              "            '<a target=\"_blank\" href=https://colab.research.google.com/notebooks/data_table.ipynb>data table notebook</a>'\n",
              "            + ' to learn more about interactive tables.';\n",
              "          element.innerHTML = '';\n",
              "          dataTable['output_type'] = 'display_data';\n",
              "          await google.colab.output.renderOutput(dataTable, element);\n",
              "          const docLink = document.createElement('div');\n",
              "          docLink.innerHTML = docLinkHtml;\n",
              "          element.appendChild(docLink);\n",
              "        }\n",
              "      </script>\n",
              "    </div>\n",
              "  </div>\n",
              "  "
            ]
          },
          "metadata": {},
          "execution_count": 8
        }
      ]
    },
    {
      "cell_type": "markdown",
      "source": [
        "## Outlier Dedection"
      ],
      "metadata": {
        "id": "p8-Gt5Xz7UG8"
      }
    },
    {
      "cell_type": "code",
      "source": [
        "df.shape"
      ],
      "metadata": {
        "colab": {
          "base_uri": "https://localhost:8080/"
        },
        "id": "VX2kBKF67Cly",
        "outputId": "008ac432-639d-4130-b769-5edad77671ec"
      },
      "execution_count": 9,
      "outputs": [
        {
          "output_type": "execute_result",
          "data": {
            "text/plain": [
              "(6068, 98)"
            ]
          },
          "metadata": {},
          "execution_count": 9
        }
      ]
    },
    {
      "cell_type": "code",
      "source": [
        "def outlier_deleter(df,target_col , whisker):\n",
        "  for col in df.drop(target_col , axis = 1).columns : \n",
        "    if df[col].dtype != 'object':\n",
        "      q3 =  np.percentile(df[col] , 75)\n",
        "      q1 =  np.percentile(df[col] , 25)\n",
        "\n",
        "      iqr = q3 - q1\n",
        "      low_lim = q1 - (whisker*iqr)\n",
        "      high_lim = q3 + (whisker*iqr)\n",
        "\n",
        "      outlier_indexes = df[ (df[col] > high_lim) | (df[col] < low_lim) ].index\n",
        "      df.drop(outlier_indexes , axis = 0 , inplace = True)\n",
        "      print(f'Total outlier {len(outlier_indexes)} in {col} column and dropped.')"
      ],
      "metadata": {
        "id": "zc6NJFFb7CoB"
      },
      "execution_count": 10,
      "outputs": []
    },
    {
      "cell_type": "code",
      "source": [
        "outlier_deleter(df,'DODRace',1.5) # We dont use it at XGB"
      ],
      "metadata": {
        "colab": {
          "base_uri": "https://localhost:8080/"
        },
        "id": "U837Gh8v7Cqu",
        "outputId": "ac9472f7-8590-44c9-ed5f-4dc63013c096"
      },
      "execution_count": 11,
      "outputs": [
        {
          "output_type": "stream",
          "name": "stdout",
          "text": [
            "Total outlier 12 in abdominalextensiondepthsitting column and dropped.\n",
            "Total outlier 1 in acromialheight column and dropped.\n",
            "Total outlier 2 in acromionradialelength column and dropped.\n",
            "Total outlier 8 in anklecircumference column and dropped.\n",
            "Total outlier 1 in axillaheight column and dropped.\n",
            "Total outlier 1 in balloffootcircumference column and dropped.\n",
            "Total outlier 1 in balloffootlength column and dropped.\n",
            "Total outlier 1 in biacromialbreadth column and dropped.\n",
            "Total outlier 1 in bicepscircumferenceflexed column and dropped.\n",
            "Total outlier 14 in bicristalbreadth column and dropped.\n",
            "Total outlier 0 in bideltoidbreadth column and dropped.\n",
            "Total outlier 0 in bimalleolarbreadth column and dropped.\n",
            "Total outlier 4 in bitragionchinarc column and dropped.\n",
            "Total outlier 1 in bitragionsubmandibulararc column and dropped.\n",
            "Total outlier 2 in bizygomaticbreadth column and dropped.\n",
            "Total outlier 9 in buttockcircumference column and dropped.\n",
            "Total outlier 4 in buttockdepth column and dropped.\n",
            "Total outlier 8 in buttockheight column and dropped.\n",
            "Total outlier 2 in buttockkneelength column and dropped.\n",
            "Total outlier 5 in buttockpopliteallength column and dropped.\n",
            "Total outlier 7 in calfcircumference column and dropped.\n",
            "Total outlier 0 in cervicaleheight column and dropped.\n",
            "Total outlier 0 in chestbreadth column and dropped.\n",
            "Total outlier 0 in chestcircumference column and dropped.\n",
            "Total outlier 3 in chestdepth column and dropped.\n",
            "Total outlier 0 in chestheight column and dropped.\n",
            "Total outlier 1 in crotchheight column and dropped.\n",
            "Total outlier 9 in crotchlengthomphalion column and dropped.\n",
            "Total outlier 4 in crotchlengthposterioromphalion column and dropped.\n",
            "Total outlier 7 in earbreadth column and dropped.\n",
            "Total outlier 1 in earlength column and dropped.\n",
            "Total outlier 10 in earprotrusion column and dropped.\n",
            "Total outlier 3 in elbowrestheight column and dropped.\n",
            "Total outlier 0 in eyeheightsitting column and dropped.\n",
            "Total outlier 4 in footbreadthhorizontal column and dropped.\n",
            "Total outlier 0 in footlength column and dropped.\n",
            "Total outlier 0 in forearmcenterofgriplength column and dropped.\n",
            "Total outlier 0 in forearmcircumferenceflexed column and dropped.\n",
            "Total outlier 0 in forearmforearmbreadth column and dropped.\n",
            "Total outlier 0 in forearmhandlength column and dropped.\n",
            "Total outlier 1 in functionalleglength column and dropped.\n",
            "Total outlier 0 in handbreadth column and dropped.\n",
            "Total outlier 0 in handcircumference column and dropped.\n",
            "Total outlier 2 in handlength column and dropped.\n",
            "Total outlier 9 in headbreadth column and dropped.\n",
            "Total outlier 4 in headcircumference column and dropped.\n",
            "Total outlier 5 in headlength column and dropped.\n",
            "Total outlier 0 in heelanklecircumference column and dropped.\n",
            "Total outlier 17 in heelbreadth column and dropped.\n",
            "Total outlier 12 in hipbreadth column and dropped.\n",
            "Total outlier 6 in hipbreadthsitting column and dropped.\n",
            "Total outlier 0 in iliocristaleheight column and dropped.\n",
            "Total outlier 10 in interpupillarybreadth column and dropped.\n",
            "Total outlier 0 in interscyei column and dropped.\n",
            "Total outlier 0 in interscyeii column and dropped.\n",
            "Total outlier 0 in kneeheightmidpatella column and dropped.\n",
            "Total outlier 1 in kneeheightsitting column and dropped.\n",
            "Total outlier 3 in lateralfemoralepicondyleheight column and dropped.\n",
            "Total outlier 0 in lateralmalleolusheight column and dropped.\n",
            "Total outlier 7 in lowerthighcircumference column and dropped.\n",
            "Total outlier 2 in mentonsellionlength column and dropped.\n",
            "Total outlier 0 in neckcircumference column and dropped.\n",
            "Total outlier 0 in neckcircumferencebase column and dropped.\n",
            "Total outlier 0 in overheadfingertipreachsitting column and dropped.\n",
            "Total outlier 5 in palmlength column and dropped.\n",
            "Total outlier 0 in poplitealheight column and dropped.\n",
            "Total outlier 0 in radialestylionlength column and dropped.\n",
            "Total outlier 0 in shouldercircumference column and dropped.\n",
            "Total outlier 0 in shoulderelbowlength column and dropped.\n",
            "Total outlier 0 in shoulderlength column and dropped.\n",
            "Total outlier 0 in sittingheight column and dropped.\n",
            "Total outlier 0 in sleevelengthspinewrist column and dropped.\n",
            "Total outlier 0 in sleeveoutseam column and dropped.\n",
            "Total outlier 0 in span column and dropped.\n",
            "Total outlier 0 in stature column and dropped.\n",
            "Total outlier 0 in suprasternaleheight column and dropped.\n",
            "Total outlier 0 in tenthribheight column and dropped.\n",
            "Total outlier 3 in thighcircumference column and dropped.\n",
            "Total outlier 8 in thighclearance column and dropped.\n",
            "Total outlier 2 in thumbtipreach column and dropped.\n",
            "Total outlier 0 in tibialheight column and dropped.\n",
            "Total outlier 3 in tragiontopofhead column and dropped.\n",
            "Total outlier 0 in trochanterionheight column and dropped.\n",
            "Total outlier 0 in verticaltrunkcircumferenceusa column and dropped.\n",
            "Total outlier 1 in waistbacklength column and dropped.\n",
            "Total outlier 1 in waistbreadth column and dropped.\n",
            "Total outlier 0 in waistcircumference column and dropped.\n",
            "Total outlier 2 in waistdepth column and dropped.\n",
            "Total outlier 2 in waistfrontlengthsitting column and dropped.\n",
            "Total outlier 0 in waistheightomphalion column and dropped.\n",
            "Total outlier 1 in weightkg column and dropped.\n",
            "Total outlier 0 in wristcircumference column and dropped.\n",
            "Total outlier 3 in wristheight column and dropped.\n",
            "Total outlier 0 in Age column and dropped.\n"
          ]
        }
      ]
    },
    {
      "cell_type": "code",
      "source": [
        "df.shape"
      ],
      "metadata": {
        "colab": {
          "base_uri": "https://localhost:8080/"
        },
        "id": "na454CDg7CtW",
        "outputId": "47d0276d-aca3-4638-fa18-2861819f3115"
      },
      "execution_count": 12,
      "outputs": [
        {
          "output_type": "execute_result",
          "data": {
            "text/plain": [
              "(5832, 98)"
            ]
          },
          "metadata": {},
          "execution_count": 12
        }
      ]
    },
    {
      "cell_type": "code",
      "source": [
        "df.reset_index(drop=True, inplace=True)"
      ],
      "metadata": {
        "id": "6ROiKUQ07Cv0"
      },
      "execution_count": 13,
      "outputs": []
    },
    {
      "cell_type": "markdown",
      "source": [
        "## Looking the Target Variable"
      ],
      "metadata": {
        "id": "3zmMf8je7b3k"
      }
    },
    {
      "cell_type": "code",
      "source": [
        "df['DODRace'].value_counts()"
      ],
      "metadata": {
        "colab": {
          "base_uri": "https://localhost:8080/"
        },
        "id": "XdVOaXqe7Cyb",
        "outputId": "68f9b3e7-5b15-4754-e377-05c6809184f0"
      },
      "execution_count": 14,
      "outputs": [
        {
          "output_type": "execute_result",
          "data": {
            "text/plain": [
              "1    3671\n",
              "2    1221\n",
              "3     657\n",
              "4     178\n",
              "6      55\n",
              "5      47\n",
              "8       3\n",
              "Name: DODRace, dtype: int64"
            ]
          },
          "metadata": {},
          "execution_count": 14
        }
      ]
    },
    {
      "cell_type": "code",
      "source": [
        "df.drop(df[df['DODRace'] > 3].index, axis = 0, inplace=True) # We should drop some classes because there is less than 500 data. Model could'nt predict well them."
      ],
      "metadata": {
        "id": "6UicuFU67cke"
      },
      "execution_count": 15,
      "outputs": []
    },
    {
      "cell_type": "code",
      "source": [
        "df.reset_index(inplace=True, drop=True)"
      ],
      "metadata": {
        "id": "UfZPqLOL7cna"
      },
      "execution_count": 16,
      "outputs": []
    },
    {
      "cell_type": "code",
      "source": [
        "df.corr()['DODRace'].drop('DODRace').sort_values()"
      ],
      "metadata": {
        "colab": {
          "base_uri": "https://localhost:8080/"
        },
        "id": "jjsz8IsJ7cp3",
        "outputId": "b4d4d4a0-fe7c-4afd-e53e-d56745a775fe"
      },
      "execution_count": 17,
      "outputs": [
        {
          "output_type": "execute_result",
          "data": {
            "text/plain": [
              "sittingheight           -0.331822\n",
              "eyeheightsitting        -0.327002\n",
              "wristheight             -0.279864\n",
              "stature                 -0.245482\n",
              "acromialheight          -0.230845\n",
              "                           ...   \n",
              "bizygomaticbreadth       0.027560\n",
              "thighcircumference       0.029804\n",
              "bitragionchinarc         0.078338\n",
              "heelbreadth              0.160675\n",
              "interpupillarybreadth    0.187634\n",
              "Name: DODRace, Length: 94, dtype: float64"
            ]
          },
          "metadata": {},
          "execution_count": 17
        }
      ]
    },
    {
      "cell_type": "code",
      "source": [
        "abs(df.corr()['DODRace'].drop('DODRace')).sort_values(ascending=False).head(10)"
      ],
      "metadata": {
        "colab": {
          "base_uri": "https://localhost:8080/"
        },
        "id": "ok5Ss1q97csX",
        "outputId": "76fb3e6e-a315-4723-e79d-4950f7fe8af8"
      },
      "execution_count": 18,
      "outputs": [
        {
          "output_type": "execute_result",
          "data": {
            "text/plain": [
              "sittingheight             0.331822\n",
              "eyeheightsitting          0.327002\n",
              "wristheight               0.279864\n",
              "stature                   0.245482\n",
              "acromialheight            0.230845\n",
              "cervicaleheight           0.228130\n",
              "elbowrestheight           0.226857\n",
              "lateralmalleolusheight    0.224258\n",
              "axillaheight              0.219074\n",
              "suprasternaleheight       0.216861\n",
              "Name: DODRace, dtype: float64"
            ]
          },
          "metadata": {},
          "execution_count": 18
        }
      ]
    },
    {
      "cell_type": "code",
      "source": [
        "# df.drop(abs(df.corr()['DODRace'].drop('DODRace')).sort_values(ascending=False).head(3).index , axis = 1 , inplace = True)"
      ],
      "metadata": {
        "id": "ERUb2VtI7cuo"
      },
      "execution_count": 19,
      "outputs": []
    },
    {
      "cell_type": "code",
      "source": [
        "df.shape"
      ],
      "metadata": {
        "colab": {
          "base_uri": "https://localhost:8080/"
        },
        "id": "VZ8zXbTf7cxi",
        "outputId": "a7d97496-db4f-4ee5-ab3f-aa213cdfa250"
      },
      "execution_count": 20,
      "outputs": [
        {
          "output_type": "execute_result",
          "data": {
            "text/plain": [
              "(5549, 98)"
            ]
          },
          "metadata": {},
          "execution_count": 20
        }
      ]
    },
    {
      "cell_type": "code",
      "source": [
        "df['DODRace'].value_counts()"
      ],
      "metadata": {
        "colab": {
          "base_uri": "https://localhost:8080/"
        },
        "id": "g3g2YFRO7czY",
        "outputId": "e38b998b-a6cb-408f-ea49-81c6e64f72ad"
      },
      "execution_count": 21,
      "outputs": [
        {
          "output_type": "execute_result",
          "data": {
            "text/plain": [
              "1    3671\n",
              "2    1221\n",
              "3     657\n",
              "Name: DODRace, dtype: int64"
            ]
          },
          "metadata": {},
          "execution_count": 21
        }
      ]
    },
    {
      "cell_type": "markdown",
      "source": [
        "## Creating X and y features"
      ],
      "metadata": {
        "id": "qmj1RJRP7qOH"
      }
    },
    {
      "cell_type": "code",
      "source": [
        "X = df.drop('DODRace',axis=1)\n",
        "# X_ohe = pd.get_dummies(df.drop('DODRace',axis=1),drop_first=True) # This might be better.\n",
        "y = df['DODRace']"
      ],
      "metadata": {
        "id": "Fky4aRYq7c1h"
      },
      "execution_count": 22,
      "outputs": []
    },
    {
      "cell_type": "code",
      "source": [
        "from sklearn.preprocessing import OrdinalEncoder\n",
        "from imblearn.over_sampling import SMOTE\n",
        "\n",
        "enc = OrdinalEncoder()\n",
        "\n",
        "cat = X.select_dtypes('object').columns\n",
        "\n",
        "X[cat] = enc.fit_transform(X[cat])\n",
        "\n",
        "oversample = SMOTE()\n",
        "\n",
        "X, y_smote = oversample.fit_resample(X,y) "
      ],
      "metadata": {
        "id": "WvGxyS9e-USs"
      },
      "execution_count": 23,
      "outputs": []
    },
    {
      "cell_type": "markdown",
      "source": [
        "## Handling Imbalanced Data"
      ],
      "metadata": {
        "id": "kJHiQ5Os7t3A"
      }
    },
    {
      "cell_type": "code",
      "source": [
        "# from imblearn.over_sampling import SMOTE\n",
        "\n",
        "# oversample = SMOTE()\n",
        "# X_ohe, y_smote = oversample.fit_resample(X, y)\n",
        "\n",
        "# This is doing oversampling."
      ],
      "metadata": {
        "id": "ecZkzesa7c37"
      },
      "execution_count": 24,
      "outputs": []
    },
    {
      "cell_type": "code",
      "source": [
        "# from imblearn.combine import SMOTETomek\n",
        "\n",
        "# smt = SMOTETomek(random_state=42)\n",
        "# X_ohe, y = smt.fit_resample(X_ohe, y)\n",
        "\n",
        "# It does both increment and decrement"
      ],
      "metadata": {
        "id": "OQbTgcqy7c6u"
      },
      "execution_count": 25,
      "outputs": []
    },
    {
      "cell_type": "code",
      "source": [
        "# from imblearn.combine import SMOTEENN\n",
        "\n",
        "# smt = SMOTEENN(random_state=42)\n",
        "# X_ohe, y = smt.fit_resample(X_ohe, y)"
      ],
      "metadata": {
        "id": "mUCvcvsX7c9d"
      },
      "execution_count": 26,
      "outputs": []
    },
    {
      "cell_type": "markdown",
      "source": [
        "## Train | Test Split"
      ],
      "metadata": {
        "id": "0K_QYUiI_q7t"
      }
    },
    {
      "cell_type": "code",
      "source": [
        "from sklearn.model_selection import train_test_split\n",
        "\n",
        "X_train, X_test, y_train, y_test = train_test_split(X, y_smote, test_size = 0.1, random_state=53)"
      ],
      "metadata": {
        "id": "UyElgfWd_uTL"
      },
      "execution_count": 27,
      "outputs": []
    },
    {
      "cell_type": "markdown",
      "source": [
        "## Scaling"
      ],
      "metadata": {
        "id": "p_yzcoc5-XbM"
      }
    },
    {
      "cell_type": "code",
      "source": [
        "from sklearn.preprocessing import MinMaxScaler, StandardScaler\n",
        "\n",
        "#scaler = MinMaxScaler()\n",
        "scaler = StandardScaler()\n",
        "\n",
        "X_train_scaled = scaler.fit_transform(X_train)\n",
        "X_test_scaled = scaler.transform(X_test)"
      ],
      "metadata": {
        "id": "Lzd67umZ_7dm"
      },
      "execution_count": 28,
      "outputs": []
    },
    {
      "cell_type": "markdown",
      "source": [
        "# XGB Model"
      ],
      "metadata": {
        "id": "Vt6BlEm47ytt"
      }
    },
    {
      "cell_type": "code",
      "source": [
        "from xgboost import XGBClassifier\n",
        "from sklearn.model_selection import GridSearchCV"
      ],
      "metadata": {
        "id": "SQboBN-I7dAH"
      },
      "execution_count": 29,
      "outputs": []
    },
    {
      "cell_type": "code",
      "source": [
        "# xgb_vanilla = XGBClassifier()\n",
        "\n",
        "# params = {\n",
        "#     'max_depth': [2,3,5,8,12,15],\n",
        "#     'n_estimators': [80, 100,300,500,750,1000,1250],\n",
        "#     'learning_rate': [0.1,0.3,0.5,0.8,1,2]\n",
        "# }\n"
      ],
      "metadata": {
        "id": "GdvW2sSH7dDE"
      },
      "execution_count": 30,
      "outputs": []
    },
    {
      "cell_type": "code",
      "source": [
        "# xgb_grid_model = GridSearchCV(estimator = xgb_vanilla , param_grid = params , scoring = 'accuracy' , cv = 5 , n_jobs = -1 , verbose = 2 ).fit(X_train , y_train)"
      ],
      "metadata": {
        "id": "t-TS0a8w7dGh"
      },
      "execution_count": 31,
      "outputs": []
    },
    {
      "cell_type": "code",
      "source": [
        "# xgb_grid_model.best_params_"
      ],
      "metadata": {
        "id": "Mj0kK5WX7dJC"
      },
      "execution_count": 32,
      "outputs": []
    },
    {
      "cell_type": "code",
      "source": [
        "# xgb_grid_model.best_score_"
      ],
      "metadata": {
        "id": "kflVUIKy7dLP"
      },
      "execution_count": 33,
      "outputs": []
    },
    {
      "cell_type": "code",
      "source": [
        "# xgb_grid_model = XGBClassifier( n_estimators = xgb_grid_model.best_params_['n_estimators'] ,\n",
        "#                                max_depth = xgb_grid_model.best_params_['max_depth'],\n",
        "#                                learning_rate = xgb_grid_model.best_params_['learning_rate'],\n",
        "#                                n_jobs = -1 , random_state = 53).fit(X_train , y_train)"
      ],
      "metadata": {
        "id": "gcmRPdtT7dNn"
      },
      "execution_count": 34,
      "outputs": []
    },
    {
      "cell_type": "code",
      "source": [
        "xgb_grid_model = XGBClassifier( n_estimators = 800 ,\n",
        "                                max_depth = 3,\n",
        "                                learning_rate = 0.3,\n",
        "                                n_jobs = -1).fit(X_train_scaled , y_train)"
      ],
      "metadata": {
        "id": "oozmGLSa7dPk"
      },
      "execution_count": 35,
      "outputs": []
    },
    {
      "cell_type": "markdown",
      "source": [
        "## Model Evaluation"
      ],
      "metadata": {
        "id": "W-P3RFhG8aXp"
      }
    },
    {
      "cell_type": "code",
      "source": [
        "from sklearn.metrics import accuracy_score, classification_report, plot_confusion_matrix\n",
        "from sklearn.model_selection import cross_validate"
      ],
      "metadata": {
        "id": "dmm91QAJ8gim"
      },
      "execution_count": 36,
      "outputs": []
    },
    {
      "cell_type": "code",
      "source": [
        "def eval_metric(model, X_train, y_train, X_test, y_test):\n",
        "    plot_confusion_matrix(model, X_test, y_test)\n",
        "    y_train_pred = model.predict(X_train)\n",
        "    y_pred = model.predict(X_test)\n",
        "    \n",
        "    print(\"Test Set\")\n",
        "    print(classification_report(y_test, y_pred), end='\\n')\n",
        "    print(\"Train Set\")\n",
        "    print(classification_report(y_train, y_train_pred))"
      ],
      "metadata": {
        "id": "aK2hXFC28hV6"
      },
      "execution_count": 37,
      "outputs": []
    },
    {
      "cell_type": "code",
      "source": [
        "eval_metric(xgb_grid_model, X_train_scaled , y_train , X_test_scaled , y_test)"
      ],
      "metadata": {
        "colab": {
          "base_uri": "https://localhost:8080/",
          "height": 716
        },
        "id": "93JbMjpc7dRt",
        "outputId": "2b609b5d-6e63-4c2f-b517-9eb83e6692a4"
      },
      "execution_count": 38,
      "outputs": [
        {
          "output_type": "stream",
          "name": "stderr",
          "text": [
            "/usr/local/lib/python3.7/dist-packages/sklearn/utils/deprecation.py:87: FutureWarning: Function plot_confusion_matrix is deprecated; Function `plot_confusion_matrix` is deprecated in 1.0 and will be removed in 1.2. Use one of the class methods: ConfusionMatrixDisplay.from_predictions or ConfusionMatrixDisplay.from_estimator.\n",
            "  warnings.warn(msg, category=FutureWarning)\n"
          ]
        },
        {
          "output_type": "stream",
          "name": "stdout",
          "text": [
            "Test Set\n",
            "              precision    recall  f1-score   support\n",
            "\n",
            "           1       0.96      0.94      0.95       385\n",
            "           2       0.98      0.98      0.98       365\n",
            "           3       0.95      0.96      0.95       352\n",
            "\n",
            "    accuracy                           0.96      1102\n",
            "   macro avg       0.96      0.96      0.96      1102\n",
            "weighted avg       0.96      0.96      0.96      1102\n",
            "\n",
            "Train Set\n",
            "              precision    recall  f1-score   support\n",
            "\n",
            "           1       1.00      1.00      1.00      3286\n",
            "           2       1.00      1.00      1.00      3306\n",
            "           3       1.00      1.00      1.00      3319\n",
            "\n",
            "    accuracy                           1.00      9911\n",
            "   macro avg       1.00      1.00      1.00      9911\n",
            "weighted avg       1.00      1.00      1.00      9911\n",
            "\n"
          ]
        },
        {
          "output_type": "display_data",
          "data": {
            "text/plain": [
              "<Figure size 432x288 with 2 Axes>"
            ],
            "image/png": "[encoded data removed]"
          },
          "metadata": {
            "needs_background": "light"
          }
        }
      ]
    },
    {
      "cell_type": "code",
      "source": [
        "xgb_grid_model = XGBClassifier( n_estimators = 800 ,\n",
        "                                max_depth = 3,\n",
        "                                learning_rate = 0.3,\n",
        "                                n_jobs = -1)\n",
        "\n",
        "cross_validate(xgb_grid_model , X_train_scaled , y_train , cv = 5 , scoring = 'accuracy')['test_score'].mean()"
      ],
      "metadata": {
        "colab": {
          "base_uri": "https://localhost:8080/"
        },
        "id": "N6a9ZeQXAe_7",
        "outputId": "a3745c2f-b679-49f3-cf67-237f64f44d0f"
      },
      "execution_count": 39,
      "outputs": [
        {
          "output_type": "execute_result",
          "data": {
            "text/plain": [
              "0.9517700148538053"
            ]
          },
          "metadata": {},
          "execution_count": 39
        }
      ]
    },
    {
      "cell_type": "code",
      "source": [
        "# Done"
      ],
      "metadata": {
        "id": "QJxJuxS38Uxh"
      },
      "execution_count": 40,
      "outputs": []
    }
  ]
}