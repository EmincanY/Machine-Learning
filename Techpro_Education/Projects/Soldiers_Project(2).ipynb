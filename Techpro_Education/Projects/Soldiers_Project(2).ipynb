{
  "cells": [
    {
      "cell_type": "markdown",
      "metadata": {
        "id": "SqGHMzRXgru5"
      },
      "source": [
        "<p style=\"text-align: center;\"><img src=\"https://lms.techproeducation.com/pluginfile.php/1/theme_edumy/headerlogo2/1663129929/logo.png\" class=\"img-fluid\" alt=\"CLRSWY\"></p>"
      ]
    },
    {
      "cell_type": "markdown",
      "metadata": {
        "id": "gSuBXv2ygru7"
      },
      "source": [
        "# WELCOME!"
      ]
    },
    {
      "cell_type": "markdown",
      "metadata": {
        "id": "v5Vh4Atfgru8"
      },
      "source": [
        "In this project, you must apply EDA processes for the development of predictive models. Handling outliers, domain knowledge and feature engineering will be challenges.\n",
        "\n",
        "Also, this project aims to improve your ability to implement algorithms for Multi-Class Classification. Thus, you will have the opportunity to implement many algorithms commonly used for Multi-Class Classification problems.\n",
        "\n",
        "Before diving into the project, please take a look at the determines and tasks."
      ]
    },
    {
      "cell_type": "markdown",
      "metadata": {
        "id": "GKKhB2gvgru8"
      },
      "source": [
        "# Determines"
      ]
    },
    {
      "cell_type": "markdown",
      "metadata": {
        "id": "c7NDTilvgru8"
      },
      "source": [
        "The 2012 US Army Anthropometric Survey (ANSUR II) was executed by the Natick Soldier Research, Development and Engineering Center (NSRDEC) from October 2010 to April 2012 and is comprised of personnel representing the total US Army force to include the US Army Active Duty, Reserves, and National Guard. In addition to the anthropometric and demographic data described below, the ANSUR II database also consists of 3D whole body, foot, and head scans of Soldier participants. These 3D data are not publicly available out of respect for the privacy of ANSUR II participants. The data from this survey are used for a wide range of equipment design, sizing, and tariffing applications within the military and has many potential commercial, industrial, and academic applications.\n",
        "\n",
        "The ANSUR II working databases contain 93 anthropometric measurements which were directly measured, and 15 demographic/administrative variables explained below. The ANSUR II Male working database contains a total sample of 4,082 subjects. The ANSUR II Female working database contains a total sample of 1,986 subjects.\n",
        "\n",
        "\n",
        "DATA DICT:\n",
        "https://data.world/datamil/ansur-ii-data-dictionary/workspace/file?filename=ANSUR+II+Databases+Overview.pdf\n",
        "\n",
        "---\n",
        "\n",
        "To achieve high prediction success, you must understand the data well and develop different approaches that can affect the dependent variable.\n",
        "\n",
        "Firstly, try to understand the dataset column by column using pandas module. Do research within the scope of domain (body scales, and race characteristics) knowledge on the internet to get to know the data set in the fastest way. \n",
        "\n",
        "You will implement ***Logistic Regression, Support Vector Machine, XGBoost, Random Forest*** algorithms. Also, evaluate the success of your models with appropriate performance metrics.\n",
        "\n",
        "At the end of the project, choose the most successful model and try to enhance the scores with ***SMOTE*** make it ready to deploy. Furthermore, use ***SHAP*** to explain how the best model you choose works."
      ]
    },
    {
      "cell_type": "markdown",
      "metadata": {
        "id": "xPO5jENRgru9"
      },
      "source": [
        "# Tasks"
      ]
    },
    {
      "cell_type": "markdown",
      "metadata": {
        "id": "tQFsD_Njgru9"
      },
      "source": [
        "#### 1. Exploratory Data Analysis (EDA)\n",
        "- Import Libraries, Load Dataset, Exploring Data\n",
        "\n",
        "    *i. Import Libraries*\n",
        "    \n",
        "    *ii. Ingest Data *\n",
        "    \n",
        "    *iii. Explore Data*\n",
        "    \n",
        "    *iv. Outlier Detection*\n",
        "    \n",
        "    *v.  Drop unnecessary features*\n",
        "\n",
        "#### 2. Data Preprocessing\n",
        "- Scale (if needed)\n",
        "- Separete the data frame for evaluation purposes\n",
        "\n",
        "#### 3. Multi-class Classification\n",
        "- Import libraries\n",
        "- Implement SVM Classifer\n",
        "- Implement Decision Tree Classifier\n",
        "- Implement Random Forest Classifer\n",
        "- Implement XGBoost Classifer\n",
        "- Compare The Models\n",
        "\n"
      ]
    },
    {
      "cell_type": "markdown",
      "metadata": {
        "id": "wYmkoT2xgru-"
      },
      "source": [
        "# EDA\n",
        "- Drop unnecessary colums\n",
        "- Drop DODRace class if value count below 500 (we assume that our data model can't learn if it is below 500)"
      ]
    },
    {
      "cell_type": "markdown",
      "metadata": {
        "id": "455HpR0Kgru-"
      },
      "source": [
        "## Import Libraries\n",
        "Besides Numpy and Pandas, you need to import the necessary modules for data visualization, data preprocessing, Model building and tuning.\n",
        "\n",
        "*Note: Check out the course materials.*"
      ]
    },
    {
      "cell_type": "code",
      "execution_count": 1,
      "metadata": {
        "id": "QwO25CF0qhwb"
      },
      "outputs": [],
      "source": [
        "# import pyforest\n",
        "# import plotly\n",
        "# import cufflinks as cf\n",
        "# #Enabling the offline mode for interactive plotting locally\n",
        "# from plotly.offline import download_plotlyjs,init_notebook_mode,plot,iplot\n",
        "# init_notebook_mode(connected=True)\n",
        "# cf.go_offline()\n",
        "# #To display the plots\n",
        "# %matplotlib inline\n",
        "# import warnings\n",
        "# warnings.filterwarnings('ignore')\n",
        "# from sklearn.preprocessing import MinMaxScaler\n",
        "# from sklearn.linear_model import LogisticRegression\n",
        "# from sklearn.model_selection import cross_val_score, cross_validate\n",
        "# from sklearn.metrics import accuracy_score, f1_score, recall_score, precision_score\n",
        "# from sklearn.metrics import make_scorer\n",
        "# from sklearn.metrics import classification_report,confusion_matrix,plot_confusion_matrix\n",
        "# from sklearn.model_selection import GridSearchCV\n",
        "# from sklearn.metrics import roc_curve, auc\n",
        "# from sklearn.svm import SVC\n",
        "# from sklearn.ensemble import RandomForestClassifier\n",
        "# from xgboost import XGBClassifier\n",
        "\n",
        "# pd.set_option('display.max_rows', 1000)\n",
        "# pd.set_option('display.max_columns', 1000)\n",
        "# pd.set_option('display.width', 1000)"
      ]
    },
    {
      "cell_type": "markdown",
      "metadata": {
        "id": "8rCWw8uHgru_"
      },
      "source": [
        "## Ingest Data from links below and make a dataframe\n",
        "- Soldiers Male : https://query.data.world/s/h3pbhckz5ck4rc7qmt2wlknlnn7esr\n",
        "- Soldiers Female : https://query.data.world/s/sq27zz4hawg32yfxksqwijxmpwmynq"
      ]
    },
    {
      "cell_type": "markdown",
      "metadata": {
        "id": "Y5-Kay1Eqvdj"
      },
      "source": [
        "# EDA\n",
        "- Drop unnecessary colums\n",
        "- Drop DODRace class if value count below 500 (we assume that our data model can't learn if it is below 500)"
      ]
    },
    {
      "cell_type": "code",
      "execution_count": 2,
      "metadata": {
        "colab": {
          "base_uri": "https://localhost:8080/"
        },
        "id": "VT9TMQd5lZnC",
        "outputId": "fe89085c-e07b-4fb0-df42-a360563147aa"
      },
      "outputs": [
        {
          "output_type": "stream",
          "name": "stdout",
          "text": [
            "Sun Oct 16 08:40:51 2022       \n",
            "+-----------------------------------------------------------------------------+\n",
            "| NVIDIA-SMI 460.32.03    Driver Version: 460.32.03    CUDA Version: 11.2     |\n",
            "|-------------------------------+----------------------+----------------------+\n",
            "| GPU  Name        Persistence-M| Bus-Id        Disp.A | Volatile Uncorr. ECC |\n",
            "| Fan  Temp  Perf  Pwr:Usage/Cap|         Memory-Usage | GPU-Util  Compute M. |\n",
            "|                               |                      |               MIG M. |\n",
            "|===============================+======================+======================|\n",
            "|   0  Tesla T4            Off  | 00000000:00:04.0 Off |                    0 |\n",
            "| N/A   41C    P8     9W /  70W |      0MiB / 15109MiB |      0%      Default |\n",
            "|                               |                      |                  N/A |\n",
            "+-------------------------------+----------------------+----------------------+\n",
            "                                                                               \n",
            "+-----------------------------------------------------------------------------+\n",
            "| Processes:                                                                  |\n",
            "|  GPU   GI   CI        PID   Type   Process name                  GPU Memory |\n",
            "|        ID   ID                                                   Usage      |\n",
            "|=============================================================================|\n",
            "|  No running processes found                                                 |\n",
            "+-----------------------------------------------------------------------------+\n"
          ]
        }
      ],
      "source": [
        "gpu_info = !nvidia-smi\n",
        "gpu_info = '\\n'.join(gpu_info)\n",
        "if gpu_info.find('failed') >= 0:\n",
        "  print('Not connected to a GPU')\n",
        "else:\n",
        "  print(gpu_info)"
      ]
    },
    {
      "cell_type": "code",
      "execution_count": 3,
      "metadata": {
        "colab": {
          "base_uri": "https://localhost:8080/"
        },
        "id": "okUZJqUZlivp",
        "outputId": "5ecd8bb7-605e-4be0-8fd0-5a6496c1e362"
      },
      "outputs": [
        {
          "output_type": "stream",
          "name": "stdout",
          "text": [
            "Your runtime has 27.3 gigabytes of available RAM\n",
            "\n",
            "You are using a high-RAM runtime!\n"
          ]
        }
      ],
      "source": [
        "\n",
        "from psutil import virtual_memory\n",
        "ram_gb = virtual_memory().total / 1e9\n",
        "print('Your runtime has {:.1f} gigabytes of available RAM\\n'.format(ram_gb))\n",
        "\n",
        "if ram_gb < 20:\n",
        "  print('Not using a high-RAM runtime')\n",
        "else:\n",
        "  print('You are using a high-RAM runtime!')"
      ]
    },
    {
      "cell_type": "code",
      "execution_count": 4,
      "metadata": {
        "id": "endS2_Rngru_"
      },
      "outputs": [],
      "source": [
        "import numpy as np\n",
        "import pandas as pd\n",
        "\n",
        "import matplotlib.pyplot as plt\n",
        "import seaborn as sns"
      ]
    },
    {
      "cell_type": "code",
      "execution_count": 5,
      "metadata": {
        "id": "IBfKFYGCgru_"
      },
      "outputs": [],
      "source": [
        "df_male = pd.read_csv(\"ANSUR II MALE Public.csv\",encoding='latin-1')\n",
        "\n",
        "df_female = pd.read_csv(\"ANSUR II FEMALE Public.csv\",encoding='latin-1')"
      ]
    },
    {
      "cell_type": "code",
      "execution_count": 6,
      "metadata": {
        "id": "590JVaGRgrvA"
      },
      "outputs": [],
      "source": [
        "df = pd.concat([df_male, df_female])"
      ]
    },
    {
      "cell_type": "code",
      "execution_count": 7,
      "metadata": {
        "id": "5KQTbom3grvA"
      },
      "outputs": [],
      "source": [
        "dropped = ['subjectid', 'SubjectNumericRace', 'Ethnicity', 'Heightin', 'Weightlbs', 'Date', 'Installation', 'Component', 'Branch', 'PrimaryMOS', 'SubjectId']"
      ]
    },
    {
      "cell_type": "code",
      "execution_count": 8,
      "metadata": {
        "id": "J0bAmxeLgrvA"
      },
      "outputs": [],
      "source": [
        "df.reset_index(drop=True, inplace=True)"
      ]
    },
    {
      "cell_type": "code",
      "execution_count": 9,
      "metadata": {
        "id": "wSOgjzMygrvB"
      },
      "outputs": [],
      "source": [
        "df.drop(dropped , axis = 1 ,inplace = True)"
      ]
    },
    {
      "cell_type": "code",
      "execution_count": 10,
      "metadata": {
        "colab": {
          "base_uri": "https://localhost:8080/"
        },
        "id": "LCvC5N-7grvB",
        "outputId": "751e0771-a4ba-4596-b052-572a81da4d9f"
      },
      "outputs": [
        {
          "output_type": "execute_result",
          "data": {
            "text/plain": [
              "(6068, 98)"
            ]
          },
          "metadata": {},
          "execution_count": 10
        }
      ],
      "source": [
        "df.shape"
      ]
    },
    {
      "cell_type": "code",
      "execution_count": 11,
      "metadata": {
        "colab": {
          "base_uri": "https://localhost:8080/"
        },
        "id": "8KoR1JRUgrvB",
        "outputId": "9955a613-30ee-409d-d46e-3e16cd392f19"
      },
      "outputs": [
        {
          "output_type": "execute_result",
          "data": {
            "text/plain": [
              "0"
            ]
          },
          "metadata": {},
          "execution_count": 11
        }
      ],
      "source": [
        "df.isna().sum().sum()"
      ]
    },
    {
      "cell_type": "code",
      "execution_count": 12,
      "metadata": {
        "colab": {
          "base_uri": "https://localhost:8080/",
          "height": 424
        },
        "id": "FI1vBvTGgrvB",
        "outputId": "fa1f7390-51af-4df4-f19a-b601300c19a8"
      },
      "outputs": [
        {
          "output_type": "execute_result",
          "data": {
            "text/plain": [
              "                                 count         mean         std     min  \\\n",
              "abdominalextensiondepthsitting  6068.0   246.468688   37.400106   155.0   \n",
              "acromialheight                  6068.0  1406.161338   79.091048  1115.0   \n",
              "acromionradialelength           6068.0   327.374423   20.720018   249.0   \n",
              "anklecircumference              6068.0   224.891397   16.051833   156.0   \n",
              "axillaheight                    6068.0  1299.608767   72.022286  1038.0   \n",
              "...                                ...          ...         ...     ...   \n",
              "weightkg                        6068.0   797.093935  156.528164   358.0   \n",
              "wristcircumference              6068.0   169.002966   13.124513   124.0   \n",
              "wristheight                     6068.0   830.059987   47.650519   672.0   \n",
              "DODRace                         6068.0     1.615030    0.979156     1.0   \n",
              "Age                             6068.0    29.761206    8.674650    17.0   \n",
              "\n",
              "                                   25%     50%      75%     max  \n",
              "abdominalextensiondepthsitting   219.0   242.0   271.00   451.0  \n",
              "acromialheight                  1350.0  1410.0  1462.00  1683.0  \n",
              "acromionradialelength            313.0   328.0   341.25   393.0  \n",
              "anklecircumference               214.0   225.0   235.00   293.0  \n",
              "axillaheight                    1249.0  1302.0  1349.00  1553.0  \n",
              "...                                ...     ...      ...     ...  \n",
              "weightkg                         682.0   785.0   896.00  1442.0  \n",
              "wristcircumference               159.0   170.0   179.00   216.0  \n",
              "wristheight                      797.0   830.0   863.00  1009.0  \n",
              "DODRace                            1.0     1.0     2.00     8.0  \n",
              "Age                               23.0    28.0    36.00    58.0  \n",
              "\n",
              "[95 rows x 8 columns]"
            ],
            "text/html": [
              "\n",
              "  <div id=\"df-602914a1-fcd7-4c32-b2aa-0349b99d7761\">\n",
              "    <div class=\"colab-df-container\">\n",
              "      <div>\n",
              "<style scoped>\n",
              "    .dataframe tbody tr th:only-of-type {\n",
              "        vertical-align: middle;\n",
              "    }\n",
              "\n",
              "    .dataframe tbody tr th {\n",
              "        vertical-align: top;\n",
              "    }\n",
              "\n",
              "    .dataframe thead th {\n",
              "        text-align: right;\n",
              "    }\n",
              "</style>\n",
              "<table border=\"1\" class=\"dataframe\">\n",
              "  <thead>\n",
              "    <tr style=\"text-align: right;\">\n",
              "      <th></th>\n",
              "      <th>count</th>\n",
              "      <th>mean</th>\n",
              "      <th>std</th>\n",
              "      <th>min</th>\n",
              "      <th>25%</th>\n",
              "      <th>50%</th>\n",
              "      <th>75%</th>\n",
              "      <th>max</th>\n",
              "    </tr>\n",
              "  </thead>\n",
              "  <tbody>\n",
              "    <tr>\n",
              "      <th>abdominalextensiondepthsitting</th>\n",
              "      <td>6068.0</td>\n",
              "      <td>246.468688</td>\n",
              "      <td>37.400106</td>\n",
              "      <td>155.0</td>\n",
              "      <td>219.0</td>\n",
              "      <td>242.0</td>\n",
              "      <td>271.00</td>\n",
              "      <td>451.0</td>\n",
              "    </tr>\n",
              "    <tr>\n",
              "      <th>acromialheight</th>\n",
              "      <td>6068.0</td>\n",
              "      <td>1406.161338</td>\n",
              "      <td>79.091048</td>\n",
              "      <td>1115.0</td>\n",
              "      <td>1350.0</td>\n",
              "      <td>1410.0</td>\n",
              "      <td>1462.00</td>\n",
              "      <td>1683.0</td>\n",
              "    </tr>\n",
              "    <tr>\n",
              "      <th>acromionradialelength</th>\n",
              "      <td>6068.0</td>\n",
              "      <td>327.374423</td>\n",
              "      <td>20.720018</td>\n",
              "      <td>249.0</td>\n",
              "      <td>313.0</td>\n",
              "      <td>328.0</td>\n",
              "      <td>341.25</td>\n",
              "      <td>393.0</td>\n",
              "    </tr>\n",
              "    <tr>\n",
              "      <th>anklecircumference</th>\n",
              "      <td>6068.0</td>\n",
              "      <td>224.891397</td>\n",
              "      <td>16.051833</td>\n",
              "      <td>156.0</td>\n",
              "      <td>214.0</td>\n",
              "      <td>225.0</td>\n",
              "      <td>235.00</td>\n",
              "      <td>293.0</td>\n",
              "    </tr>\n",
              "    <tr>\n",
              "      <th>axillaheight</th>\n",
              "      <td>6068.0</td>\n",
              "      <td>1299.608767</td>\n",
              "      <td>72.022286</td>\n",
              "      <td>1038.0</td>\n",
              "      <td>1249.0</td>\n",
              "      <td>1302.0</td>\n",
              "      <td>1349.00</td>\n",
              "      <td>1553.0</td>\n",
              "    </tr>\n",
              "    <tr>\n",
              "      <th>...</th>\n",
              "      <td>...</td>\n",
              "      <td>...</td>\n",
              "      <td>...</td>\n",
              "      <td>...</td>\n",
              "      <td>...</td>\n",
              "      <td>...</td>\n",
              "      <td>...</td>\n",
              "      <td>...</td>\n",
              "    </tr>\n",
              "    <tr>\n",
              "      <th>weightkg</th>\n",
              "      <td>6068.0</td>\n",
              "      <td>797.093935</td>\n",
              "      <td>156.528164</td>\n",
              "      <td>358.0</td>\n",
              "      <td>682.0</td>\n",
              "      <td>785.0</td>\n",
              "      <td>896.00</td>\n",
              "      <td>1442.0</td>\n",
              "    </tr>\n",
              "    <tr>\n",
              "      <th>wristcircumference</th>\n",
              "      <td>6068.0</td>\n",
              "      <td>169.002966</td>\n",
              "      <td>13.124513</td>\n",
              "      <td>124.0</td>\n",
              "      <td>159.0</td>\n",
              "      <td>170.0</td>\n",
              "      <td>179.00</td>\n",
              "      <td>216.0</td>\n",
              "    </tr>\n",
              "    <tr>\n",
              "      <th>wristheight</th>\n",
              "      <td>6068.0</td>\n",
              "      <td>830.059987</td>\n",
              "      <td>47.650519</td>\n",
              "      <td>672.0</td>\n",
              "      <td>797.0</td>\n",
              "      <td>830.0</td>\n",
              "      <td>863.00</td>\n",
              "      <td>1009.0</td>\n",
              "    </tr>\n",
              "    <tr>\n",
              "      <th>DODRace</th>\n",
              "      <td>6068.0</td>\n",
              "      <td>1.615030</td>\n",
              "      <td>0.979156</td>\n",
              "      <td>1.0</td>\n",
              "      <td>1.0</td>\n",
              "      <td>1.0</td>\n",
              "      <td>2.00</td>\n",
              "      <td>8.0</td>\n",
              "    </tr>\n",
              "    <tr>\n",
              "      <th>Age</th>\n",
              "      <td>6068.0</td>\n",
              "      <td>29.761206</td>\n",
              "      <td>8.674650</td>\n",
              "      <td>17.0</td>\n",
              "      <td>23.0</td>\n",
              "      <td>28.0</td>\n",
              "      <td>36.00</td>\n",
              "      <td>58.0</td>\n",
              "    </tr>\n",
              "  </tbody>\n",
              "</table>\n",
              "<p>95 rows × 8 columns</p>\n",
              "</div>\n",
              "      <button class=\"colab-df-convert\" onclick=\"convertToInteractive('df-602914a1-fcd7-4c32-b2aa-0349b99d7761')\"\n",
              "              title=\"Convert this dataframe to an interactive table.\"\n",
              "              style=\"display:none;\">\n",
              "        \n",
              "  <svg xmlns=\"http://www.w3.org/2000/svg\" height=\"24px\"viewBox=\"0 0 24 24\"\n",
              "       width=\"24px\">\n",
              "    <path d=\"M0 0h24v24H0V0z\" fill=\"none\"/>\n",
              "    <path d=\"M18.56 5.44l.94 2.06.94-2.06 2.06-.94-2.06-.94-.94-2.06-.94 2.06-2.06.94zm-11 1L8.5 8.5l.94-2.06 2.06-.94-2.06-.94L8.5 2.5l-.94 2.06-2.06.94zm10 10l.94 2.06.94-2.06 2.06-.94-2.06-.94-.94-2.06-.94 2.06-2.06.94z\"/><path d=\"M17.41 7.96l-1.37-1.37c-.4-.4-.92-.59-1.43-.59-.52 0-1.04.2-1.43.59L10.3 9.45l-7.72 7.72c-.78.78-.78 2.05 0 2.83L4 21.41c.39.39.9.59 1.41.59.51 0 1.02-.2 1.41-.59l7.78-7.78 2.81-2.81c.8-.78.8-2.07 0-2.86zM5.41 20L4 18.59l7.72-7.72 1.47 1.35L5.41 20z\"/>\n",
              "  </svg>\n",
              "      </button>\n",
              "      \n",
              "  <style>\n",
              "    .colab-df-container {\n",
              "      display:flex;\n",
              "      flex-wrap:wrap;\n",
              "      gap: 12px;\n",
              "    }\n",
              "\n",
              "    .colab-df-convert {\n",
              "      background-color: #E8F0FE;\n",
              "      border: none;\n",
              "      border-radius: 50%;\n",
              "      cursor: pointer;\n",
              "      display: none;\n",
              "      fill: #1967D2;\n",
              "      height: 32px;\n",
              "      padding: 0 0 0 0;\n",
              "      width: 32px;\n",
              "    }\n",
              "\n",
              "    .colab-df-convert:hover {\n",
              "      background-color: #E2EBFA;\n",
              "      box-shadow: 0px 1px 2px rgba(60, 64, 67, 0.3), 0px 1px 3px 1px rgba(60, 64, 67, 0.15);\n",
              "      fill: #174EA6;\n",
              "    }\n",
              "\n",
              "    [theme=dark] .colab-df-convert {\n",
              "      background-color: #3B4455;\n",
              "      fill: #D2E3FC;\n",
              "    }\n",
              "\n",
              "    [theme=dark] .colab-df-convert:hover {\n",
              "      background-color: #434B5C;\n",
              "      box-shadow: 0px 1px 3px 1px rgba(0, 0, 0, 0.15);\n",
              "      filter: drop-shadow(0px 1px 2px rgba(0, 0, 0, 0.3));\n",
              "      fill: #FFFFFF;\n",
              "    }\n",
              "  </style>\n",
              "\n",
              "      <script>\n",
              "        const buttonEl =\n",
              "          document.querySelector('#df-602914a1-fcd7-4c32-b2aa-0349b99d7761 button.colab-df-convert');\n",
              "        buttonEl.style.display =\n",
              "          google.colab.kernel.accessAllowed ? 'block' : 'none';\n",
              "\n",
              "        async function convertToInteractive(key) {\n",
              "          const element = document.querySelector('#df-602914a1-fcd7-4c32-b2aa-0349b99d7761');\n",
              "          const dataTable =\n",
              "            await google.colab.kernel.invokeFunction('convertToInteractive',\n",
              "                                                     [key], {});\n",
              "          if (!dataTable) return;\n",
              "\n",
              "          const docLinkHtml = 'Like what you see? Visit the ' +\n",
              "            '<a target=\"_blank\" href=https://colab.research.google.com/notebooks/data_table.ipynb>data table notebook</a>'\n",
              "            + ' to learn more about interactive tables.';\n",
              "          element.innerHTML = '';\n",
              "          dataTable['output_type'] = 'display_data';\n",
              "          await google.colab.output.renderOutput(dataTable, element);\n",
              "          const docLink = document.createElement('div');\n",
              "          docLink.innerHTML = docLinkHtml;\n",
              "          element.appendChild(docLink);\n",
              "        }\n",
              "      </script>\n",
              "    </div>\n",
              "  </div>\n",
              "  "
            ]
          },
          "metadata": {},
          "execution_count": 12
        }
      ],
      "source": [
        "df.describe().T"
      ]
    },
    {
      "cell_type": "code",
      "execution_count": 13,
      "metadata": {
        "id": "TnwS6c75grvC"
      },
      "outputs": [],
      "source": [
        "# for col in df.describe() :\n",
        "#     if df.describe()[col]['std'] > df.describe()[col]['mean'] : \n",
        "#         print(col)"
      ]
    },
    {
      "cell_type": "code",
      "execution_count": 14,
      "metadata": {
        "id": "8Aj1I328grvC"
      },
      "outputs": [],
      "source": [
        "# for col in df.columns : \n",
        "#     if df[col].dtype != 'object':\n",
        "#         fig = plt.figure()\n",
        "#         sns.boxplot(data = df , y = df[col] , whis=3)"
      ]
    },
    {
      "cell_type": "code",
      "execution_count": 15,
      "metadata": {
        "id": "m9CQhcj0grvC"
      },
      "outputs": [],
      "source": [
        "# def remove_outlier(df, col):\n",
        "#     q1 = df[col].quantile(0.25)\n",
        "#     q3 = df[col].quantile(0.75)\n",
        "#     iqr = q3 - q1 \n",
        "#     low_limit  = q1-1.5*iqr\n",
        "#     high_limit = q3+1.5*iqr\n",
        "#     df = df.loc[(df[col] > low_limit) & (df[col] < high_limit)]\n",
        "#     return df"
      ]
    },
    {
      "cell_type": "code",
      "execution_count": 16,
      "metadata": {
        "id": "BAXWZr-PgrvC"
      },
      "outputs": [],
      "source": [
        "# for col in df.columns : \n",
        "#     remove_outlier(df,col)"
      ]
    },
    {
      "cell_type": "code",
      "execution_count": 17,
      "metadata": {
        "id": "8MlxZIB2grvC"
      },
      "outputs": [],
      "source": [
        "# remove_outlier(df , 'abdominalextensiondepthsitting')"
      ]
    },
    {
      "cell_type": "code",
      "execution_count": 18,
      "metadata": {
        "id": "BnFBVd8-grvC"
      },
      "outputs": [],
      "source": [
        "df.drop(df[df['DODRace'] > 3].index , axis = 0 , inplace = True)"
      ]
    },
    {
      "cell_type": "code",
      "execution_count": 19,
      "metadata": {
        "colab": {
          "base_uri": "https://localhost:8080/"
        },
        "id": "hTTwqXLXgrvD",
        "outputId": "9ec31fe7-ec2c-4103-cb2e-9db1722188c9"
      },
      "outputs": [
        {
          "output_type": "execute_result",
          "data": {
            "text/plain": [
              "(5769, 98)"
            ]
          },
          "metadata": {},
          "execution_count": 19
        }
      ],
      "source": [
        "df.shape"
      ]
    },
    {
      "cell_type": "markdown",
      "metadata": {
        "id": "CS5-GZy0sl4s"
      },
      "source": [
        "# DATA Preprocessing\n",
        "- In this step we divide our data to X(Features) and y(Target) then ,\n",
        "- To train and evaluation purposes we create train and test sets,\n",
        "- Lastly, scale our data if features not in same scale. Why?"
      ]
    },
    {
      "cell_type": "code",
      "execution_count": 20,
      "metadata": {
        "id": "ARtnhH0tgrvD"
      },
      "outputs": [],
      "source": [
        "X_ohe = pd.get_dummies(df.drop('DODRace' , axis = 1) , drop_first = True) # Get dummies might be better.\n",
        "X = df.drop('DODRace' , axis = 1) # Or this.\n",
        "y = df['DODRace']"
      ]
    },
    {
      "cell_type": "code",
      "execution_count": 21,
      "metadata": {
        "colab": {
          "base_uri": "https://localhost:8080/"
        },
        "id": "e2UH2dc1grvD",
        "outputId": "eb60363d-8d5a-40db-d542-2f03690f99d9"
      },
      "outputs": [
        {
          "output_type": "execute_result",
          "data": {
            "text/plain": [
              "Gender  SubjectsBirthLocation  WritingPreference          \n",
              "Male    New York               Right hand                     272\n",
              "        California             Right hand                     241\n",
              "        Texas                  Right hand                     229\n",
              "        Indiana                Right hand                     183\n",
              "        Oklahoma               Right hand                     149\n",
              "                                                             ... \n",
              "        Mississippi            Either hand (No preference)      1\n",
              "Female  United Kingdom         Left hand                        1\n",
              "        Venezuela              Right hand                       1\n",
              "Male    Mexico                 Left hand                        1\n",
              "        Bolivia                Right hand                       1\n",
              "Length: 357, dtype: int64"
            ]
          },
          "metadata": {},
          "execution_count": 21
        }
      ],
      "source": [
        "X.select_dtypes('object').value_counts()"
      ]
    },
    {
      "cell_type": "code",
      "execution_count": 22,
      "metadata": {
        "id": "1jL_2GoRgrvE"
      },
      "outputs": [],
      "source": [
        "from sklearn.model_selection import train_test_split"
      ]
    },
    {
      "cell_type": "code",
      "execution_count": 23,
      "metadata": {
        "id": "llzoxCLHgrvE"
      },
      "outputs": [],
      "source": [
        "X_train , X_test , y_train , y_test = train_test_split(X_ohe,y, test_size = 0.2 , random_state = 53) # I'll give X_ohe first. Then I'll give only X."
      ]
    },
    {
      "cell_type": "code",
      "execution_count": 24,
      "metadata": {
        "id": "Wgu1ioRggrvE"
      },
      "outputs": [],
      "source": [
        "from sklearn.preprocessing import MinMaxScaler\n",
        "\n",
        "scaler = MinMaxScaler()\n",
        "\n",
        "X_train_scaled = scaler.fit_transform(X_train)\n",
        "X_test_scaled = scaler.transform(X_test)"
      ]
    },
    {
      "cell_type": "code",
      "execution_count": 25,
      "metadata": {
        "id": "fCLnrfkzgrvE"
      },
      "outputs": [],
      "source": [
        "# Scale always better."
      ]
    },
    {
      "cell_type": "markdown",
      "metadata": {
        "id": "zfi_NOw0s2fM"
      },
      "source": [
        "# Modelling\n",
        "- Fit the model with train dataset\n",
        "- Get predict from vanilla model on both train and test sets to examine if there is over/underfitting   \n",
        "- Apply GridseachCV for both hyperparemeter tuning and sanity test of our model.\n",
        "- Use hyperparameters that you find from gridsearch and make final prediction and evaluate the result according to chosen metric."
      ]
    },
    {
      "cell_type": "markdown",
      "metadata": {
        "id": "oxApCr1XgrvF"
      },
      "source": [
        "## 1. Logistic model"
      ]
    },
    {
      "cell_type": "markdown",
      "metadata": {
        "id": "v8CAvXk3grvF"
      },
      "source": [
        "### Vanilla Logistic Model"
      ]
    },
    {
      "cell_type": "markdown",
      "metadata": {
        "id": "WVxhDWhJgrvF"
      },
      "source": [
        "Vanilla modelin anlami; default degerler ile model kurulmasidir."
      ]
    },
    {
      "cell_type": "code",
      "execution_count": 26,
      "metadata": {
        "id": "aw5ITz7ugrvF",
        "colab": {
          "base_uri": "https://localhost:8080/"
        },
        "outputId": "ae8ad462-13fd-4f73-c26c-9ae930c6006e"
      },
      "outputs": [
        {
          "output_type": "execute_result",
          "data": {
            "text/plain": [
              "LogisticRegression(class_weight='balanced', max_iter=10000, random_state=53,\n",
              "                   solver='liblinear')"
            ]
          },
          "metadata": {},
          "execution_count": 26
        }
      ],
      "source": [
        "from sklearn.linear_model import LogisticRegression\n",
        "\n",
        "log_model = LogisticRegression(random_state=53, class_weight='balanced', solver='liblinear', max_iter=10000)\n",
        "\n",
        "log_model.fit(X_train_scaled,y_train)"
      ]
    },
    {
      "cell_type": "code",
      "execution_count": 27,
      "metadata": {
        "id": "gBxE3xcsgrvF"
      },
      "outputs": [],
      "source": [
        "from sklearn.metrics import confusion_matrix , classification_report , accuracy_score , plot_confusion_matrix"
      ]
    },
    {
      "cell_type": "code",
      "execution_count": 28,
      "metadata": {
        "id": "gjWAPsrDgrvF"
      },
      "outputs": [],
      "source": [
        "log_y_train_pred = log_model.predict(X_train_scaled)\n",
        "log_y_pred = log_model.predict(X_test_scaled)"
      ]
    },
    {
      "cell_type": "code",
      "execution_count": 29,
      "metadata": {
        "id": "pogG_JZfgrvG"
      },
      "outputs": [],
      "source": [
        "def eval_metric(model, X_train, y_train, X_test, y_test):\n",
        "    \n",
        "    y_train_pred = model.predict(X_train)\n",
        "    y_pred = model.predict(X_test)\n",
        "    \n",
        "    print(\"Test_Set\")\n",
        "    print(confusion_matrix(y_test, y_pred))\n",
        "    print(classification_report(y_test, y_pred))\n",
        "    print(plot_confusion_matrix(model,X_test,y_test))\n",
        "    \n",
        "    print()\n",
        "    \n",
        "    print(\"Train_Set\")\n",
        "    print(confusion_matrix(y_train, y_train_pred))\n",
        "    print(classification_report(y_train, y_train_pred))\n",
        "    print(plot_confusion_matrix(model,X_train,y_train))\n"
      ]
    },
    {
      "cell_type": "code",
      "execution_count": 30,
      "metadata": {
        "colab": {
          "base_uri": "https://localhost:8080/",
          "height": 1000
        },
        "id": "flesVVokgrvG",
        "outputId": "3408f735-e29b-4322-d36a-922173aa3725"
      },
      "outputs": [
        {
          "output_type": "stream",
          "name": "stdout",
          "text": [
            "Test_Set\n",
            "[[683  17  29]\n",
            " [ 18 255   5]\n",
            " [ 40  11  96]]\n",
            "              precision    recall  f1-score   support\n",
            "\n",
            "           1       0.92      0.94      0.93       729\n",
            "           2       0.90      0.92      0.91       278\n",
            "           3       0.74      0.65      0.69       147\n",
            "\n",
            "    accuracy                           0.90      1154\n",
            "   macro avg       0.85      0.84      0.84      1154\n",
            "weighted avg       0.89      0.90      0.89      1154\n",
            "\n",
            "<sklearn.metrics._plot.confusion_matrix.ConfusionMatrixDisplay object at 0x7f2418b9f150>\n",
            "\n",
            "Train_Set\n",
            "[[2870   47  146]\n",
            " [  50  949   21]\n",
            " [ 141   28  363]]\n",
            "              precision    recall  f1-score   support\n",
            "\n",
            "           1       0.94      0.94      0.94      3063\n",
            "           2       0.93      0.93      0.93      1020\n",
            "           3       0.68      0.68      0.68       532\n",
            "\n",
            "    accuracy                           0.91      4615\n",
            "   macro avg       0.85      0.85      0.85      4615\n",
            "weighted avg       0.91      0.91      0.91      4615\n",
            "\n",
            "<sklearn.metrics._plot.confusion_matrix.ConfusionMatrixDisplay object at 0x7f2415278f90>\n"
          ]
        },
        {
          "output_type": "stream",
          "name": "stderr",
          "text": [
            "/usr/local/lib/python3.7/dist-packages/sklearn/utils/deprecation.py:87: FutureWarning: Function plot_confusion_matrix is deprecated; Function `plot_confusion_matrix` is deprecated in 1.0 and will be removed in 1.2. Use one of the class methods: ConfusionMatrixDisplay.from_predictions or ConfusionMatrixDisplay.from_estimator.\n",
            "  warnings.warn(msg, category=FutureWarning)\n",
            "/usr/local/lib/python3.7/dist-packages/sklearn/utils/deprecation.py:87: FutureWarning: Function plot_confusion_matrix is deprecated; Function `plot_confusion_matrix` is deprecated in 1.0 and will be removed in 1.2. Use one of the class methods: ConfusionMatrixDisplay.from_predictions or ConfusionMatrixDisplay.from_estimator.\n",
            "  warnings.warn(msg, category=FutureWarning)\n"
          ]
        },
        {
          "output_type": "display_data",
          "data": {
            "text/plain": [
              "<Figure size 432x288 with 2 Axes>"
            ],
            "image/png": "[encoded data removed]"
          },
          "metadata": {
            "needs_background": "light"
          }
        },
        {
          "output_type": "display_data",
          "data": {
            "text/plain": [
              "<Figure size 432x288 with 2 Axes>"
            ],
            "image/png": "[encoded data removed]"
          },
          "metadata": {
            "needs_background": "light"
          }
        }
      ],
      "source": [
        "eval_metric(log_model , X_train_scaled , y_train , X_test_scaled , y_test)"
      ]
    },
    {
      "cell_type": "code",
      "execution_count": 31,
      "metadata": {
        "id": "cKarCLZPgrvG"
      },
      "outputs": [],
      "source": [
        "# from sklearn.metrics import roc_auc_score , precision_recall_curve , plot_roc_curve , plot_precision_recall_curve # sklearn"
      ]
    },
    {
      "cell_type": "code",
      "execution_count": 32,
      "metadata": {
        "id": "7Gesfcg4grvG"
      },
      "outputs": [],
      "source": [
        "from sklearn.metrics import roc_curve, precision_recall_curve , auc\n",
        "from sklearn.model_selection import cross_validate"
      ]
    },
    {
      "cell_type": "code",
      "execution_count": 33,
      "metadata": {
        "id": "JXYwI3LXgrvG"
      },
      "outputs": [],
      "source": [
        "def plot_multiclass_roc(clf, X_test, y_test, n_classes, figsize=(5,5)):\n",
        "    y_score = clf.decision_function(X_test)\n",
        "\n",
        "    # structures\n",
        "    fpr = dict()\n",
        "    tpr = dict()\n",
        "    roc_auc = dict()\n",
        "\n",
        "    # calculate dummies once\n",
        "    y_test_dummies = pd.get_dummies(y_test, drop_first=False).values\n",
        "    for i in range(n_classes):\n",
        "        fpr[i], tpr[i], _ = roc_curve(y_test_dummies[:, i], y_score[:, i])\n",
        "        roc_auc[i] = auc(fpr[i], tpr[i])\n",
        "\n",
        "    # roc for each class\n",
        "    fig, ax = plt.subplots(figsize=figsize)\n",
        "    ax.plot([0, 1], [0, 1], 'k--')\n",
        "    ax.set_xlim([0.0, 1.0])\n",
        "    ax.set_ylim([0.0, 1.05])\n",
        "    ax.set_xlabel('False Positive Rate')\n",
        "    ax.set_ylabel('True Positive Rate')\n",
        "    ax.set_title('Receiver operating characteristic example')\n",
        "    for i in range(n_classes):\n",
        "        ax.plot(fpr[i], tpr[i], label='ROC curve (area = %0.2f) for label %i' % (roc_auc[i], i))\n",
        "    ax.legend(loc=\"best\")\n",
        "    ax.grid(alpha=.4)\n",
        "    sns.despine()\n",
        "    plt.show()"
      ]
    },
    {
      "cell_type": "code",
      "execution_count": 34,
      "metadata": {
        "colab": {
          "base_uri": "https://localhost:8080/",
          "height": 350
        },
        "id": "J-X0O-0TgrvG",
        "outputId": "3e88a213-049e-4656-bb85-1f9f00eea7da"
      },
      "outputs": [
        {
          "output_type": "display_data",
          "data": {
            "text/plain": [
              "<Figure size 360x360 with 1 Axes>"
            ],
            "image/png": "[encoded data removed]"
          },
          "metadata": {
            "needs_background": "light"
          }
        }
      ],
      "source": [
        "plot_multiclass_roc(log_model , X_train_scaled , y_train , 3 )"
      ]
    },
    {
      "cell_type": "code",
      "execution_count": 35,
      "metadata": {
        "id": "jmql1By6grvG"
      },
      "outputs": [],
      "source": [
        "log_train_scores = cross_validate(log_model , X_train_scaled , y_train , scoring = 'accuracy' , cv = 5 )\n",
        "log_test_scores = cross_validate(log_model , X_test_scaled , y_test , scoring = 'accuracy' , cv = 5  )"
      ]
    },
    {
      "cell_type": "code",
      "execution_count": 36,
      "metadata": {
        "id": "bAU0yVS-64LH"
      },
      "outputs": [],
      "source": [
        "log_train_scores = pd.DataFrame(log_train_scores)"
      ]
    },
    {
      "cell_type": "code",
      "execution_count": 37,
      "metadata": {
        "id": "-a8sWZxT-BvU"
      },
      "outputs": [],
      "source": [
        "scores = pd.DataFrame(log_train_scores.mean()[2:] , columns = ['log_train'])"
      ]
    },
    {
      "cell_type": "code",
      "execution_count": 38,
      "metadata": {
        "colab": {
          "base_uri": "https://localhost:8080/",
          "height": 81
        },
        "id": "fLBEwu9Q_I40",
        "outputId": "1b01fa5e-0320-472f-f5be-71ad4c8d4a24"
      },
      "outputs": [
        {
          "output_type": "execute_result",
          "data": {
            "text/plain": [
              "            log_train\n",
              "test_score   0.891874"
            ],
            "text/html": [
              "\n",
              "  <div id=\"df-05c7107f-a0c0-439c-b101-4074024f4567\">\n",
              "    <div class=\"colab-df-container\">\n",
              "      <div>\n",
              "<style scoped>\n",
              "    .dataframe tbody tr th:only-of-type {\n",
              "        vertical-align: middle;\n",
              "    }\n",
              "\n",
              "    .dataframe tbody tr th {\n",
              "        vertical-align: top;\n",
              "    }\n",
              "\n",
              "    .dataframe thead th {\n",
              "        text-align: right;\n",
              "    }\n",
              "</style>\n",
              "<table border=\"1\" class=\"dataframe\">\n",
              "  <thead>\n",
              "    <tr style=\"text-align: right;\">\n",
              "      <th></th>\n",
              "      <th>log_train</th>\n",
              "    </tr>\n",
              "  </thead>\n",
              "  <tbody>\n",
              "    <tr>\n",
              "      <th>test_score</th>\n",
              "      <td>0.891874</td>\n",
              "    </tr>\n",
              "  </tbody>\n",
              "</table>\n",
              "</div>\n",
              "      <button class=\"colab-df-convert\" onclick=\"convertToInteractive('df-05c7107f-a0c0-439c-b101-4074024f4567')\"\n",
              "              title=\"Convert this dataframe to an interactive table.\"\n",
              "              style=\"display:none;\">\n",
              "        \n",
              "  <svg xmlns=\"http://www.w3.org/2000/svg\" height=\"24px\"viewBox=\"0 0 24 24\"\n",
              "       width=\"24px\">\n",
              "    <path d=\"M0 0h24v24H0V0z\" fill=\"none\"/>\n",
              "    <path d=\"M18.56 5.44l.94 2.06.94-2.06 2.06-.94-2.06-.94-.94-2.06-.94 2.06-2.06.94zm-11 1L8.5 8.5l.94-2.06 2.06-.94-2.06-.94L8.5 2.5l-.94 2.06-2.06.94zm10 10l.94 2.06.94-2.06 2.06-.94-2.06-.94-.94-2.06-.94 2.06-2.06.94z\"/><path d=\"M17.41 7.96l-1.37-1.37c-.4-.4-.92-.59-1.43-.59-.52 0-1.04.2-1.43.59L10.3 9.45l-7.72 7.72c-.78.78-.78 2.05 0 2.83L4 21.41c.39.39.9.59 1.41.59.51 0 1.02-.2 1.41-.59l7.78-7.78 2.81-2.81c.8-.78.8-2.07 0-2.86zM5.41 20L4 18.59l7.72-7.72 1.47 1.35L5.41 20z\"/>\n",
              "  </svg>\n",
              "      </button>\n",
              "      \n",
              "  <style>\n",
              "    .colab-df-container {\n",
              "      display:flex;\n",
              "      flex-wrap:wrap;\n",
              "      gap: 12px;\n",
              "    }\n",
              "\n",
              "    .colab-df-convert {\n",
              "      background-color: #E8F0FE;\n",
              "      border: none;\n",
              "      border-radius: 50%;\n",
              "      cursor: pointer;\n",
              "      display: none;\n",
              "      fill: #1967D2;\n",
              "      height: 32px;\n",
              "      padding: 0 0 0 0;\n",
              "      width: 32px;\n",
              "    }\n",
              "\n",
              "    .colab-df-convert:hover {\n",
              "      background-color: #E2EBFA;\n",
              "      box-shadow: 0px 1px 2px rgba(60, 64, 67, 0.3), 0px 1px 3px 1px rgba(60, 64, 67, 0.15);\n",
              "      fill: #174EA6;\n",
              "    }\n",
              "\n",
              "    [theme=dark] .colab-df-convert {\n",
              "      background-color: #3B4455;\n",
              "      fill: #D2E3FC;\n",
              "    }\n",
              "\n",
              "    [theme=dark] .colab-df-convert:hover {\n",
              "      background-color: #434B5C;\n",
              "      box-shadow: 0px 1px 3px 1px rgba(0, 0, 0, 0.15);\n",
              "      filter: drop-shadow(0px 1px 2px rgba(0, 0, 0, 0.3));\n",
              "      fill: #FFFFFF;\n",
              "    }\n",
              "  </style>\n",
              "\n",
              "      <script>\n",
              "        const buttonEl =\n",
              "          document.querySelector('#df-05c7107f-a0c0-439c-b101-4074024f4567 button.colab-df-convert');\n",
              "        buttonEl.style.display =\n",
              "          google.colab.kernel.accessAllowed ? 'block' : 'none';\n",
              "\n",
              "        async function convertToInteractive(key) {\n",
              "          const element = document.querySelector('#df-05c7107f-a0c0-439c-b101-4074024f4567');\n",
              "          const dataTable =\n",
              "            await google.colab.kernel.invokeFunction('convertToInteractive',\n",
              "                                                     [key], {});\n",
              "          if (!dataTable) return;\n",
              "\n",
              "          const docLinkHtml = 'Like what you see? Visit the ' +\n",
              "            '<a target=\"_blank\" href=https://colab.research.google.com/notebooks/data_table.ipynb>data table notebook</a>'\n",
              "            + ' to learn more about interactive tables.';\n",
              "          element.innerHTML = '';\n",
              "          dataTable['output_type'] = 'display_data';\n",
              "          await google.colab.output.renderOutput(dataTable, element);\n",
              "          const docLink = document.createElement('div');\n",
              "          docLink.innerHTML = docLinkHtml;\n",
              "          element.appendChild(docLink);\n",
              "        }\n",
              "      </script>\n",
              "    </div>\n",
              "  </div>\n",
              "  "
            ]
          },
          "metadata": {},
          "execution_count": 38
        }
      ],
      "source": [
        "scores"
      ]
    },
    {
      "cell_type": "code",
      "execution_count": 39,
      "metadata": {
        "id": "uBza_Z5h7Jkp"
      },
      "outputs": [],
      "source": [
        "log_test_scores = pd.DataFrame(log_test_scores)"
      ]
    },
    {
      "cell_type": "code",
      "execution_count": 40,
      "metadata": {
        "id": "5uFH43gA7Usc"
      },
      "outputs": [],
      "source": [
        "scores = pd.concat([scores,pd.DataFrame(log_test_scores.mean()[2:] , columns = ['log_test'])] , axis = 1)"
      ]
    },
    {
      "cell_type": "code",
      "execution_count": 41,
      "metadata": {
        "colab": {
          "base_uri": "https://localhost:8080/",
          "height": 81
        },
        "id": "d5by7aZb9tQ0",
        "outputId": "edd3dbb3-3ce5-4b38-a1e9-f1b2a0ea6298"
      },
      "outputs": [
        {
          "output_type": "execute_result",
          "data": {
            "text/plain": [
              "            log_train  log_test\n",
              "test_score   0.891874  0.875185"
            ],
            "text/html": [
              "\n",
              "  <div id=\"df-daf6f5eb-9304-4927-ab2b-5432c9b22dc7\">\n",
              "    <div class=\"colab-df-container\">\n",
              "      <div>\n",
              "<style scoped>\n",
              "    .dataframe tbody tr th:only-of-type {\n",
              "        vertical-align: middle;\n",
              "    }\n",
              "\n",
              "    .dataframe tbody tr th {\n",
              "        vertical-align: top;\n",
              "    }\n",
              "\n",
              "    .dataframe thead th {\n",
              "        text-align: right;\n",
              "    }\n",
              "</style>\n",
              "<table border=\"1\" class=\"dataframe\">\n",
              "  <thead>\n",
              "    <tr style=\"text-align: right;\">\n",
              "      <th></th>\n",
              "      <th>log_train</th>\n",
              "      <th>log_test</th>\n",
              "    </tr>\n",
              "  </thead>\n",
              "  <tbody>\n",
              "    <tr>\n",
              "      <th>test_score</th>\n",
              "      <td>0.891874</td>\n",
              "      <td>0.875185</td>\n",
              "    </tr>\n",
              "  </tbody>\n",
              "</table>\n",
              "</div>\n",
              "      <button class=\"colab-df-convert\" onclick=\"convertToInteractive('df-daf6f5eb-9304-4927-ab2b-5432c9b22dc7')\"\n",
              "              title=\"Convert this dataframe to an interactive table.\"\n",
              "              style=\"display:none;\">\n",
              "        \n",
              "  <svg xmlns=\"http://www.w3.org/2000/svg\" height=\"24px\"viewBox=\"0 0 24 24\"\n",
              "       width=\"24px\">\n",
              "    <path d=\"M0 0h24v24H0V0z\" fill=\"none\"/>\n",
              "    <path d=\"M18.56 5.44l.94 2.06.94-2.06 2.06-.94-2.06-.94-.94-2.06-.94 2.06-2.06.94zm-11 1L8.5 8.5l.94-2.06 2.06-.94-2.06-.94L8.5 2.5l-.94 2.06-2.06.94zm10 10l.94 2.06.94-2.06 2.06-.94-2.06-.94-.94-2.06-.94 2.06-2.06.94z\"/><path d=\"M17.41 7.96l-1.37-1.37c-.4-.4-.92-.59-1.43-.59-.52 0-1.04.2-1.43.59L10.3 9.45l-7.72 7.72c-.78.78-.78 2.05 0 2.83L4 21.41c.39.39.9.59 1.41.59.51 0 1.02-.2 1.41-.59l7.78-7.78 2.81-2.81c.8-.78.8-2.07 0-2.86zM5.41 20L4 18.59l7.72-7.72 1.47 1.35L5.41 20z\"/>\n",
              "  </svg>\n",
              "      </button>\n",
              "      \n",
              "  <style>\n",
              "    .colab-df-container {\n",
              "      display:flex;\n",
              "      flex-wrap:wrap;\n",
              "      gap: 12px;\n",
              "    }\n",
              "\n",
              "    .colab-df-convert {\n",
              "      background-color: #E8F0FE;\n",
              "      border: none;\n",
              "      border-radius: 50%;\n",
              "      cursor: pointer;\n",
              "      display: none;\n",
              "      fill: #1967D2;\n",
              "      height: 32px;\n",
              "      padding: 0 0 0 0;\n",
              "      width: 32px;\n",
              "    }\n",
              "\n",
              "    .colab-df-convert:hover {\n",
              "      background-color: #E2EBFA;\n",
              "      box-shadow: 0px 1px 2px rgba(60, 64, 67, 0.3), 0px 1px 3px 1px rgba(60, 64, 67, 0.15);\n",
              "      fill: #174EA6;\n",
              "    }\n",
              "\n",
              "    [theme=dark] .colab-df-convert {\n",
              "      background-color: #3B4455;\n",
              "      fill: #D2E3FC;\n",
              "    }\n",
              "\n",
              "    [theme=dark] .colab-df-convert:hover {\n",
              "      background-color: #434B5C;\n",
              "      box-shadow: 0px 1px 3px 1px rgba(0, 0, 0, 0.15);\n",
              "      filter: drop-shadow(0px 1px 2px rgba(0, 0, 0, 0.3));\n",
              "      fill: #FFFFFF;\n",
              "    }\n",
              "  </style>\n",
              "\n",
              "      <script>\n",
              "        const buttonEl =\n",
              "          document.querySelector('#df-daf6f5eb-9304-4927-ab2b-5432c9b22dc7 button.colab-df-convert');\n",
              "        buttonEl.style.display =\n",
              "          google.colab.kernel.accessAllowed ? 'block' : 'none';\n",
              "\n",
              "        async function convertToInteractive(key) {\n",
              "          const element = document.querySelector('#df-daf6f5eb-9304-4927-ab2b-5432c9b22dc7');\n",
              "          const dataTable =\n",
              "            await google.colab.kernel.invokeFunction('convertToInteractive',\n",
              "                                                     [key], {});\n",
              "          if (!dataTable) return;\n",
              "\n",
              "          const docLinkHtml = 'Like what you see? Visit the ' +\n",
              "            '<a target=\"_blank\" href=https://colab.research.google.com/notebooks/data_table.ipynb>data table notebook</a>'\n",
              "            + ' to learn more about interactive tables.';\n",
              "          element.innerHTML = '';\n",
              "          dataTable['output_type'] = 'display_data';\n",
              "          await google.colab.output.renderOutput(dataTable, element);\n",
              "          const docLink = document.createElement('div');\n",
              "          docLink.innerHTML = docLinkHtml;\n",
              "          element.appendChild(docLink);\n",
              "        }\n",
              "      </script>\n",
              "    </div>\n",
              "  </div>\n",
              "  "
            ]
          },
          "metadata": {},
          "execution_count": 41
        }
      ],
      "source": [
        "scores"
      ]
    },
    {
      "cell_type": "markdown",
      "metadata": {
        "id": "nEBKzYR1grvH"
      },
      "source": [
        "## Lojistic Regression solver \"liblinear\" for small dataset"
      ]
    },
    {
      "cell_type": "markdown",
      "metadata": {
        "id": "XbvcNLyAgrvH"
      },
      "source": [
        "__liblenear__ kucuk datasetlerinde iyi sonuclar verir. Dikkat edilmesi gereken husus; liblinear sadece __penalty=\"l1\"__ ile calisir, yoksa hata verir."
      ]
    },
    {
      "cell_type": "code",
      "execution_count": 42,
      "metadata": {
        "id": "sU6os-GlgrvH"
      },
      "outputs": [],
      "source": [
        "from sklearn.model_selection import GridSearchCV"
      ]
    },
    {
      "cell_type": "code",
      "execution_count": 43,
      "metadata": {
        "id": "v0OQBAczgrvH"
      },
      "outputs": [],
      "source": [
        "log_grid_model = LogisticRegression(random_state=53 , class_weight='balanced' , max_iter=10000)"
      ]
    },
    {
      "cell_type": "code",
      "execution_count": 44,
      "metadata": {
        "id": "Q-j1TBOfgrvH"
      },
      "outputs": [],
      "source": [
        "# param_grid = {'C' : [1 , 3 ,5 , 8 , 10 , 15 , 20 ,30 , 50] , 'solver' : ['liblinear' , 'sag' , 'saga' , 'lbfgs'] ,  'penalty' : ['l1','l2'] } # C = 10 , l1 , liblinear"
      ]
    },
    {
      "cell_type": "code",
      "execution_count": 45,
      "metadata": {
        "id": "JSuOFf9JgrvH"
      },
      "outputs": [],
      "source": [
        "# log_grid_model = GridSearchCV(log_grid_model , param_grid=param_grid , cv=5 , scoring='accuracy' , verbose=2)\n",
        "\n",
        "# log_grid_model.fit(X_train_scaled , y_train)"
      ]
    },
    {
      "cell_type": "code",
      "execution_count": 46,
      "metadata": {
        "id": "YmVrS1WNgf2x"
      },
      "outputs": [],
      "source": [
        "# import tensorflow as tf\n",
        "# tf.test.gpu_device_name()"
      ]
    },
    {
      "cell_type": "code",
      "execution_count": 47,
      "metadata": {
        "id": "pHAAjgK8grvI"
      },
      "outputs": [],
      "source": [
        "# C , penalty , l1_ratio , solver , max_iter , multi_class , class_weight "
      ]
    },
    {
      "cell_type": "code",
      "execution_count": 48,
      "metadata": {
        "id": "WkbxBEnygrvI"
      },
      "outputs": [],
      "source": [
        "# log_grid_model.best_params_"
      ]
    },
    {
      "cell_type": "code",
      "execution_count": 49,
      "metadata": {
        "id": "g6Fe4ftOgrvI"
      },
      "outputs": [],
      "source": [
        "# log_grid_model.best_score_"
      ]
    },
    {
      "cell_type": "code",
      "source": [
        "log_grid_model = LogisticRegression(random_state=53 , solver = 'liblinear' , class_weight='balanced' , max_iter=10000 , C = 10 , penalty = 'l1').fit(X_train_scaled , y_train)"
      ],
      "metadata": {
        "id": "v3QdvN3hFDRG"
      },
      "execution_count": 50,
      "outputs": []
    },
    {
      "cell_type": "code",
      "execution_count": 51,
      "metadata": {
        "id": "oNy09TMXgrvI"
      },
      "outputs": [],
      "source": [
        "log_y_train_pred = log_grid_model.predict(X_train_scaled)\n",
        "log_y_pred = log_grid_model.predict(X_test_scaled)"
      ]
    },
    {
      "cell_type": "code",
      "execution_count": 52,
      "metadata": {
        "colab": {
          "base_uri": "https://localhost:8080/",
          "height": 1000
        },
        "id": "SEYo-XebgrvI",
        "outputId": "46851e02-118a-4131-d236-07e8588f6736"
      },
      "outputs": [
        {
          "output_type": "stream",
          "name": "stdout",
          "text": [
            "Test_Set\n",
            "[[674  14  41]\n",
            " [ 17 257   4]\n",
            " [ 37  12  98]]\n",
            "              precision    recall  f1-score   support\n",
            "\n",
            "           1       0.93      0.92      0.93       729\n",
            "           2       0.91      0.92      0.92       278\n",
            "           3       0.69      0.67      0.68       147\n",
            "\n",
            "    accuracy                           0.89      1154\n",
            "   macro avg       0.84      0.84      0.84      1154\n",
            "weighted avg       0.89      0.89      0.89      1154\n",
            "\n",
            "<sklearn.metrics._plot.confusion_matrix.ConfusionMatrixDisplay object at 0x7f2414b53ad0>\n",
            "\n",
            "Train_Set\n",
            "[[2874   40  149]\n",
            " [  29  979   12]\n",
            " [ 113   25  394]]\n",
            "              precision    recall  f1-score   support\n",
            "\n",
            "           1       0.95      0.94      0.95      3063\n",
            "           2       0.94      0.96      0.95      1020\n",
            "           3       0.71      0.74      0.72       532\n",
            "\n",
            "    accuracy                           0.92      4615\n",
            "   macro avg       0.87      0.88      0.87      4615\n",
            "weighted avg       0.92      0.92      0.92      4615\n",
            "\n",
            "<sklearn.metrics._plot.confusion_matrix.ConfusionMatrixDisplay object at 0x7f24151047d0>\n"
          ]
        },
        {
          "output_type": "stream",
          "name": "stderr",
          "text": [
            "/usr/local/lib/python3.7/dist-packages/sklearn/utils/deprecation.py:87: FutureWarning: Function plot_confusion_matrix is deprecated; Function `plot_confusion_matrix` is deprecated in 1.0 and will be removed in 1.2. Use one of the class methods: ConfusionMatrixDisplay.from_predictions or ConfusionMatrixDisplay.from_estimator.\n",
            "  warnings.warn(msg, category=FutureWarning)\n",
            "/usr/local/lib/python3.7/dist-packages/sklearn/utils/deprecation.py:87: FutureWarning: Function plot_confusion_matrix is deprecated; Function `plot_confusion_matrix` is deprecated in 1.0 and will be removed in 1.2. Use one of the class methods: ConfusionMatrixDisplay.from_predictions or ConfusionMatrixDisplay.from_estimator.\n",
            "  warnings.warn(msg, category=FutureWarning)\n"
          ]
        },
        {
          "output_type": "display_data",
          "data": {
            "text/plain": [
              "<Figure size 432x288 with 2 Axes>"
            ],
            "image/png": "[encoded data removed]"
          },
          "metadata": {
            "needs_background": "light"
          }
        },
        {
          "output_type": "display_data",
          "data": {
            "text/plain": [
              "<Figure size 432x288 with 2 Axes>"
            ],
            "image/png": "[encoded data removed]"
          },
          "metadata": {
            "needs_background": "light"
          }
        }
      ],
      "source": [
        "eval_metric(log_grid_model , X_train_scaled , y_train , X_test_scaled , y_test)"
      ]
    },
    {
      "cell_type": "code",
      "execution_count": 53,
      "metadata": {
        "colab": {
          "base_uri": "https://localhost:8080/",
          "height": 350
        },
        "id": "Ax_wkt6hgrvI",
        "outputId": "05cd0094-50e2-405e-a8c5-98f34f552cea"
      },
      "outputs": [
        {
          "output_type": "display_data",
          "data": {
            "text/plain": [
              "<Figure size 360x360 with 1 Axes>"
            ],
            "image/png": "[encoded data removed]"
          },
          "metadata": {
            "needs_background": "light"
          }
        }
      ],
      "source": [
        "plot_multiclass_roc(log_grid_model,X_test_scaled,y_test,3)"
      ]
    },
    {
      "cell_type": "code",
      "execution_count": 54,
      "metadata": {
        "id": "ODd5BRbJBoff"
      },
      "outputs": [],
      "source": [
        "log_grid_train_scores = cross_validate(log_grid_model , X_train_scaled , y_train , scoring = 'accuracy' , cv = 5 )\n",
        "log_grid_test_scores = cross_validate(log_grid_model , X_test_scaled , y_test , scoring = 'accuracy' , cv = 5  )"
      ]
    },
    {
      "cell_type": "code",
      "source": [
        "log_grid_train_scores = pd.DataFrame(log_grid_train_scores)\n",
        "log_grid_test_scores = pd.DataFrame(log_grid_test_scores)"
      ],
      "metadata": {
        "id": "3JY4dFL-L3i2"
      },
      "execution_count": 55,
      "outputs": []
    },
    {
      "cell_type": "code",
      "source": [
        "log_grid_train_scores = pd.DataFrame(log_grid_train_scores.mean()[2:] , columns = ['log_grid_train'] , index = ['test_score'])\n",
        "log_grid_test_scores = pd.DataFrame(log_grid_test_scores.mean()[2:] , columns = ['log_grid_test'] , index = ['test_score'])"
      ],
      "metadata": {
        "id": "LGBZFPVQLxrW"
      },
      "execution_count": 56,
      "outputs": []
    },
    {
      "cell_type": "code",
      "source": [
        "scores"
      ],
      "metadata": {
        "colab": {
          "base_uri": "https://localhost:8080/",
          "height": 81
        },
        "id": "K-GH4MFdMKpU",
        "outputId": "3c2cabe8-6fc5-42fe-cce1-e6054ab81035"
      },
      "execution_count": 57,
      "outputs": [
        {
          "output_type": "execute_result",
          "data": {
            "text/plain": [
              "            log_train  log_test\n",
              "test_score   0.891874  0.875185"
            ],
            "text/html": [
              "\n",
              "  <div id=\"df-b5b89ab2-b7b2-4500-8627-004558290d21\">\n",
              "    <div class=\"colab-df-container\">\n",
              "      <div>\n",
              "<style scoped>\n",
              "    .dataframe tbody tr th:only-of-type {\n",
              "        vertical-align: middle;\n",
              "    }\n",
              "\n",
              "    .dataframe tbody tr th {\n",
              "        vertical-align: top;\n",
              "    }\n",
              "\n",
              "    .dataframe thead th {\n",
              "        text-align: right;\n",
              "    }\n",
              "</style>\n",
              "<table border=\"1\" class=\"dataframe\">\n",
              "  <thead>\n",
              "    <tr style=\"text-align: right;\">\n",
              "      <th></th>\n",
              "      <th>log_train</th>\n",
              "      <th>log_test</th>\n",
              "    </tr>\n",
              "  </thead>\n",
              "  <tbody>\n",
              "    <tr>\n",
              "      <th>test_score</th>\n",
              "      <td>0.891874</td>\n",
              "      <td>0.875185</td>\n",
              "    </tr>\n",
              "  </tbody>\n",
              "</table>\n",
              "</div>\n",
              "      <button class=\"colab-df-convert\" onclick=\"convertToInteractive('df-b5b89ab2-b7b2-4500-8627-004558290d21')\"\n",
              "              title=\"Convert this dataframe to an interactive table.\"\n",
              "              style=\"display:none;\">\n",
              "        \n",
              "  <svg xmlns=\"http://www.w3.org/2000/svg\" height=\"24px\"viewBox=\"0 0 24 24\"\n",
              "       width=\"24px\">\n",
              "    <path d=\"M0 0h24v24H0V0z\" fill=\"none\"/>\n",
              "    <path d=\"M18.56 5.44l.94 2.06.94-2.06 2.06-.94-2.06-.94-.94-2.06-.94 2.06-2.06.94zm-11 1L8.5 8.5l.94-2.06 2.06-.94-2.06-.94L8.5 2.5l-.94 2.06-2.06.94zm10 10l.94 2.06.94-2.06 2.06-.94-2.06-.94-.94-2.06-.94 2.06-2.06.94z\"/><path d=\"M17.41 7.96l-1.37-1.37c-.4-.4-.92-.59-1.43-.59-.52 0-1.04.2-1.43.59L10.3 9.45l-7.72 7.72c-.78.78-.78 2.05 0 2.83L4 21.41c.39.39.9.59 1.41.59.51 0 1.02-.2 1.41-.59l7.78-7.78 2.81-2.81c.8-.78.8-2.07 0-2.86zM5.41 20L4 18.59l7.72-7.72 1.47 1.35L5.41 20z\"/>\n",
              "  </svg>\n",
              "      </button>\n",
              "      \n",
              "  <style>\n",
              "    .colab-df-container {\n",
              "      display:flex;\n",
              "      flex-wrap:wrap;\n",
              "      gap: 12px;\n",
              "    }\n",
              "\n",
              "    .colab-df-convert {\n",
              "      background-color: #E8F0FE;\n",
              "      border: none;\n",
              "      border-radius: 50%;\n",
              "      cursor: pointer;\n",
              "      display: none;\n",
              "      fill: #1967D2;\n",
              "      height: 32px;\n",
              "      padding: 0 0 0 0;\n",
              "      width: 32px;\n",
              "    }\n",
              "\n",
              "    .colab-df-convert:hover {\n",
              "      background-color: #E2EBFA;\n",
              "      box-shadow: 0px 1px 2px rgba(60, 64, 67, 0.3), 0px 1px 3px 1px rgba(60, 64, 67, 0.15);\n",
              "      fill: #174EA6;\n",
              "    }\n",
              "\n",
              "    [theme=dark] .colab-df-convert {\n",
              "      background-color: #3B4455;\n",
              "      fill: #D2E3FC;\n",
              "    }\n",
              "\n",
              "    [theme=dark] .colab-df-convert:hover {\n",
              "      background-color: #434B5C;\n",
              "      box-shadow: 0px 1px 3px 1px rgba(0, 0, 0, 0.15);\n",
              "      filter: drop-shadow(0px 1px 2px rgba(0, 0, 0, 0.3));\n",
              "      fill: #FFFFFF;\n",
              "    }\n",
              "  </style>\n",
              "\n",
              "      <script>\n",
              "        const buttonEl =\n",
              "          document.querySelector('#df-b5b89ab2-b7b2-4500-8627-004558290d21 button.colab-df-convert');\n",
              "        buttonEl.style.display =\n",
              "          google.colab.kernel.accessAllowed ? 'block' : 'none';\n",
              "\n",
              "        async function convertToInteractive(key) {\n",
              "          const element = document.querySelector('#df-b5b89ab2-b7b2-4500-8627-004558290d21');\n",
              "          const dataTable =\n",
              "            await google.colab.kernel.invokeFunction('convertToInteractive',\n",
              "                                                     [key], {});\n",
              "          if (!dataTable) return;\n",
              "\n",
              "          const docLinkHtml = 'Like what you see? Visit the ' +\n",
              "            '<a target=\"_blank\" href=https://colab.research.google.com/notebooks/data_table.ipynb>data table notebook</a>'\n",
              "            + ' to learn more about interactive tables.';\n",
              "          element.innerHTML = '';\n",
              "          dataTable['output_type'] = 'display_data';\n",
              "          await google.colab.output.renderOutput(dataTable, element);\n",
              "          const docLink = document.createElement('div');\n",
              "          docLink.innerHTML = docLinkHtml;\n",
              "          element.appendChild(docLink);\n",
              "        }\n",
              "      </script>\n",
              "    </div>\n",
              "  </div>\n",
              "  "
            ]
          },
          "metadata": {},
          "execution_count": 57
        }
      ]
    },
    {
      "cell_type": "code",
      "source": [
        "scores = pd.concat([scores , log_grid_train_scores , log_grid_test_scores] , axis = 1)"
      ],
      "metadata": {
        "id": "bT8z_DULMxtI"
      },
      "execution_count": 58,
      "outputs": []
    },
    {
      "cell_type": "code",
      "source": [
        "scores"
      ],
      "metadata": {
        "colab": {
          "base_uri": "https://localhost:8080/",
          "height": 81
        },
        "id": "L1PjkiIM3ZYE",
        "outputId": "c052b287-e03f-46e5-b1e1-f6942b553e97"
      },
      "execution_count": 59,
      "outputs": [
        {
          "output_type": "execute_result",
          "data": {
            "text/plain": [
              "            log_train  log_test  log_grid_train  log_grid_test\n",
              "test_score   0.891874  0.875185        0.898375       0.845718"
            ],
            "text/html": [
              "\n",
              "  <div id=\"df-d1a49b60-d1a8-4116-b345-36f8f4d07265\">\n",
              "    <div class=\"colab-df-container\">\n",
              "      <div>\n",
              "<style scoped>\n",
              "    .dataframe tbody tr th:only-of-type {\n",
              "        vertical-align: middle;\n",
              "    }\n",
              "\n",
              "    .dataframe tbody tr th {\n",
              "        vertical-align: top;\n",
              "    }\n",
              "\n",
              "    .dataframe thead th {\n",
              "        text-align: right;\n",
              "    }\n",
              "</style>\n",
              "<table border=\"1\" class=\"dataframe\">\n",
              "  <thead>\n",
              "    <tr style=\"text-align: right;\">\n",
              "      <th></th>\n",
              "      <th>log_train</th>\n",
              "      <th>log_test</th>\n",
              "      <th>log_grid_train</th>\n",
              "      <th>log_grid_test</th>\n",
              "    </tr>\n",
              "  </thead>\n",
              "  <tbody>\n",
              "    <tr>\n",
              "      <th>test_score</th>\n",
              "      <td>0.891874</td>\n",
              "      <td>0.875185</td>\n",
              "      <td>0.898375</td>\n",
              "      <td>0.845718</td>\n",
              "    </tr>\n",
              "  </tbody>\n",
              "</table>\n",
              "</div>\n",
              "      <button class=\"colab-df-convert\" onclick=\"convertToInteractive('df-d1a49b60-d1a8-4116-b345-36f8f4d07265')\"\n",
              "              title=\"Convert this dataframe to an interactive table.\"\n",
              "              style=\"display:none;\">\n",
              "        \n",
              "  <svg xmlns=\"http://www.w3.org/2000/svg\" height=\"24px\"viewBox=\"0 0 24 24\"\n",
              "       width=\"24px\">\n",
              "    <path d=\"M0 0h24v24H0V0z\" fill=\"none\"/>\n",
              "    <path d=\"M18.56 5.44l.94 2.06.94-2.06 2.06-.94-2.06-.94-.94-2.06-.94 2.06-2.06.94zm-11 1L8.5 8.5l.94-2.06 2.06-.94-2.06-.94L8.5 2.5l-.94 2.06-2.06.94zm10 10l.94 2.06.94-2.06 2.06-.94-2.06-.94-.94-2.06-.94 2.06-2.06.94z\"/><path d=\"M17.41 7.96l-1.37-1.37c-.4-.4-.92-.59-1.43-.59-.52 0-1.04.2-1.43.59L10.3 9.45l-7.72 7.72c-.78.78-.78 2.05 0 2.83L4 21.41c.39.39.9.59 1.41.59.51 0 1.02-.2 1.41-.59l7.78-7.78 2.81-2.81c.8-.78.8-2.07 0-2.86zM5.41 20L4 18.59l7.72-7.72 1.47 1.35L5.41 20z\"/>\n",
              "  </svg>\n",
              "      </button>\n",
              "      \n",
              "  <style>\n",
              "    .colab-df-container {\n",
              "      display:flex;\n",
              "      flex-wrap:wrap;\n",
              "      gap: 12px;\n",
              "    }\n",
              "\n",
              "    .colab-df-convert {\n",
              "      background-color: #E8F0FE;\n",
              "      border: none;\n",
              "      border-radius: 50%;\n",
              "      cursor: pointer;\n",
              "      display: none;\n",
              "      fill: #1967D2;\n",
              "      height: 32px;\n",
              "      padding: 0 0 0 0;\n",
              "      width: 32px;\n",
              "    }\n",
              "\n",
              "    .colab-df-convert:hover {\n",
              "      background-color: #E2EBFA;\n",
              "      box-shadow: 0px 1px 2px rgba(60, 64, 67, 0.3), 0px 1px 3px 1px rgba(60, 64, 67, 0.15);\n",
              "      fill: #174EA6;\n",
              "    }\n",
              "\n",
              "    [theme=dark] .colab-df-convert {\n",
              "      background-color: #3B4455;\n",
              "      fill: #D2E3FC;\n",
              "    }\n",
              "\n",
              "    [theme=dark] .colab-df-convert:hover {\n",
              "      background-color: #434B5C;\n",
              "      box-shadow: 0px 1px 3px 1px rgba(0, 0, 0, 0.15);\n",
              "      filter: drop-shadow(0px 1px 2px rgba(0, 0, 0, 0.3));\n",
              "      fill: #FFFFFF;\n",
              "    }\n",
              "  </style>\n",
              "\n",
              "      <script>\n",
              "        const buttonEl =\n",
              "          document.querySelector('#df-d1a49b60-d1a8-4116-b345-36f8f4d07265 button.colab-df-convert');\n",
              "        buttonEl.style.display =\n",
              "          google.colab.kernel.accessAllowed ? 'block' : 'none';\n",
              "\n",
              "        async function convertToInteractive(key) {\n",
              "          const element = document.querySelector('#df-d1a49b60-d1a8-4116-b345-36f8f4d07265');\n",
              "          const dataTable =\n",
              "            await google.colab.kernel.invokeFunction('convertToInteractive',\n",
              "                                                     [key], {});\n",
              "          if (!dataTable) return;\n",
              "\n",
              "          const docLinkHtml = 'Like what you see? Visit the ' +\n",
              "            '<a target=\"_blank\" href=https://colab.research.google.com/notebooks/data_table.ipynb>data table notebook</a>'\n",
              "            + ' to learn more about interactive tables.';\n",
              "          element.innerHTML = '';\n",
              "          dataTable['output_type'] = 'display_data';\n",
              "          await google.colab.output.renderOutput(dataTable, element);\n",
              "          const docLink = document.createElement('div');\n",
              "          docLink.innerHTML = docLinkHtml;\n",
              "          element.appendChild(docLink);\n",
              "        }\n",
              "      </script>\n",
              "    </div>\n",
              "  </div>\n",
              "  "
            ]
          },
          "metadata": {},
          "execution_count": 59
        }
      ]
    },
    {
      "cell_type": "markdown",
      "metadata": {
        "id": "H9mdDzp0grvI"
      },
      "source": [
        "## 2. SVC"
      ]
    },
    {
      "cell_type": "markdown",
      "metadata": {
        "id": "rQYYk0DOgrvI"
      },
      "source": [
        "### Vanilla SVC model "
      ]
    },
    {
      "cell_type": "markdown",
      "metadata": {
        "id": "3LhTebO7grvJ"
      },
      "source": [
        "Vanilla modellerde default degerler verilmeli ama dengesiz bir datasetimiz oldugu icin  class_weight düşünülmeli"
      ]
    },
    {
      "cell_type": "code",
      "execution_count": 60,
      "metadata": {
        "id": "8P1anwuggrvJ"
      },
      "outputs": [],
      "source": [
        "from sklearn.svm import SVC"
      ]
    },
    {
      "cell_type": "code",
      "execution_count": 61,
      "metadata": {
        "id": "HUzJrJONgrvJ"
      },
      "outputs": [],
      "source": [
        "svc = SVC(random_state = 53 , class_weight='balanced')"
      ]
    },
    {
      "cell_type": "code",
      "execution_count": 62,
      "metadata": {
        "colab": {
          "base_uri": "https://localhost:8080/"
        },
        "id": "C9P3uYhigrvJ",
        "outputId": "5e3a3c9f-07a8-48e1-f560-2b8e22d0434f"
      },
      "outputs": [
        {
          "output_type": "execute_result",
          "data": {
            "text/plain": [
              "SVC(class_weight='balanced', random_state=53)"
            ]
          },
          "metadata": {},
          "execution_count": 62
        }
      ],
      "source": [
        "svc.fit(X_train_scaled , y_train)"
      ]
    },
    {
      "cell_type": "code",
      "execution_count": 63,
      "metadata": {
        "id": "pt77mgCfgrvJ"
      },
      "outputs": [],
      "source": [
        "y_train_pred = svc.predict(X_train_scaled)\n",
        "y_pred = svc.predict(X_test_scaled)"
      ]
    },
    {
      "cell_type": "code",
      "execution_count": 64,
      "metadata": {
        "colab": {
          "base_uri": "https://localhost:8080/",
          "height": 1000
        },
        "id": "rZTwFHXEgrvJ",
        "outputId": "3e6edcde-1d27-4dea-8d95-29856aa0b544"
      },
      "outputs": [
        {
          "output_type": "stream",
          "name": "stdout",
          "text": [
            "Test_Set\n",
            "[[615  18  96]\n",
            " [ 18 253   7]\n",
            " [ 20  10 117]]\n",
            "              precision    recall  f1-score   support\n",
            "\n",
            "           1       0.94      0.84      0.89       729\n",
            "           2       0.90      0.91      0.91       278\n",
            "           3       0.53      0.80      0.64       147\n",
            "\n",
            "    accuracy                           0.85      1154\n",
            "   macro avg       0.79      0.85      0.81      1154\n",
            "weighted avg       0.88      0.85      0.86      1154\n",
            "\n"
          ]
        },
        {
          "output_type": "stream",
          "name": "stderr",
          "text": [
            "/usr/local/lib/python3.7/dist-packages/sklearn/utils/deprecation.py:87: FutureWarning: Function plot_confusion_matrix is deprecated; Function `plot_confusion_matrix` is deprecated in 1.0 and will be removed in 1.2. Use one of the class methods: ConfusionMatrixDisplay.from_predictions or ConfusionMatrixDisplay.from_estimator.\n",
            "  warnings.warn(msg, category=FutureWarning)\n"
          ]
        },
        {
          "output_type": "stream",
          "name": "stdout",
          "text": [
            "<sklearn.metrics._plot.confusion_matrix.ConfusionMatrixDisplay object at 0x7f2414a0eb90>\n",
            "\n",
            "Train_Set\n",
            "[[2596   55  412]\n",
            " [  40  940   40]\n",
            " [  67   19  446]]\n",
            "              precision    recall  f1-score   support\n",
            "\n",
            "           1       0.96      0.85      0.90      3063\n",
            "           2       0.93      0.92      0.92      1020\n",
            "           3       0.50      0.84      0.62       532\n",
            "\n",
            "    accuracy                           0.86      4615\n",
            "   macro avg       0.79      0.87      0.82      4615\n",
            "weighted avg       0.90      0.86      0.87      4615\n",
            "\n"
          ]
        },
        {
          "output_type": "stream",
          "name": "stderr",
          "text": [
            "/usr/local/lib/python3.7/dist-packages/sklearn/utils/deprecation.py:87: FutureWarning: Function plot_confusion_matrix is deprecated; Function `plot_confusion_matrix` is deprecated in 1.0 and will be removed in 1.2. Use one of the class methods: ConfusionMatrixDisplay.from_predictions or ConfusionMatrixDisplay.from_estimator.\n",
            "  warnings.warn(msg, category=FutureWarning)\n"
          ]
        },
        {
          "output_type": "stream",
          "name": "stdout",
          "text": [
            "<sklearn.metrics._plot.confusion_matrix.ConfusionMatrixDisplay object at 0x7f241495d890>\n"
          ]
        },
        {
          "output_type": "display_data",
          "data": {
            "text/plain": [
              "<Figure size 432x288 with 2 Axes>"
            ],
            "image/png": "[encoded data removed]"
          },
          "metadata": {
            "needs_background": "light"
          }
        },
        {
          "output_type": "display_data",
          "data": {
            "text/plain": [
              "<Figure size 432x288 with 2 Axes>"
            ],
            "image/png": "[encoded data removed]"
          },
          "metadata": {
            "needs_background": "light"
          }
        }
      ],
      "source": [
        "eval_metric(svc,X_train_scaled, y_train , X_test_scaled , y_test)"
      ]
    },
    {
      "cell_type": "code",
      "execution_count": 65,
      "metadata": {
        "colab": {
          "base_uri": "https://localhost:8080/",
          "height": 350
        },
        "id": "pBrVPR8pgrvJ",
        "outputId": "31d957da-0242-4176-aad6-6aafe097941c"
      },
      "outputs": [
        {
          "output_type": "display_data",
          "data": {
            "text/plain": [
              "<Figure size 360x360 with 1 Axes>"
            ],
            "image/png": "[encoded data removed]"
          },
          "metadata": {
            "needs_background": "light"
          }
        }
      ],
      "source": [
        "plot_multiclass_roc(svc,X_test_scaled,y_test,3)"
      ]
    },
    {
      "cell_type": "code",
      "execution_count": 66,
      "metadata": {
        "id": "4DRrGolegrvJ"
      },
      "outputs": [],
      "source": [
        "svc_train = pd.DataFrame(cross_validate(svc,X_train_scaled , y_train , cv = 5 , scoring = 'accuracy' )).mean()[2:]"
      ]
    },
    {
      "cell_type": "code",
      "execution_count": 67,
      "metadata": {
        "colab": {
          "base_uri": "https://localhost:8080/"
        },
        "id": "XbusTPXeoH2P",
        "outputId": "84292802-987a-4d51-e416-d9356f0b8530"
      },
      "outputs": [
        {
          "output_type": "execute_result",
          "data": {
            "text/plain": [
              "test_score    0.839653\n",
              "dtype: float64"
            ]
          },
          "metadata": {},
          "execution_count": 67
        }
      ],
      "source": [
        "svc_train"
      ]
    },
    {
      "cell_type": "code",
      "execution_count": 68,
      "metadata": {
        "id": "WiZMagJ5oX0Z"
      },
      "outputs": [],
      "source": [
        "svc_train = pd.DataFrame({'svc_train' : svc_train } , index = ['test_score'])"
      ]
    },
    {
      "cell_type": "code",
      "execution_count": 69,
      "metadata": {
        "id": "yWdIeu_HorLo"
      },
      "outputs": [],
      "source": [
        "scores = pd.concat([scores,svc_train] , axis = 1)"
      ]
    },
    {
      "cell_type": "code",
      "execution_count": 70,
      "metadata": {
        "colab": {
          "base_uri": "https://localhost:8080/",
          "height": 81
        },
        "id": "vqMfUpLNoyTv",
        "outputId": "5480b1c8-90d8-4150-ce7c-39bb44076a05"
      },
      "outputs": [
        {
          "output_type": "execute_result",
          "data": {
            "text/plain": [
              "            log_train  log_test  log_grid_train  log_grid_test  svc_train\n",
              "test_score   0.891874  0.875185        0.898375       0.845718   0.839653"
            ],
            "text/html": [
              "\n",
              "  <div id=\"df-9a3cd359-4221-475a-9fa4-c3221d0ea25e\">\n",
              "    <div class=\"colab-df-container\">\n",
              "      <div>\n",
              "<style scoped>\n",
              "    .dataframe tbody tr th:only-of-type {\n",
              "        vertical-align: middle;\n",
              "    }\n",
              "\n",
              "    .dataframe tbody tr th {\n",
              "        vertical-align: top;\n",
              "    }\n",
              "\n",
              "    .dataframe thead th {\n",
              "        text-align: right;\n",
              "    }\n",
              "</style>\n",
              "<table border=\"1\" class=\"dataframe\">\n",
              "  <thead>\n",
              "    <tr style=\"text-align: right;\">\n",
              "      <th></th>\n",
              "      <th>log_train</th>\n",
              "      <th>log_test</th>\n",
              "      <th>log_grid_train</th>\n",
              "      <th>log_grid_test</th>\n",
              "      <th>svc_train</th>\n",
              "    </tr>\n",
              "  </thead>\n",
              "  <tbody>\n",
              "    <tr>\n",
              "      <th>test_score</th>\n",
              "      <td>0.891874</td>\n",
              "      <td>0.875185</td>\n",
              "      <td>0.898375</td>\n",
              "      <td>0.845718</td>\n",
              "      <td>0.839653</td>\n",
              "    </tr>\n",
              "  </tbody>\n",
              "</table>\n",
              "</div>\n",
              "      <button class=\"colab-df-convert\" onclick=\"convertToInteractive('df-9a3cd359-4221-475a-9fa4-c3221d0ea25e')\"\n",
              "              title=\"Convert this dataframe to an interactive table.\"\n",
              "              style=\"display:none;\">\n",
              "        \n",
              "  <svg xmlns=\"http://www.w3.org/2000/svg\" height=\"24px\"viewBox=\"0 0 24 24\"\n",
              "       width=\"24px\">\n",
              "    <path d=\"M0 0h24v24H0V0z\" fill=\"none\"/>\n",
              "    <path d=\"M18.56 5.44l.94 2.06.94-2.06 2.06-.94-2.06-.94-.94-2.06-.94 2.06-2.06.94zm-11 1L8.5 8.5l.94-2.06 2.06-.94-2.06-.94L8.5 2.5l-.94 2.06-2.06.94zm10 10l.94 2.06.94-2.06 2.06-.94-2.06-.94-.94-2.06-.94 2.06-2.06.94z\"/><path d=\"M17.41 7.96l-1.37-1.37c-.4-.4-.92-.59-1.43-.59-.52 0-1.04.2-1.43.59L10.3 9.45l-7.72 7.72c-.78.78-.78 2.05 0 2.83L4 21.41c.39.39.9.59 1.41.59.51 0 1.02-.2 1.41-.59l7.78-7.78 2.81-2.81c.8-.78.8-2.07 0-2.86zM5.41 20L4 18.59l7.72-7.72 1.47 1.35L5.41 20z\"/>\n",
              "  </svg>\n",
              "      </button>\n",
              "      \n",
              "  <style>\n",
              "    .colab-df-container {\n",
              "      display:flex;\n",
              "      flex-wrap:wrap;\n",
              "      gap: 12px;\n",
              "    }\n",
              "\n",
              "    .colab-df-convert {\n",
              "      background-color: #E8F0FE;\n",
              "      border: none;\n",
              "      border-radius: 50%;\n",
              "      cursor: pointer;\n",
              "      display: none;\n",
              "      fill: #1967D2;\n",
              "      height: 32px;\n",
              "      padding: 0 0 0 0;\n",
              "      width: 32px;\n",
              "    }\n",
              "\n",
              "    .colab-df-convert:hover {\n",
              "      background-color: #E2EBFA;\n",
              "      box-shadow: 0px 1px 2px rgba(60, 64, 67, 0.3), 0px 1px 3px 1px rgba(60, 64, 67, 0.15);\n",
              "      fill: #174EA6;\n",
              "    }\n",
              "\n",
              "    [theme=dark] .colab-df-convert {\n",
              "      background-color: #3B4455;\n",
              "      fill: #D2E3FC;\n",
              "    }\n",
              "\n",
              "    [theme=dark] .colab-df-convert:hover {\n",
              "      background-color: #434B5C;\n",
              "      box-shadow: 0px 1px 3px 1px rgba(0, 0, 0, 0.15);\n",
              "      filter: drop-shadow(0px 1px 2px rgba(0, 0, 0, 0.3));\n",
              "      fill: #FFFFFF;\n",
              "    }\n",
              "  </style>\n",
              "\n",
              "      <script>\n",
              "        const buttonEl =\n",
              "          document.querySelector('#df-9a3cd359-4221-475a-9fa4-c3221d0ea25e button.colab-df-convert');\n",
              "        buttonEl.style.display =\n",
              "          google.colab.kernel.accessAllowed ? 'block' : 'none';\n",
              "\n",
              "        async function convertToInteractive(key) {\n",
              "          const element = document.querySelector('#df-9a3cd359-4221-475a-9fa4-c3221d0ea25e');\n",
              "          const dataTable =\n",
              "            await google.colab.kernel.invokeFunction('convertToInteractive',\n",
              "                                                     [key], {});\n",
              "          if (!dataTable) return;\n",
              "\n",
              "          const docLinkHtml = 'Like what you see? Visit the ' +\n",
              "            '<a target=\"_blank\" href=https://colab.research.google.com/notebooks/data_table.ipynb>data table notebook</a>'\n",
              "            + ' to learn more about interactive tables.';\n",
              "          element.innerHTML = '';\n",
              "          dataTable['output_type'] = 'display_data';\n",
              "          await google.colab.output.renderOutput(dataTable, element);\n",
              "          const docLink = document.createElement('div');\n",
              "          docLink.innerHTML = docLinkHtml;\n",
              "          element.appendChild(docLink);\n",
              "        }\n",
              "      </script>\n",
              "    </div>\n",
              "  </div>\n",
              "  "
            ]
          },
          "metadata": {},
          "execution_count": 70
        }
      ],
      "source": [
        "scores"
      ]
    },
    {
      "cell_type": "code",
      "execution_count": 71,
      "metadata": {
        "id": "2wsWRPjJoIwf"
      },
      "outputs": [],
      "source": [
        "svc_test = pd.DataFrame(cross_validate(svc,X_test_scaled , y_test , cv = 5 , scoring = 'accuracy' )).mean()[2:]"
      ]
    },
    {
      "cell_type": "code",
      "execution_count": 72,
      "metadata": {
        "colab": {
          "base_uri": "https://localhost:8080/"
        },
        "id": "-ryGi_zWwUMO",
        "outputId": "351183ff-f5e7-4b70-f707-909ece725137"
      },
      "outputs": [
        {
          "output_type": "execute_result",
          "data": {
            "text/plain": [
              "test_score    0.805895\n",
              "dtype: float64"
            ]
          },
          "metadata": {},
          "execution_count": 72
        }
      ],
      "source": [
        "svc_test"
      ]
    },
    {
      "cell_type": "code",
      "execution_count": 73,
      "metadata": {
        "id": "8oDTIPsawWD5"
      },
      "outputs": [],
      "source": [
        "svc_test = pd.DataFrame({'svc_test' : svc_test} , index = ['test_score'])"
      ]
    },
    {
      "cell_type": "code",
      "execution_count": 74,
      "metadata": {
        "id": "zjGego9Owel1"
      },
      "outputs": [],
      "source": [
        "scores = pd.concat([scores,svc_test] , axis = 1)"
      ]
    },
    {
      "cell_type": "code",
      "execution_count": 75,
      "metadata": {
        "colab": {
          "base_uri": "https://localhost:8080/",
          "height": 81
        },
        "id": "4DiwmWEewhoG",
        "outputId": "a48771f7-e6cb-4e3a-bcc9-f6e3dfb301fd"
      },
      "outputs": [
        {
          "output_type": "execute_result",
          "data": {
            "text/plain": [
              "            log_train  log_test  log_grid_train  log_grid_test  svc_train  \\\n",
              "test_score   0.891874  0.875185        0.898375       0.845718   0.839653   \n",
              "\n",
              "            svc_test  \n",
              "test_score  0.805895  "
            ],
            "text/html": [
              "\n",
              "  <div id=\"df-7b3fef5c-71cd-44c4-b5a3-2abe59192a2b\">\n",
              "    <div class=\"colab-df-container\">\n",
              "      <div>\n",
              "<style scoped>\n",
              "    .dataframe tbody tr th:only-of-type {\n",
              "        vertical-align: middle;\n",
              "    }\n",
              "\n",
              "    .dataframe tbody tr th {\n",
              "        vertical-align: top;\n",
              "    }\n",
              "\n",
              "    .dataframe thead th {\n",
              "        text-align: right;\n",
              "    }\n",
              "</style>\n",
              "<table border=\"1\" class=\"dataframe\">\n",
              "  <thead>\n",
              "    <tr style=\"text-align: right;\">\n",
              "      <th></th>\n",
              "      <th>log_train</th>\n",
              "      <th>log_test</th>\n",
              "      <th>log_grid_train</th>\n",
              "      <th>log_grid_test</th>\n",
              "      <th>svc_train</th>\n",
              "      <th>svc_test</th>\n",
              "    </tr>\n",
              "  </thead>\n",
              "  <tbody>\n",
              "    <tr>\n",
              "      <th>test_score</th>\n",
              "      <td>0.891874</td>\n",
              "      <td>0.875185</td>\n",
              "      <td>0.898375</td>\n",
              "      <td>0.845718</td>\n",
              "      <td>0.839653</td>\n",
              "      <td>0.805895</td>\n",
              "    </tr>\n",
              "  </tbody>\n",
              "</table>\n",
              "</div>\n",
              "      <button class=\"colab-df-convert\" onclick=\"convertToInteractive('df-7b3fef5c-71cd-44c4-b5a3-2abe59192a2b')\"\n",
              "              title=\"Convert this dataframe to an interactive table.\"\n",
              "              style=\"display:none;\">\n",
              "        \n",
              "  <svg xmlns=\"http://www.w3.org/2000/svg\" height=\"24px\"viewBox=\"0 0 24 24\"\n",
              "       width=\"24px\">\n",
              "    <path d=\"M0 0h24v24H0V0z\" fill=\"none\"/>\n",
              "    <path d=\"M18.56 5.44l.94 2.06.94-2.06 2.06-.94-2.06-.94-.94-2.06-.94 2.06-2.06.94zm-11 1L8.5 8.5l.94-2.06 2.06-.94-2.06-.94L8.5 2.5l-.94 2.06-2.06.94zm10 10l.94 2.06.94-2.06 2.06-.94-2.06-.94-.94-2.06-.94 2.06-2.06.94z\"/><path d=\"M17.41 7.96l-1.37-1.37c-.4-.4-.92-.59-1.43-.59-.52 0-1.04.2-1.43.59L10.3 9.45l-7.72 7.72c-.78.78-.78 2.05 0 2.83L4 21.41c.39.39.9.59 1.41.59.51 0 1.02-.2 1.41-.59l7.78-7.78 2.81-2.81c.8-.78.8-2.07 0-2.86zM5.41 20L4 18.59l7.72-7.72 1.47 1.35L5.41 20z\"/>\n",
              "  </svg>\n",
              "      </button>\n",
              "      \n",
              "  <style>\n",
              "    .colab-df-container {\n",
              "      display:flex;\n",
              "      flex-wrap:wrap;\n",
              "      gap: 12px;\n",
              "    }\n",
              "\n",
              "    .colab-df-convert {\n",
              "      background-color: #E8F0FE;\n",
              "      border: none;\n",
              "      border-radius: 50%;\n",
              "      cursor: pointer;\n",
              "      display: none;\n",
              "      fill: #1967D2;\n",
              "      height: 32px;\n",
              "      padding: 0 0 0 0;\n",
              "      width: 32px;\n",
              "    }\n",
              "\n",
              "    .colab-df-convert:hover {\n",
              "      background-color: #E2EBFA;\n",
              "      box-shadow: 0px 1px 2px rgba(60, 64, 67, 0.3), 0px 1px 3px 1px rgba(60, 64, 67, 0.15);\n",
              "      fill: #174EA6;\n",
              "    }\n",
              "\n",
              "    [theme=dark] .colab-df-convert {\n",
              "      background-color: #3B4455;\n",
              "      fill: #D2E3FC;\n",
              "    }\n",
              "\n",
              "    [theme=dark] .colab-df-convert:hover {\n",
              "      background-color: #434B5C;\n",
              "      box-shadow: 0px 1px 3px 1px rgba(0, 0, 0, 0.15);\n",
              "      filter: drop-shadow(0px 1px 2px rgba(0, 0, 0, 0.3));\n",
              "      fill: #FFFFFF;\n",
              "    }\n",
              "  </style>\n",
              "\n",
              "      <script>\n",
              "        const buttonEl =\n",
              "          document.querySelector('#df-7b3fef5c-71cd-44c4-b5a3-2abe59192a2b button.colab-df-convert');\n",
              "        buttonEl.style.display =\n",
              "          google.colab.kernel.accessAllowed ? 'block' : 'none';\n",
              "\n",
              "        async function convertToInteractive(key) {\n",
              "          const element = document.querySelector('#df-7b3fef5c-71cd-44c4-b5a3-2abe59192a2b');\n",
              "          const dataTable =\n",
              "            await google.colab.kernel.invokeFunction('convertToInteractive',\n",
              "                                                     [key], {});\n",
              "          if (!dataTable) return;\n",
              "\n",
              "          const docLinkHtml = 'Like what you see? Visit the ' +\n",
              "            '<a target=\"_blank\" href=https://colab.research.google.com/notebooks/data_table.ipynb>data table notebook</a>'\n",
              "            + ' to learn more about interactive tables.';\n",
              "          element.innerHTML = '';\n",
              "          dataTable['output_type'] = 'display_data';\n",
              "          await google.colab.output.renderOutput(dataTable, element);\n",
              "          const docLink = document.createElement('div');\n",
              "          docLink.innerHTML = docLinkHtml;\n",
              "          element.appendChild(docLink);\n",
              "        }\n",
              "      </script>\n",
              "    </div>\n",
              "  </div>\n",
              "  "
            ]
          },
          "metadata": {},
          "execution_count": 75
        }
      ],
      "source": [
        "scores"
      ]
    },
    {
      "cell_type": "code",
      "execution_count": 75,
      "metadata": {
        "id": "PDHqNuaAwWGc"
      },
      "outputs": [],
      "source": []
    },
    {
      "cell_type": "markdown",
      "metadata": {
        "id": "VCjSh7OqgrvK"
      },
      "source": [
        "###  SVC Model GridsearchCV"
      ]
    },
    {
      "cell_type": "code",
      "execution_count": 76,
      "metadata": {
        "id": "uVaaVYZSgrvK"
      },
      "outputs": [],
      "source": [
        "from sklearn.model_selection import GridSearchCV"
      ]
    },
    {
      "cell_type": "code",
      "execution_count": 77,
      "metadata": {
        "id": "bhVvC4sagrvK"
      },
      "outputs": [],
      "source": [
        "grid_svc_model = SVC(random_state = 53 , class_weight = 'balanced' )"
      ]
    },
    {
      "cell_type": "code",
      "execution_count": 78,
      "metadata": {
        "id": "IccI8LaugrvK"
      },
      "outputs": [],
      "source": [
        "# C , kernel , degree , gamma , "
      ]
    },
    {
      "cell_type": "code",
      "execution_count": 79,
      "metadata": {
        "id": "ZhbNqHmxgrvK"
      },
      "outputs": [],
      "source": [
        "# param_grid = {'C' : [0.5 , 1,3,7,10,15,25] , 'kernel' : ['linear','poly','rbf'] , 'degree' : [2,3,4] , 'gamma' : ['scale','auto']}"
      ]
    },
    {
      "cell_type": "code",
      "execution_count": 80,
      "metadata": {
        "id": "Dfk3_V4LgrvK"
      },
      "outputs": [],
      "source": [
        "# grid_svc_model = GridSearchCV(grid_svc_model , param_grid=param_grid , cv=5 , n_jobs = -1,  verbose = 2 , scoring='accuracy' ) # C = 25 , degree = 2 , gamma = scale , kernel = rbf"
      ]
    },
    {
      "cell_type": "code",
      "execution_count": 81,
      "metadata": {
        "id": "QFdy3hEQgrvK"
      },
      "outputs": [],
      "source": [
        "# grid_svc_model.fit(X_train_scaled , y_train)"
      ]
    },
    {
      "cell_type": "code",
      "execution_count": 82,
      "metadata": {
        "id": "nnfyosoagrvK"
      },
      "outputs": [],
      "source": [
        "# grid_svc_model.best_params_"
      ]
    },
    {
      "cell_type": "code",
      "source": [
        "grid_svc_model = SVC(random_state = 53 , class_weight = 'balanced' , C = 25 , kernel = 'rbf' , degree = 2 , gamma = 'scale').fit(X_train_scaled , y_train)"
      ],
      "metadata": {
        "id": "tnRxDV4BgVpI"
      },
      "execution_count": 83,
      "outputs": []
    },
    {
      "cell_type": "code",
      "execution_count": 84,
      "metadata": {
        "colab": {
          "base_uri": "https://localhost:8080/",
          "height": 1000
        },
        "id": "w4EDyQxpgrvK",
        "outputId": "6cdd242c-0bda-40c3-c5e1-66fce8b23989"
      },
      "outputs": [
        {
          "output_type": "stream",
          "name": "stdout",
          "text": [
            "Test_Set\n",
            "[[638  16  75]\n",
            " [ 20 249   9]\n",
            " [ 26  13 108]]\n",
            "              precision    recall  f1-score   support\n",
            "\n",
            "           1       0.93      0.88      0.90       729\n",
            "           2       0.90      0.90      0.90       278\n",
            "           3       0.56      0.73      0.64       147\n",
            "\n",
            "    accuracy                           0.86      1154\n",
            "   macro avg       0.80      0.84      0.81      1154\n",
            "weighted avg       0.88      0.86      0.87      1154\n",
            "\n"
          ]
        },
        {
          "output_type": "stream",
          "name": "stderr",
          "text": [
            "/usr/local/lib/python3.7/dist-packages/sklearn/utils/deprecation.py:87: FutureWarning: Function plot_confusion_matrix is deprecated; Function `plot_confusion_matrix` is deprecated in 1.0 and will be removed in 1.2. Use one of the class methods: ConfusionMatrixDisplay.from_predictions or ConfusionMatrixDisplay.from_estimator.\n",
            "  warnings.warn(msg, category=FutureWarning)\n"
          ]
        },
        {
          "output_type": "stream",
          "name": "stdout",
          "text": [
            "<sklearn.metrics._plot.confusion_matrix.ConfusionMatrixDisplay object at 0x7f24148e18d0>\n",
            "\n",
            "Train_Set\n",
            "[[2812   27  224]\n",
            " [  11  998   11]\n",
            " [  20    3  509]]\n",
            "              precision    recall  f1-score   support\n",
            "\n",
            "           1       0.99      0.92      0.95      3063\n",
            "           2       0.97      0.98      0.97      1020\n",
            "           3       0.68      0.96      0.80       532\n",
            "\n",
            "    accuracy                           0.94      4615\n",
            "   macro avg       0.88      0.95      0.91      4615\n",
            "weighted avg       0.95      0.94      0.94      4615\n",
            "\n"
          ]
        },
        {
          "output_type": "stream",
          "name": "stderr",
          "text": [
            "/usr/local/lib/python3.7/dist-packages/sklearn/utils/deprecation.py:87: FutureWarning: Function plot_confusion_matrix is deprecated; Function `plot_confusion_matrix` is deprecated in 1.0 and will be removed in 1.2. Use one of the class methods: ConfusionMatrixDisplay.from_predictions or ConfusionMatrixDisplay.from_estimator.\n",
            "  warnings.warn(msg, category=FutureWarning)\n"
          ]
        },
        {
          "output_type": "stream",
          "name": "stdout",
          "text": [
            "<sklearn.metrics._plot.confusion_matrix.ConfusionMatrixDisplay object at 0x7f241499a150>\n"
          ]
        },
        {
          "output_type": "display_data",
          "data": {
            "text/plain": [
              "<Figure size 432x288 with 2 Axes>"
            ],
            "image/png": "[encoded data removed]"
          },
          "metadata": {
            "needs_background": "light"
          }
        },
        {
          "output_type": "display_data",
          "data": {
            "text/plain": [
              "<Figure size 432x288 with 2 Axes>"
            ],
            "image/png": "[encoded data removed]"
          },
          "metadata": {
            "needs_background": "light"
          }
        }
      ],
      "source": [
        "eval_metric(grid_svc_model,X_train_scaled, y_train , X_test_scaled , y_test)"
      ]
    },
    {
      "cell_type": "code",
      "execution_count": 85,
      "metadata": {
        "colab": {
          "base_uri": "https://localhost:8080/",
          "height": 350
        },
        "id": "IVwSSvsXgrvK",
        "outputId": "2e86c9c5-cd51-462f-93c7-61db8edc551d"
      },
      "outputs": [
        {
          "output_type": "display_data",
          "data": {
            "text/plain": [
              "<Figure size 360x360 with 1 Axes>"
            ],
            "image/png": "[encoded data removed]"
          },
          "metadata": {
            "needs_background": "light"
          }
        }
      ],
      "source": [
        "plot_multiclass_roc(grid_svc_model,X_test_scaled,y_test,3)"
      ]
    },
    {
      "cell_type": "code",
      "execution_count": 86,
      "metadata": {
        "id": "5R0iebicgrvL"
      },
      "outputs": [],
      "source": [
        "grid_svc_model = SVC(random_state = 53 , class_weight = 'balanced' , C = 25 , kernel = 'rbf', degree = 2 , gamma = 'scale' )"
      ]
    },
    {
      "cell_type": "code",
      "execution_count": 87,
      "metadata": {
        "id": "sERtzjbiqA7r"
      },
      "outputs": [],
      "source": [
        "svc_grid_train = pd.DataFrame(cross_validate(grid_svc_model , X_train_scaled , y_train , scoring = 'accuracy' , cv = 5)).mean()[2:]"
      ]
    },
    {
      "cell_type": "code",
      "execution_count": 88,
      "metadata": {
        "colab": {
          "base_uri": "https://localhost:8080/"
        },
        "id": "Wp-Enaz0wDo1",
        "outputId": "851ebd57-7b8c-4978-cf0f-be55e77ba3d7"
      },
      "outputs": [
        {
          "output_type": "execute_result",
          "data": {
            "text/plain": [
              "test_score    0.866956\n",
              "dtype: float64"
            ]
          },
          "metadata": {},
          "execution_count": 88
        }
      ],
      "source": [
        "svc_grid_train"
      ]
    },
    {
      "cell_type": "code",
      "execution_count": 89,
      "metadata": {
        "id": "9ZJnvpIQw75i"
      },
      "outputs": [],
      "source": [
        "svc_grid_train = pd.DataFrame({'svc_grid_train' : svc_grid_train} , index = ['test_score'])"
      ]
    },
    {
      "cell_type": "code",
      "execution_count": 90,
      "metadata": {
        "id": "NSpnpnebxX5g"
      },
      "outputs": [],
      "source": [
        "scores = pd.concat([scores,svc_grid_train] , axis = 1)"
      ]
    },
    {
      "cell_type": "code",
      "execution_count": 91,
      "metadata": {
        "colab": {
          "base_uri": "https://localhost:8080/",
          "height": 81
        },
        "id": "3_3qjiDLw779",
        "outputId": "55de9944-847e-4e20-8040-91b925812d3f"
      },
      "outputs": [
        {
          "output_type": "execute_result",
          "data": {
            "text/plain": [
              "            log_train  log_test  log_grid_train  log_grid_test  svc_train  \\\n",
              "test_score   0.891874  0.875185        0.898375       0.845718   0.839653   \n",
              "\n",
              "            svc_test  svc_grid_train  \n",
              "test_score  0.805895        0.866956  "
            ],
            "text/html": [
              "\n",
              "  <div id=\"df-ef98e799-8db7-47ed-a2af-f15bfe12f852\">\n",
              "    <div class=\"colab-df-container\">\n",
              "      <div>\n",
              "<style scoped>\n",
              "    .dataframe tbody tr th:only-of-type {\n",
              "        vertical-align: middle;\n",
              "    }\n",
              "\n",
              "    .dataframe tbody tr th {\n",
              "        vertical-align: top;\n",
              "    }\n",
              "\n",
              "    .dataframe thead th {\n",
              "        text-align: right;\n",
              "    }\n",
              "</style>\n",
              "<table border=\"1\" class=\"dataframe\">\n",
              "  <thead>\n",
              "    <tr style=\"text-align: right;\">\n",
              "      <th></th>\n",
              "      <th>log_train</th>\n",
              "      <th>log_test</th>\n",
              "      <th>log_grid_train</th>\n",
              "      <th>log_grid_test</th>\n",
              "      <th>svc_train</th>\n",
              "      <th>svc_test</th>\n",
              "      <th>svc_grid_train</th>\n",
              "    </tr>\n",
              "  </thead>\n",
              "  <tbody>\n",
              "    <tr>\n",
              "      <th>test_score</th>\n",
              "      <td>0.891874</td>\n",
              "      <td>0.875185</td>\n",
              "      <td>0.898375</td>\n",
              "      <td>0.845718</td>\n",
              "      <td>0.839653</td>\n",
              "      <td>0.805895</td>\n",
              "      <td>0.866956</td>\n",
              "    </tr>\n",
              "  </tbody>\n",
              "</table>\n",
              "</div>\n",
              "      <button class=\"colab-df-convert\" onclick=\"convertToInteractive('df-ef98e799-8db7-47ed-a2af-f15bfe12f852')\"\n",
              "              title=\"Convert this dataframe to an interactive table.\"\n",
              "              style=\"display:none;\">\n",
              "        \n",
              "  <svg xmlns=\"http://www.w3.org/2000/svg\" height=\"24px\"viewBox=\"0 0 24 24\"\n",
              "       width=\"24px\">\n",
              "    <path d=\"M0 0h24v24H0V0z\" fill=\"none\"/>\n",
              "    <path d=\"M18.56 5.44l.94 2.06.94-2.06 2.06-.94-2.06-.94-.94-2.06-.94 2.06-2.06.94zm-11 1L8.5 8.5l.94-2.06 2.06-.94-2.06-.94L8.5 2.5l-.94 2.06-2.06.94zm10 10l.94 2.06.94-2.06 2.06-.94-2.06-.94-.94-2.06-.94 2.06-2.06.94z\"/><path d=\"M17.41 7.96l-1.37-1.37c-.4-.4-.92-.59-1.43-.59-.52 0-1.04.2-1.43.59L10.3 9.45l-7.72 7.72c-.78.78-.78 2.05 0 2.83L4 21.41c.39.39.9.59 1.41.59.51 0 1.02-.2 1.41-.59l7.78-7.78 2.81-2.81c.8-.78.8-2.07 0-2.86zM5.41 20L4 18.59l7.72-7.72 1.47 1.35L5.41 20z\"/>\n",
              "  </svg>\n",
              "      </button>\n",
              "      \n",
              "  <style>\n",
              "    .colab-df-container {\n",
              "      display:flex;\n",
              "      flex-wrap:wrap;\n",
              "      gap: 12px;\n",
              "    }\n",
              "\n",
              "    .colab-df-convert {\n",
              "      background-color: #E8F0FE;\n",
              "      border: none;\n",
              "      border-radius: 50%;\n",
              "      cursor: pointer;\n",
              "      display: none;\n",
              "      fill: #1967D2;\n",
              "      height: 32px;\n",
              "      padding: 0 0 0 0;\n",
              "      width: 32px;\n",
              "    }\n",
              "\n",
              "    .colab-df-convert:hover {\n",
              "      background-color: #E2EBFA;\n",
              "      box-shadow: 0px 1px 2px rgba(60, 64, 67, 0.3), 0px 1px 3px 1px rgba(60, 64, 67, 0.15);\n",
              "      fill: #174EA6;\n",
              "    }\n",
              "\n",
              "    [theme=dark] .colab-df-convert {\n",
              "      background-color: #3B4455;\n",
              "      fill: #D2E3FC;\n",
              "    }\n",
              "\n",
              "    [theme=dark] .colab-df-convert:hover {\n",
              "      background-color: #434B5C;\n",
              "      box-shadow: 0px 1px 3px 1px rgba(0, 0, 0, 0.15);\n",
              "      filter: drop-shadow(0px 1px 2px rgba(0, 0, 0, 0.3));\n",
              "      fill: #FFFFFF;\n",
              "    }\n",
              "  </style>\n",
              "\n",
              "      <script>\n",
              "        const buttonEl =\n",
              "          document.querySelector('#df-ef98e799-8db7-47ed-a2af-f15bfe12f852 button.colab-df-convert');\n",
              "        buttonEl.style.display =\n",
              "          google.colab.kernel.accessAllowed ? 'block' : 'none';\n",
              "\n",
              "        async function convertToInteractive(key) {\n",
              "          const element = document.querySelector('#df-ef98e799-8db7-47ed-a2af-f15bfe12f852');\n",
              "          const dataTable =\n",
              "            await google.colab.kernel.invokeFunction('convertToInteractive',\n",
              "                                                     [key], {});\n",
              "          if (!dataTable) return;\n",
              "\n",
              "          const docLinkHtml = 'Like what you see? Visit the ' +\n",
              "            '<a target=\"_blank\" href=https://colab.research.google.com/notebooks/data_table.ipynb>data table notebook</a>'\n",
              "            + ' to learn more about interactive tables.';\n",
              "          element.innerHTML = '';\n",
              "          dataTable['output_type'] = 'display_data';\n",
              "          await google.colab.output.renderOutput(dataTable, element);\n",
              "          const docLink = document.createElement('div');\n",
              "          docLink.innerHTML = docLinkHtml;\n",
              "          element.appendChild(docLink);\n",
              "        }\n",
              "      </script>\n",
              "    </div>\n",
              "  </div>\n",
              "  "
            ]
          },
          "metadata": {},
          "execution_count": 91
        }
      ],
      "source": [
        "scores"
      ]
    },
    {
      "cell_type": "code",
      "execution_count": 92,
      "metadata": {
        "id": "h_4SgPzlgrvL"
      },
      "outputs": [],
      "source": [
        "svc_grid_test = pd.DataFrame(cross_validate(grid_svc_model , X_test_scaled , y_test , scoring = 'accuracy' , cv = 5)).mean()[2:]"
      ]
    },
    {
      "cell_type": "code",
      "execution_count": 93,
      "metadata": {
        "colab": {
          "base_uri": "https://localhost:8080/"
        },
        "id": "YmZCIhtzyOr0",
        "outputId": "32f84f83-71b0-42c3-b330-7c669a696c67"
      },
      "outputs": [
        {
          "output_type": "execute_result",
          "data": {
            "text/plain": [
              "test_score    0.85007\n",
              "dtype: float64"
            ]
          },
          "metadata": {},
          "execution_count": 93
        }
      ],
      "source": [
        "svc_grid_test"
      ]
    },
    {
      "cell_type": "code",
      "execution_count": 94,
      "metadata": {
        "id": "Yp32pFtmxtAO"
      },
      "outputs": [],
      "source": [
        "svc_grid_test = pd.DataFrame({'svc_grid_test' : svc_grid_test} , index = ['test_score'])"
      ]
    },
    {
      "cell_type": "code",
      "execution_count": 95,
      "metadata": {
        "id": "DF7nszNpyd3E"
      },
      "outputs": [],
      "source": [
        "scores = pd.concat([scores,svc_grid_test] , axis = 1)"
      ]
    },
    {
      "cell_type": "code",
      "execution_count": 96,
      "metadata": {
        "colab": {
          "base_uri": "https://localhost:8080/",
          "height": 81
        },
        "id": "lX7K_SsBxxZj",
        "outputId": "a94d1460-60da-4a3f-f8c0-9d9d05c3dbe2"
      },
      "outputs": [
        {
          "output_type": "execute_result",
          "data": {
            "text/plain": [
              "            log_train  log_test  log_grid_train  log_grid_test  svc_train  \\\n",
              "test_score   0.891874  0.875185        0.898375       0.845718   0.839653   \n",
              "\n",
              "            svc_test  svc_grid_train  svc_grid_test  \n",
              "test_score  0.805895        0.866956        0.85007  "
            ],
            "text/html": [
              "\n",
              "  <div id=\"df-830e9c91-0b6a-4c7d-b5d0-f86a876c318f\">\n",
              "    <div class=\"colab-df-container\">\n",
              "      <div>\n",
              "<style scoped>\n",
              "    .dataframe tbody tr th:only-of-type {\n",
              "        vertical-align: middle;\n",
              "    }\n",
              "\n",
              "    .dataframe tbody tr th {\n",
              "        vertical-align: top;\n",
              "    }\n",
              "\n",
              "    .dataframe thead th {\n",
              "        text-align: right;\n",
              "    }\n",
              "</style>\n",
              "<table border=\"1\" class=\"dataframe\">\n",
              "  <thead>\n",
              "    <tr style=\"text-align: right;\">\n",
              "      <th></th>\n",
              "      <th>log_train</th>\n",
              "      <th>log_test</th>\n",
              "      <th>log_grid_train</th>\n",
              "      <th>log_grid_test</th>\n",
              "      <th>svc_train</th>\n",
              "      <th>svc_test</th>\n",
              "      <th>svc_grid_train</th>\n",
              "      <th>svc_grid_test</th>\n",
              "    </tr>\n",
              "  </thead>\n",
              "  <tbody>\n",
              "    <tr>\n",
              "      <th>test_score</th>\n",
              "      <td>0.891874</td>\n",
              "      <td>0.875185</td>\n",
              "      <td>0.898375</td>\n",
              "      <td>0.845718</td>\n",
              "      <td>0.839653</td>\n",
              "      <td>0.805895</td>\n",
              "      <td>0.866956</td>\n",
              "      <td>0.85007</td>\n",
              "    </tr>\n",
              "  </tbody>\n",
              "</table>\n",
              "</div>\n",
              "      <button class=\"colab-df-convert\" onclick=\"convertToInteractive('df-830e9c91-0b6a-4c7d-b5d0-f86a876c318f')\"\n",
              "              title=\"Convert this dataframe to an interactive table.\"\n",
              "              style=\"display:none;\">\n",
              "        \n",
              "  <svg xmlns=\"http://www.w3.org/2000/svg\" height=\"24px\"viewBox=\"0 0 24 24\"\n",
              "       width=\"24px\">\n",
              "    <path d=\"M0 0h24v24H0V0z\" fill=\"none\"/>\n",
              "    <path d=\"M18.56 5.44l.94 2.06.94-2.06 2.06-.94-2.06-.94-.94-2.06-.94 2.06-2.06.94zm-11 1L8.5 8.5l.94-2.06 2.06-.94-2.06-.94L8.5 2.5l-.94 2.06-2.06.94zm10 10l.94 2.06.94-2.06 2.06-.94-2.06-.94-.94-2.06-.94 2.06-2.06.94z\"/><path d=\"M17.41 7.96l-1.37-1.37c-.4-.4-.92-.59-1.43-.59-.52 0-1.04.2-1.43.59L10.3 9.45l-7.72 7.72c-.78.78-.78 2.05 0 2.83L4 21.41c.39.39.9.59 1.41.59.51 0 1.02-.2 1.41-.59l7.78-7.78 2.81-2.81c.8-.78.8-2.07 0-2.86zM5.41 20L4 18.59l7.72-7.72 1.47 1.35L5.41 20z\"/>\n",
              "  </svg>\n",
              "      </button>\n",
              "      \n",
              "  <style>\n",
              "    .colab-df-container {\n",
              "      display:flex;\n",
              "      flex-wrap:wrap;\n",
              "      gap: 12px;\n",
              "    }\n",
              "\n",
              "    .colab-df-convert {\n",
              "      background-color: #E8F0FE;\n",
              "      border: none;\n",
              "      border-radius: 50%;\n",
              "      cursor: pointer;\n",
              "      display: none;\n",
              "      fill: #1967D2;\n",
              "      height: 32px;\n",
              "      padding: 0 0 0 0;\n",
              "      width: 32px;\n",
              "    }\n",
              "\n",
              "    .colab-df-convert:hover {\n",
              "      background-color: #E2EBFA;\n",
              "      box-shadow: 0px 1px 2px rgba(60, 64, 67, 0.3), 0px 1px 3px 1px rgba(60, 64, 67, 0.15);\n",
              "      fill: #174EA6;\n",
              "    }\n",
              "\n",
              "    [theme=dark] .colab-df-convert {\n",
              "      background-color: #3B4455;\n",
              "      fill: #D2E3FC;\n",
              "    }\n",
              "\n",
              "    [theme=dark] .colab-df-convert:hover {\n",
              "      background-color: #434B5C;\n",
              "      box-shadow: 0px 1px 3px 1px rgba(0, 0, 0, 0.15);\n",
              "      filter: drop-shadow(0px 1px 2px rgba(0, 0, 0, 0.3));\n",
              "      fill: #FFFFFF;\n",
              "    }\n",
              "  </style>\n",
              "\n",
              "      <script>\n",
              "        const buttonEl =\n",
              "          document.querySelector('#df-830e9c91-0b6a-4c7d-b5d0-f86a876c318f button.colab-df-convert');\n",
              "        buttonEl.style.display =\n",
              "          google.colab.kernel.accessAllowed ? 'block' : 'none';\n",
              "\n",
              "        async function convertToInteractive(key) {\n",
              "          const element = document.querySelector('#df-830e9c91-0b6a-4c7d-b5d0-f86a876c318f');\n",
              "          const dataTable =\n",
              "            await google.colab.kernel.invokeFunction('convertToInteractive',\n",
              "                                                     [key], {});\n",
              "          if (!dataTable) return;\n",
              "\n",
              "          const docLinkHtml = 'Like what you see? Visit the ' +\n",
              "            '<a target=\"_blank\" href=https://colab.research.google.com/notebooks/data_table.ipynb>data table notebook</a>'\n",
              "            + ' to learn more about interactive tables.';\n",
              "          element.innerHTML = '';\n",
              "          dataTable['output_type'] = 'display_data';\n",
              "          await google.colab.output.renderOutput(dataTable, element);\n",
              "          const docLink = document.createElement('div');\n",
              "          docLink.innerHTML = docLinkHtml;\n",
              "          element.appendChild(docLink);\n",
              "        }\n",
              "      </script>\n",
              "    </div>\n",
              "  </div>\n",
              "  "
            ]
          },
          "metadata": {},
          "execution_count": 96
        }
      ],
      "source": [
        "scores"
      ]
    },
    {
      "cell_type": "markdown",
      "metadata": {
        "id": "bDX_iLIls74C"
      },
      "source": [
        "## 3. RF"
      ]
    },
    {
      "cell_type": "code",
      "source": [
        "from sklearn.model_selection import train_test_split\n",
        "from sklearn.preprocessing import OrdinalEncoder"
      ],
      "metadata": {
        "id": "JYLf_B8b7Uxq"
      },
      "execution_count": 97,
      "outputs": []
    },
    {
      "cell_type": "code",
      "source": [
        "X_train , X_test , y_train , y_test = train_test_split(X,y , test_size = 0.2 , random_state = 53)"
      ],
      "metadata": {
        "id": "R5kQ90N561f3"
      },
      "execution_count": 98,
      "outputs": []
    },
    {
      "cell_type": "code",
      "source": [
        "X_train"
      ],
      "metadata": {
        "colab": {
          "base_uri": "https://localhost:8080/",
          "height": 505
        },
        "id": "hHkMKGsD8QH8",
        "outputId": "97fe705a-8a82-483d-9369-584d74ec679a"
      },
      "execution_count": 99,
      "outputs": [
        {
          "output_type": "execute_result",
          "data": {
            "text/plain": [
              "      abdominalextensiondepthsitting  acromialheight  acromionradialelength  \\\n",
              "482                              274            1346                    309   \n",
              "1590                             322            1457                    343   \n",
              "3569                             280            1434                    337   \n",
              "3697                             299            1563                    368   \n",
              "1770                             251            1359                    312   \n",
              "...                              ...             ...                    ...   \n",
              "4820                             201            1351                    303   \n",
              "701                              219            1460                    352   \n",
              "3417                             283            1330                    308   \n",
              "3068                             225            1473                    356   \n",
              "839                              253            1463                    327   \n",
              "\n",
              "      anklecircumference  axillaheight  balloffootcircumference  \\\n",
              "482                  218          1243                      235   \n",
              "1590                 250          1334                      261   \n",
              "3569                 240          1313                      261   \n",
              "3697                 256          1438                      284   \n",
              "1770                 230          1236                      243   \n",
              "...                  ...           ...                      ...   \n",
              "4820                 227          1261                      218   \n",
              "701                  234          1352                      258   \n",
              "3417                 215          1223                      246   \n",
              "3068                 222          1356                      253   \n",
              "839                  233          1350                      266   \n",
              "\n",
              "      balloffootlength  biacromialbreadth  bicepscircumferenceflexed  \\\n",
              "482                186                402                        337   \n",
              "1590               201                407                        355   \n",
              "3569               193                421                        361   \n",
              "3697               218                428                        444   \n",
              "1770               183                396                        369   \n",
              "...                ...                ...                        ...   \n",
              "4820               164                372                        270   \n",
              "701                198                400                        318   \n",
              "3417               193                395                        381   \n",
              "3068               216                416                        350   \n",
              "839                208                426                        381   \n",
              "\n",
              "      bicristalbreadth  ...  SubjectsBirthLocation_Venezuela  \\\n",
              "482                262  ...                                0   \n",
              "1590               275  ...                                0   \n",
              "3569               263  ...                                0   \n",
              "3697               317  ...                                0   \n",
              "1770               260  ...                                0   \n",
              "...                ...  ...                              ...   \n",
              "4820               256  ...                                0   \n",
              "701                282  ...                                0   \n",
              "3417               262  ...                                0   \n",
              "3068               259  ...                                0   \n",
              "839                273  ...                                0   \n",
              "\n",
              "      SubjectsBirthLocation_Vermont  SubjectsBirthLocation_Virginia  \\\n",
              "482                               0                               0   \n",
              "1590                              0                               0   \n",
              "3569                              0                               0   \n",
              "3697                              0                               0   \n",
              "1770                              0                               0   \n",
              "...                             ...                             ...   \n",
              "4820                              0                               0   \n",
              "701                               0                               0   \n",
              "3417                              0                               0   \n",
              "3068                              0                               0   \n",
              "839                               0                               0   \n",
              "\n",
              "      SubjectsBirthLocation_Washington  SubjectsBirthLocation_West Virginia  \\\n",
              "482                                  0                                    0   \n",
              "1590                                 0                                    0   \n",
              "3569                                 0                                    0   \n",
              "3697                                 0                                    0   \n",
              "1770                                 0                                    0   \n",
              "...                                ...                                  ...   \n",
              "4820                                 0                                    0   \n",
              "701                                  0                                    0   \n",
              "3417                                 0                                    0   \n",
              "3068                                 0                                    0   \n",
              "839                                  0                                    0   \n",
              "\n",
              "      SubjectsBirthLocation_Wisconsin  SubjectsBirthLocation_Wyoming  \\\n",
              "482                                 0                              0   \n",
              "1590                                0                              0   \n",
              "3569                                0                              0   \n",
              "3697                                0                              0   \n",
              "1770                                0                              0   \n",
              "...                               ...                            ...   \n",
              "4820                                0                              0   \n",
              "701                                 0                              0   \n",
              "3417                                0                              0   \n",
              "3068                                0                              0   \n",
              "839                                 0                              0   \n",
              "\n",
              "      SubjectsBirthLocation_Zambia  WritingPreference_Left hand  \\\n",
              "482                              0                            0   \n",
              "1590                             0                            0   \n",
              "3569                             0                            0   \n",
              "3697                             0                            1   \n",
              "1770                             0                            0   \n",
              "...                            ...                          ...   \n",
              "4820                             0                            0   \n",
              "701                              0                            0   \n",
              "3417                             0                            0   \n",
              "3068                             0                            0   \n",
              "839                              0                            0   \n",
              "\n",
              "      WritingPreference_Right hand  \n",
              "482                              1  \n",
              "1590                             1  \n",
              "3569                             1  \n",
              "3697                             0  \n",
              "1770                             1  \n",
              "...                            ...  \n",
              "4820                             1  \n",
              "701                              1  \n",
              "3417                             1  \n",
              "3068                             1  \n",
              "839                              1  \n",
              "\n",
              "[4615 rows x 232 columns]"
            ],
            "text/html": [
              "\n",
              "  <div id=\"df-10c4d151-f401-4c0a-b6be-27658090b6ee\">\n",
              "    <div class=\"colab-df-container\">\n",
              "      <div>\n",
              "<style scoped>\n",
              "    .dataframe tbody tr th:only-of-type {\n",
              "        vertical-align: middle;\n",
              "    }\n",
              "\n",
              "    .dataframe tbody tr th {\n",
              "        vertical-align: top;\n",
              "    }\n",
              "\n",
              "    .dataframe thead th {\n",
              "        text-align: right;\n",
              "    }\n",
              "</style>\n",
              "<table border=\"1\" class=\"dataframe\">\n",
              "  <thead>\n",
              "    <tr style=\"text-align: right;\">\n",
              "      <th></th>\n",
              "      <th>abdominalextensiondepthsitting</th>\n",
              "      <th>acromialheight</th>\n",
              "      <th>acromionradialelength</th>\n",
              "      <th>anklecircumference</th>\n",
              "      <th>axillaheight</th>\n",
              "      <th>balloffootcircumference</th>\n",
              "      <th>balloffootlength</th>\n",
              "      <th>biacromialbreadth</th>\n",
              "      <th>bicepscircumferenceflexed</th>\n",
              "      <th>bicristalbreadth</th>\n",
              "      <th>...</th>\n",
              "      <th>SubjectsBirthLocation_Venezuela</th>\n",
              "      <th>SubjectsBirthLocation_Vermont</th>\n",
              "      <th>SubjectsBirthLocation_Virginia</th>\n",
              "      <th>SubjectsBirthLocation_Washington</th>\n",
              "      <th>SubjectsBirthLocation_West Virginia</th>\n",
              "      <th>SubjectsBirthLocation_Wisconsin</th>\n",
              "      <th>SubjectsBirthLocation_Wyoming</th>\n",
              "      <th>SubjectsBirthLocation_Zambia</th>\n",
              "      <th>WritingPreference_Left hand</th>\n",
              "      <th>WritingPreference_Right hand</th>\n",
              "    </tr>\n",
              "  </thead>\n",
              "  <tbody>\n",
              "    <tr>\n",
              "      <th>482</th>\n",
              "      <td>274</td>\n",
              "      <td>1346</td>\n",
              "      <td>309</td>\n",
              "      <td>218</td>\n",
              "      <td>1243</td>\n",
              "      <td>235</td>\n",
              "      <td>186</td>\n",
              "      <td>402</td>\n",
              "      <td>337</td>\n",
              "      <td>262</td>\n",
              "      <td>...</td>\n",
              "      <td>0</td>\n",
              "      <td>0</td>\n",
              "      <td>0</td>\n",
              "      <td>0</td>\n",
              "      <td>0</td>\n",
              "      <td>0</td>\n",
              "      <td>0</td>\n",
              "      <td>0</td>\n",
              "      <td>0</td>\n",
              "      <td>1</td>\n",
              "    </tr>\n",
              "    <tr>\n",
              "      <th>1590</th>\n",
              "      <td>322</td>\n",
              "      <td>1457</td>\n",
              "      <td>343</td>\n",
              "      <td>250</td>\n",
              "      <td>1334</td>\n",
              "      <td>261</td>\n",
              "      <td>201</td>\n",
              "      <td>407</td>\n",
              "      <td>355</td>\n",
              "      <td>275</td>\n",
              "      <td>...</td>\n",
              "      <td>0</td>\n",
              "      <td>0</td>\n",
              "      <td>0</td>\n",
              "      <td>0</td>\n",
              "      <td>0</td>\n",
              "      <td>0</td>\n",
              "      <td>0</td>\n",
              "      <td>0</td>\n",
              "      <td>0</td>\n",
              "      <td>1</td>\n",
              "    </tr>\n",
              "    <tr>\n",
              "      <th>3569</th>\n",
              "      <td>280</td>\n",
              "      <td>1434</td>\n",
              "      <td>337</td>\n",
              "      <td>240</td>\n",
              "      <td>1313</td>\n",
              "      <td>261</td>\n",
              "      <td>193</td>\n",
              "      <td>421</td>\n",
              "      <td>361</td>\n",
              "      <td>263</td>\n",
              "      <td>...</td>\n",
              "      <td>0</td>\n",
              "      <td>0</td>\n",
              "      <td>0</td>\n",
              "      <td>0</td>\n",
              "      <td>0</td>\n",
              "      <td>0</td>\n",
              "      <td>0</td>\n",
              "      <td>0</td>\n",
              "      <td>0</td>\n",
              "      <td>1</td>\n",
              "    </tr>\n",
              "    <tr>\n",
              "      <th>3697</th>\n",
              "      <td>299</td>\n",
              "      <td>1563</td>\n",
              "      <td>368</td>\n",
              "      <td>256</td>\n",
              "      <td>1438</td>\n",
              "      <td>284</td>\n",
              "      <td>218</td>\n",
              "      <td>428</td>\n",
              "      <td>444</td>\n",
              "      <td>317</td>\n",
              "      <td>...</td>\n",
              "      <td>0</td>\n",
              "      <td>0</td>\n",
              "      <td>0</td>\n",
              "      <td>0</td>\n",
              "      <td>0</td>\n",
              "      <td>0</td>\n",
              "      <td>0</td>\n",
              "      <td>0</td>\n",
              "      <td>1</td>\n",
              "      <td>0</td>\n",
              "    </tr>\n",
              "    <tr>\n",
              "      <th>1770</th>\n",
              "      <td>251</td>\n",
              "      <td>1359</td>\n",
              "      <td>312</td>\n",
              "      <td>230</td>\n",
              "      <td>1236</td>\n",
              "      <td>243</td>\n",
              "      <td>183</td>\n",
              "      <td>396</td>\n",
              "      <td>369</td>\n",
              "      <td>260</td>\n",
              "      <td>...</td>\n",
              "      <td>0</td>\n",
              "      <td>0</td>\n",
              "      <td>0</td>\n",
              "      <td>0</td>\n",
              "      <td>0</td>\n",
              "      <td>0</td>\n",
              "      <td>0</td>\n",
              "      <td>0</td>\n",
              "      <td>0</td>\n",
              "      <td>1</td>\n",
              "    </tr>\n",
              "    <tr>\n",
              "      <th>...</th>\n",
              "      <td>...</td>\n",
              "      <td>...</td>\n",
              "      <td>...</td>\n",
              "      <td>...</td>\n",
              "      <td>...</td>\n",
              "      <td>...</td>\n",
              "      <td>...</td>\n",
              "      <td>...</td>\n",
              "      <td>...</td>\n",
              "      <td>...</td>\n",
              "      <td>...</td>\n",
              "      <td>...</td>\n",
              "      <td>...</td>\n",
              "      <td>...</td>\n",
              "      <td>...</td>\n",
              "      <td>...</td>\n",
              "      <td>...</td>\n",
              "      <td>...</td>\n",
              "      <td>...</td>\n",
              "      <td>...</td>\n",
              "      <td>...</td>\n",
              "    </tr>\n",
              "    <tr>\n",
              "      <th>4820</th>\n",
              "      <td>201</td>\n",
              "      <td>1351</td>\n",
              "      <td>303</td>\n",
              "      <td>227</td>\n",
              "      <td>1261</td>\n",
              "      <td>218</td>\n",
              "      <td>164</td>\n",
              "      <td>372</td>\n",
              "      <td>270</td>\n",
              "      <td>256</td>\n",
              "      <td>...</td>\n",
              "      <td>0</td>\n",
              "      <td>0</td>\n",
              "      <td>0</td>\n",
              "      <td>0</td>\n",
              "      <td>0</td>\n",
              "      <td>0</td>\n",
              "      <td>0</td>\n",
              "      <td>0</td>\n",
              "      <td>0</td>\n",
              "      <td>1</td>\n",
              "    </tr>\n",
              "    <tr>\n",
              "      <th>701</th>\n",
              "      <td>219</td>\n",
              "      <td>1460</td>\n",
              "      <td>352</td>\n",
              "      <td>234</td>\n",
              "      <td>1352</td>\n",
              "      <td>258</td>\n",
              "      <td>198</td>\n",
              "      <td>400</td>\n",
              "      <td>318</td>\n",
              "      <td>282</td>\n",
              "      <td>...</td>\n",
              "      <td>0</td>\n",
              "      <td>0</td>\n",
              "      <td>0</td>\n",
              "      <td>0</td>\n",
              "      <td>0</td>\n",
              "      <td>0</td>\n",
              "      <td>0</td>\n",
              "      <td>0</td>\n",
              "      <td>0</td>\n",
              "      <td>1</td>\n",
              "    </tr>\n",
              "    <tr>\n",
              "      <th>3417</th>\n",
              "      <td>283</td>\n",
              "      <td>1330</td>\n",
              "      <td>308</td>\n",
              "      <td>215</td>\n",
              "      <td>1223</td>\n",
              "      <td>246</td>\n",
              "      <td>193</td>\n",
              "      <td>395</td>\n",
              "      <td>381</td>\n",
              "      <td>262</td>\n",
              "      <td>...</td>\n",
              "      <td>0</td>\n",
              "      <td>0</td>\n",
              "      <td>0</td>\n",
              "      <td>0</td>\n",
              "      <td>0</td>\n",
              "      <td>0</td>\n",
              "      <td>0</td>\n",
              "      <td>0</td>\n",
              "      <td>0</td>\n",
              "      <td>1</td>\n",
              "    </tr>\n",
              "    <tr>\n",
              "      <th>3068</th>\n",
              "      <td>225</td>\n",
              "      <td>1473</td>\n",
              "      <td>356</td>\n",
              "      <td>222</td>\n",
              "      <td>1356</td>\n",
              "      <td>253</td>\n",
              "      <td>216</td>\n",
              "      <td>416</td>\n",
              "      <td>350</td>\n",
              "      <td>259</td>\n",
              "      <td>...</td>\n",
              "      <td>0</td>\n",
              "      <td>0</td>\n",
              "      <td>0</td>\n",
              "      <td>0</td>\n",
              "      <td>0</td>\n",
              "      <td>0</td>\n",
              "      <td>0</td>\n",
              "      <td>0</td>\n",
              "      <td>0</td>\n",
              "      <td>1</td>\n",
              "    </tr>\n",
              "    <tr>\n",
              "      <th>839</th>\n",
              "      <td>253</td>\n",
              "      <td>1463</td>\n",
              "      <td>327</td>\n",
              "      <td>233</td>\n",
              "      <td>1350</td>\n",
              "      <td>266</td>\n",
              "      <td>208</td>\n",
              "      <td>426</td>\n",
              "      <td>381</td>\n",
              "      <td>273</td>\n",
              "      <td>...</td>\n",
              "      <td>0</td>\n",
              "      <td>0</td>\n",
              "      <td>0</td>\n",
              "      <td>0</td>\n",
              "      <td>0</td>\n",
              "      <td>0</td>\n",
              "      <td>0</td>\n",
              "      <td>0</td>\n",
              "      <td>0</td>\n",
              "      <td>1</td>\n",
              "    </tr>\n",
              "  </tbody>\n",
              "</table>\n",
              "<p>4615 rows × 232 columns</p>\n",
              "</div>\n",
              "      <button class=\"colab-df-convert\" onclick=\"convertToInteractive('df-10c4d151-f401-4c0a-b6be-27658090b6ee')\"\n",
              "              title=\"Convert this dataframe to an interactive table.\"\n",
              "              style=\"display:none;\">\n",
              "        \n",
              "  <svg xmlns=\"http://www.w3.org/2000/svg\" height=\"24px\"viewBox=\"0 0 24 24\"\n",
              "       width=\"24px\">\n",
              "    <path d=\"M0 0h24v24H0V0z\" fill=\"none\"/>\n",
              "    <path d=\"M18.56 5.44l.94 2.06.94-2.06 2.06-.94-2.06-.94-.94-2.06-.94 2.06-2.06.94zm-11 1L8.5 8.5l.94-2.06 2.06-.94-2.06-.94L8.5 2.5l-.94 2.06-2.06.94zm10 10l.94 2.06.94-2.06 2.06-.94-2.06-.94-.94-2.06-.94 2.06-2.06.94z\"/><path d=\"M17.41 7.96l-1.37-1.37c-.4-.4-.92-.59-1.43-.59-.52 0-1.04.2-1.43.59L10.3 9.45l-7.72 7.72c-.78.78-.78 2.05 0 2.83L4 21.41c.39.39.9.59 1.41.59.51 0 1.02-.2 1.41-.59l7.78-7.78 2.81-2.81c.8-.78.8-2.07 0-2.86zM5.41 20L4 18.59l7.72-7.72 1.47 1.35L5.41 20z\"/>\n",
              "  </svg>\n",
              "      </button>\n",
              "      \n",
              "  <style>\n",
              "    .colab-df-container {\n",
              "      display:flex;\n",
              "      flex-wrap:wrap;\n",
              "      gap: 12px;\n",
              "    }\n",
              "\n",
              "    .colab-df-convert {\n",
              "      background-color: #E8F0FE;\n",
              "      border: none;\n",
              "      border-radius: 50%;\n",
              "      cursor: pointer;\n",
              "      display: none;\n",
              "      fill: #1967D2;\n",
              "      height: 32px;\n",
              "      padding: 0 0 0 0;\n",
              "      width: 32px;\n",
              "    }\n",
              "\n",
              "    .colab-df-convert:hover {\n",
              "      background-color: #E2EBFA;\n",
              "      box-shadow: 0px 1px 2px rgba(60, 64, 67, 0.3), 0px 1px 3px 1px rgba(60, 64, 67, 0.15);\n",
              "      fill: #174EA6;\n",
              "    }\n",
              "\n",
              "    [theme=dark] .colab-df-convert {\n",
              "      background-color: #3B4455;\n",
              "      fill: #D2E3FC;\n",
              "    }\n",
              "\n",
              "    [theme=dark] .colab-df-convert:hover {\n",
              "      background-color: #434B5C;\n",
              "      box-shadow: 0px 1px 3px 1px rgba(0, 0, 0, 0.15);\n",
              "      filter: drop-shadow(0px 1px 2px rgba(0, 0, 0, 0.3));\n",
              "      fill: #FFFFFF;\n",
              "    }\n",
              "  </style>\n",
              "\n",
              "      <script>\n",
              "        const buttonEl =\n",
              "          document.querySelector('#df-10c4d151-f401-4c0a-b6be-27658090b6ee button.colab-df-convert');\n",
              "        buttonEl.style.display =\n",
              "          google.colab.kernel.accessAllowed ? 'block' : 'none';\n",
              "\n",
              "        async function convertToInteractive(key) {\n",
              "          const element = document.querySelector('#df-10c4d151-f401-4c0a-b6be-27658090b6ee');\n",
              "          const dataTable =\n",
              "            await google.colab.kernel.invokeFunction('convertToInteractive',\n",
              "                                                     [key], {});\n",
              "          if (!dataTable) return;\n",
              "\n",
              "          const docLinkHtml = 'Like what you see? Visit the ' +\n",
              "            '<a target=\"_blank\" href=https://colab.research.google.com/notebooks/data_table.ipynb>data table notebook</a>'\n",
              "            + ' to learn more about interactive tables.';\n",
              "          element.innerHTML = '';\n",
              "          dataTable['output_type'] = 'display_data';\n",
              "          await google.colab.output.renderOutput(dataTable, element);\n",
              "          const docLink = document.createElement('div');\n",
              "          docLink.innerHTML = docLinkHtml;\n",
              "          element.appendChild(docLink);\n",
              "        }\n",
              "      </script>\n",
              "    </div>\n",
              "  </div>\n",
              "  "
            ]
          },
          "metadata": {},
          "execution_count": 99
        }
      ]
    },
    {
      "cell_type": "code",
      "source": [
        "X_test"
      ],
      "metadata": {
        "id": "WTPZ9FdT8b85"
      },
      "execution_count": 100,
      "outputs": []
    },
    {
      "cell_type": "code",
      "source": [
        "enc = OrdinalEncoder(handle_unknown = 'use_encoded_value' , unknown_value = -1)\n",
        "\n",
        "X_train = enc.fit_transform(X_train)\n",
        "X_test = enc.transform(X_test)"
      ],
      "metadata": {
        "id": "eMvAfkvn7ElJ"
      },
      "execution_count": 101,
      "outputs": []
    },
    {
      "cell_type": "markdown",
      "metadata": {
        "id": "cBVdqy1CgrvL"
      },
      "source": [
        "### Vanilla RF Model"
      ]
    },
    {
      "cell_type": "code",
      "execution_count": 102,
      "metadata": {
        "id": "30vspE1bYCIh"
      },
      "outputs": [],
      "source": [
        "from sklearn.ensemble import RandomForestClassifier"
      ]
    },
    {
      "cell_type": "code",
      "execution_count": 103,
      "metadata": {
        "id": "ZG0JmjRxYCUr"
      },
      "outputs": [],
      "source": [
        "rf = RandomForestClassifier(random_state = 53 , class_weight = 'balanced' )"
      ]
    },
    {
      "cell_type": "code",
      "execution_count": 104,
      "metadata": {
        "colab": {
          "base_uri": "https://localhost:8080/"
        },
        "id": "6YzHyQ8md_8X",
        "outputId": "c7cd9778-15a4-4bee-ebf8-4a8150dcdd19"
      },
      "outputs": [
        {
          "output_type": "execute_result",
          "data": {
            "text/plain": [
              "RandomForestClassifier(class_weight='balanced', random_state=53)"
            ]
          },
          "metadata": {},
          "execution_count": 104
        }
      ],
      "source": [
        "rf.fit(X_train , y_train)"
      ]
    },
    {
      "cell_type": "code",
      "execution_count": 105,
      "metadata": {
        "id": "gWxML6ZEeIAl"
      },
      "outputs": [],
      "source": [
        "rf_y_train_pred = rf.predict(X_train)\n",
        "rf_y_pred = rf.predict(X_test)"
      ]
    },
    {
      "cell_type": "code",
      "execution_count": 106,
      "metadata": {
        "colab": {
          "base_uri": "https://localhost:8080/",
          "height": 1000
        },
        "id": "jtLqScrod_-t",
        "outputId": "417c8d11-3ad4-4540-b47c-d2c58b9d4831"
      },
      "outputs": [
        {
          "output_type": "stream",
          "name": "stdout",
          "text": [
            "Test_Set\n",
            "[[723   4   2]\n",
            " [ 84 192   2]\n",
            " [133   7   7]]\n",
            "              precision    recall  f1-score   support\n",
            "\n",
            "           1       0.77      0.99      0.87       729\n",
            "           2       0.95      0.69      0.80       278\n",
            "           3       0.64      0.05      0.09       147\n",
            "\n",
            "    accuracy                           0.80      1154\n",
            "   macro avg       0.78      0.58      0.58      1154\n",
            "weighted avg       0.79      0.80      0.75      1154\n",
            "\n",
            "<sklearn.metrics._plot.confusion_matrix.ConfusionMatrixDisplay object at 0x7f2415205210>\n",
            "\n",
            "Train_Set\n",
            "[[3063    0    0]\n",
            " [   0 1020    0]\n",
            " [   0    0  532]]\n",
            "              precision    recall  f1-score   support\n",
            "\n",
            "           1       1.00      1.00      1.00      3063\n",
            "           2       1.00      1.00      1.00      1020\n",
            "           3       1.00      1.00      1.00       532\n",
            "\n",
            "    accuracy                           1.00      4615\n",
            "   macro avg       1.00      1.00      1.00      4615\n",
            "weighted avg       1.00      1.00      1.00      4615\n",
            "\n"
          ]
        },
        {
          "output_type": "stream",
          "name": "stderr",
          "text": [
            "/usr/local/lib/python3.7/dist-packages/sklearn/utils/deprecation.py:87: FutureWarning: Function plot_confusion_matrix is deprecated; Function `plot_confusion_matrix` is deprecated in 1.0 and will be removed in 1.2. Use one of the class methods: ConfusionMatrixDisplay.from_predictions or ConfusionMatrixDisplay.from_estimator.\n",
            "  warnings.warn(msg, category=FutureWarning)\n",
            "/usr/local/lib/python3.7/dist-packages/sklearn/utils/deprecation.py:87: FutureWarning: Function plot_confusion_matrix is deprecated; Function `plot_confusion_matrix` is deprecated in 1.0 and will be removed in 1.2. Use one of the class methods: ConfusionMatrixDisplay.from_predictions or ConfusionMatrixDisplay.from_estimator.\n",
            "  warnings.warn(msg, category=FutureWarning)\n"
          ]
        },
        {
          "output_type": "stream",
          "name": "stdout",
          "text": [
            "<sklearn.metrics._plot.confusion_matrix.ConfusionMatrixDisplay object at 0x7f2415236890>\n"
          ]
        },
        {
          "output_type": "display_data",
          "data": {
            "text/plain": [
              "<Figure size 432x288 with 2 Axes>"
            ],
            "image/png": "[encoded data removed]"
          },
          "metadata": {
            "needs_background": "light"
          }
        },
        {
          "output_type": "display_data",
          "data": {
            "text/plain": [
              "<Figure size 432x288 with 2 Axes>"
            ],
            "image/png": "[encoded data removed]"
          },
          "metadata": {
            "needs_background": "light"
          }
        }
      ],
      "source": [
        "eval_metric(rf,X_train , y_train , X_test , y_test)"
      ]
    },
    {
      "cell_type": "code",
      "execution_count": 107,
      "metadata": {
        "id": "HOPmi2y3YCXc"
      },
      "outputs": [],
      "source": [
        "# plot_multiclass_roc(rf,X_test,y_test,3)"
      ]
    },
    {
      "cell_type": "code",
      "execution_count": 108,
      "metadata": {
        "id": "XOBw7ht9YCcB"
      },
      "outputs": [],
      "source": [
        "rf_train = pd.DataFrame(cross_validate(rf , X_train , y_train , cv = 5 , scoring = 'accuracy')).mean()[2:]"
      ]
    },
    {
      "cell_type": "code",
      "execution_count": 109,
      "metadata": {
        "id": "P9PVXByBzS1F"
      },
      "outputs": [],
      "source": [
        "rf_train = pd.DataFrame({'rf_train' : rf_train} , index = ['test_score'] )"
      ]
    },
    {
      "cell_type": "code",
      "execution_count": 110,
      "metadata": {
        "colab": {
          "base_uri": "https://localhost:8080/",
          "height": 81
        },
        "id": "awfKMSk9zyb1",
        "outputId": "7d182eb9-3b73-45f7-c469-21c900b102ef"
      },
      "outputs": [
        {
          "output_type": "execute_result",
          "data": {
            "text/plain": [
              "            rf_train\n",
              "test_score  0.805634"
            ],
            "text/html": [
              "\n",
              "  <div id=\"df-cdc24e07-8c9e-4e00-b82a-fe3828e194ee\">\n",
              "    <div class=\"colab-df-container\">\n",
              "      <div>\n",
              "<style scoped>\n",
              "    .dataframe tbody tr th:only-of-type {\n",
              "        vertical-align: middle;\n",
              "    }\n",
              "\n",
              "    .dataframe tbody tr th {\n",
              "        vertical-align: top;\n",
              "    }\n",
              "\n",
              "    .dataframe thead th {\n",
              "        text-align: right;\n",
              "    }\n",
              "</style>\n",
              "<table border=\"1\" class=\"dataframe\">\n",
              "  <thead>\n",
              "    <tr style=\"text-align: right;\">\n",
              "      <th></th>\n",
              "      <th>rf_train</th>\n",
              "    </tr>\n",
              "  </thead>\n",
              "  <tbody>\n",
              "    <tr>\n",
              "      <th>test_score</th>\n",
              "      <td>0.805634</td>\n",
              "    </tr>\n",
              "  </tbody>\n",
              "</table>\n",
              "</div>\n",
              "      <button class=\"colab-df-convert\" onclick=\"convertToInteractive('df-cdc24e07-8c9e-4e00-b82a-fe3828e194ee')\"\n",
              "              title=\"Convert this dataframe to an interactive table.\"\n",
              "              style=\"display:none;\">\n",
              "        \n",
              "  <svg xmlns=\"http://www.w3.org/2000/svg\" height=\"24px\"viewBox=\"0 0 24 24\"\n",
              "       width=\"24px\">\n",
              "    <path d=\"M0 0h24v24H0V0z\" fill=\"none\"/>\n",
              "    <path d=\"M18.56 5.44l.94 2.06.94-2.06 2.06-.94-2.06-.94-.94-2.06-.94 2.06-2.06.94zm-11 1L8.5 8.5l.94-2.06 2.06-.94-2.06-.94L8.5 2.5l-.94 2.06-2.06.94zm10 10l.94 2.06.94-2.06 2.06-.94-2.06-.94-.94-2.06-.94 2.06-2.06.94z\"/><path d=\"M17.41 7.96l-1.37-1.37c-.4-.4-.92-.59-1.43-.59-.52 0-1.04.2-1.43.59L10.3 9.45l-7.72 7.72c-.78.78-.78 2.05 0 2.83L4 21.41c.39.39.9.59 1.41.59.51 0 1.02-.2 1.41-.59l7.78-7.78 2.81-2.81c.8-.78.8-2.07 0-2.86zM5.41 20L4 18.59l7.72-7.72 1.47 1.35L5.41 20z\"/>\n",
              "  </svg>\n",
              "      </button>\n",
              "      \n",
              "  <style>\n",
              "    .colab-df-container {\n",
              "      display:flex;\n",
              "      flex-wrap:wrap;\n",
              "      gap: 12px;\n",
              "    }\n",
              "\n",
              "    .colab-df-convert {\n",
              "      background-color: #E8F0FE;\n",
              "      border: none;\n",
              "      border-radius: 50%;\n",
              "      cursor: pointer;\n",
              "      display: none;\n",
              "      fill: #1967D2;\n",
              "      height: 32px;\n",
              "      padding: 0 0 0 0;\n",
              "      width: 32px;\n",
              "    }\n",
              "\n",
              "    .colab-df-convert:hover {\n",
              "      background-color: #E2EBFA;\n",
              "      box-shadow: 0px 1px 2px rgba(60, 64, 67, 0.3), 0px 1px 3px 1px rgba(60, 64, 67, 0.15);\n",
              "      fill: #174EA6;\n",
              "    }\n",
              "\n",
              "    [theme=dark] .colab-df-convert {\n",
              "      background-color: #3B4455;\n",
              "      fill: #D2E3FC;\n",
              "    }\n",
              "\n",
              "    [theme=dark] .colab-df-convert:hover {\n",
              "      background-color: #434B5C;\n",
              "      box-shadow: 0px 1px 3px 1px rgba(0, 0, 0, 0.15);\n",
              "      filter: drop-shadow(0px 1px 2px rgba(0, 0, 0, 0.3));\n",
              "      fill: #FFFFFF;\n",
              "    }\n",
              "  </style>\n",
              "\n",
              "      <script>\n",
              "        const buttonEl =\n",
              "          document.querySelector('#df-cdc24e07-8c9e-4e00-b82a-fe3828e194ee button.colab-df-convert');\n",
              "        buttonEl.style.display =\n",
              "          google.colab.kernel.accessAllowed ? 'block' : 'none';\n",
              "\n",
              "        async function convertToInteractive(key) {\n",
              "          const element = document.querySelector('#df-cdc24e07-8c9e-4e00-b82a-fe3828e194ee');\n",
              "          const dataTable =\n",
              "            await google.colab.kernel.invokeFunction('convertToInteractive',\n",
              "                                                     [key], {});\n",
              "          if (!dataTable) return;\n",
              "\n",
              "          const docLinkHtml = 'Like what you see? Visit the ' +\n",
              "            '<a target=\"_blank\" href=https://colab.research.google.com/notebooks/data_table.ipynb>data table notebook</a>'\n",
              "            + ' to learn more about interactive tables.';\n",
              "          element.innerHTML = '';\n",
              "          dataTable['output_type'] = 'display_data';\n",
              "          await google.colab.output.renderOutput(dataTable, element);\n",
              "          const docLink = document.createElement('div');\n",
              "          docLink.innerHTML = docLinkHtml;\n",
              "          element.appendChild(docLink);\n",
              "        }\n",
              "      </script>\n",
              "    </div>\n",
              "  </div>\n",
              "  "
            ]
          },
          "metadata": {},
          "execution_count": 110
        }
      ],
      "source": [
        "rf_train"
      ]
    },
    {
      "cell_type": "code",
      "execution_count": 111,
      "metadata": {
        "id": "SmyAzQp0zS3b"
      },
      "outputs": [],
      "source": [
        "scores = pd.concat([scores,rf_train] , axis = 1)"
      ]
    },
    {
      "cell_type": "code",
      "execution_count": 112,
      "metadata": {
        "colab": {
          "base_uri": "https://localhost:8080/",
          "height": 81
        },
        "id": "fGBWwW-knH1f",
        "outputId": "2266b488-96dd-44ce-c255-7ec8727d4275"
      },
      "outputs": [
        {
          "output_type": "execute_result",
          "data": {
            "text/plain": [
              "            log_train  log_test  log_grid_train  log_grid_test  svc_train  \\\n",
              "test_score   0.891874  0.875185        0.898375       0.845718   0.839653   \n",
              "\n",
              "            svc_test  svc_grid_train  svc_grid_test  rf_train  \n",
              "test_score  0.805895        0.866956        0.85007  0.805634  "
            ],
            "text/html": [
              "\n",
              "  <div id=\"df-df606278-a392-411e-820c-1dde2b383f79\">\n",
              "    <div class=\"colab-df-container\">\n",
              "      <div>\n",
              "<style scoped>\n",
              "    .dataframe tbody tr th:only-of-type {\n",
              "        vertical-align: middle;\n",
              "    }\n",
              "\n",
              "    .dataframe tbody tr th {\n",
              "        vertical-align: top;\n",
              "    }\n",
              "\n",
              "    .dataframe thead th {\n",
              "        text-align: right;\n",
              "    }\n",
              "</style>\n",
              "<table border=\"1\" class=\"dataframe\">\n",
              "  <thead>\n",
              "    <tr style=\"text-align: right;\">\n",
              "      <th></th>\n",
              "      <th>log_train</th>\n",
              "      <th>log_test</th>\n",
              "      <th>log_grid_train</th>\n",
              "      <th>log_grid_test</th>\n",
              "      <th>svc_train</th>\n",
              "      <th>svc_test</th>\n",
              "      <th>svc_grid_train</th>\n",
              "      <th>svc_grid_test</th>\n",
              "      <th>rf_train</th>\n",
              "    </tr>\n",
              "  </thead>\n",
              "  <tbody>\n",
              "    <tr>\n",
              "      <th>test_score</th>\n",
              "      <td>0.891874</td>\n",
              "      <td>0.875185</td>\n",
              "      <td>0.898375</td>\n",
              "      <td>0.845718</td>\n",
              "      <td>0.839653</td>\n",
              "      <td>0.805895</td>\n",
              "      <td>0.866956</td>\n",
              "      <td>0.85007</td>\n",
              "      <td>0.805634</td>\n",
              "    </tr>\n",
              "  </tbody>\n",
              "</table>\n",
              "</div>\n",
              "      <button class=\"colab-df-convert\" onclick=\"convertToInteractive('df-df606278-a392-411e-820c-1dde2b383f79')\"\n",
              "              title=\"Convert this dataframe to an interactive table.\"\n",
              "              style=\"display:none;\">\n",
              "        \n",
              "  <svg xmlns=\"http://www.w3.org/2000/svg\" height=\"24px\"viewBox=\"0 0 24 24\"\n",
              "       width=\"24px\">\n",
              "    <path d=\"M0 0h24v24H0V0z\" fill=\"none\"/>\n",
              "    <path d=\"M18.56 5.44l.94 2.06.94-2.06 2.06-.94-2.06-.94-.94-2.06-.94 2.06-2.06.94zm-11 1L8.5 8.5l.94-2.06 2.06-.94-2.06-.94L8.5 2.5l-.94 2.06-2.06.94zm10 10l.94 2.06.94-2.06 2.06-.94-2.06-.94-.94-2.06-.94 2.06-2.06.94z\"/><path d=\"M17.41 7.96l-1.37-1.37c-.4-.4-.92-.59-1.43-.59-.52 0-1.04.2-1.43.59L10.3 9.45l-7.72 7.72c-.78.78-.78 2.05 0 2.83L4 21.41c.39.39.9.59 1.41.59.51 0 1.02-.2 1.41-.59l7.78-7.78 2.81-2.81c.8-.78.8-2.07 0-2.86zM5.41 20L4 18.59l7.72-7.72 1.47 1.35L5.41 20z\"/>\n",
              "  </svg>\n",
              "      </button>\n",
              "      \n",
              "  <style>\n",
              "    .colab-df-container {\n",
              "      display:flex;\n",
              "      flex-wrap:wrap;\n",
              "      gap: 12px;\n",
              "    }\n",
              "\n",
              "    .colab-df-convert {\n",
              "      background-color: #E8F0FE;\n",
              "      border: none;\n",
              "      border-radius: 50%;\n",
              "      cursor: pointer;\n",
              "      display: none;\n",
              "      fill: #1967D2;\n",
              "      height: 32px;\n",
              "      padding: 0 0 0 0;\n",
              "      width: 32px;\n",
              "    }\n",
              "\n",
              "    .colab-df-convert:hover {\n",
              "      background-color: #E2EBFA;\n",
              "      box-shadow: 0px 1px 2px rgba(60, 64, 67, 0.3), 0px 1px 3px 1px rgba(60, 64, 67, 0.15);\n",
              "      fill: #174EA6;\n",
              "    }\n",
              "\n",
              "    [theme=dark] .colab-df-convert {\n",
              "      background-color: #3B4455;\n",
              "      fill: #D2E3FC;\n",
              "    }\n",
              "\n",
              "    [theme=dark] .colab-df-convert:hover {\n",
              "      background-color: #434B5C;\n",
              "      box-shadow: 0px 1px 3px 1px rgba(0, 0, 0, 0.15);\n",
              "      filter: drop-shadow(0px 1px 2px rgba(0, 0, 0, 0.3));\n",
              "      fill: #FFFFFF;\n",
              "    }\n",
              "  </style>\n",
              "\n",
              "      <script>\n",
              "        const buttonEl =\n",
              "          document.querySelector('#df-df606278-a392-411e-820c-1dde2b383f79 button.colab-df-convert');\n",
              "        buttonEl.style.display =\n",
              "          google.colab.kernel.accessAllowed ? 'block' : 'none';\n",
              "\n",
              "        async function convertToInteractive(key) {\n",
              "          const element = document.querySelector('#df-df606278-a392-411e-820c-1dde2b383f79');\n",
              "          const dataTable =\n",
              "            await google.colab.kernel.invokeFunction('convertToInteractive',\n",
              "                                                     [key], {});\n",
              "          if (!dataTable) return;\n",
              "\n",
              "          const docLinkHtml = 'Like what you see? Visit the ' +\n",
              "            '<a target=\"_blank\" href=https://colab.research.google.com/notebooks/data_table.ipynb>data table notebook</a>'\n",
              "            + ' to learn more about interactive tables.';\n",
              "          element.innerHTML = '';\n",
              "          dataTable['output_type'] = 'display_data';\n",
              "          await google.colab.output.renderOutput(dataTable, element);\n",
              "          const docLink = document.createElement('div');\n",
              "          docLink.innerHTML = docLinkHtml;\n",
              "          element.appendChild(docLink);\n",
              "        }\n",
              "      </script>\n",
              "    </div>\n",
              "  </div>\n",
              "  "
            ]
          },
          "metadata": {},
          "execution_count": 112
        }
      ],
      "source": [
        "scores"
      ]
    },
    {
      "cell_type": "code",
      "execution_count": 113,
      "metadata": {
        "id": "CR0JUOmIz68-"
      },
      "outputs": [],
      "source": [
        "rf_test = pd.DataFrame(cross_validate(rf , X_test , y_test , cv = 5 , scoring = 'accuracy')).mean()[2:]"
      ]
    },
    {
      "cell_type": "code",
      "execution_count": 114,
      "metadata": {
        "id": "WV9ZW6sJz3Ne"
      },
      "outputs": [],
      "source": [
        "rf_test = pd.DataFrame({'rf_test' : rf_test} , index = ['test_score'] )"
      ]
    },
    {
      "cell_type": "code",
      "execution_count": 115,
      "metadata": {
        "id": "JJiKIJjU0Eu5"
      },
      "outputs": [],
      "source": [
        "scores = pd.concat([scores,rf_test] , axis = 1) "
      ]
    },
    {
      "cell_type": "code",
      "execution_count": 116,
      "metadata": {
        "colab": {
          "base_uri": "https://localhost:8080/",
          "height": 81
        },
        "id": "MsO7Wmsd0MpQ",
        "outputId": "0296b6fe-e4a6-44b1-9691-2ffc6ba74cf2"
      },
      "outputs": [
        {
          "output_type": "execute_result",
          "data": {
            "text/plain": [
              "            log_train  log_test  log_grid_train  log_grid_test  svc_train  \\\n",
              "test_score   0.891874  0.875185        0.898375       0.845718   0.839653   \n",
              "\n",
              "            svc_test  svc_grid_train  svc_grid_test  rf_train   rf_test  \n",
              "test_score  0.805895        0.866956        0.85007  0.805634  0.772987  "
            ],
            "text/html": [
              "\n",
              "  <div id=\"df-3fd84e75-b766-4708-b445-75450291767e\">\n",
              "    <div class=\"colab-df-container\">\n",
              "      <div>\n",
              "<style scoped>\n",
              "    .dataframe tbody tr th:only-of-type {\n",
              "        vertical-align: middle;\n",
              "    }\n",
              "\n",
              "    .dataframe tbody tr th {\n",
              "        vertical-align: top;\n",
              "    }\n",
              "\n",
              "    .dataframe thead th {\n",
              "        text-align: right;\n",
              "    }\n",
              "</style>\n",
              "<table border=\"1\" class=\"dataframe\">\n",
              "  <thead>\n",
              "    <tr style=\"text-align: right;\">\n",
              "      <th></th>\n",
              "      <th>log_train</th>\n",
              "      <th>log_test</th>\n",
              "      <th>log_grid_train</th>\n",
              "      <th>log_grid_test</th>\n",
              "      <th>svc_train</th>\n",
              "      <th>svc_test</th>\n",
              "      <th>svc_grid_train</th>\n",
              "      <th>svc_grid_test</th>\n",
              "      <th>rf_train</th>\n",
              "      <th>rf_test</th>\n",
              "    </tr>\n",
              "  </thead>\n",
              "  <tbody>\n",
              "    <tr>\n",
              "      <th>test_score</th>\n",
              "      <td>0.891874</td>\n",
              "      <td>0.875185</td>\n",
              "      <td>0.898375</td>\n",
              "      <td>0.845718</td>\n",
              "      <td>0.839653</td>\n",
              "      <td>0.805895</td>\n",
              "      <td>0.866956</td>\n",
              "      <td>0.85007</td>\n",
              "      <td>0.805634</td>\n",
              "      <td>0.772987</td>\n",
              "    </tr>\n",
              "  </tbody>\n",
              "</table>\n",
              "</div>\n",
              "      <button class=\"colab-df-convert\" onclick=\"convertToInteractive('df-3fd84e75-b766-4708-b445-75450291767e')\"\n",
              "              title=\"Convert this dataframe to an interactive table.\"\n",
              "              style=\"display:none;\">\n",
              "        \n",
              "  <svg xmlns=\"http://www.w3.org/2000/svg\" height=\"24px\"viewBox=\"0 0 24 24\"\n",
              "       width=\"24px\">\n",
              "    <path d=\"M0 0h24v24H0V0z\" fill=\"none\"/>\n",
              "    <path d=\"M18.56 5.44l.94 2.06.94-2.06 2.06-.94-2.06-.94-.94-2.06-.94 2.06-2.06.94zm-11 1L8.5 8.5l.94-2.06 2.06-.94-2.06-.94L8.5 2.5l-.94 2.06-2.06.94zm10 10l.94 2.06.94-2.06 2.06-.94-2.06-.94-.94-2.06-.94 2.06-2.06.94z\"/><path d=\"M17.41 7.96l-1.37-1.37c-.4-.4-.92-.59-1.43-.59-.52 0-1.04.2-1.43.59L10.3 9.45l-7.72 7.72c-.78.78-.78 2.05 0 2.83L4 21.41c.39.39.9.59 1.41.59.51 0 1.02-.2 1.41-.59l7.78-7.78 2.81-2.81c.8-.78.8-2.07 0-2.86zM5.41 20L4 18.59l7.72-7.72 1.47 1.35L5.41 20z\"/>\n",
              "  </svg>\n",
              "      </button>\n",
              "      \n",
              "  <style>\n",
              "    .colab-df-container {\n",
              "      display:flex;\n",
              "      flex-wrap:wrap;\n",
              "      gap: 12px;\n",
              "    }\n",
              "\n",
              "    .colab-df-convert {\n",
              "      background-color: #E8F0FE;\n",
              "      border: none;\n",
              "      border-radius: 50%;\n",
              "      cursor: pointer;\n",
              "      display: none;\n",
              "      fill: #1967D2;\n",
              "      height: 32px;\n",
              "      padding: 0 0 0 0;\n",
              "      width: 32px;\n",
              "    }\n",
              "\n",
              "    .colab-df-convert:hover {\n",
              "      background-color: #E2EBFA;\n",
              "      box-shadow: 0px 1px 2px rgba(60, 64, 67, 0.3), 0px 1px 3px 1px rgba(60, 64, 67, 0.15);\n",
              "      fill: #174EA6;\n",
              "    }\n",
              "\n",
              "    [theme=dark] .colab-df-convert {\n",
              "      background-color: #3B4455;\n",
              "      fill: #D2E3FC;\n",
              "    }\n",
              "\n",
              "    [theme=dark] .colab-df-convert:hover {\n",
              "      background-color: #434B5C;\n",
              "      box-shadow: 0px 1px 3px 1px rgba(0, 0, 0, 0.15);\n",
              "      filter: drop-shadow(0px 1px 2px rgba(0, 0, 0, 0.3));\n",
              "      fill: #FFFFFF;\n",
              "    }\n",
              "  </style>\n",
              "\n",
              "      <script>\n",
              "        const buttonEl =\n",
              "          document.querySelector('#df-3fd84e75-b766-4708-b445-75450291767e button.colab-df-convert');\n",
              "        buttonEl.style.display =\n",
              "          google.colab.kernel.accessAllowed ? 'block' : 'none';\n",
              "\n",
              "        async function convertToInteractive(key) {\n",
              "          const element = document.querySelector('#df-3fd84e75-b766-4708-b445-75450291767e');\n",
              "          const dataTable =\n",
              "            await google.colab.kernel.invokeFunction('convertToInteractive',\n",
              "                                                     [key], {});\n",
              "          if (!dataTable) return;\n",
              "\n",
              "          const docLinkHtml = 'Like what you see? Visit the ' +\n",
              "            '<a target=\"_blank\" href=https://colab.research.google.com/notebooks/data_table.ipynb>data table notebook</a>'\n",
              "            + ' to learn more about interactive tables.';\n",
              "          element.innerHTML = '';\n",
              "          dataTable['output_type'] = 'display_data';\n",
              "          await google.colab.output.renderOutput(dataTable, element);\n",
              "          const docLink = document.createElement('div');\n",
              "          docLink.innerHTML = docLinkHtml;\n",
              "          element.appendChild(docLink);\n",
              "        }\n",
              "      </script>\n",
              "    </div>\n",
              "  </div>\n",
              "  "
            ]
          },
          "metadata": {},
          "execution_count": 116
        }
      ],
      "source": [
        "scores"
      ]
    },
    {
      "cell_type": "code",
      "execution_count": 116,
      "metadata": {
        "id": "K79-QUFNzS5q"
      },
      "outputs": [],
      "source": []
    },
    {
      "cell_type": "markdown",
      "metadata": {
        "id": "f1Hn9HregrvL"
      },
      "source": [
        "### RF Model GridsearchCV"
      ]
    },
    {
      "cell_type": "code",
      "execution_count": 117,
      "metadata": {
        "id": "1AOSZtw7ew95"
      },
      "outputs": [],
      "source": [
        "rf_grid = RandomForestClassifier(random_state = 53 , class_weight = 'balanced' )"
      ]
    },
    {
      "cell_type": "code",
      "execution_count": 118,
      "metadata": {
        "id": "C9PU2ymUexAQ"
      },
      "outputs": [],
      "source": [
        "# n_estimator , criterion , max_depth , max_features , max_samples"
      ]
    },
    {
      "cell_type": "code",
      "execution_count": 119,
      "metadata": {
        "id": "cMRazjKTmQEg"
      },
      "outputs": [],
      "source": [
        "param_grid = {'n_estimators' : [100,150,300,500,800] , 'criterion' : ['gini','entropy'] , 'max_depth' : [3,5,10,15,20 , None] ,\n",
        "                               'max_features' : ['auto','sqrt','log2'] , 'max_samples' : [None,0.8,0.5]  } \n",
        "\n",
        "# criterion = entropy , max_depth = 10 , max_features = 'auto' , max_Samples = None , n_estimators = 800 for normal X features"
      ]
    },
    {
      "cell_type": "code",
      "execution_count": 120,
      "metadata": {
        "id": "dlXJtQaAnnuV"
      },
      "outputs": [],
      "source": [
        "rf_grid = GridSearchCV(rf_grid , param_grid = param_grid ,scoring = 'accuracy' ,  cv = 5 , verbose = 2 , n_jobs = -1 )"
      ]
    },
    {
      "cell_type": "code",
      "execution_count": 121,
      "metadata": {
        "id": "cMVDMrPe0aVN",
        "colab": {
          "base_uri": "https://localhost:8080/"
        },
        "outputId": "558cbe13-204c-4021-f20e-ea5c2a7e477a"
      },
      "outputs": [
        {
          "output_type": "execute_result",
          "data": {
            "text/plain": [
              "dict_keys(['bootstrap', 'ccp_alpha', 'class_weight', 'criterion', 'max_depth', 'max_features', 'max_leaf_nodes', 'max_samples', 'min_impurity_decrease', 'min_samples_leaf', 'min_samples_split', 'min_weight_fraction_leaf', 'n_estimators', 'n_jobs', 'oob_score', 'random_state', 'verbose', 'warm_start'])"
            ]
          },
          "metadata": {},
          "execution_count": 121
        }
      ],
      "source": [
        "rf.get_params().keys()"
      ]
    },
    {
      "cell_type": "code",
      "execution_count": 122,
      "metadata": {
        "colab": {
          "base_uri": "https://localhost:8080/"
        },
        "id": "6cvWKDU3exFX",
        "outputId": "15c79485-2113-41dc-c932-acb6fb73f549"
      },
      "outputs": [
        {
          "output_type": "stream",
          "name": "stdout",
          "text": [
            "Fitting 5 folds for each of 540 candidates, totalling 2700 fits\n"
          ]
        },
        {
          "output_type": "execute_result",
          "data": {
            "text/plain": [
              "GridSearchCV(cv=5,\n",
              "             estimator=RandomForestClassifier(class_weight='balanced',\n",
              "                                              random_state=53),\n",
              "             n_jobs=-1,\n",
              "             param_grid={'criterion': ['gini', 'entropy'],\n",
              "                         'max_depth': [3, 5, 10, 15, 20, None],\n",
              "                         'max_features': ['auto', 'sqrt', 'log2'],\n",
              "                         'max_samples': [None, 0.8, 0.5],\n",
              "                         'n_estimators': [100, 150, 300, 500, 800]},\n",
              "             scoring='accuracy', verbose=2)"
            ]
          },
          "metadata": {},
          "execution_count": 122
        }
      ],
      "source": [
        "rf_grid.fit(X_train , y_train)"
      ]
    },
    {
      "cell_type": "code",
      "execution_count": 123,
      "metadata": {
        "colab": {
          "base_uri": "https://localhost:8080/"
        },
        "id": "6KNvPX-UexH5",
        "outputId": "7efc2377-22d5-4c99-ad91-713ce95a9a05"
      },
      "outputs": [
        {
          "output_type": "execute_result",
          "data": {
            "text/plain": [
              "{'criterion': 'entropy',\n",
              " 'max_depth': 10,\n",
              " 'max_features': 'auto',\n",
              " 'max_samples': None,\n",
              " 'n_estimators': 800}"
            ]
          },
          "metadata": {},
          "execution_count": 123
        }
      ],
      "source": [
        "rf_grid.best_params_"
      ]
    },
    {
      "cell_type": "code",
      "execution_count": 124,
      "metadata": {
        "colab": {
          "base_uri": "https://localhost:8080/"
        },
        "id": "HjZ0_mv_3loh",
        "outputId": "4ca09422-d832-44bf-f60c-974422024b8d"
      },
      "outputs": [
        {
          "output_type": "execute_result",
          "data": {
            "text/plain": [
              "0.8294691224268689"
            ]
          },
          "metadata": {},
          "execution_count": 124
        }
      ],
      "source": [
        "rf_grid.best_score_"
      ]
    },
    {
      "cell_type": "code",
      "source": [
        "# rf_grid = RandomForestClassifier(random_state = 53 , class_weight = 'balanced' , criterion = 'entropy' , max_depth = 10 , max_features = 'auto' , max_samples = None , n_estimators = 800 )"
      ],
      "metadata": {
        "id": "28VzjgIz6aAY"
      },
      "execution_count": 125,
      "outputs": []
    },
    {
      "cell_type": "code",
      "source": [
        "rf_grid = RandomForestClassifier(random_state = 53 , class_weight = 'balanced' , criterion = 'entropy' , max_depth = 10 , max_features = 'auto' , max_samples = None , n_estimators = 800 )"
      ],
      "metadata": {
        "id": "2F7OF-pCO7GN"
      },
      "execution_count": 127,
      "outputs": []
    },
    {
      "cell_type": "code",
      "source": [
        "rf_grid_train = pd.DataFrame(cross_validate(rf_grid , X_train , y_train , cv = 5 , scoring = 'accuracy')).mean()[2:]"
      ],
      "metadata": {
        "id": "DYEbG_246rvT"
      },
      "execution_count": 128,
      "outputs": []
    },
    {
      "cell_type": "code",
      "source": [
        "rf_grid_train = pd.DataFrame({'rf_grid_train' : rf_grid_train } , index = ['test_score'])"
      ],
      "metadata": {
        "id": "T_0qddfyBU4x"
      },
      "execution_count": 129,
      "outputs": []
    },
    {
      "cell_type": "code",
      "execution_count": 130,
      "metadata": {
        "id": "zu5gA5OO4AXh"
      },
      "outputs": [],
      "source": [
        "scores = pd.concat([scores,rf_grid_train] , axis = 1)"
      ]
    },
    {
      "cell_type": "code",
      "execution_count": 131,
      "metadata": {
        "colab": {
          "base_uri": "https://localhost:8080/",
          "height": 81
        },
        "id": "LNV1Eboh4DqA",
        "outputId": "2e4f21f2-0511-4a48-889b-11bd3e390564"
      },
      "outputs": [
        {
          "output_type": "execute_result",
          "data": {
            "text/plain": [
              "            log_train  log_test  log_grid_train  log_grid_test  svc_train  \\\n",
              "test_score   0.891874  0.875185        0.898375       0.845718   0.839653   \n",
              "\n",
              "            svc_test  svc_grid_train  svc_grid_test  rf_train   rf_test  \\\n",
              "test_score  0.805895        0.866956        0.85007  0.805634  0.772987   \n",
              "\n",
              "            rf_grid_train  \n",
              "test_score       0.829469  "
            ],
            "text/html": [
              "\n",
              "  <div id=\"df-53a9f74d-4736-4192-8813-75d071453a53\">\n",
              "    <div class=\"colab-df-container\">\n",
              "      <div>\n",
              "<style scoped>\n",
              "    .dataframe tbody tr th:only-of-type {\n",
              "        vertical-align: middle;\n",
              "    }\n",
              "\n",
              "    .dataframe tbody tr th {\n",
              "        vertical-align: top;\n",
              "    }\n",
              "\n",
              "    .dataframe thead th {\n",
              "        text-align: right;\n",
              "    }\n",
              "</style>\n",
              "<table border=\"1\" class=\"dataframe\">\n",
              "  <thead>\n",
              "    <tr style=\"text-align: right;\">\n",
              "      <th></th>\n",
              "      <th>log_train</th>\n",
              "      <th>log_test</th>\n",
              "      <th>log_grid_train</th>\n",
              "      <th>log_grid_test</th>\n",
              "      <th>svc_train</th>\n",
              "      <th>svc_test</th>\n",
              "      <th>svc_grid_train</th>\n",
              "      <th>svc_grid_test</th>\n",
              "      <th>rf_train</th>\n",
              "      <th>rf_test</th>\n",
              "      <th>rf_grid_train</th>\n",
              "    </tr>\n",
              "  </thead>\n",
              "  <tbody>\n",
              "    <tr>\n",
              "      <th>test_score</th>\n",
              "      <td>0.891874</td>\n",
              "      <td>0.875185</td>\n",
              "      <td>0.898375</td>\n",
              "      <td>0.845718</td>\n",
              "      <td>0.839653</td>\n",
              "      <td>0.805895</td>\n",
              "      <td>0.866956</td>\n",
              "      <td>0.85007</td>\n",
              "      <td>0.805634</td>\n",
              "      <td>0.772987</td>\n",
              "      <td>0.829469</td>\n",
              "    </tr>\n",
              "  </tbody>\n",
              "</table>\n",
              "</div>\n",
              "      <button class=\"colab-df-convert\" onclick=\"convertToInteractive('df-53a9f74d-4736-4192-8813-75d071453a53')\"\n",
              "              title=\"Convert this dataframe to an interactive table.\"\n",
              "              style=\"display:none;\">\n",
              "        \n",
              "  <svg xmlns=\"http://www.w3.org/2000/svg\" height=\"24px\"viewBox=\"0 0 24 24\"\n",
              "       width=\"24px\">\n",
              "    <path d=\"M0 0h24v24H0V0z\" fill=\"none\"/>\n",
              "    <path d=\"M18.56 5.44l.94 2.06.94-2.06 2.06-.94-2.06-.94-.94-2.06-.94 2.06-2.06.94zm-11 1L8.5 8.5l.94-2.06 2.06-.94-2.06-.94L8.5 2.5l-.94 2.06-2.06.94zm10 10l.94 2.06.94-2.06 2.06-.94-2.06-.94-.94-2.06-.94 2.06-2.06.94z\"/><path d=\"M17.41 7.96l-1.37-1.37c-.4-.4-.92-.59-1.43-.59-.52 0-1.04.2-1.43.59L10.3 9.45l-7.72 7.72c-.78.78-.78 2.05 0 2.83L4 21.41c.39.39.9.59 1.41.59.51 0 1.02-.2 1.41-.59l7.78-7.78 2.81-2.81c.8-.78.8-2.07 0-2.86zM5.41 20L4 18.59l7.72-7.72 1.47 1.35L5.41 20z\"/>\n",
              "  </svg>\n",
              "      </button>\n",
              "      \n",
              "  <style>\n",
              "    .colab-df-container {\n",
              "      display:flex;\n",
              "      flex-wrap:wrap;\n",
              "      gap: 12px;\n",
              "    }\n",
              "\n",
              "    .colab-df-convert {\n",
              "      background-color: #E8F0FE;\n",
              "      border: none;\n",
              "      border-radius: 50%;\n",
              "      cursor: pointer;\n",
              "      display: none;\n",
              "      fill: #1967D2;\n",
              "      height: 32px;\n",
              "      padding: 0 0 0 0;\n",
              "      width: 32px;\n",
              "    }\n",
              "\n",
              "    .colab-df-convert:hover {\n",
              "      background-color: #E2EBFA;\n",
              "      box-shadow: 0px 1px 2px rgba(60, 64, 67, 0.3), 0px 1px 3px 1px rgba(60, 64, 67, 0.15);\n",
              "      fill: #174EA6;\n",
              "    }\n",
              "\n",
              "    [theme=dark] .colab-df-convert {\n",
              "      background-color: #3B4455;\n",
              "      fill: #D2E3FC;\n",
              "    }\n",
              "\n",
              "    [theme=dark] .colab-df-convert:hover {\n",
              "      background-color: #434B5C;\n",
              "      box-shadow: 0px 1px 3px 1px rgba(0, 0, 0, 0.15);\n",
              "      filter: drop-shadow(0px 1px 2px rgba(0, 0, 0, 0.3));\n",
              "      fill: #FFFFFF;\n",
              "    }\n",
              "  </style>\n",
              "\n",
              "      <script>\n",
              "        const buttonEl =\n",
              "          document.querySelector('#df-53a9f74d-4736-4192-8813-75d071453a53 button.colab-df-convert');\n",
              "        buttonEl.style.display =\n",
              "          google.colab.kernel.accessAllowed ? 'block' : 'none';\n",
              "\n",
              "        async function convertToInteractive(key) {\n",
              "          const element = document.querySelector('#df-53a9f74d-4736-4192-8813-75d071453a53');\n",
              "          const dataTable =\n",
              "            await google.colab.kernel.invokeFunction('convertToInteractive',\n",
              "                                                     [key], {});\n",
              "          if (!dataTable) return;\n",
              "\n",
              "          const docLinkHtml = 'Like what you see? Visit the ' +\n",
              "            '<a target=\"_blank\" href=https://colab.research.google.com/notebooks/data_table.ipynb>data table notebook</a>'\n",
              "            + ' to learn more about interactive tables.';\n",
              "          element.innerHTML = '';\n",
              "          dataTable['output_type'] = 'display_data';\n",
              "          await google.colab.output.renderOutput(dataTable, element);\n",
              "          const docLink = document.createElement('div');\n",
              "          docLink.innerHTML = docLinkHtml;\n",
              "          element.appendChild(docLink);\n",
              "        }\n",
              "      </script>\n",
              "    </div>\n",
              "  </div>\n",
              "  "
            ]
          },
          "metadata": {},
          "execution_count": 131
        }
      ],
      "source": [
        "scores"
      ]
    },
    {
      "cell_type": "code",
      "execution_count": 132,
      "metadata": {
        "id": "BTbyi6As4dt5"
      },
      "outputs": [],
      "source": [
        "rf_grid_test = pd.DataFrame(cross_validate(rf_grid , X_test , y_test , cv = 5 , scoring = 'accuracy')).mean()[2:]"
      ]
    },
    {
      "cell_type": "code",
      "execution_count": 133,
      "metadata": {
        "id": "68EvtfHH3kle"
      },
      "outputs": [],
      "source": [
        "rf_grid_test = pd.DataFrame({'rf_grid_test' : rf_grid_test } , index = ['test_score'])"
      ]
    },
    {
      "cell_type": "code",
      "execution_count": 134,
      "metadata": {
        "id": "ceIFSUh_5DZP"
      },
      "outputs": [],
      "source": [
        "scores = pd.concat([scores,rf_grid_test] , axis = 1)"
      ]
    },
    {
      "cell_type": "code",
      "execution_count": 135,
      "metadata": {
        "colab": {
          "base_uri": "https://localhost:8080/",
          "height": 81
        },
        "id": "Tw23OA9J5JNt",
        "outputId": "9e8223de-b13f-4a54-f608-77a1fa100066"
      },
      "outputs": [
        {
          "output_type": "execute_result",
          "data": {
            "text/plain": [
              "            log_train  log_test  log_grid_train  log_grid_test  svc_train  \\\n",
              "test_score   0.891874  0.875185        0.898375       0.845718   0.839653   \n",
              "\n",
              "            svc_test  svc_grid_train  svc_grid_test  rf_train   rf_test  \\\n",
              "test_score  0.805895        0.866956        0.85007  0.805634  0.772987   \n",
              "\n",
              "            rf_grid_train  rf_grid_test  \n",
              "test_score       0.829469      0.785104  "
            ],
            "text/html": [
              "\n",
              "  <div id=\"df-7d49c86c-13f3-4a44-b039-21bcc16d5b1b\">\n",
              "    <div class=\"colab-df-container\">\n",
              "      <div>\n",
              "<style scoped>\n",
              "    .dataframe tbody tr th:only-of-type {\n",
              "        vertical-align: middle;\n",
              "    }\n",
              "\n",
              "    .dataframe tbody tr th {\n",
              "        vertical-align: top;\n",
              "    }\n",
              "\n",
              "    .dataframe thead th {\n",
              "        text-align: right;\n",
              "    }\n",
              "</style>\n",
              "<table border=\"1\" class=\"dataframe\">\n",
              "  <thead>\n",
              "    <tr style=\"text-align: right;\">\n",
              "      <th></th>\n",
              "      <th>log_train</th>\n",
              "      <th>log_test</th>\n",
              "      <th>log_grid_train</th>\n",
              "      <th>log_grid_test</th>\n",
              "      <th>svc_train</th>\n",
              "      <th>svc_test</th>\n",
              "      <th>svc_grid_train</th>\n",
              "      <th>svc_grid_test</th>\n",
              "      <th>rf_train</th>\n",
              "      <th>rf_test</th>\n",
              "      <th>rf_grid_train</th>\n",
              "      <th>rf_grid_test</th>\n",
              "    </tr>\n",
              "  </thead>\n",
              "  <tbody>\n",
              "    <tr>\n",
              "      <th>test_score</th>\n",
              "      <td>0.891874</td>\n",
              "      <td>0.875185</td>\n",
              "      <td>0.898375</td>\n",
              "      <td>0.845718</td>\n",
              "      <td>0.839653</td>\n",
              "      <td>0.805895</td>\n",
              "      <td>0.866956</td>\n",
              "      <td>0.85007</td>\n",
              "      <td>0.805634</td>\n",
              "      <td>0.772987</td>\n",
              "      <td>0.829469</td>\n",
              "      <td>0.785104</td>\n",
              "    </tr>\n",
              "  </tbody>\n",
              "</table>\n",
              "</div>\n",
              "      <button class=\"colab-df-convert\" onclick=\"convertToInteractive('df-7d49c86c-13f3-4a44-b039-21bcc16d5b1b')\"\n",
              "              title=\"Convert this dataframe to an interactive table.\"\n",
              "              style=\"display:none;\">\n",
              "        \n",
              "  <svg xmlns=\"http://www.w3.org/2000/svg\" height=\"24px\"viewBox=\"0 0 24 24\"\n",
              "       width=\"24px\">\n",
              "    <path d=\"M0 0h24v24H0V0z\" fill=\"none\"/>\n",
              "    <path d=\"M18.56 5.44l.94 2.06.94-2.06 2.06-.94-2.06-.94-.94-2.06-.94 2.06-2.06.94zm-11 1L8.5 8.5l.94-2.06 2.06-.94-2.06-.94L8.5 2.5l-.94 2.06-2.06.94zm10 10l.94 2.06.94-2.06 2.06-.94-2.06-.94-.94-2.06-.94 2.06-2.06.94z\"/><path d=\"M17.41 7.96l-1.37-1.37c-.4-.4-.92-.59-1.43-.59-.52 0-1.04.2-1.43.59L10.3 9.45l-7.72 7.72c-.78.78-.78 2.05 0 2.83L4 21.41c.39.39.9.59 1.41.59.51 0 1.02-.2 1.41-.59l7.78-7.78 2.81-2.81c.8-.78.8-2.07 0-2.86zM5.41 20L4 18.59l7.72-7.72 1.47 1.35L5.41 20z\"/>\n",
              "  </svg>\n",
              "      </button>\n",
              "      \n",
              "  <style>\n",
              "    .colab-df-container {\n",
              "      display:flex;\n",
              "      flex-wrap:wrap;\n",
              "      gap: 12px;\n",
              "    }\n",
              "\n",
              "    .colab-df-convert {\n",
              "      background-color: #E8F0FE;\n",
              "      border: none;\n",
              "      border-radius: 50%;\n",
              "      cursor: pointer;\n",
              "      display: none;\n",
              "      fill: #1967D2;\n",
              "      height: 32px;\n",
              "      padding: 0 0 0 0;\n",
              "      width: 32px;\n",
              "    }\n",
              "\n",
              "    .colab-df-convert:hover {\n",
              "      background-color: #E2EBFA;\n",
              "      box-shadow: 0px 1px 2px rgba(60, 64, 67, 0.3), 0px 1px 3px 1px rgba(60, 64, 67, 0.15);\n",
              "      fill: #174EA6;\n",
              "    }\n",
              "\n",
              "    [theme=dark] .colab-df-convert {\n",
              "      background-color: #3B4455;\n",
              "      fill: #D2E3FC;\n",
              "    }\n",
              "\n",
              "    [theme=dark] .colab-df-convert:hover {\n",
              "      background-color: #434B5C;\n",
              "      box-shadow: 0px 1px 3px 1px rgba(0, 0, 0, 0.15);\n",
              "      filter: drop-shadow(0px 1px 2px rgba(0, 0, 0, 0.3));\n",
              "      fill: #FFFFFF;\n",
              "    }\n",
              "  </style>\n",
              "\n",
              "      <script>\n",
              "        const buttonEl =\n",
              "          document.querySelector('#df-7d49c86c-13f3-4a44-b039-21bcc16d5b1b button.colab-df-convert');\n",
              "        buttonEl.style.display =\n",
              "          google.colab.kernel.accessAllowed ? 'block' : 'none';\n",
              "\n",
              "        async function convertToInteractive(key) {\n",
              "          const element = document.querySelector('#df-7d49c86c-13f3-4a44-b039-21bcc16d5b1b');\n",
              "          const dataTable =\n",
              "            await google.colab.kernel.invokeFunction('convertToInteractive',\n",
              "                                                     [key], {});\n",
              "          if (!dataTable) return;\n",
              "\n",
              "          const docLinkHtml = 'Like what you see? Visit the ' +\n",
              "            '<a target=\"_blank\" href=https://colab.research.google.com/notebooks/data_table.ipynb>data table notebook</a>'\n",
              "            + ' to learn more about interactive tables.';\n",
              "          element.innerHTML = '';\n",
              "          dataTable['output_type'] = 'display_data';\n",
              "          await google.colab.output.renderOutput(dataTable, element);\n",
              "          const docLink = document.createElement('div');\n",
              "          docLink.innerHTML = docLinkHtml;\n",
              "          element.appendChild(docLink);\n",
              "        }\n",
              "      </script>\n",
              "    </div>\n",
              "  </div>\n",
              "  "
            ]
          },
          "metadata": {},
          "execution_count": 135
        }
      ],
      "source": [
        "scores"
      ]
    },
    {
      "cell_type": "code",
      "execution_count": 135,
      "metadata": {
        "id": "rhbNnjwnexKQ"
      },
      "outputs": [],
      "source": []
    },
    {
      "cell_type": "markdown",
      "metadata": {
        "id": "YyPglhxLgrvL"
      },
      "source": [
        "## 4. XGBoost"
      ]
    },
    {
      "cell_type": "markdown",
      "metadata": {
        "id": "c6rm4mYxgrvL"
      },
      "source": [
        "### Vanilla XGBoost Model"
      ]
    },
    {
      "cell_type": "code",
      "execution_count": 136,
      "metadata": {
        "id": "oPQpq37z-xVS"
      },
      "outputs": [],
      "source": [
        "from xgboost import XGBClassifier"
      ]
    },
    {
      "cell_type": "code",
      "execution_count": 137,
      "metadata": {
        "id": "64rlI2rU-xYO"
      },
      "outputs": [],
      "source": [
        "xgb = XGBClassifier(random_state = 53)"
      ]
    },
    {
      "cell_type": "code",
      "execution_count": 138,
      "metadata": {
        "colab": {
          "base_uri": "https://localhost:8080/"
        },
        "id": "PvFvO3t8-xah",
        "outputId": "f320f65e-9458-4c78-ceef-9e70ed3569e1"
      },
      "outputs": [
        {
          "output_type": "execute_result",
          "data": {
            "text/plain": [
              "XGBClassifier(objective='multi:softprob', random_state=53)"
            ]
          },
          "metadata": {},
          "execution_count": 138
        }
      ],
      "source": [
        "xgb.fit(X_train , y_train)"
      ]
    },
    {
      "cell_type": "code",
      "execution_count": 139,
      "metadata": {
        "colab": {
          "base_uri": "https://localhost:8080/",
          "height": 1000
        },
        "id": "tjbRPxbw_wPV",
        "outputId": "fd71c865-d09d-4df9-c936-dddb0a238786"
      },
      "outputs": [
        {
          "output_type": "stream",
          "name": "stdout",
          "text": [
            "Test_Set\n",
            "[[709  12   8]\n",
            " [ 45 231   2]\n",
            " [ 91  14  42]]\n",
            "              precision    recall  f1-score   support\n",
            "\n",
            "           1       0.84      0.97      0.90       729\n",
            "           2       0.90      0.83      0.86       278\n",
            "           3       0.81      0.29      0.42       147\n",
            "\n",
            "    accuracy                           0.85      1154\n",
            "   macro avg       0.85      0.70      0.73      1154\n",
            "weighted avg       0.85      0.85      0.83      1154\n",
            "\n",
            "<sklearn.metrics._plot.confusion_matrix.ConfusionMatrixDisplay object at 0x7f2415190e90>\n",
            "\n",
            "Train_Set\n",
            "[[3034   14   15]\n",
            " [ 107  912    1]\n",
            " [ 274   21  237]]\n",
            "              precision    recall  f1-score   support\n",
            "\n",
            "           1       0.89      0.99      0.94      3063\n",
            "           2       0.96      0.89      0.93      1020\n",
            "           3       0.94      0.45      0.60       532\n",
            "\n",
            "    accuracy                           0.91      4615\n",
            "   macro avg       0.93      0.78      0.82      4615\n",
            "weighted avg       0.91      0.91      0.90      4615\n",
            "\n",
            "<sklearn.metrics._plot.confusion_matrix.ConfusionMatrixDisplay object at 0x7f241422d750>\n"
          ]
        },
        {
          "output_type": "stream",
          "name": "stderr",
          "text": [
            "/usr/local/lib/python3.7/dist-packages/sklearn/utils/deprecation.py:87: FutureWarning: Function plot_confusion_matrix is deprecated; Function `plot_confusion_matrix` is deprecated in 1.0 and will be removed in 1.2. Use one of the class methods: ConfusionMatrixDisplay.from_predictions or ConfusionMatrixDisplay.from_estimator.\n",
            "  warnings.warn(msg, category=FutureWarning)\n",
            "/usr/local/lib/python3.7/dist-packages/sklearn/utils/deprecation.py:87: FutureWarning: Function plot_confusion_matrix is deprecated; Function `plot_confusion_matrix` is deprecated in 1.0 and will be removed in 1.2. Use one of the class methods: ConfusionMatrixDisplay.from_predictions or ConfusionMatrixDisplay.from_estimator.\n",
            "  warnings.warn(msg, category=FutureWarning)\n"
          ]
        },
        {
          "output_type": "display_data",
          "data": {
            "text/plain": [
              "<Figure size 432x288 with 2 Axes>"
            ],
            "image/png": "[encoded data removed]"
          },
          "metadata": {
            "needs_background": "light"
          }
        },
        {
          "output_type": "display_data",
          "data": {
            "text/plain": [
              "<Figure size 432x288 with 2 Axes>"
            ],
            "image/png": "[encoded data removed]"
          },
          "metadata": {
            "needs_background": "light"
          }
        }
      ],
      "source": [
        "eval_metric(xgb,X_train,y_train,X_test,y_test)"
      ]
    },
    {
      "cell_type": "code",
      "execution_count": 140,
      "metadata": {
        "id": "RTqV4GLW-xdZ"
      },
      "outputs": [],
      "source": [
        "xgb = XGBClassifier(random_state=53)\n",
        "\n",
        "xgb_train = cross_validate(xgb, X_train, y_train, scoring = 'accuracy' , cv = 5)"
      ]
    },
    {
      "cell_type": "code",
      "execution_count": 141,
      "metadata": {
        "id": "-HJJXaeC__oz"
      },
      "outputs": [],
      "source": [
        "xgb_train = pd.DataFrame(xgb_train).mean()[2:]"
      ]
    },
    {
      "cell_type": "code",
      "execution_count": 142,
      "metadata": {
        "id": "TjkpLnNkAcD2"
      },
      "outputs": [],
      "source": [
        "xgb_train = pd.DataFrame({'xgb_train' : xgb_train} , index = ['test_score'])"
      ]
    },
    {
      "cell_type": "code",
      "execution_count": 143,
      "metadata": {
        "id": "vMnRetuqApAl"
      },
      "outputs": [],
      "source": [
        "scores = pd.concat([scores,xgb_train] , axis = 1)"
      ]
    },
    {
      "cell_type": "code",
      "execution_count": 144,
      "metadata": {
        "colab": {
          "base_uri": "https://localhost:8080/",
          "height": 81
        },
        "id": "ECD4Qi8wAwBA",
        "outputId": "334b6d32-d24c-49e1-8b1d-38454dfef3e3"
      },
      "outputs": [
        {
          "output_type": "execute_result",
          "data": {
            "text/plain": [
              "            log_train  log_test  log_grid_train  log_grid_test  svc_train  \\\n",
              "test_score   0.891874  0.875185        0.898375       0.845718   0.839653   \n",
              "\n",
              "            svc_test  svc_grid_train  svc_grid_test  rf_train   rf_test  \\\n",
              "test_score  0.805895        0.866956        0.85007  0.805634  0.772987   \n",
              "\n",
              "            rf_grid_train  rf_grid_test  xgb_train  \n",
              "test_score       0.829469      0.785104   0.863272  "
            ],
            "text/html": [
              "\n",
              "  <div id=\"df-0028d7d0-564a-4575-b8e9-bca6df7eef23\">\n",
              "    <div class=\"colab-df-container\">\n",
              "      <div>\n",
              "<style scoped>\n",
              "    .dataframe tbody tr th:only-of-type {\n",
              "        vertical-align: middle;\n",
              "    }\n",
              "\n",
              "    .dataframe tbody tr th {\n",
              "        vertical-align: top;\n",
              "    }\n",
              "\n",
              "    .dataframe thead th {\n",
              "        text-align: right;\n",
              "    }\n",
              "</style>\n",
              "<table border=\"1\" class=\"dataframe\">\n",
              "  <thead>\n",
              "    <tr style=\"text-align: right;\">\n",
              "      <th></th>\n",
              "      <th>log_train</th>\n",
              "      <th>log_test</th>\n",
              "      <th>log_grid_train</th>\n",
              "      <th>log_grid_test</th>\n",
              "      <th>svc_train</th>\n",
              "      <th>svc_test</th>\n",
              "      <th>svc_grid_train</th>\n",
              "      <th>svc_grid_test</th>\n",
              "      <th>rf_train</th>\n",
              "      <th>rf_test</th>\n",
              "      <th>rf_grid_train</th>\n",
              "      <th>rf_grid_test</th>\n",
              "      <th>xgb_train</th>\n",
              "    </tr>\n",
              "  </thead>\n",
              "  <tbody>\n",
              "    <tr>\n",
              "      <th>test_score</th>\n",
              "      <td>0.891874</td>\n",
              "      <td>0.875185</td>\n",
              "      <td>0.898375</td>\n",
              "      <td>0.845718</td>\n",
              "      <td>0.839653</td>\n",
              "      <td>0.805895</td>\n",
              "      <td>0.866956</td>\n",
              "      <td>0.85007</td>\n",
              "      <td>0.805634</td>\n",
              "      <td>0.772987</td>\n",
              "      <td>0.829469</td>\n",
              "      <td>0.785104</td>\n",
              "      <td>0.863272</td>\n",
              "    </tr>\n",
              "  </tbody>\n",
              "</table>\n",
              "</div>\n",
              "      <button class=\"colab-df-convert\" onclick=\"convertToInteractive('df-0028d7d0-564a-4575-b8e9-bca6df7eef23')\"\n",
              "              title=\"Convert this dataframe to an interactive table.\"\n",
              "              style=\"display:none;\">\n",
              "        \n",
              "  <svg xmlns=\"http://www.w3.org/2000/svg\" height=\"24px\"viewBox=\"0 0 24 24\"\n",
              "       width=\"24px\">\n",
              "    <path d=\"M0 0h24v24H0V0z\" fill=\"none\"/>\n",
              "    <path d=\"M18.56 5.44l.94 2.06.94-2.06 2.06-.94-2.06-.94-.94-2.06-.94 2.06-2.06.94zm-11 1L8.5 8.5l.94-2.06 2.06-.94-2.06-.94L8.5 2.5l-.94 2.06-2.06.94zm10 10l.94 2.06.94-2.06 2.06-.94-2.06-.94-.94-2.06-.94 2.06-2.06.94z\"/><path d=\"M17.41 7.96l-1.37-1.37c-.4-.4-.92-.59-1.43-.59-.52 0-1.04.2-1.43.59L10.3 9.45l-7.72 7.72c-.78.78-.78 2.05 0 2.83L4 21.41c.39.39.9.59 1.41.59.51 0 1.02-.2 1.41-.59l7.78-7.78 2.81-2.81c.8-.78.8-2.07 0-2.86zM5.41 20L4 18.59l7.72-7.72 1.47 1.35L5.41 20z\"/>\n",
              "  </svg>\n",
              "      </button>\n",
              "      \n",
              "  <style>\n",
              "    .colab-df-container {\n",
              "      display:flex;\n",
              "      flex-wrap:wrap;\n",
              "      gap: 12px;\n",
              "    }\n",
              "\n",
              "    .colab-df-convert {\n",
              "      background-color: #E8F0FE;\n",
              "      border: none;\n",
              "      border-radius: 50%;\n",
              "      cursor: pointer;\n",
              "      display: none;\n",
              "      fill: #1967D2;\n",
              "      height: 32px;\n",
              "      padding: 0 0 0 0;\n",
              "      width: 32px;\n",
              "    }\n",
              "\n",
              "    .colab-df-convert:hover {\n",
              "      background-color: #E2EBFA;\n",
              "      box-shadow: 0px 1px 2px rgba(60, 64, 67, 0.3), 0px 1px 3px 1px rgba(60, 64, 67, 0.15);\n",
              "      fill: #174EA6;\n",
              "    }\n",
              "\n",
              "    [theme=dark] .colab-df-convert {\n",
              "      background-color: #3B4455;\n",
              "      fill: #D2E3FC;\n",
              "    }\n",
              "\n",
              "    [theme=dark] .colab-df-convert:hover {\n",
              "      background-color: #434B5C;\n",
              "      box-shadow: 0px 1px 3px 1px rgba(0, 0, 0, 0.15);\n",
              "      filter: drop-shadow(0px 1px 2px rgba(0, 0, 0, 0.3));\n",
              "      fill: #FFFFFF;\n",
              "    }\n",
              "  </style>\n",
              "\n",
              "      <script>\n",
              "        const buttonEl =\n",
              "          document.querySelector('#df-0028d7d0-564a-4575-b8e9-bca6df7eef23 button.colab-df-convert');\n",
              "        buttonEl.style.display =\n",
              "          google.colab.kernel.accessAllowed ? 'block' : 'none';\n",
              "\n",
              "        async function convertToInteractive(key) {\n",
              "          const element = document.querySelector('#df-0028d7d0-564a-4575-b8e9-bca6df7eef23');\n",
              "          const dataTable =\n",
              "            await google.colab.kernel.invokeFunction('convertToInteractive',\n",
              "                                                     [key], {});\n",
              "          if (!dataTable) return;\n",
              "\n",
              "          const docLinkHtml = 'Like what you see? Visit the ' +\n",
              "            '<a target=\"_blank\" href=https://colab.research.google.com/notebooks/data_table.ipynb>data table notebook</a>'\n",
              "            + ' to learn more about interactive tables.';\n",
              "          element.innerHTML = '';\n",
              "          dataTable['output_type'] = 'display_data';\n",
              "          await google.colab.output.renderOutput(dataTable, element);\n",
              "          const docLink = document.createElement('div');\n",
              "          docLink.innerHTML = docLinkHtml;\n",
              "          element.appendChild(docLink);\n",
              "        }\n",
              "      </script>\n",
              "    </div>\n",
              "  </div>\n",
              "  "
            ]
          },
          "metadata": {},
          "execution_count": 144
        }
      ],
      "source": [
        "scores"
      ]
    },
    {
      "cell_type": "code",
      "execution_count": 145,
      "metadata": {
        "id": "PCFtRBDLAxDT"
      },
      "outputs": [],
      "source": [
        "xgb_test = cross_validate(xgb , X_test, y_test, scoring = 'accuracy' , cv = 5)"
      ]
    },
    {
      "cell_type": "code",
      "execution_count": 146,
      "metadata": {
        "id": "37h97VJOAP-0"
      },
      "outputs": [],
      "source": [
        "xgb_test = pd.DataFrame(xgb_test).mean()[2:]"
      ]
    },
    {
      "cell_type": "code",
      "execution_count": 147,
      "metadata": {
        "id": "LcmZs5LvBI5O"
      },
      "outputs": [],
      "source": [
        "xgb_test = pd.DataFrame({'xgb_test' : xgb_test} , index = ['test_score'])"
      ]
    },
    {
      "cell_type": "code",
      "execution_count": 148,
      "metadata": {
        "id": "GoFyvsar-xfV"
      },
      "outputs": [],
      "source": [
        "scores = pd.concat([scores,xgb_test] , axis = 1)"
      ]
    },
    {
      "cell_type": "code",
      "execution_count": 149,
      "metadata": {
        "colab": {
          "base_uri": "https://localhost:8080/",
          "height": 81
        },
        "id": "Cnc6eXfEBGP_",
        "outputId": "f35aab3d-4786-4687-aa2d-638712e5184c"
      },
      "outputs": [
        {
          "output_type": "execute_result",
          "data": {
            "text/plain": [
              "            log_train  log_test  log_grid_train  log_grid_test  svc_train  \\\n",
              "test_score   0.891874  0.875185        0.898375       0.845718   0.839653   \n",
              "\n",
              "            svc_test  svc_grid_train  svc_grid_test  rf_train   rf_test  \\\n",
              "test_score  0.805895        0.866956        0.85007  0.805634  0.772987   \n",
              "\n",
              "            rf_grid_train  rf_grid_test  xgb_train  xgb_test  \n",
              "test_score       0.829469      0.785104   0.863272   0.82841  "
            ],
            "text/html": [
              "\n",
              "  <div id=\"df-1bf6394a-e9bc-4c64-a001-bfe0eb7b39db\">\n",
              "    <div class=\"colab-df-container\">\n",
              "      <div>\n",
              "<style scoped>\n",
              "    .dataframe tbody tr th:only-of-type {\n",
              "        vertical-align: middle;\n",
              "    }\n",
              "\n",
              "    .dataframe tbody tr th {\n",
              "        vertical-align: top;\n",
              "    }\n",
              "\n",
              "    .dataframe thead th {\n",
              "        text-align: right;\n",
              "    }\n",
              "</style>\n",
              "<table border=\"1\" class=\"dataframe\">\n",
              "  <thead>\n",
              "    <tr style=\"text-align: right;\">\n",
              "      <th></th>\n",
              "      <th>log_train</th>\n",
              "      <th>log_test</th>\n",
              "      <th>log_grid_train</th>\n",
              "      <th>log_grid_test</th>\n",
              "      <th>svc_train</th>\n",
              "      <th>svc_test</th>\n",
              "      <th>svc_grid_train</th>\n",
              "      <th>svc_grid_test</th>\n",
              "      <th>rf_train</th>\n",
              "      <th>rf_test</th>\n",
              "      <th>rf_grid_train</th>\n",
              "      <th>rf_grid_test</th>\n",
              "      <th>xgb_train</th>\n",
              "      <th>xgb_test</th>\n",
              "    </tr>\n",
              "  </thead>\n",
              "  <tbody>\n",
              "    <tr>\n",
              "      <th>test_score</th>\n",
              "      <td>0.891874</td>\n",
              "      <td>0.875185</td>\n",
              "      <td>0.898375</td>\n",
              "      <td>0.845718</td>\n",
              "      <td>0.839653</td>\n",
              "      <td>0.805895</td>\n",
              "      <td>0.866956</td>\n",
              "      <td>0.85007</td>\n",
              "      <td>0.805634</td>\n",
              "      <td>0.772987</td>\n",
              "      <td>0.829469</td>\n",
              "      <td>0.785104</td>\n",
              "      <td>0.863272</td>\n",
              "      <td>0.82841</td>\n",
              "    </tr>\n",
              "  </tbody>\n",
              "</table>\n",
              "</div>\n",
              "      <button class=\"colab-df-convert\" onclick=\"convertToInteractive('df-1bf6394a-e9bc-4c64-a001-bfe0eb7b39db')\"\n",
              "              title=\"Convert this dataframe to an interactive table.\"\n",
              "              style=\"display:none;\">\n",
              "        \n",
              "  <svg xmlns=\"http://www.w3.org/2000/svg\" height=\"24px\"viewBox=\"0 0 24 24\"\n",
              "       width=\"24px\">\n",
              "    <path d=\"M0 0h24v24H0V0z\" fill=\"none\"/>\n",
              "    <path d=\"M18.56 5.44l.94 2.06.94-2.06 2.06-.94-2.06-.94-.94-2.06-.94 2.06-2.06.94zm-11 1L8.5 8.5l.94-2.06 2.06-.94-2.06-.94L8.5 2.5l-.94 2.06-2.06.94zm10 10l.94 2.06.94-2.06 2.06-.94-2.06-.94-.94-2.06-.94 2.06-2.06.94z\"/><path d=\"M17.41 7.96l-1.37-1.37c-.4-.4-.92-.59-1.43-.59-.52 0-1.04.2-1.43.59L10.3 9.45l-7.72 7.72c-.78.78-.78 2.05 0 2.83L4 21.41c.39.39.9.59 1.41.59.51 0 1.02-.2 1.41-.59l7.78-7.78 2.81-2.81c.8-.78.8-2.07 0-2.86zM5.41 20L4 18.59l7.72-7.72 1.47 1.35L5.41 20z\"/>\n",
              "  </svg>\n",
              "      </button>\n",
              "      \n",
              "  <style>\n",
              "    .colab-df-container {\n",
              "      display:flex;\n",
              "      flex-wrap:wrap;\n",
              "      gap: 12px;\n",
              "    }\n",
              "\n",
              "    .colab-df-convert {\n",
              "      background-color: #E8F0FE;\n",
              "      border: none;\n",
              "      border-radius: 50%;\n",
              "      cursor: pointer;\n",
              "      display: none;\n",
              "      fill: #1967D2;\n",
              "      height: 32px;\n",
              "      padding: 0 0 0 0;\n",
              "      width: 32px;\n",
              "    }\n",
              "\n",
              "    .colab-df-convert:hover {\n",
              "      background-color: #E2EBFA;\n",
              "      box-shadow: 0px 1px 2px rgba(60, 64, 67, 0.3), 0px 1px 3px 1px rgba(60, 64, 67, 0.15);\n",
              "      fill: #174EA6;\n",
              "    }\n",
              "\n",
              "    [theme=dark] .colab-df-convert {\n",
              "      background-color: #3B4455;\n",
              "      fill: #D2E3FC;\n",
              "    }\n",
              "\n",
              "    [theme=dark] .colab-df-convert:hover {\n",
              "      background-color: #434B5C;\n",
              "      box-shadow: 0px 1px 3px 1px rgba(0, 0, 0, 0.15);\n",
              "      filter: drop-shadow(0px 1px 2px rgba(0, 0, 0, 0.3));\n",
              "      fill: #FFFFFF;\n",
              "    }\n",
              "  </style>\n",
              "\n",
              "      <script>\n",
              "        const buttonEl =\n",
              "          document.querySelector('#df-1bf6394a-e9bc-4c64-a001-bfe0eb7b39db button.colab-df-convert');\n",
              "        buttonEl.style.display =\n",
              "          google.colab.kernel.accessAllowed ? 'block' : 'none';\n",
              "\n",
              "        async function convertToInteractive(key) {\n",
              "          const element = document.querySelector('#df-1bf6394a-e9bc-4c64-a001-bfe0eb7b39db');\n",
              "          const dataTable =\n",
              "            await google.colab.kernel.invokeFunction('convertToInteractive',\n",
              "                                                     [key], {});\n",
              "          if (!dataTable) return;\n",
              "\n",
              "          const docLinkHtml = 'Like what you see? Visit the ' +\n",
              "            '<a target=\"_blank\" href=https://colab.research.google.com/notebooks/data_table.ipynb>data table notebook</a>'\n",
              "            + ' to learn more about interactive tables.';\n",
              "          element.innerHTML = '';\n",
              "          dataTable['output_type'] = 'display_data';\n",
              "          await google.colab.output.renderOutput(dataTable, element);\n",
              "          const docLink = document.createElement('div');\n",
              "          docLink.innerHTML = docLinkHtml;\n",
              "          element.appendChild(docLink);\n",
              "        }\n",
              "      </script>\n",
              "    </div>\n",
              "  </div>\n",
              "  "
            ]
          },
          "metadata": {},
          "execution_count": 149
        }
      ],
      "source": [
        "scores"
      ]
    },
    {
      "cell_type": "code",
      "execution_count": 149,
      "metadata": {
        "id": "xWrThk-YBGSL"
      },
      "outputs": [],
      "source": []
    },
    {
      "cell_type": "markdown",
      "metadata": {
        "id": "XdWYnESXgrvL"
      },
      "source": [
        "### XGBoost Model GridsearchCV"
      ]
    },
    {
      "cell_type": "code",
      "execution_count": 150,
      "metadata": {
        "id": "Z2aOwuc9Bf13"
      },
      "outputs": [],
      "source": [
        "xgb_grid = XGBClassifier(random_state = 53)"
      ]
    },
    {
      "cell_type": "code",
      "execution_count": 151,
      "metadata": {
        "id": "7-LReIpCBgcr"
      },
      "outputs": [],
      "source": [
        "param_grid = {'n_estimators' : [80,100,300,500] , 'max_depth' : [3,5,8,15] , 'learning_rate' : [0.01 , 0.1 , 0.5 , 1, 3] , 'subsample' : [0.5,0.8,1] , 'colsample_bytree' : [0.5,0.7,1]}"
      ]
    },
    {
      "cell_type": "code",
      "execution_count": 150,
      "metadata": {
        "id": "4vB8mhiFBge6"
      },
      "outputs": [],
      "source": [
        "# n_estimators , max_depth , learning_rate , subsample , colsample_bytree , "
      ]
    },
    {
      "cell_type": "code",
      "execution_count": 152,
      "metadata": {
        "colab": {
          "base_uri": "https://localhost:8080/"
        },
        "id": "VCmkpONfBghq",
        "outputId": "55bfa557-05f5-4426-f949-141d9a22dfe9"
      },
      "outputs": [
        {
          "output_type": "stream",
          "name": "stdout",
          "text": [
            "Fitting 5 folds for each of 720 candidates, totalling 3600 fits\n"
          ]
        }
      ],
      "source": [
        "xgb_grid = GridSearchCV(xgb_grid, param_grid , scoring = 'accuracy' , verbose = 2 , n_jobs = -1).fit(X_train , y_train)"
      ]
    },
    {
      "cell_type": "code",
      "execution_count": 153,
      "metadata": {
        "id": "V3Apek2BBgkO",
        "colab": {
          "base_uri": "https://localhost:8080/"
        },
        "outputId": "7def678e-d01b-4ffa-a14b-30a374c9e8ee"
      },
      "outputs": [
        {
          "output_type": "execute_result",
          "data": {
            "text/plain": [
              "0.8868905742145179"
            ]
          },
          "metadata": {},
          "execution_count": 153
        }
      ],
      "source": [
        "xgb_grid.best_score_"
      ]
    },
    {
      "cell_type": "code",
      "execution_count": 154,
      "metadata": {
        "id": "h0LuSKuNBgmQ",
        "colab": {
          "base_uri": "https://localhost:8080/"
        },
        "outputId": "73f3f7b6-84da-46b6-8602-a527dfc3424c"
      },
      "outputs": [
        {
          "output_type": "execute_result",
          "data": {
            "text/plain": [
              "{'colsample_bytree': 0.7,\n",
              " 'learning_rate': 0.5,\n",
              " 'max_depth': 3,\n",
              " 'n_estimators': 100,\n",
              " 'subsample': 1}"
            ]
          },
          "metadata": {},
          "execution_count": 154
        }
      ],
      "source": [
        "xgb_grid.best_params_"
      ]
    },
    {
      "cell_type": "code",
      "execution_count": null,
      "metadata": {
        "id": "fhvVuEy7Bf4V"
      },
      "outputs": [],
      "source": [
        "# xgb_grid = XGBClassifier(random_state = 53, n_estimators = xgb_grid.best_params_ ['n_estimators'] , max_depth = xgb_grid.best_params_['max_depth'] , learning_rate = xgb_grid.best_params_['learning_rate'] , \n",
        "#                          subsample = xgb_grid.best_params_['subsample'] , colsample_bytree = xgb_grid.best_params_['colsample_bytree']).fit(X_train , y_train)"
      ]
    },
    {
      "cell_type": "code",
      "source": [
        "# xgb_grid = XGBClassifier(random_state = 53, n_estimators = 500 , max_depth = 3 , learning_rate = 0.1 , \n",
        "#                          subsample = 0.8 , colsample_bytree = 1).fit(X_train , y_train)\n",
        "# best parameters without scaling."
      ],
      "metadata": {
        "id": "w0Y5f5Gu1wbe"
      },
      "execution_count": 154,
      "outputs": []
    },
    {
      "cell_type": "code",
      "source": [
        "xgb_grid = XGBClassifier(random_state = 53, n_estimators = 100 , max_depth = 3 , learning_rate = 0.5 , \n",
        "                         subsample = 1 , colsample_bytree = 0.7).fit(X_train , y_train)"
      ],
      "metadata": {
        "id": "v9gdT44LohB7"
      },
      "execution_count": 155,
      "outputs": []
    },
    {
      "cell_type": "code",
      "execution_count": 156,
      "metadata": {
        "id": "DooKLo8HBf7D"
      },
      "outputs": [],
      "source": [
        "xgb_grid_train = cross_validate(xgb_grid, X_train, y_train, scoring = 'accuracy' , cv = 5)"
      ]
    },
    {
      "cell_type": "code",
      "execution_count": 157,
      "metadata": {
        "id": "f_VIIJcXpHeP"
      },
      "outputs": [],
      "source": [
        "xgb_grid_train = pd.DataFrame(xgb_grid_train).mean()[2:]"
      ]
    },
    {
      "cell_type": "code",
      "execution_count": 158,
      "metadata": {
        "id": "ikpJHbbrpHgt"
      },
      "outputs": [],
      "source": [
        "xgb_grid_train = pd.DataFrame({'xgb_grid_train' : xgb_grid_train} , index = ['test_score'])"
      ]
    },
    {
      "cell_type": "code",
      "execution_count": 159,
      "metadata": {
        "id": "-50hRSFopt8-"
      },
      "outputs": [],
      "source": [
        "scores = pd.concat([scores,xgb_grid_train] , axis = 1)"
      ]
    },
    {
      "cell_type": "code",
      "execution_count": 160,
      "metadata": {
        "id": "47T057Aopt_i",
        "colab": {
          "base_uri": "https://localhost:8080/",
          "height": 81
        },
        "outputId": "701247a7-3c9b-40f0-abe3-7e66790f5757"
      },
      "outputs": [
        {
          "output_type": "execute_result",
          "data": {
            "text/plain": [
              "            log_train  log_test  log_grid_train  log_grid_test  svc_train  \\\n",
              "test_score   0.891874  0.875185        0.898375       0.845718   0.839653   \n",
              "\n",
              "            svc_test  svc_grid_train  svc_grid_test  rf_train   rf_test  \\\n",
              "test_score  0.805895        0.866956        0.85007  0.805634  0.772987   \n",
              "\n",
              "            rf_grid_train  rf_grid_test  xgb_train  xgb_test  xgb_grid_train  \n",
              "test_score       0.829469      0.785104   0.863272   0.82841        0.886891  "
            ],
            "text/html": [
              "\n",
              "  <div id=\"df-7b54cff4-5f90-4baa-9c34-2f2d214c4e61\">\n",
              "    <div class=\"colab-df-container\">\n",
              "      <div>\n",
              "<style scoped>\n",
              "    .dataframe tbody tr th:only-of-type {\n",
              "        vertical-align: middle;\n",
              "    }\n",
              "\n",
              "    .dataframe tbody tr th {\n",
              "        vertical-align: top;\n",
              "    }\n",
              "\n",
              "    .dataframe thead th {\n",
              "        text-align: right;\n",
              "    }\n",
              "</style>\n",
              "<table border=\"1\" class=\"dataframe\">\n",
              "  <thead>\n",
              "    <tr style=\"text-align: right;\">\n",
              "      <th></th>\n",
              "      <th>log_train</th>\n",
              "      <th>log_test</th>\n",
              "      <th>log_grid_train</th>\n",
              "      <th>log_grid_test</th>\n",
              "      <th>svc_train</th>\n",
              "      <th>svc_test</th>\n",
              "      <th>svc_grid_train</th>\n",
              "      <th>svc_grid_test</th>\n",
              "      <th>rf_train</th>\n",
              "      <th>rf_test</th>\n",
              "      <th>rf_grid_train</th>\n",
              "      <th>rf_grid_test</th>\n",
              "      <th>xgb_train</th>\n",
              "      <th>xgb_test</th>\n",
              "      <th>xgb_grid_train</th>\n",
              "    </tr>\n",
              "  </thead>\n",
              "  <tbody>\n",
              "    <tr>\n",
              "      <th>test_score</th>\n",
              "      <td>0.891874</td>\n",
              "      <td>0.875185</td>\n",
              "      <td>0.898375</td>\n",
              "      <td>0.845718</td>\n",
              "      <td>0.839653</td>\n",
              "      <td>0.805895</td>\n",
              "      <td>0.866956</td>\n",
              "      <td>0.85007</td>\n",
              "      <td>0.805634</td>\n",
              "      <td>0.772987</td>\n",
              "      <td>0.829469</td>\n",
              "      <td>0.785104</td>\n",
              "      <td>0.863272</td>\n",
              "      <td>0.82841</td>\n",
              "      <td>0.886891</td>\n",
              "    </tr>\n",
              "  </tbody>\n",
              "</table>\n",
              "</div>\n",
              "      <button class=\"colab-df-convert\" onclick=\"convertToInteractive('df-7b54cff4-5f90-4baa-9c34-2f2d214c4e61')\"\n",
              "              title=\"Convert this dataframe to an interactive table.\"\n",
              "              style=\"display:none;\">\n",
              "        \n",
              "  <svg xmlns=\"http://www.w3.org/2000/svg\" height=\"24px\"viewBox=\"0 0 24 24\"\n",
              "       width=\"24px\">\n",
              "    <path d=\"M0 0h24v24H0V0z\" fill=\"none\"/>\n",
              "    <path d=\"M18.56 5.44l.94 2.06.94-2.06 2.06-.94-2.06-.94-.94-2.06-.94 2.06-2.06.94zm-11 1L8.5 8.5l.94-2.06 2.06-.94-2.06-.94L8.5 2.5l-.94 2.06-2.06.94zm10 10l.94 2.06.94-2.06 2.06-.94-2.06-.94-.94-2.06-.94 2.06-2.06.94z\"/><path d=\"M17.41 7.96l-1.37-1.37c-.4-.4-.92-.59-1.43-.59-.52 0-1.04.2-1.43.59L10.3 9.45l-7.72 7.72c-.78.78-.78 2.05 0 2.83L4 21.41c.39.39.9.59 1.41.59.51 0 1.02-.2 1.41-.59l7.78-7.78 2.81-2.81c.8-.78.8-2.07 0-2.86zM5.41 20L4 18.59l7.72-7.72 1.47 1.35L5.41 20z\"/>\n",
              "  </svg>\n",
              "      </button>\n",
              "      \n",
              "  <style>\n",
              "    .colab-df-container {\n",
              "      display:flex;\n",
              "      flex-wrap:wrap;\n",
              "      gap: 12px;\n",
              "    }\n",
              "\n",
              "    .colab-df-convert {\n",
              "      background-color: #E8F0FE;\n",
              "      border: none;\n",
              "      border-radius: 50%;\n",
              "      cursor: pointer;\n",
              "      display: none;\n",
              "      fill: #1967D2;\n",
              "      height: 32px;\n",
              "      padding: 0 0 0 0;\n",
              "      width: 32px;\n",
              "    }\n",
              "\n",
              "    .colab-df-convert:hover {\n",
              "      background-color: #E2EBFA;\n",
              "      box-shadow: 0px 1px 2px rgba(60, 64, 67, 0.3), 0px 1px 3px 1px rgba(60, 64, 67, 0.15);\n",
              "      fill: #174EA6;\n",
              "    }\n",
              "\n",
              "    [theme=dark] .colab-df-convert {\n",
              "      background-color: #3B4455;\n",
              "      fill: #D2E3FC;\n",
              "    }\n",
              "\n",
              "    [theme=dark] .colab-df-convert:hover {\n",
              "      background-color: #434B5C;\n",
              "      box-shadow: 0px 1px 3px 1px rgba(0, 0, 0, 0.15);\n",
              "      filter: drop-shadow(0px 1px 2px rgba(0, 0, 0, 0.3));\n",
              "      fill: #FFFFFF;\n",
              "    }\n",
              "  </style>\n",
              "\n",
              "      <script>\n",
              "        const buttonEl =\n",
              "          document.querySelector('#df-7b54cff4-5f90-4baa-9c34-2f2d214c4e61 button.colab-df-convert');\n",
              "        buttonEl.style.display =\n",
              "          google.colab.kernel.accessAllowed ? 'block' : 'none';\n",
              "\n",
              "        async function convertToInteractive(key) {\n",
              "          const element = document.querySelector('#df-7b54cff4-5f90-4baa-9c34-2f2d214c4e61');\n",
              "          const dataTable =\n",
              "            await google.colab.kernel.invokeFunction('convertToInteractive',\n",
              "                                                     [key], {});\n",
              "          if (!dataTable) return;\n",
              "\n",
              "          const docLinkHtml = 'Like what you see? Visit the ' +\n",
              "            '<a target=\"_blank\" href=https://colab.research.google.com/notebooks/data_table.ipynb>data table notebook</a>'\n",
              "            + ' to learn more about interactive tables.';\n",
              "          element.innerHTML = '';\n",
              "          dataTable['output_type'] = 'display_data';\n",
              "          await google.colab.output.renderOutput(dataTable, element);\n",
              "          const docLink = document.createElement('div');\n",
              "          docLink.innerHTML = docLinkHtml;\n",
              "          element.appendChild(docLink);\n",
              "        }\n",
              "      </script>\n",
              "    </div>\n",
              "  </div>\n",
              "  "
            ]
          },
          "metadata": {},
          "execution_count": 160
        }
      ],
      "source": [
        "scores"
      ]
    },
    {
      "cell_type": "code",
      "execution_count": 161,
      "metadata": {
        "id": "w0KYSWmUpHxi"
      },
      "outputs": [],
      "source": [
        "xgb_grid_test = cross_validate(xgb_grid, X_test, y_test, scoring = 'accuracy' , cv = 5)"
      ]
    },
    {
      "cell_type": "code",
      "execution_count": 162,
      "metadata": {
        "id": "qZDF0OG9p_w3"
      },
      "outputs": [],
      "source": [
        "xgb_grid_test = pd.DataFrame(xgb_grid_test).mean()[2:]"
      ]
    },
    {
      "cell_type": "code",
      "execution_count": 163,
      "metadata": {
        "id": "ICWmiOQhp_zU"
      },
      "outputs": [],
      "source": [
        "xgb_grid_test = pd.DataFrame({'xgb_grid_test' : xgb_grid_test} , index = ['test_score'])"
      ]
    },
    {
      "cell_type": "code",
      "execution_count": 164,
      "metadata": {
        "id": "8XrHgjmLp_2I"
      },
      "outputs": [],
      "source": [
        "scores = pd.concat([scores,xgb_grid_test] , axis = 1)"
      ]
    },
    {
      "cell_type": "code",
      "execution_count": 165,
      "metadata": {
        "id": "fmzzKAxOp_4W",
        "colab": {
          "base_uri": "https://localhost:8080/",
          "height": 81
        },
        "outputId": "e20a8e7e-8477-464c-f99f-963106bcfd2f"
      },
      "outputs": [
        {
          "output_type": "execute_result",
          "data": {
            "text/plain": [
              "            log_train  log_test  log_grid_train  log_grid_test  svc_train  \\\n",
              "test_score   0.891874  0.875185        0.898375       0.845718   0.839653   \n",
              "\n",
              "            svc_test  svc_grid_train  svc_grid_test  rf_train   rf_test  \\\n",
              "test_score  0.805895        0.866956        0.85007  0.805634  0.772987   \n",
              "\n",
              "            rf_grid_train  rf_grid_test  xgb_train  xgb_test  xgb_grid_train  \\\n",
              "test_score       0.829469      0.785104   0.863272   0.82841        0.886891   \n",
              "\n",
              "            xgb_grid_test  \n",
              "test_score       0.831877  "
            ],
            "text/html": [
              "\n",
              "  <div id=\"df-8cca5e7b-556d-405c-9030-e0233cd063a4\">\n",
              "    <div class=\"colab-df-container\">\n",
              "      <div>\n",
              "<style scoped>\n",
              "    .dataframe tbody tr th:only-of-type {\n",
              "        vertical-align: middle;\n",
              "    }\n",
              "\n",
              "    .dataframe tbody tr th {\n",
              "        vertical-align: top;\n",
              "    }\n",
              "\n",
              "    .dataframe thead th {\n",
              "        text-align: right;\n",
              "    }\n",
              "</style>\n",
              "<table border=\"1\" class=\"dataframe\">\n",
              "  <thead>\n",
              "    <tr style=\"text-align: right;\">\n",
              "      <th></th>\n",
              "      <th>log_train</th>\n",
              "      <th>log_test</th>\n",
              "      <th>log_grid_train</th>\n",
              "      <th>log_grid_test</th>\n",
              "      <th>svc_train</th>\n",
              "      <th>svc_test</th>\n",
              "      <th>svc_grid_train</th>\n",
              "      <th>svc_grid_test</th>\n",
              "      <th>rf_train</th>\n",
              "      <th>rf_test</th>\n",
              "      <th>rf_grid_train</th>\n",
              "      <th>rf_grid_test</th>\n",
              "      <th>xgb_train</th>\n",
              "      <th>xgb_test</th>\n",
              "      <th>xgb_grid_train</th>\n",
              "      <th>xgb_grid_test</th>\n",
              "    </tr>\n",
              "  </thead>\n",
              "  <tbody>\n",
              "    <tr>\n",
              "      <th>test_score</th>\n",
              "      <td>0.891874</td>\n",
              "      <td>0.875185</td>\n",
              "      <td>0.898375</td>\n",
              "      <td>0.845718</td>\n",
              "      <td>0.839653</td>\n",
              "      <td>0.805895</td>\n",
              "      <td>0.866956</td>\n",
              "      <td>0.85007</td>\n",
              "      <td>0.805634</td>\n",
              "      <td>0.772987</td>\n",
              "      <td>0.829469</td>\n",
              "      <td>0.785104</td>\n",
              "      <td>0.863272</td>\n",
              "      <td>0.82841</td>\n",
              "      <td>0.886891</td>\n",
              "      <td>0.831877</td>\n",
              "    </tr>\n",
              "  </tbody>\n",
              "</table>\n",
              "</div>\n",
              "      <button class=\"colab-df-convert\" onclick=\"convertToInteractive('df-8cca5e7b-556d-405c-9030-e0233cd063a4')\"\n",
              "              title=\"Convert this dataframe to an interactive table.\"\n",
              "              style=\"display:none;\">\n",
              "        \n",
              "  <svg xmlns=\"http://www.w3.org/2000/svg\" height=\"24px\"viewBox=\"0 0 24 24\"\n",
              "       width=\"24px\">\n",
              "    <path d=\"M0 0h24v24H0V0z\" fill=\"none\"/>\n",
              "    <path d=\"M18.56 5.44l.94 2.06.94-2.06 2.06-.94-2.06-.94-.94-2.06-.94 2.06-2.06.94zm-11 1L8.5 8.5l.94-2.06 2.06-.94-2.06-.94L8.5 2.5l-.94 2.06-2.06.94zm10 10l.94 2.06.94-2.06 2.06-.94-2.06-.94-.94-2.06-.94 2.06-2.06.94z\"/><path d=\"M17.41 7.96l-1.37-1.37c-.4-.4-.92-.59-1.43-.59-.52 0-1.04.2-1.43.59L10.3 9.45l-7.72 7.72c-.78.78-.78 2.05 0 2.83L4 21.41c.39.39.9.59 1.41.59.51 0 1.02-.2 1.41-.59l7.78-7.78 2.81-2.81c.8-.78.8-2.07 0-2.86zM5.41 20L4 18.59l7.72-7.72 1.47 1.35L5.41 20z\"/>\n",
              "  </svg>\n",
              "      </button>\n",
              "      \n",
              "  <style>\n",
              "    .colab-df-container {\n",
              "      display:flex;\n",
              "      flex-wrap:wrap;\n",
              "      gap: 12px;\n",
              "    }\n",
              "\n",
              "    .colab-df-convert {\n",
              "      background-color: #E8F0FE;\n",
              "      border: none;\n",
              "      border-radius: 50%;\n",
              "      cursor: pointer;\n",
              "      display: none;\n",
              "      fill: #1967D2;\n",
              "      height: 32px;\n",
              "      padding: 0 0 0 0;\n",
              "      width: 32px;\n",
              "    }\n",
              "\n",
              "    .colab-df-convert:hover {\n",
              "      background-color: #E2EBFA;\n",
              "      box-shadow: 0px 1px 2px rgba(60, 64, 67, 0.3), 0px 1px 3px 1px rgba(60, 64, 67, 0.15);\n",
              "      fill: #174EA6;\n",
              "    }\n",
              "\n",
              "    [theme=dark] .colab-df-convert {\n",
              "      background-color: #3B4455;\n",
              "      fill: #D2E3FC;\n",
              "    }\n",
              "\n",
              "    [theme=dark] .colab-df-convert:hover {\n",
              "      background-color: #434B5C;\n",
              "      box-shadow: 0px 1px 3px 1px rgba(0, 0, 0, 0.15);\n",
              "      filter: drop-shadow(0px 1px 2px rgba(0, 0, 0, 0.3));\n",
              "      fill: #FFFFFF;\n",
              "    }\n",
              "  </style>\n",
              "\n",
              "      <script>\n",
              "        const buttonEl =\n",
              "          document.querySelector('#df-8cca5e7b-556d-405c-9030-e0233cd063a4 button.colab-df-convert');\n",
              "        buttonEl.style.display =\n",
              "          google.colab.kernel.accessAllowed ? 'block' : 'none';\n",
              "\n",
              "        async function convertToInteractive(key) {\n",
              "          const element = document.querySelector('#df-8cca5e7b-556d-405c-9030-e0233cd063a4');\n",
              "          const dataTable =\n",
              "            await google.colab.kernel.invokeFunction('convertToInteractive',\n",
              "                                                     [key], {});\n",
              "          if (!dataTable) return;\n",
              "\n",
              "          const docLinkHtml = 'Like what you see? Visit the ' +\n",
              "            '<a target=\"_blank\" href=https://colab.research.google.com/notebooks/data_table.ipynb>data table notebook</a>'\n",
              "            + ' to learn more about interactive tables.';\n",
              "          element.innerHTML = '';\n",
              "          dataTable['output_type'] = 'display_data';\n",
              "          await google.colab.output.renderOutput(dataTable, element);\n",
              "          const docLink = document.createElement('div');\n",
              "          docLink.innerHTML = docLinkHtml;\n",
              "          element.appendChild(docLink);\n",
              "        }\n",
              "      </script>\n",
              "    </div>\n",
              "  </div>\n",
              "  "
            ]
          },
          "metadata": {},
          "execution_count": 165
        }
      ],
      "source": [
        "scores"
      ]
    },
    {
      "cell_type": "code",
      "execution_count": null,
      "metadata": {
        "id": "gLHdWSUtpH0R"
      },
      "outputs": [],
      "source": []
    },
    {
      "cell_type": "markdown",
      "metadata": {
        "id": "85zphOGXgrvL"
      },
      "source": [
        "## Comparing Models"
      ]
    },
    {
      "cell_type": "code",
      "source": [
        "# Default Vanilla LogisticRegression best lol."
      ],
      "metadata": {
        "id": "d1slAj5g7QNG"
      },
      "execution_count": null,
      "outputs": []
    },
    {
      "cell_type": "markdown",
      "metadata": {
        "id": "uyQoyHDTgrvM"
      },
      "source": [
        "# Before the Deployment \n",
        "- Choose the model that works best based on your chosen metric\n",
        "- For final step, fit the best model with whole dataset to get better performance.\n",
        "- And your model ready to deploy, dump your model and scaler."
      ]
    },
    {
      "cell_type": "markdown",
      "metadata": {
        "id": "TpUOM1MMgrvM"
      },
      "source": [
        "- Evaluation metrics \n",
        "https://towardsdatascience.com/comprehensive-guide-on-multiclass-classification-metrics-af94cfb83fbd"
      ]
    },
    {
      "cell_type": "code",
      "execution_count": null,
      "metadata": {
        "id": "vWCGeHtjgrvM"
      },
      "outputs": [],
      "source": []
    },
    {
      "cell_type": "code",
      "execution_count": null,
      "metadata": {
        "id": "aXvbXBRHgrvM"
      },
      "outputs": [],
      "source": []
    },
    {
      "cell_type": "code",
      "execution_count": null,
      "metadata": {
        "id": "4XdFQjs4grvM"
      },
      "outputs": [],
      "source": []
    },
    {
      "cell_type": "markdown",
      "metadata": {
        "id": "BQT7MaGpgrvM"
      },
      "source": [
        "## Altta yazılı olan başlıklar ile ilgili domain knowledge yapılarak çözüme gelinmeli"
      ]
    },
    {
      "cell_type": "markdown",
      "metadata": {
        "id": "hERR1DlMgrvM"
      },
      "source": [
        "# SMOTE\n",
        "https://machinelearningmastery.com/smote-oversampling-for-imbalanced-classification/"
      ]
    },
    {
      "cell_type": "markdown",
      "metadata": {
        "id": "ngr2hmJxgrvM"
      },
      "source": [
        "Yukaridaki makale Smote islemini detayli bir sekilde anlatiyor. "
      ]
    },
    {
      "cell_type": "markdown",
      "metadata": {
        "id": "iTPC0SiZgrvM"
      },
      "source": [
        "##  Smote implement"
      ]
    },
    {
      "cell_type": "markdown",
      "metadata": {
        "id": "veP0F6sSgrvN"
      },
      "source": [
        "__Smote__ -----> Dengesiz data setlerinde datadaki en buyuk gozlem sayisi hangi class' a ait ise diger class' larin gozlem sayisini da ona esitler. Mesela datamizdaki en buyuk gozlem sayisi White = 3034 idi. Smote islemi uygulandiginda diger class' lardaki gozlem sayilari da buna esitlenir. Dengesiz datasetlerinde mutlaka denenmelidir :"
      ]
    },
    {
      "cell_type": "markdown",
      "metadata": {
        "id": "tM1yOeeSgrvN"
      },
      "source": [
        "## Logistic Regression Over/Under Sampling"
      ]
    },
    {
      "cell_type": "markdown",
      "metadata": {
        "id": "UPv1bjSRgrvN"
      },
      "source": [
        "#  SHAP"
      ]
    },
    {
      "cell_type": "markdown",
      "metadata": {
        "id": "kx9OTFZngrvN"
      },
      "source": [
        "https://towardsdatascience.com/shap-explain-any-machine-learning-model-in-python-24207127cad7"
      ]
    },
    {
      "cell_type": "markdown",
      "metadata": {
        "id": "TGnuj4LNgrvN"
      },
      "source": [
        "## Shap values for all data"
      ]
    },
    {
      "cell_type": "markdown",
      "metadata": {
        "id": "wfxw7DTEgrvN"
      },
      "source": [
        "## SMOTE for X3 dataset"
      ]
    },
    {
      "cell_type": "markdown",
      "metadata": {
        "id": "F4dthLaIgrvN"
      },
      "source": [
        "## Find the best threshold for multiclassification"
      ]
    },
    {
      "cell_type": "markdown",
      "metadata": {
        "id": "Ipq4KxVagrvN"
      },
      "source": [
        "<p style=\"text-align: center;\"><img src=\"https://lms.techproeducation.com/pluginfile.php/1/theme_edumy/headerlogo2/1663129929/logo.png\" class=\"img-fluid\" alt=\"CLRSWY\"></p>"
      ]
    }
  ],
  "metadata": {
    "accelerator": "GPU",
    "colab": {
      "collapsed_sections": [
        "GHv1TuvngrvH",
        "cBVdqy1CgrvL",
        "f1Hn9HregrvL",
        "c6rm4mYxgrvL",
        "XdWYnESXgrvL",
        "85zphOGXgrvL",
        "uyQoyHDTgrvM",
        "BQT7MaGpgrvM",
        "hERR1DlMgrvM",
        "iTPC0SiZgrvM",
        "tM1yOeeSgrvN",
        "UPv1bjSRgrvN",
        "TGnuj4LNgrvN",
        "wfxw7DTEgrvN",
        "F4dthLaIgrvN"
      ],
      "machine_shape": "hm",
      "provenance": []
    },
    "gpuClass": "premium",
    "hide_input": false,
    "kernelspec": {
      "display_name": "Python 3.10.5 64-bit",
      "language": "python",
      "name": "python3"
    },
    "language_info": {
      "codemirror_mode": {
        "name": "ipython",
        "version": 3
      },
      "file_extension": ".py",
      "mimetype": "text/x-python",
      "name": "python",
      "nbconvert_exporter": "python",
      "pygments_lexer": "ipython3",
      "version": "3.10.5"
    },
    "toc": {
      "base_numbering": 1,
      "nav_menu": {},
      "number_sections": true,
      "sideBar": true,
      "skip_h1_title": false,
      "title_cell": "Table of Contents",
      "title_sidebar": "Contents",
      "toc_cell": false,
      "toc_position": {
        "height": "calc(100% - 180px)",
        "left": "10px",
        "top": "150px",
        "width": "338.797px"
      },
      "toc_section_display": true,
      "toc_window_display": false
    },
    "varInspector": {
      "cols": {
        "lenName": 16,
        "lenType": 16,
        "lenVar": 40
      },
      "kernels_config": {
        "python": {
          "delete_cmd_postfix": "",
          "delete_cmd_prefix": "del ",
          "library": "var_list.py",
          "varRefreshCmd": "print(var_dic_list())"
        },
        "r": {
          "delete_cmd_postfix": ") ",
          "delete_cmd_prefix": "rm(",
          "library": "var_list.r",
          "varRefreshCmd": "cat(var_dic_list()) "
        }
      },
      "oldHeight": 527,
      "position": {
        "height": "40px",
        "left": "1034px",
        "right": "20px",
        "top": "185px",
        "width": "661px"
      },
      "types_to_exclude": [
        "module",
        "function",
        "builtin_function_or_method",
        "instance",
        "_Feature"
      ],
      "varInspector_section_display": "none",
      "window_display": false
    },
    "vscode": {
      "interpreter": {
        "hash": "2d8cd8638caa719e77c3ece9ee6c9cdab6f2065d170551d375a17b4273bc3a23"
      }
    }
  },
  "nbformat": 4,
  "nbformat_minor": 0
}