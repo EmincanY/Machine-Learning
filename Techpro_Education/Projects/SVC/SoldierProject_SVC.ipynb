{
  "cells": [
    {
      "cell_type": "markdown",
      "metadata": {
        "id": "nO-iBTePBALS"
      },
      "source": [
        "# Import Libraries"
      ]
    },
    {
      "cell_type": "code",
      "execution_count": 1,
      "metadata": {
        "id": "NQxLh6wGA1RI"
      },
      "outputs": [],
      "source": [
        "import numpy as np\n",
        "import pandas as pd\n",
        "\n",
        "import matplotlib.pyplot as plt\n",
        "import seaborn as sns"
      ]
    },
    {
      "cell_type": "markdown",
      "metadata": {
        "id": "W0l-VsJlBDvs"
      },
      "source": [
        "# Reading and Vieving the Dataset"
      ]
    },
    {
      "cell_type": "code",
      "execution_count": 2,
      "metadata": {
        "id": "6wKXCZJdBBsG"
      },
      "outputs": [],
      "source": [
        "df_male = pd.read_csv(r\"C:\\Users\\EmincanY\\Desktop\\Soldier Capstone\\ANSUR II MALE Public.csv\",encoding='latin-1') \n",
        "\n",
        "df_female = pd.read_csv(r\"C:\\Users\\EmincanY\\Desktop\\Soldier Capstone\\ANSUR II FEMALE Public.csv\",encoding='latin-1')\n",
        "\n",
        "df = pd.concat([df_male, df_female])"
      ]
    },
    {
      "cell_type": "code",
      "execution_count": 3,
      "metadata": {
        "id": "R1Srq6_mBGiO"
      },
      "outputs": [],
      "source": [
        "df.reset_index(drop=True, inplace=True)"
      ]
    },
    {
      "cell_type": "code",
      "execution_count": 4,
      "metadata": {
        "id": "f-TQRYR5BGky"
      },
      "outputs": [],
      "source": [
        "dropped = ['subjectid', \n",
        "           'SubjectNumericRace', \n",
        "           'Ethnicity', 'Heightin', \n",
        "           'Weightlbs', 'Date', \n",
        "           'Installation', 'Component', \n",
        "           'Branch', 'PrimaryMOS', \n",
        "           'SubjectId']"
      ]
    },
    {
      "cell_type": "code",
      "execution_count": 5,
      "metadata": {
        "id": "moqFamGqBGnP"
      },
      "outputs": [],
      "source": [
        "df.drop(dropped , axis = 1 ,inplace = True)"
      ]
    },
    {
      "cell_type": "code",
      "execution_count": 6,
      "metadata": {
        "id": "WkFJVGoOBGpk"
      },
      "outputs": [
        {
          "data": {
            "text/plain": [
              "(6068, 98)"
            ]
          },
          "execution_count": 6,
          "metadata": {},
          "output_type": "execute_result"
        }
      ],
      "source": [
        "df.shape"
      ]
    },
    {
      "cell_type": "markdown",
      "metadata": {
        "id": "kPGanw8ZBPFx"
      },
      "source": [
        "## Dedecting Missing Values"
      ]
    },
    {
      "cell_type": "code",
      "execution_count": 7,
      "metadata": {
        "id": "T-pZCpm2BGsB"
      },
      "outputs": [
        {
          "data": {
            "text/plain": [
              "0"
            ]
          },
          "execution_count": 7,
          "metadata": {},
          "output_type": "execute_result"
        }
      ],
      "source": [
        "df.isna().sum().sum()"
      ]
    },
    {
      "cell_type": "code",
      "execution_count": 8,
      "metadata": {
        "id": "87rKJy_mBGuY"
      },
      "outputs": [
        {
          "data": {
            "text/html": [
              "<div>\n",
              "<style scoped>\n",
              "    .dataframe tbody tr th:only-of-type {\n",
              "        vertical-align: middle;\n",
              "    }\n",
              "\n",
              "    .dataframe tbody tr th {\n",
              "        vertical-align: top;\n",
              "    }\n",
              "\n",
              "    .dataframe thead th {\n",
              "        text-align: right;\n",
              "    }\n",
              "</style>\n",
              "<table border=\"1\" class=\"dataframe\">\n",
              "  <thead>\n",
              "    <tr style=\"text-align: right;\">\n",
              "      <th></th>\n",
              "      <th>count</th>\n",
              "      <th>mean</th>\n",
              "      <th>std</th>\n",
              "      <th>min</th>\n",
              "      <th>25%</th>\n",
              "      <th>50%</th>\n",
              "      <th>75%</th>\n",
              "      <th>max</th>\n",
              "    </tr>\n",
              "  </thead>\n",
              "  <tbody>\n",
              "    <tr>\n",
              "      <th>abdominalextensiondepthsitting</th>\n",
              "      <td>6068.0</td>\n",
              "      <td>246.468688</td>\n",
              "      <td>37.400106</td>\n",
              "      <td>155.0</td>\n",
              "      <td>219.0</td>\n",
              "      <td>242.0</td>\n",
              "      <td>271.00</td>\n",
              "      <td>451.0</td>\n",
              "    </tr>\n",
              "    <tr>\n",
              "      <th>acromialheight</th>\n",
              "      <td>6068.0</td>\n",
              "      <td>1406.161338</td>\n",
              "      <td>79.091048</td>\n",
              "      <td>1115.0</td>\n",
              "      <td>1350.0</td>\n",
              "      <td>1410.0</td>\n",
              "      <td>1462.00</td>\n",
              "      <td>1683.0</td>\n",
              "    </tr>\n",
              "    <tr>\n",
              "      <th>acromionradialelength</th>\n",
              "      <td>6068.0</td>\n",
              "      <td>327.374423</td>\n",
              "      <td>20.720018</td>\n",
              "      <td>249.0</td>\n",
              "      <td>313.0</td>\n",
              "      <td>328.0</td>\n",
              "      <td>341.25</td>\n",
              "      <td>393.0</td>\n",
              "    </tr>\n",
              "    <tr>\n",
              "      <th>anklecircumference</th>\n",
              "      <td>6068.0</td>\n",
              "      <td>224.891397</td>\n",
              "      <td>16.051833</td>\n",
              "      <td>156.0</td>\n",
              "      <td>214.0</td>\n",
              "      <td>225.0</td>\n",
              "      <td>235.00</td>\n",
              "      <td>293.0</td>\n",
              "    </tr>\n",
              "    <tr>\n",
              "      <th>axillaheight</th>\n",
              "      <td>6068.0</td>\n",
              "      <td>1299.608767</td>\n",
              "      <td>72.022286</td>\n",
              "      <td>1038.0</td>\n",
              "      <td>1249.0</td>\n",
              "      <td>1302.0</td>\n",
              "      <td>1349.00</td>\n",
              "      <td>1553.0</td>\n",
              "    </tr>\n",
              "    <tr>\n",
              "      <th>...</th>\n",
              "      <td>...</td>\n",
              "      <td>...</td>\n",
              "      <td>...</td>\n",
              "      <td>...</td>\n",
              "      <td>...</td>\n",
              "      <td>...</td>\n",
              "      <td>...</td>\n",
              "      <td>...</td>\n",
              "    </tr>\n",
              "    <tr>\n",
              "      <th>weightkg</th>\n",
              "      <td>6068.0</td>\n",
              "      <td>797.093935</td>\n",
              "      <td>156.528164</td>\n",
              "      <td>358.0</td>\n",
              "      <td>682.0</td>\n",
              "      <td>785.0</td>\n",
              "      <td>896.00</td>\n",
              "      <td>1442.0</td>\n",
              "    </tr>\n",
              "    <tr>\n",
              "      <th>wristcircumference</th>\n",
              "      <td>6068.0</td>\n",
              "      <td>169.002966</td>\n",
              "      <td>13.124513</td>\n",
              "      <td>124.0</td>\n",
              "      <td>159.0</td>\n",
              "      <td>170.0</td>\n",
              "      <td>179.00</td>\n",
              "      <td>216.0</td>\n",
              "    </tr>\n",
              "    <tr>\n",
              "      <th>wristheight</th>\n",
              "      <td>6068.0</td>\n",
              "      <td>830.059987</td>\n",
              "      <td>47.650519</td>\n",
              "      <td>672.0</td>\n",
              "      <td>797.0</td>\n",
              "      <td>830.0</td>\n",
              "      <td>863.00</td>\n",
              "      <td>1009.0</td>\n",
              "    </tr>\n",
              "    <tr>\n",
              "      <th>DODRace</th>\n",
              "      <td>6068.0</td>\n",
              "      <td>1.615030</td>\n",
              "      <td>0.979156</td>\n",
              "      <td>1.0</td>\n",
              "      <td>1.0</td>\n",
              "      <td>1.0</td>\n",
              "      <td>2.00</td>\n",
              "      <td>8.0</td>\n",
              "    </tr>\n",
              "    <tr>\n",
              "      <th>Age</th>\n",
              "      <td>6068.0</td>\n",
              "      <td>29.761206</td>\n",
              "      <td>8.674650</td>\n",
              "      <td>17.0</td>\n",
              "      <td>23.0</td>\n",
              "      <td>28.0</td>\n",
              "      <td>36.00</td>\n",
              "      <td>58.0</td>\n",
              "    </tr>\n",
              "  </tbody>\n",
              "</table>\n",
              "<p>95 rows × 8 columns</p>\n",
              "</div>"
            ],
            "text/plain": [
              "                                 count         mean         std     min  \\\n",
              "abdominalextensiondepthsitting  6068.0   246.468688   37.400106   155.0   \n",
              "acromialheight                  6068.0  1406.161338   79.091048  1115.0   \n",
              "acromionradialelength           6068.0   327.374423   20.720018   249.0   \n",
              "anklecircumference              6068.0   224.891397   16.051833   156.0   \n",
              "axillaheight                    6068.0  1299.608767   72.022286  1038.0   \n",
              "...                                ...          ...         ...     ...   \n",
              "weightkg                        6068.0   797.093935  156.528164   358.0   \n",
              "wristcircumference              6068.0   169.002966   13.124513   124.0   \n",
              "wristheight                     6068.0   830.059987   47.650519   672.0   \n",
              "DODRace                         6068.0     1.615030    0.979156     1.0   \n",
              "Age                             6068.0    29.761206    8.674650    17.0   \n",
              "\n",
              "                                   25%     50%      75%     max  \n",
              "abdominalextensiondepthsitting   219.0   242.0   271.00   451.0  \n",
              "acromialheight                  1350.0  1410.0  1462.00  1683.0  \n",
              "acromionradialelength            313.0   328.0   341.25   393.0  \n",
              "anklecircumference               214.0   225.0   235.00   293.0  \n",
              "axillaheight                    1249.0  1302.0  1349.00  1553.0  \n",
              "...                                ...     ...      ...     ...  \n",
              "weightkg                         682.0   785.0   896.00  1442.0  \n",
              "wristcircumference               159.0   170.0   179.00   216.0  \n",
              "wristheight                      797.0   830.0   863.00  1009.0  \n",
              "DODRace                            1.0     1.0     2.00     8.0  \n",
              "Age                               23.0    28.0    36.00    58.0  \n",
              "\n",
              "[95 rows x 8 columns]"
            ]
          },
          "execution_count": 8,
          "metadata": {},
          "output_type": "execute_result"
        }
      ],
      "source": [
        "df.describe().T"
      ]
    },
    {
      "cell_type": "markdown",
      "metadata": {
        "id": "gOSWD8dGBY2X"
      },
      "source": [
        "## Outlier Dedection"
      ]
    },
    {
      "cell_type": "code",
      "execution_count": 9,
      "metadata": {
        "id": "v0ztu5FFBGwu"
      },
      "outputs": [
        {
          "data": {
            "text/plain": [
              "(6068, 98)"
            ]
          },
          "execution_count": 9,
          "metadata": {},
          "output_type": "execute_result"
        }
      ],
      "source": [
        "df.shape"
      ]
    },
    {
      "cell_type": "code",
      "execution_count": 10,
      "metadata": {
        "id": "WSeHGUMiBGy-"
      },
      "outputs": [],
      "source": [
        "def outlier_deleter(df,target_col , whisker):\n",
        "  for col in df.drop(target_col , axis = 1).columns : \n",
        "    if df[col].dtype != 'object':\n",
        "      q3 =  np.percentile(df[col] , 75)\n",
        "      q1 =  np.percentile(df[col] , 25)\n",
        "\n",
        "      iqr = q3 - q1\n",
        "      low_lim = q1 - (whisker*iqr)\n",
        "      high_lim = q3 + (whisker*iqr)\n",
        "\n",
        "      outlier_indexes = df[ (df[col] > high_lim) | (df[col] < low_lim) ].index\n",
        "      df.drop(outlier_indexes , axis = 0 , inplace = True)\n",
        "      print(f'Total outlier {len(outlier_indexes)} in {col} column and dropped.')"
      ]
    },
    {
      "cell_type": "code",
      "execution_count": 11,
      "metadata": {
        "id": "6Fw5e389BG1h"
      },
      "outputs": [
        {
          "name": "stdout",
          "output_type": "stream",
          "text": [
            "Total outlier 46 in abdominalextensiondepthsitting column and dropped.\n",
            "Total outlier 15 in acromialheight column and dropped.\n",
            "Total outlier 31 in acromionradialelength column and dropped.\n",
            "Total outlier 70 in anklecircumference column and dropped.\n",
            "Total outlier 10 in axillaheight column and dropped.\n",
            "Total outlier 6 in balloffootcircumference column and dropped.\n",
            "Total outlier 6 in balloffootlength column and dropped.\n",
            "Total outlier 0 in biacromialbreadth column and dropped.\n",
            "Total outlier 14 in bicepscircumferenceflexed column and dropped.\n",
            "Total outlier 58 in bicristalbreadth column and dropped.\n",
            "Total outlier 5 in bideltoidbreadth column and dropped.\n",
            "Total outlier 1 in bimalleolarbreadth column and dropped.\n",
            "Total outlier 39 in bitragionchinarc column and dropped.\n",
            "Total outlier 7 in bitragionsubmandibulararc column and dropped.\n",
            "Total outlier 13 in bizygomaticbreadth column and dropped.\n",
            "Total outlier 34 in buttockcircumference column and dropped.\n",
            "Total outlier 9 in buttockdepth column and dropped.\n",
            "Total outlier 20 in buttockheight column and dropped.\n",
            "Total outlier 15 in buttockkneelength column and dropped.\n",
            "Total outlier 14 in buttockpopliteallength column and dropped.\n",
            "Total outlier 21 in calfcircumference column and dropped.\n",
            "Total outlier 0 in cervicaleheight column and dropped.\n",
            "Total outlier 12 in chestbreadth column and dropped.\n",
            "Total outlier 6 in chestcircumference column and dropped.\n",
            "Total outlier 21 in chestdepth column and dropped.\n",
            "Total outlier 2 in chestheight column and dropped.\n",
            "Total outlier 3 in crotchheight column and dropped.\n",
            "Total outlier 33 in crotchlengthomphalion column and dropped.\n",
            "Total outlier 14 in crotchlengthposterioromphalion column and dropped.\n",
            "Total outlier 46 in earbreadth column and dropped.\n",
            "Total outlier 15 in earlength column and dropped.\n",
            "Total outlier 40 in earprotrusion column and dropped.\n",
            "Total outlier 38 in elbowrestheight column and dropped.\n",
            "Total outlier 8 in eyeheightsitting column and dropped.\n",
            "Total outlier 7 in footbreadthhorizontal column and dropped.\n",
            "Total outlier 6 in footlength column and dropped.\n",
            "Total outlier 5 in forearmcenterofgriplength column and dropped.\n",
            "Total outlier 2 in forearmcircumferenceflexed column and dropped.\n",
            "Total outlier 2 in forearmforearmbreadth column and dropped.\n",
            "Total outlier 3 in forearmhandlength column and dropped.\n",
            "Total outlier 7 in functionalleglength column and dropped.\n",
            "Total outlier 0 in handbreadth column and dropped.\n",
            "Total outlier 0 in handcircumference column and dropped.\n",
            "Total outlier 15 in handlength column and dropped.\n",
            "Total outlier 37 in headbreadth column and dropped.\n",
            "Total outlier 32 in headcircumference column and dropped.\n",
            "Total outlier 25 in headlength column and dropped.\n",
            "Total outlier 1 in heelanklecircumference column and dropped.\n",
            "Total outlier 71 in heelbreadth column and dropped.\n",
            "Total outlier 34 in hipbreadth column and dropped.\n",
            "Total outlier 29 in hipbreadthsitting column and dropped.\n",
            "Total outlier 4 in iliocristaleheight column and dropped.\n",
            "Total outlier 68 in interpupillarybreadth column and dropped.\n",
            "Total outlier 7 in interscyei column and dropped.\n",
            "Total outlier 5 in interscyeii column and dropped.\n",
            "Total outlier 10 in kneeheightmidpatella column and dropped.\n",
            "Total outlier 0 in kneeheightsitting column and dropped.\n",
            "Total outlier 14 in lateralfemoralepicondyleheight column and dropped.\n",
            "Total outlier 29 in lateralmalleolusheight column and dropped.\n",
            "Total outlier 21 in lowerthighcircumference column and dropped.\n",
            "Total outlier 9 in mentonsellionlength column and dropped.\n",
            "Total outlier 0 in neckcircumference column and dropped.\n",
            "Total outlier 0 in neckcircumferencebase column and dropped.\n",
            "Total outlier 6 in overheadfingertipreachsitting column and dropped.\n",
            "Total outlier 26 in palmlength column and dropped.\n",
            "Total outlier 3 in poplitealheight column and dropped.\n",
            "Total outlier 9 in radialestylionlength column and dropped.\n",
            "Total outlier 0 in shouldercircumference column and dropped.\n",
            "Total outlier 2 in shoulderelbowlength column and dropped.\n",
            "Total outlier 27 in shoulderlength column and dropped.\n",
            "Total outlier 3 in sittingheight column and dropped.\n",
            "Total outlier 0 in sleevelengthspinewrist column and dropped.\n",
            "Total outlier 1 in sleeveoutseam column and dropped.\n",
            "Total outlier 0 in span column and dropped.\n",
            "Total outlier 1 in stature column and dropped.\n",
            "Total outlier 0 in suprasternaleheight column and dropped.\n",
            "Total outlier 4 in tenthribheight column and dropped.\n",
            "Total outlier 13 in thighcircumference column and dropped.\n",
            "Total outlier 29 in thighclearance column and dropped.\n",
            "Total outlier 18 in thumbtipreach column and dropped.\n",
            "Total outlier 3 in tibialheight column and dropped.\n",
            "Total outlier 20 in tragiontopofhead column and dropped.\n",
            "Total outlier 6 in trochanterionheight column and dropped.\n",
            "Total outlier 7 in verticaltrunkcircumferenceusa column and dropped.\n",
            "Total outlier 16 in waistbacklength column and dropped.\n",
            "Total outlier 8 in waistbreadth column and dropped.\n",
            "Total outlier 2 in waistcircumference column and dropped.\n",
            "Total outlier 29 in waistdepth column and dropped.\n",
            "Total outlier 13 in waistfrontlengthsitting column and dropped.\n",
            "Total outlier 2 in waistheightomphalion column and dropped.\n",
            "Total outlier 1 in weightkg column and dropped.\n",
            "Total outlier 0 in wristcircumference column and dropped.\n",
            "Total outlier 7 in wristheight column and dropped.\n",
            "Total outlier 26 in Age column and dropped.\n"
          ]
        }
      ],
      "source": [
        "outlier_deleter(df,'DODRace',1.5)"
      ]
    },
    {
      "cell_type": "code",
      "execution_count": 12,
      "metadata": {
        "id": "9R_Mt0UYBG31"
      },
      "outputs": [
        {
          "data": {
            "text/plain": [
              "(4671, 98)"
            ]
          },
          "execution_count": 12,
          "metadata": {},
          "output_type": "execute_result"
        }
      ],
      "source": [
        "df.shape"
      ]
    },
    {
      "cell_type": "code",
      "execution_count": 13,
      "metadata": {
        "id": "UNyoo43mBG6W"
      },
      "outputs": [],
      "source": [
        "df.reset_index(drop=True, inplace=True)"
      ]
    },
    {
      "cell_type": "markdown",
      "metadata": {
        "id": "4gluXBsPB0Td"
      },
      "source": [
        "## Looking the Target Variable"
      ]
    },
    {
      "cell_type": "code",
      "execution_count": 14,
      "metadata": {
        "id": "A7y1xE5VBG8k"
      },
      "outputs": [
        {
          "data": {
            "text/plain": [
              "1    3026\n",
              "2     875\n",
              "3     556\n",
              "4     135\n",
              "6      40\n",
              "5      36\n",
              "8       3\n",
              "Name: DODRace, dtype: int64"
            ]
          },
          "execution_count": 14,
          "metadata": {},
          "output_type": "execute_result"
        }
      ],
      "source": [
        "df['DODRace'].value_counts()"
      ]
    },
    {
      "cell_type": "code",
      "execution_count": 15,
      "metadata": {
        "id": "kIJDPbHABG_L"
      },
      "outputs": [],
      "source": [
        "df.drop(df[df['DODRace'] > 3].index, axis = 0, inplace=True) # We should drop some classes because there is less than 500 data. Model could'nt predict well them."
      ]
    },
    {
      "cell_type": "code",
      "execution_count": 16,
      "metadata": {
        "id": "Hhi-ajbNBHBm"
      },
      "outputs": [],
      "source": [
        "df.reset_index(inplace=True, drop=True)"
      ]
    },
    {
      "cell_type": "code",
      "execution_count": 17,
      "metadata": {
        "id": "IzrmMPcpBHD3"
      },
      "outputs": [
        {
          "data": {
            "text/plain": [
              "sittingheight           -0.335682\n",
              "eyeheightsitting        -0.329963\n",
              "wristheight             -0.293509\n",
              "stature                 -0.264516\n",
              "acromialheight          -0.249822\n",
              "                           ...   \n",
              "bizygomaticbreadth       0.043524\n",
              "thighcircumference       0.044081\n",
              "bitragionchinarc         0.096268\n",
              "heelbreadth              0.177851\n",
              "interpupillarybreadth    0.188455\n",
              "Name: DODRace, Length: 94, dtype: float64"
            ]
          },
          "execution_count": 17,
          "metadata": {},
          "output_type": "execute_result"
        }
      ],
      "source": [
        "df.corr()['DODRace'].drop('DODRace').sort_values()"
      ]
    },
    {
      "cell_type": "code",
      "execution_count": 18,
      "metadata": {
        "id": "yIkFiXmzBHGl"
      },
      "outputs": [
        {
          "data": {
            "text/plain": [
              "sittingheight             0.335682\n",
              "eyeheightsitting          0.329963\n",
              "wristheight               0.293509\n",
              "stature                   0.264516\n",
              "acromialheight            0.249822\n",
              "cervicaleheight           0.246343\n",
              "axillaheight              0.238382\n",
              "suprasternaleheight       0.235927\n",
              "chestheight               0.221413\n",
              "lateralmalleolusheight    0.219253\n",
              "Name: DODRace, dtype: float64"
            ]
          },
          "execution_count": 18,
          "metadata": {},
          "output_type": "execute_result"
        }
      ],
      "source": [
        "abs(df.corr()['DODRace'].drop('DODRace')).sort_values(ascending=False).head(10)"
      ]
    },
    {
      "cell_type": "code",
      "execution_count": 19,
      "metadata": {
        "id": "xWCVW5C5BHIu"
      },
      "outputs": [],
      "source": [
        "# df.drop(abs(df.corr()['DODRace'].drop('DODRace')).sort_values(ascending=False).head(10).index , axis = 1 , inplace = True)"
      ]
    },
    {
      "cell_type": "code",
      "execution_count": 20,
      "metadata": {
        "id": "9FFlncTuCAuH"
      },
      "outputs": [
        {
          "data": {
            "text/plain": [
              "(4457, 98)"
            ]
          },
          "execution_count": 20,
          "metadata": {},
          "output_type": "execute_result"
        }
      ],
      "source": [
        "df.shape"
      ]
    },
    {
      "cell_type": "code",
      "execution_count": 21,
      "metadata": {
        "id": "GolYxOFsCAjm"
      },
      "outputs": [
        {
          "data": {
            "text/plain": [
              "1    3026\n",
              "2     875\n",
              "3     556\n",
              "Name: DODRace, dtype: int64"
            ]
          },
          "execution_count": 21,
          "metadata": {},
          "output_type": "execute_result"
        }
      ],
      "source": [
        "df['DODRace'].value_counts()"
      ]
    },
    {
      "cell_type": "markdown",
      "metadata": {
        "id": "g8Owq-jLCC4-"
      },
      "source": [
        "## Creating X and y features"
      ]
    },
    {
      "cell_type": "code",
      "execution_count": 22,
      "metadata": {
        "id": "q6llHZj3CAXS"
      },
      "outputs": [],
      "source": [
        "X = df.drop('DODRace',axis=1)\n",
        "# X_ohe = pd.get_dummies(df.drop('DODRace',axis=1),drop_first=True) # This might be better.\n",
        "y = df['DODRace']"
      ]
    },
    {
      "cell_type": "markdown",
      "metadata": {
        "id": "g5Oby5shCG-i"
      },
      "source": [
        "## Handling Imbalanced Data"
      ]
    },
    {
      "cell_type": "code",
      "execution_count": 25,
      "metadata": {},
      "outputs": [],
      "source": [
        "from sklearn.preprocessing import OrdinalEncoder\n",
        "from imblearn.over_sampling import SMOTE\n",
        "\n",
        "enc = OrdinalEncoder()\n",
        "\n",
        "cat = X.select_dtypes('object').columns\n",
        "\n",
        "X[cat] = enc.fit_transform(X[cat])\n",
        "\n",
        "\n",
        "\n",
        "\n",
        "oversample = SMOTE()\n",
        "\n",
        "X, y_smote = oversample.fit_resample(X,y) \n",
        "\n",
        "# This is for tree base models."
      ]
    },
    {
      "cell_type": "code",
      "execution_count": null,
      "metadata": {
        "id": "4B90FpUtB_-n"
      },
      "outputs": [],
      "source": [
        "# from imblearn.over_sampling import SMOTE\n",
        "\n",
        "# oversample = SMOTE()\n",
        "# X, y_smote = oversample.fit_resample(X, y)\n",
        "\n",
        "# # This is doing oversampling."
      ]
    },
    {
      "cell_type": "code",
      "execution_count": null,
      "metadata": {
        "id": "muB7UJDaBHLC"
      },
      "outputs": [],
      "source": [
        "# from imblearn.combine import SMOTETomek\n",
        "\n",
        "# smt = SMOTETomek(random_state=42)\n",
        "# X_ohe, y = smt.fit_resample(X_ohe, y)\n",
        "\n",
        "# It does both increment and decrement"
      ]
    },
    {
      "cell_type": "code",
      "execution_count": null,
      "metadata": {
        "id": "k8r1_VSMB9F-"
      },
      "outputs": [],
      "source": [
        "# from imblearn.combine import SMOTEENN\n",
        "\n",
        "# smt = SMOTEENN(random_state=42)\n",
        "# X_ohe, y = smt.fit_resample(X_ohe, y)"
      ]
    },
    {
      "cell_type": "markdown",
      "metadata": {
        "id": "yUScu-kDCM3A"
      },
      "source": [
        "# LogisticRegression"
      ]
    },
    {
      "cell_type": "markdown",
      "metadata": {
        "id": "hV3yUEdtCO0p"
      },
      "source": [
        "## Train | Test Split"
      ]
    },
    {
      "cell_type": "code",
      "execution_count": 26,
      "metadata": {
        "id": "pZeS_TuaB9-X"
      },
      "outputs": [],
      "source": [
        "from sklearn.model_selection import train_test_split\n",
        "\n",
        "X_train, X_test, y_train, y_test = train_test_split(X, y_smote, test_size=0.2, random_state=53)"
      ]
    },
    {
      "cell_type": "markdown",
      "metadata": {
        "id": "c-DIFjzbCQdc"
      },
      "source": [
        "## Scaling"
      ]
    },
    {
      "cell_type": "code",
      "execution_count": 27,
      "metadata": {
        "id": "9Jhub7g8CRnC"
      },
      "outputs": [],
      "source": [
        "from sklearn.preprocessing import MinMaxScaler, StandardScaler\n",
        "\n",
        "scaler = MinMaxScaler()\n",
        "# scaler = StandardScaler()\n",
        "\n",
        "X_train_scaled = scaler.fit_transform(X_train)\n",
        "X_test_scaled = scaler.transform(X_test)"
      ]
    },
    {
      "cell_type": "markdown",
      "metadata": {
        "id": "IBXFUtNVCWbR"
      },
      "source": [
        "## GridSearch For Best Model"
      ]
    },
    {
      "cell_type": "code",
      "execution_count": 28,
      "metadata": {
        "id": "-BVxaMYkCR_o"
      },
      "outputs": [],
      "source": [
        "from sklearn.model_selection import GridSearchCV\n",
        "from sklearn.svm import SVC"
      ]
    },
    {
      "cell_type": "code",
      "execution_count": null,
      "metadata": {
        "id": "V1LlvWKiCSBz"
      },
      "outputs": [],
      "source": [
        "# svc_vanilla = SVC(class_weight = 'balanced' , random_state = 53)\n",
        "\n",
        "# param_grid = {'C' : [100,300,500,800,1000,1250,1500],\n",
        "#               'gamma' : ['auto','scale'],\n",
        "#               'decision_function_shape' : ['ovo', 'ovr']}\n",
        "\n",
        "# svc_grid_model = GridSearchCV(svc_vanilla,\n",
        "#                               param_grid=param_grid,\n",
        "#                               cv=5,\n",
        "#                               scoring='accuracy',\n",
        "#                               verbose=2,\n",
        "#                               n_jobs=-1)\n",
        "\n",
        "# svc_grid_model.fit(X_train_scaled, y_train)"
      ]
    },
    {
      "cell_type": "code",
      "execution_count": null,
      "metadata": {
        "id": "Ni-Kz1DCCSEL"
      },
      "outputs": [],
      "source": [
        "# svc_grid_model.best_score_"
      ]
    },
    {
      "cell_type": "code",
      "execution_count": null,
      "metadata": {
        "id": "vqMa8yAVCSGg"
      },
      "outputs": [],
      "source": [
        "# svc_grid_model.best_params_                 # C = 800 or 1000 , decision_function_shape = 'ovo' , gamma = 'scale'"
      ]
    },
    {
      "cell_type": "code",
      "execution_count": null,
      "metadata": {
        "id": "MkT9QINMCSIu"
      },
      "outputs": [],
      "source": [
        "# svc_grid_model = SVC(C = svc_grid_model.best_params_['C'] , max_iter=10000, class_weight = 'balanced' , gamma = svc_grid_model.best_params_['gamma'] , \n",
        "#                      decision_function_shape = svc_grid_model.best_params_['decision_function_shape'],\n",
        "#                      random_state = 53).fit(X_train_scaled , y_train)"
      ]
    },
    {
      "cell_type": "code",
      "execution_count": 29,
      "metadata": {
        "id": "LJl8nKtbCSLH"
      },
      "outputs": [],
      "source": [
        "svc_grid_model = SVC(C = 800 , decision_function_shape = 'ovo' , gamma = 'scale' , class_weight = 'balanced' , random_state = 53).fit(X_train_scaled,y_train)"
      ]
    },
    {
      "cell_type": "markdown",
      "metadata": {
        "id": "Obwe3gSNCte4"
      },
      "source": [
        "## Model Evaluation"
      ]
    },
    {
      "cell_type": "code",
      "execution_count": 30,
      "metadata": {
        "id": "U0Mg92RCCSNZ"
      },
      "outputs": [],
      "source": [
        "from sklearn.metrics import accuracy_score, classification_report, plot_confusion_matrix"
      ]
    },
    {
      "cell_type": "code",
      "execution_count": 31,
      "metadata": {
        "id": "IYwCLXGfCSPz"
      },
      "outputs": [],
      "source": [
        "def eval_metric(model, X_train, y_train, X_test, y_test):\n",
        "    plot_confusion_matrix(model, X_test, y_test)\n",
        "    y_train_pred = model.predict(X_train)\n",
        "    y_pred = model.predict(X_test)\n",
        "    \n",
        "    print(\"Test Set\")\n",
        "    print(classification_report(y_test, y_pred), end='\\n')\n",
        "    print(\"Train Set\")\n",
        "    print(classification_report(y_train, y_train_pred))"
      ]
    },
    {
      "cell_type": "code",
      "execution_count": 32,
      "metadata": {
        "id": "XubOutrNCSSO"
      },
      "outputs": [
        {
          "name": "stderr",
          "output_type": "stream",
          "text": [
            "c:\\Users\\EmincanY\\AppData\\Local\\Programs\\Python\\Python310\\lib\\site-packages\\sklearn\\utils\\deprecation.py:87: FutureWarning: Function plot_confusion_matrix is deprecated; Function `plot_confusion_matrix` is deprecated in 1.0 and will be removed in 1.2. Use one of the class methods: ConfusionMatrixDisplay.from_predictions or ConfusionMatrixDisplay.from_estimator.\n",
            "  warnings.warn(msg, category=FutureWarning)\n"
          ]
        },
        {
          "name": "stdout",
          "output_type": "stream",
          "text": [
            "Test Set\n",
            "              precision    recall  f1-score   support\n",
            "\n",
            "           1       0.98      0.92      0.95       627\n",
            "           2       0.98      0.99      0.99       610\n",
            "           3       0.93      0.98      0.95       579\n",
            "\n",
            "    accuracy                           0.96      1816\n",
            "   macro avg       0.96      0.96      0.96      1816\n",
            "weighted avg       0.96      0.96      0.96      1816\n",
            "\n",
            "Train Set\n",
            "              precision    recall  f1-score   support\n",
            "\n",
            "           1       1.00      1.00      1.00      2399\n",
            "           2       1.00      1.00      1.00      2416\n",
            "           3       1.00      1.00      1.00      2447\n",
            "\n",
            "    accuracy                           1.00      7262\n",
            "   macro avg       1.00      1.00      1.00      7262\n",
            "weighted avg       1.00      1.00      1.00      7262\n",
            "\n"
          ]
        },
        {
          "data": {
            "image/png": "[encoded data removed]",
            "text/plain": [
              "<Figure size 432x288 with 2 Axes>"
            ]
          },
          "metadata": {
            "needs_background": "light"
          },
          "output_type": "display_data"
        }
      ],
      "source": [
        "eval_metric(svc_grid_model , X_train_scaled , y_train , X_test_scaled , y_test)"
      ]
    },
    {
      "cell_type": "code",
      "execution_count": 34,
      "metadata": {
        "id": "i3i_FPaZCSUp"
      },
      "outputs": [
        {
          "data": {
            "text/plain": [
              "0.9577247795479668"
            ]
          },
          "execution_count": 34,
          "metadata": {},
          "output_type": "execute_result"
        }
      ],
      "source": [
        "from sklearn.model_selection import cross_validate\n",
        "\n",
        "svc_grid_model = SVC(C = 800 , decision_function_shape = 'ovo' , gamma = 'scale' , class_weight = 'balanced' , random_state = 53)\n",
        "\n",
        "cross_validate(svc_grid_model , X_train_scaled , y_train , cv = 5 , scoring = 'accuracy')['test_score'].mean()"
      ]
    },
    {
      "cell_type": "markdown",
      "metadata": {
        "id": "XT5xtIfYC86G"
      },
      "source": [
        "## Visulization Multiclass Roc"
      ]
    },
    {
      "cell_type": "code",
      "execution_count": 48,
      "metadata": {},
      "outputs": [],
      "source": [
        "# from sklearn.metrics import roc_curve, auc, plot_precision_recall_curve"
      ]
    },
    {
      "cell_type": "code",
      "execution_count": 47,
      "metadata": {
        "id": "QVHEnEloCSWq"
      },
      "outputs": [],
      "source": [
        "# def plot_multiclass_roc(clf, X_test, y_test, n_classes, figsize=(5,5)):\n",
        "#     y_score = clf.decision_function(X_test)\n",
        "\n",
        "#     # structures\n",
        "#     fpr = dict()\n",
        "#     tpr = dict()\n",
        "#     roc_auc = dict()\n",
        "\n",
        "#     # calculate dummies once\n",
        "#     y_test_dummies = pd.get_dummies(y_test, drop_first=False).values\n",
        "#     for i in range(n_classes):\n",
        "#         fpr[i], tpr[i], _ = roc_curve(y_test_dummies[:, i], y_score[:, i])\n",
        "#         roc_auc[i] = auc(fpr[i], tpr[i])\n",
        "\n",
        "#     # roc for each class\n",
        "#     fig, ax = plt.subplots(figsize=figsize)\n",
        "#     ax.plot([0, 1], [0, 1], 'k--')\n",
        "#     ax.set_xlim([0.0, 1.0])\n",
        "#     ax.set_ylim([0.0, 1.05])\n",
        "#     ax.set_xlabel('False Positive Rate')\n",
        "#     ax.set_ylabel('True Positive Rate')\n",
        "#     ax.set_title('Receiver operating characteristic example')\n",
        "#     for i in range(n_classes):\n",
        "#         ax.plot(fpr[i], tpr[i], label='ROC curve (area = %0.2f) for label %i' % (roc_auc[i], i))\n",
        "#     ax.legend(loc=\"best\")\n",
        "#     ax.grid(alpha=.4)\n",
        "#     sns.despine()\n",
        "#     plt.show()"
      ]
    },
    {
      "cell_type": "code",
      "execution_count": 46,
      "metadata": {
        "id": "DQ5isv4sCSY3"
      },
      "outputs": [],
      "source": [
        "# plot_multiclass_roc(svc_grid_model, X_train_scaled, y_train, n_classes=3, figsize=(16, 10))"
      ]
    },
    {
      "cell_type": "code",
      "execution_count": 45,
      "metadata": {
        "id": "so9C1EAICSbq"
      },
      "outputs": [],
      "source": [
        "# plot_multiclass_roc(svc_grid_model, X_test_scaled, y_test, n_classes=3, figsize=(16, 10))"
      ]
    },
    {
      "cell_type": "code",
      "execution_count": null,
      "metadata": {
        "id": "ub33UUyYCSef"
      },
      "outputs": [],
      "source": [
        "# Done"
      ]
    }
  ],
  "metadata": {
    "colab": {
      "provenance": []
    },
    "kernelspec": {
      "display_name": "Python 3.10.5 64-bit",
      "language": "python",
      "name": "python3"
    },
    "language_info": {
      "codemirror_mode": {
        "name": "ipython",
        "version": 3
      },
      "file_extension": ".py",
      "mimetype": "text/x-python",
      "name": "python",
      "nbconvert_exporter": "python",
      "pygments_lexer": "ipython3",
      "version": "3.10.5"
    },
    "vscode": {
      "interpreter": {
        "hash": "2d8cd8638caa719e77c3ece9ee6c9cdab6f2065d170551d375a17b4273bc3a23"
      }
    }
  },
  "nbformat": 4,
  "nbformat_minor": 0
}
