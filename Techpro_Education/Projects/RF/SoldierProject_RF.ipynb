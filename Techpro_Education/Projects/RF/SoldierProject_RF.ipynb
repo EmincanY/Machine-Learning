{
  "nbformat": 4,
  "nbformat_minor": 0,
  "metadata": {
    "colab": {
      "provenance": [],
      "machine_shape": "hm"
    },
    "kernelspec": {
      "name": "python3",
      "display_name": "Python 3"
    },
    "language_info": {
      "name": "python"
    },
    "accelerator": "GPU"
  },
  "cells": [
    {
      "cell_type": "markdown",
      "source": [
        "# Import Libraries"
      ],
      "metadata": {
        "id": "PeJ1u7Aa2Sax"
      }
    },
    {
      "cell_type": "code",
      "execution_count": 1,
      "metadata": {
        "id": "4L1EESYG1onT"
      },
      "outputs": [],
      "source": [
        "import numpy as np\n",
        "import pandas as pd\n",
        "\n",
        "import matplotlib.pyplot as plt\n",
        "import seaborn as sns"
      ]
    },
    {
      "cell_type": "markdown",
      "source": [
        "# Reading and Vieving the Dataset"
      ],
      "metadata": {
        "id": "wE3fpuG32Xll"
      }
    },
    {
      "cell_type": "code",
      "source": [
        "df_male = pd.read_csv(r\"/content/drive/MyDrive/Colab_Notebooks/Datasets/ANSUR II MALE Public.csv\",encoding='latin-1') \n",
        "\n",
        "df_female = pd.read_csv(r\"/content/drive/MyDrive/Colab_Notebooks/Datasets/ANSUR II FEMALE Public.csv\",encoding='latin-1')\n",
        "\n",
        "df = pd.concat([df_male, df_female])"
      ],
      "metadata": {
        "id": "KdhpNC7X2VdN"
      },
      "execution_count": 2,
      "outputs": []
    },
    {
      "cell_type": "code",
      "source": [
        "df.reset_index(drop=True, inplace=True)"
      ],
      "metadata": {
        "id": "ALQb_m9O2_Jn"
      },
      "execution_count": 3,
      "outputs": []
    },
    {
      "cell_type": "code",
      "source": [
        "dropped = ['subjectid', \n",
        "           'SubjectNumericRace', \n",
        "           'Ethnicity', 'Heightin', \n",
        "           'Weightlbs', 'Date', \n",
        "           'Installation', 'Component', \n",
        "           'Branch', 'PrimaryMOS', \n",
        "           'SubjectId']"
      ],
      "metadata": {
        "id": "gRMQbr4i2_MU"
      },
      "execution_count": 4,
      "outputs": []
    },
    {
      "cell_type": "code",
      "source": [
        "df.drop(dropped , axis = 1 ,inplace = True)"
      ],
      "metadata": {
        "id": "7yTd9vIq2_O7"
      },
      "execution_count": 5,
      "outputs": []
    },
    {
      "cell_type": "code",
      "source": [
        "df.shape"
      ],
      "metadata": {
        "colab": {
          "base_uri": "https://localhost:8080/"
        },
        "id": "39V1IswP2_R4",
        "outputId": "08feb05c-d1b0-44b3-d082-cedfbeab621c"
      },
      "execution_count": 6,
      "outputs": [
        {
          "output_type": "execute_result",
          "data": {
            "text/plain": [
              "(6068, 98)"
            ]
          },
          "metadata": {},
          "execution_count": 6
        }
      ]
    },
    {
      "cell_type": "markdown",
      "source": [
        "## Dedecting Missing Values"
      ],
      "metadata": {
        "id": "E_pP_hC13K9d"
      }
    },
    {
      "cell_type": "code",
      "source": [
        "df.isna().sum().sum()"
      ],
      "metadata": {
        "colab": {
          "base_uri": "https://localhost:8080/"
        },
        "id": "e__q2Xt22_Ul",
        "outputId": "9b64eb65-68ba-44e5-bee8-5db9e3d7796e"
      },
      "execution_count": 7,
      "outputs": [
        {
          "output_type": "execute_result",
          "data": {
            "text/plain": [
              "0"
            ]
          },
          "metadata": {},
          "execution_count": 7
        }
      ]
    },
    {
      "cell_type": "code",
      "source": [
        "df.describe().T"
      ],
      "metadata": {
        "colab": {
          "base_uri": "https://localhost:8080/",
          "height": 424
        },
        "id": "K36lsbgT2_XY",
        "outputId": "3effc90c-fe75-422f-f5fc-f9b5a5c1baba"
      },
      "execution_count": 8,
      "outputs": [
        {
          "output_type": "execute_result",
          "data": {
            "text/plain": [
              "                                 count         mean         std     min  \\\n",
              "abdominalextensiondepthsitting  6068.0   246.468688   37.400106   155.0   \n",
              "acromialheight                  6068.0  1406.161338   79.091048  1115.0   \n",
              "acromionradialelength           6068.0   327.374423   20.720018   249.0   \n",
              "anklecircumference              6068.0   224.891397   16.051833   156.0   \n",
              "axillaheight                    6068.0  1299.608767   72.022286  1038.0   \n",
              "...                                ...          ...         ...     ...   \n",
              "weightkg                        6068.0   797.093935  156.528164   358.0   \n",
              "wristcircumference              6068.0   169.002966   13.124513   124.0   \n",
              "wristheight                     6068.0   830.059987   47.650519   672.0   \n",
              "DODRace                         6068.0     1.615030    0.979156     1.0   \n",
              "Age                             6068.0    29.761206    8.674650    17.0   \n",
              "\n",
              "                                   25%     50%      75%     max  \n",
              "abdominalextensiondepthsitting   219.0   242.0   271.00   451.0  \n",
              "acromialheight                  1350.0  1410.0  1462.00  1683.0  \n",
              "acromionradialelength            313.0   328.0   341.25   393.0  \n",
              "anklecircumference               214.0   225.0   235.00   293.0  \n",
              "axillaheight                    1249.0  1302.0  1349.00  1553.0  \n",
              "...                                ...     ...      ...     ...  \n",
              "weightkg                         682.0   785.0   896.00  1442.0  \n",
              "wristcircumference               159.0   170.0   179.00   216.0  \n",
              "wristheight                      797.0   830.0   863.00  1009.0  \n",
              "DODRace                            1.0     1.0     2.00     8.0  \n",
              "Age                               23.0    28.0    36.00    58.0  \n",
              "\n",
              "[95 rows x 8 columns]"
            ],
            "text/html": [
              "\n",
              "  <div id=\"df-a86bd2d1-dba3-42b0-a94f-de6ea2c3b64c\">\n",
              "    <div class=\"colab-df-container\">\n",
              "      <div>\n",
              "<style scoped>\n",
              "    .dataframe tbody tr th:only-of-type {\n",
              "        vertical-align: middle;\n",
              "    }\n",
              "\n",
              "    .dataframe tbody tr th {\n",
              "        vertical-align: top;\n",
              "    }\n",
              "\n",
              "    .dataframe thead th {\n",
              "        text-align: right;\n",
              "    }\n",
              "</style>\n",
              "<table border=\"1\" class=\"dataframe\">\n",
              "  <thead>\n",
              "    <tr style=\"text-align: right;\">\n",
              "      <th></th>\n",
              "      <th>count</th>\n",
              "      <th>mean</th>\n",
              "      <th>std</th>\n",
              "      <th>min</th>\n",
              "      <th>25%</th>\n",
              "      <th>50%</th>\n",
              "      <th>75%</th>\n",
              "      <th>max</th>\n",
              "    </tr>\n",
              "  </thead>\n",
              "  <tbody>\n",
              "    <tr>\n",
              "      <th>abdominalextensiondepthsitting</th>\n",
              "      <td>6068.0</td>\n",
              "      <td>246.468688</td>\n",
              "      <td>37.400106</td>\n",
              "      <td>155.0</td>\n",
              "      <td>219.0</td>\n",
              "      <td>242.0</td>\n",
              "      <td>271.00</td>\n",
              "      <td>451.0</td>\n",
              "    </tr>\n",
              "    <tr>\n",
              "      <th>acromialheight</th>\n",
              "      <td>6068.0</td>\n",
              "      <td>1406.161338</td>\n",
              "      <td>79.091048</td>\n",
              "      <td>1115.0</td>\n",
              "      <td>1350.0</td>\n",
              "      <td>1410.0</td>\n",
              "      <td>1462.00</td>\n",
              "      <td>1683.0</td>\n",
              "    </tr>\n",
              "    <tr>\n",
              "      <th>acromionradialelength</th>\n",
              "      <td>6068.0</td>\n",
              "      <td>327.374423</td>\n",
              "      <td>20.720018</td>\n",
              "      <td>249.0</td>\n",
              "      <td>313.0</td>\n",
              "      <td>328.0</td>\n",
              "      <td>341.25</td>\n",
              "      <td>393.0</td>\n",
              "    </tr>\n",
              "    <tr>\n",
              "      <th>anklecircumference</th>\n",
              "      <td>6068.0</td>\n",
              "      <td>224.891397</td>\n",
              "      <td>16.051833</td>\n",
              "      <td>156.0</td>\n",
              "      <td>214.0</td>\n",
              "      <td>225.0</td>\n",
              "      <td>235.00</td>\n",
              "      <td>293.0</td>\n",
              "    </tr>\n",
              "    <tr>\n",
              "      <th>axillaheight</th>\n",
              "      <td>6068.0</td>\n",
              "      <td>1299.608767</td>\n",
              "      <td>72.022286</td>\n",
              "      <td>1038.0</td>\n",
              "      <td>1249.0</td>\n",
              "      <td>1302.0</td>\n",
              "      <td>1349.00</td>\n",
              "      <td>1553.0</td>\n",
              "    </tr>\n",
              "    <tr>\n",
              "      <th>...</th>\n",
              "      <td>...</td>\n",
              "      <td>...</td>\n",
              "      <td>...</td>\n",
              "      <td>...</td>\n",
              "      <td>...</td>\n",
              "      <td>...</td>\n",
              "      <td>...</td>\n",
              "      <td>...</td>\n",
              "    </tr>\n",
              "    <tr>\n",
              "      <th>weightkg</th>\n",
              "      <td>6068.0</td>\n",
              "      <td>797.093935</td>\n",
              "      <td>156.528164</td>\n",
              "      <td>358.0</td>\n",
              "      <td>682.0</td>\n",
              "      <td>785.0</td>\n",
              "      <td>896.00</td>\n",
              "      <td>1442.0</td>\n",
              "    </tr>\n",
              "    <tr>\n",
              "      <th>wristcircumference</th>\n",
              "      <td>6068.0</td>\n",
              "      <td>169.002966</td>\n",
              "      <td>13.124513</td>\n",
              "      <td>124.0</td>\n",
              "      <td>159.0</td>\n",
              "      <td>170.0</td>\n",
              "      <td>179.00</td>\n",
              "      <td>216.0</td>\n",
              "    </tr>\n",
              "    <tr>\n",
              "      <th>wristheight</th>\n",
              "      <td>6068.0</td>\n",
              "      <td>830.059987</td>\n",
              "      <td>47.650519</td>\n",
              "      <td>672.0</td>\n",
              "      <td>797.0</td>\n",
              "      <td>830.0</td>\n",
              "      <td>863.00</td>\n",
              "      <td>1009.0</td>\n",
              "    </tr>\n",
              "    <tr>\n",
              "      <th>DODRace</th>\n",
              "      <td>6068.0</td>\n",
              "      <td>1.615030</td>\n",
              "      <td>0.979156</td>\n",
              "      <td>1.0</td>\n",
              "      <td>1.0</td>\n",
              "      <td>1.0</td>\n",
              "      <td>2.00</td>\n",
              "      <td>8.0</td>\n",
              "    </tr>\n",
              "    <tr>\n",
              "      <th>Age</th>\n",
              "      <td>6068.0</td>\n",
              "      <td>29.761206</td>\n",
              "      <td>8.674650</td>\n",
              "      <td>17.0</td>\n",
              "      <td>23.0</td>\n",
              "      <td>28.0</td>\n",
              "      <td>36.00</td>\n",
              "      <td>58.0</td>\n",
              "    </tr>\n",
              "  </tbody>\n",
              "</table>\n",
              "<p>95 rows × 8 columns</p>\n",
              "</div>\n",
              "      <button class=\"colab-df-convert\" onclick=\"convertToInteractive('df-a86bd2d1-dba3-42b0-a94f-de6ea2c3b64c')\"\n",
              "              title=\"Convert this dataframe to an interactive table.\"\n",
              "              style=\"display:none;\">\n",
              "        \n",
              "  <svg xmlns=\"http://www.w3.org/2000/svg\" height=\"24px\"viewBox=\"0 0 24 24\"\n",
              "       width=\"24px\">\n",
              "    <path d=\"M0 0h24v24H0V0z\" fill=\"none\"/>\n",
              "    <path d=\"M18.56 5.44l.94 2.06.94-2.06 2.06-.94-2.06-.94-.94-2.06-.94 2.06-2.06.94zm-11 1L8.5 8.5l.94-2.06 2.06-.94-2.06-.94L8.5 2.5l-.94 2.06-2.06.94zm10 10l.94 2.06.94-2.06 2.06-.94-2.06-.94-.94-2.06-.94 2.06-2.06.94z\"/><path d=\"M17.41 7.96l-1.37-1.37c-.4-.4-.92-.59-1.43-.59-.52 0-1.04.2-1.43.59L10.3 9.45l-7.72 7.72c-.78.78-.78 2.05 0 2.83L4 21.41c.39.39.9.59 1.41.59.51 0 1.02-.2 1.41-.59l7.78-7.78 2.81-2.81c.8-.78.8-2.07 0-2.86zM5.41 20L4 18.59l7.72-7.72 1.47 1.35L5.41 20z\"/>\n",
              "  </svg>\n",
              "      </button>\n",
              "      \n",
              "  <style>\n",
              "    .colab-df-container {\n",
              "      display:flex;\n",
              "      flex-wrap:wrap;\n",
              "      gap: 12px;\n",
              "    }\n",
              "\n",
              "    .colab-df-convert {\n",
              "      background-color: #E8F0FE;\n",
              "      border: none;\n",
              "      border-radius: 50%;\n",
              "      cursor: pointer;\n",
              "      display: none;\n",
              "      fill: #1967D2;\n",
              "      height: 32px;\n",
              "      padding: 0 0 0 0;\n",
              "      width: 32px;\n",
              "    }\n",
              "\n",
              "    .colab-df-convert:hover {\n",
              "      background-color: #E2EBFA;\n",
              "      box-shadow: 0px 1px 2px rgba(60, 64, 67, 0.3), 0px 1px 3px 1px rgba(60, 64, 67, 0.15);\n",
              "      fill: #174EA6;\n",
              "    }\n",
              "\n",
              "    [theme=dark] .colab-df-convert {\n",
              "      background-color: #3B4455;\n",
              "      fill: #D2E3FC;\n",
              "    }\n",
              "\n",
              "    [theme=dark] .colab-df-convert:hover {\n",
              "      background-color: #434B5C;\n",
              "      box-shadow: 0px 1px 3px 1px rgba(0, 0, 0, 0.15);\n",
              "      filter: drop-shadow(0px 1px 2px rgba(0, 0, 0, 0.3));\n",
              "      fill: #FFFFFF;\n",
              "    }\n",
              "  </style>\n",
              "\n",
              "      <script>\n",
              "        const buttonEl =\n",
              "          document.querySelector('#df-a86bd2d1-dba3-42b0-a94f-de6ea2c3b64c button.colab-df-convert');\n",
              "        buttonEl.style.display =\n",
              "          google.colab.kernel.accessAllowed ? 'block' : 'none';\n",
              "\n",
              "        async function convertToInteractive(key) {\n",
              "          const element = document.querySelector('#df-a86bd2d1-dba3-42b0-a94f-de6ea2c3b64c');\n",
              "          const dataTable =\n",
              "            await google.colab.kernel.invokeFunction('convertToInteractive',\n",
              "                                                     [key], {});\n",
              "          if (!dataTable) return;\n",
              "\n",
              "          const docLinkHtml = 'Like what you see? Visit the ' +\n",
              "            '<a target=\"_blank\" href=https://colab.research.google.com/notebooks/data_table.ipynb>data table notebook</a>'\n",
              "            + ' to learn more about interactive tables.';\n",
              "          element.innerHTML = '';\n",
              "          dataTable['output_type'] = 'display_data';\n",
              "          await google.colab.output.renderOutput(dataTable, element);\n",
              "          const docLink = document.createElement('div');\n",
              "          docLink.innerHTML = docLinkHtml;\n",
              "          element.appendChild(docLink);\n",
              "        }\n",
              "      </script>\n",
              "    </div>\n",
              "  </div>\n",
              "  "
            ]
          },
          "metadata": {},
          "execution_count": 8
        }
      ]
    },
    {
      "cell_type": "markdown",
      "source": [
        "## Outlier Dedection"
      ],
      "metadata": {
        "id": "GhK0AqBs3O3Y"
      }
    },
    {
      "cell_type": "code",
      "source": [
        "df.shape"
      ],
      "metadata": {
        "colab": {
          "base_uri": "https://localhost:8080/"
        },
        "id": "8FJBVHAK2_aE",
        "outputId": "b710ac26-c63d-4575-d279-81f65ce2050d"
      },
      "execution_count": 9,
      "outputs": [
        {
          "output_type": "execute_result",
          "data": {
            "text/plain": [
              "(6068, 98)"
            ]
          },
          "metadata": {},
          "execution_count": 9
        }
      ]
    },
    {
      "cell_type": "code",
      "source": [
        "def outlier_deleter(df,target_col , whisker):\n",
        "  for col in df.drop(target_col , axis = 1).columns : \n",
        "    if df[col].dtype != 'object':\n",
        "      q3 =  np.percentile(df[col] , 75)\n",
        "      q1 =  np.percentile(df[col] , 25)\n",
        "\n",
        "      iqr = q3 - q1\n",
        "      low_lim = q1 - (whisker*iqr)\n",
        "      high_lim = q3 + (whisker*iqr)\n",
        "\n",
        "      outlier_indexes = df[ (df[col] > high_lim) | (df[col] < low_lim) ].index\n",
        "      df.drop(outlier_indexes , axis = 0 , inplace = True)\n",
        "      print(f'Total outlier {len(outlier_indexes)} in {col} column and dropped.')"
      ],
      "metadata": {
        "id": "fAVBBkjd2_cv"
      },
      "execution_count": 10,
      "outputs": []
    },
    {
      "cell_type": "code",
      "source": [
        "outlier_deleter(df,'DODRace',1.5) # We dont use it at XGB"
      ],
      "metadata": {
        "colab": {
          "base_uri": "https://localhost:8080/"
        },
        "id": "rf95k8Cf2_fb",
        "outputId": "c74db546-3c21-4ca6-dd35-9084c56ffef9"
      },
      "execution_count": 11,
      "outputs": [
        {
          "output_type": "stream",
          "name": "stdout",
          "text": [
            "Total outlier 46 in abdominalextensiondepthsitting column and dropped.\n",
            "Total outlier 15 in acromialheight column and dropped.\n",
            "Total outlier 31 in acromionradialelength column and dropped.\n",
            "Total outlier 70 in anklecircumference column and dropped.\n",
            "Total outlier 10 in axillaheight column and dropped.\n",
            "Total outlier 6 in balloffootcircumference column and dropped.\n",
            "Total outlier 6 in balloffootlength column and dropped.\n",
            "Total outlier 0 in biacromialbreadth column and dropped.\n",
            "Total outlier 14 in bicepscircumferenceflexed column and dropped.\n",
            "Total outlier 58 in bicristalbreadth column and dropped.\n",
            "Total outlier 5 in bideltoidbreadth column and dropped.\n",
            "Total outlier 1 in bimalleolarbreadth column and dropped.\n",
            "Total outlier 39 in bitragionchinarc column and dropped.\n",
            "Total outlier 7 in bitragionsubmandibulararc column and dropped.\n",
            "Total outlier 13 in bizygomaticbreadth column and dropped.\n",
            "Total outlier 34 in buttockcircumference column and dropped.\n",
            "Total outlier 9 in buttockdepth column and dropped.\n",
            "Total outlier 20 in buttockheight column and dropped.\n",
            "Total outlier 15 in buttockkneelength column and dropped.\n",
            "Total outlier 14 in buttockpopliteallength column and dropped.\n",
            "Total outlier 21 in calfcircumference column and dropped.\n",
            "Total outlier 0 in cervicaleheight column and dropped.\n",
            "Total outlier 12 in chestbreadth column and dropped.\n",
            "Total outlier 6 in chestcircumference column and dropped.\n",
            "Total outlier 21 in chestdepth column and dropped.\n",
            "Total outlier 2 in chestheight column and dropped.\n",
            "Total outlier 3 in crotchheight column and dropped.\n",
            "Total outlier 33 in crotchlengthomphalion column and dropped.\n",
            "Total outlier 14 in crotchlengthposterioromphalion column and dropped.\n",
            "Total outlier 46 in earbreadth column and dropped.\n",
            "Total outlier 15 in earlength column and dropped.\n",
            "Total outlier 40 in earprotrusion column and dropped.\n",
            "Total outlier 38 in elbowrestheight column and dropped.\n",
            "Total outlier 8 in eyeheightsitting column and dropped.\n",
            "Total outlier 7 in footbreadthhorizontal column and dropped.\n",
            "Total outlier 6 in footlength column and dropped.\n",
            "Total outlier 5 in forearmcenterofgriplength column and dropped.\n",
            "Total outlier 2 in forearmcircumferenceflexed column and dropped.\n",
            "Total outlier 2 in forearmforearmbreadth column and dropped.\n",
            "Total outlier 3 in forearmhandlength column and dropped.\n",
            "Total outlier 7 in functionalleglength column and dropped.\n",
            "Total outlier 0 in handbreadth column and dropped.\n",
            "Total outlier 0 in handcircumference column and dropped.\n",
            "Total outlier 15 in handlength column and dropped.\n",
            "Total outlier 37 in headbreadth column and dropped.\n",
            "Total outlier 32 in headcircumference column and dropped.\n",
            "Total outlier 25 in headlength column and dropped.\n",
            "Total outlier 1 in heelanklecircumference column and dropped.\n",
            "Total outlier 71 in heelbreadth column and dropped.\n",
            "Total outlier 34 in hipbreadth column and dropped.\n",
            "Total outlier 29 in hipbreadthsitting column and dropped.\n",
            "Total outlier 4 in iliocristaleheight column and dropped.\n",
            "Total outlier 68 in interpupillarybreadth column and dropped.\n",
            "Total outlier 7 in interscyei column and dropped.\n",
            "Total outlier 5 in interscyeii column and dropped.\n",
            "Total outlier 10 in kneeheightmidpatella column and dropped.\n",
            "Total outlier 0 in kneeheightsitting column and dropped.\n",
            "Total outlier 14 in lateralfemoralepicondyleheight column and dropped.\n",
            "Total outlier 29 in lateralmalleolusheight column and dropped.\n",
            "Total outlier 21 in lowerthighcircumference column and dropped.\n",
            "Total outlier 9 in mentonsellionlength column and dropped.\n",
            "Total outlier 0 in neckcircumference column and dropped.\n",
            "Total outlier 0 in neckcircumferencebase column and dropped.\n",
            "Total outlier 6 in overheadfingertipreachsitting column and dropped.\n",
            "Total outlier 26 in palmlength column and dropped.\n",
            "Total outlier 3 in poplitealheight column and dropped.\n",
            "Total outlier 9 in radialestylionlength column and dropped.\n",
            "Total outlier 0 in shouldercircumference column and dropped.\n",
            "Total outlier 2 in shoulderelbowlength column and dropped.\n",
            "Total outlier 27 in shoulderlength column and dropped.\n",
            "Total outlier 3 in sittingheight column and dropped.\n",
            "Total outlier 0 in sleevelengthspinewrist column and dropped.\n",
            "Total outlier 1 in sleeveoutseam column and dropped.\n",
            "Total outlier 0 in span column and dropped.\n",
            "Total outlier 1 in stature column and dropped.\n",
            "Total outlier 0 in suprasternaleheight column and dropped.\n",
            "Total outlier 4 in tenthribheight column and dropped.\n",
            "Total outlier 13 in thighcircumference column and dropped.\n",
            "Total outlier 29 in thighclearance column and dropped.\n",
            "Total outlier 18 in thumbtipreach column and dropped.\n",
            "Total outlier 3 in tibialheight column and dropped.\n",
            "Total outlier 20 in tragiontopofhead column and dropped.\n",
            "Total outlier 6 in trochanterionheight column and dropped.\n",
            "Total outlier 7 in verticaltrunkcircumferenceusa column and dropped.\n",
            "Total outlier 16 in waistbacklength column and dropped.\n",
            "Total outlier 8 in waistbreadth column and dropped.\n",
            "Total outlier 2 in waistcircumference column and dropped.\n",
            "Total outlier 29 in waistdepth column and dropped.\n",
            "Total outlier 13 in waistfrontlengthsitting column and dropped.\n",
            "Total outlier 2 in waistheightomphalion column and dropped.\n",
            "Total outlier 1 in weightkg column and dropped.\n",
            "Total outlier 0 in wristcircumference column and dropped.\n",
            "Total outlier 7 in wristheight column and dropped.\n",
            "Total outlier 26 in Age column and dropped.\n"
          ]
        }
      ]
    },
    {
      "cell_type": "code",
      "source": [
        "df.shape"
      ],
      "metadata": {
        "colab": {
          "base_uri": "https://localhost:8080/"
        },
        "id": "968svXr82_iB",
        "outputId": "10d87c14-0b6f-4eaa-869f-acaf812b3fee"
      },
      "execution_count": 12,
      "outputs": [
        {
          "output_type": "execute_result",
          "data": {
            "text/plain": [
              "(4671, 98)"
            ]
          },
          "metadata": {},
          "execution_count": 12
        }
      ]
    },
    {
      "cell_type": "code",
      "source": [
        "df.reset_index(drop=True, inplace=True)"
      ],
      "metadata": {
        "id": "qGEN4RXg2_kw"
      },
      "execution_count": 13,
      "outputs": []
    },
    {
      "cell_type": "markdown",
      "source": [
        "## Looking the Target Variable"
      ],
      "metadata": {
        "id": "k1gigt0e3Wt0"
      }
    },
    {
      "cell_type": "code",
      "source": [
        "df['DODRace'].value_counts()"
      ],
      "metadata": {
        "colab": {
          "base_uri": "https://localhost:8080/"
        },
        "id": "CDP_jvh42_ni",
        "outputId": "40d970e5-2ffd-4c81-b27a-4e19641e7c8c"
      },
      "execution_count": 14,
      "outputs": [
        {
          "output_type": "execute_result",
          "data": {
            "text/plain": [
              "1    3026\n",
              "2     875\n",
              "3     556\n",
              "4     135\n",
              "6      40\n",
              "5      36\n",
              "8       3\n",
              "Name: DODRace, dtype: int64"
            ]
          },
          "metadata": {},
          "execution_count": 14
        }
      ]
    },
    {
      "cell_type": "code",
      "source": [
        "df.drop(df[df['DODRace'] > 3].index, axis = 0, inplace=True) # We should drop some classes because there is less than 500 data. Model could'nt predict well them."
      ],
      "metadata": {
        "id": "hHPnX2ZD2_qQ"
      },
      "execution_count": 15,
      "outputs": []
    },
    {
      "cell_type": "code",
      "source": [
        "df.reset_index(inplace=True, drop=True)"
      ],
      "metadata": {
        "id": "DufK2E362_s7"
      },
      "execution_count": 16,
      "outputs": []
    },
    {
      "cell_type": "code",
      "source": [
        "df.corr()['DODRace'].drop('DODRace').sort_values()"
      ],
      "metadata": {
        "colab": {
          "base_uri": "https://localhost:8080/"
        },
        "id": "TtCZT1Lc2_wD",
        "outputId": "330fbc65-24bf-4f58-f1f0-984fd0ef2928"
      },
      "execution_count": 17,
      "outputs": [
        {
          "output_type": "execute_result",
          "data": {
            "text/plain": [
              "sittingheight           -0.335682\n",
              "eyeheightsitting        -0.329963\n",
              "wristheight             -0.293509\n",
              "stature                 -0.264516\n",
              "acromialheight          -0.249822\n",
              "                           ...   \n",
              "bizygomaticbreadth       0.043524\n",
              "thighcircumference       0.044081\n",
              "bitragionchinarc         0.096268\n",
              "heelbreadth              0.177851\n",
              "interpupillarybreadth    0.188455\n",
              "Name: DODRace, Length: 94, dtype: float64"
            ]
          },
          "metadata": {},
          "execution_count": 17
        }
      ]
    },
    {
      "cell_type": "code",
      "source": [
        "abs(df.corr()['DODRace'].drop('DODRace')).sort_values(ascending=False).head(10)"
      ],
      "metadata": {
        "colab": {
          "base_uri": "https://localhost:8080/"
        },
        "id": "w0-t8N602_yS",
        "outputId": "6398efc8-7d3f-4668-f573-52ee30ed523f"
      },
      "execution_count": 18,
      "outputs": [
        {
          "output_type": "execute_result",
          "data": {
            "text/plain": [
              "sittingheight             0.335682\n",
              "eyeheightsitting          0.329963\n",
              "wristheight               0.293509\n",
              "stature                   0.264516\n",
              "acromialheight            0.249822\n",
              "cervicaleheight           0.246343\n",
              "axillaheight              0.238382\n",
              "suprasternaleheight       0.235927\n",
              "chestheight               0.221413\n",
              "lateralmalleolusheight    0.219253\n",
              "Name: DODRace, dtype: float64"
            ]
          },
          "metadata": {},
          "execution_count": 18
        }
      ]
    },
    {
      "cell_type": "code",
      "source": [
        "# df.drop(abs(df.corr()['DODRace'].drop('DODRace')).sort_values(ascending=False).tail(5).index , axis = 1 , inplace = True)"
      ],
      "metadata": {
        "id": "UmT8pNCJ2_1A"
      },
      "execution_count": 19,
      "outputs": []
    },
    {
      "cell_type": "code",
      "source": [
        "# df.drop(abs(df.corr()['DODRace'].drop('DODRace')).sort_values(ascending=False).head(1).index , axis = 1 , inplace = True)"
      ],
      "metadata": {
        "id": "HIczPt9Q2_32"
      },
      "execution_count": 20,
      "outputs": []
    },
    {
      "cell_type": "code",
      "source": [
        "df.shape"
      ],
      "metadata": {
        "colab": {
          "base_uri": "https://localhost:8080/"
        },
        "id": "pJd6rfVJ2_6f",
        "outputId": "b1cbe8a8-842e-412a-df1e-b0e8543c2e2e"
      },
      "execution_count": 21,
      "outputs": [
        {
          "output_type": "execute_result",
          "data": {
            "text/plain": [
              "(4457, 98)"
            ]
          },
          "metadata": {},
          "execution_count": 21
        }
      ]
    },
    {
      "cell_type": "code",
      "source": [
        "df['DODRace'].value_counts()"
      ],
      "metadata": {
        "colab": {
          "base_uri": "https://localhost:8080/"
        },
        "id": "WOGw0VBB2_80",
        "outputId": "82dbc7f5-e298-4606-dce7-39d5f60b12ac"
      },
      "execution_count": 22,
      "outputs": [
        {
          "output_type": "execute_result",
          "data": {
            "text/plain": [
              "1    3026\n",
              "2     875\n",
              "3     556\n",
              "Name: DODRace, dtype: int64"
            ]
          },
          "metadata": {},
          "execution_count": 22
        }
      ]
    },
    {
      "cell_type": "markdown",
      "source": [
        "## Creating X and y features"
      ],
      "metadata": {
        "id": "8I6LifVY3iE6"
      }
    },
    {
      "cell_type": "code",
      "source": [
        "X = df.drop('DODRace',axis=1)\n",
        "# X_ohe = pd.get_dummies(df.drop('DODRace',axis=1),drop_first=True) # This might be better.\n",
        "y = df['DODRace']"
      ],
      "metadata": {
        "id": "H5wZ8l7g2__P"
      },
      "execution_count": 23,
      "outputs": []
    },
    {
      "cell_type": "code",
      "source": [
        "from sklearn.preprocessing import OrdinalEncoder\n",
        "from imblearn.over_sampling import SMOTE\n",
        "\n",
        "enc = OrdinalEncoder()\n",
        "\n",
        "cat = X.select_dtypes('object').columns\n",
        "\n",
        "X[cat] = enc.fit_transform(X[cat])\n",
        "\n",
        "oversample = SMOTE()\n",
        "\n",
        "X, y_smote = oversample.fit_resample(X,y) "
      ],
      "metadata": {
        "id": "n2AHbbXu3ACF"
      },
      "execution_count": 24,
      "outputs": []
    },
    {
      "cell_type": "markdown",
      "source": [
        "## Handling Imbalanced Data"
      ],
      "metadata": {
        "id": "0JEWevn_3nIs"
      }
    },
    {
      "cell_type": "code",
      "source": [
        "# from imblearn.over_sampling import SMOTE\n",
        "\n",
        "# oversample = SMOTE()\n",
        "# X_ohe, y_smote = oversample.fit_resample(X_ohe, y)\n",
        "\n",
        "# This is doing oversampling."
      ],
      "metadata": {
        "id": "zrhVUctE3AEo"
      },
      "execution_count": 25,
      "outputs": []
    },
    {
      "cell_type": "code",
      "source": [
        "# from imblearn.combine import SMOTETomek\n",
        "\n",
        "# smt = SMOTETomek(random_state=42)\n",
        "# X_ohe, y = smt.fit_resample(X_ohe, y)\n",
        "\n",
        "# It does both increment and decrement"
      ],
      "metadata": {
        "id": "lYoOxuCN3AHR"
      },
      "execution_count": 26,
      "outputs": []
    },
    {
      "cell_type": "code",
      "source": [
        "# from imblearn.combine import SMOTEENN\n",
        "\n",
        "# smt = SMOTEENN(random_state=42)\n",
        "# X_ohe, y = smt.fit_resample(X_ohe, y)"
      ],
      "metadata": {
        "id": "zJmfOrLX3AJ2"
      },
      "execution_count": 27,
      "outputs": []
    },
    {
      "cell_type": "markdown",
      "source": [
        "## Train | Test Split"
      ],
      "metadata": {
        "id": "dylPO01K3tMZ"
      }
    },
    {
      "cell_type": "code",
      "source": [
        "from sklearn.model_selection import train_test_split\n",
        "\n",
        "X_train, X_test, y_train, y_test = train_test_split(X, y_smote, test_size = 0.15, random_state=53)"
      ],
      "metadata": {
        "id": "IjdMpOak3AMf"
      },
      "execution_count": 28,
      "outputs": []
    },
    {
      "cell_type": "markdown",
      "source": [
        "## Scaling"
      ],
      "metadata": {
        "id": "Kt0PBVFr3v7J"
      }
    },
    {
      "cell_type": "code",
      "source": [
        "# from sklearn.preprocessing import MinMaxScaler, StandardScaler\n",
        "\n",
        "# #scaler = MinMaxScaler()\n",
        "# scaler = StandardScaler()\n",
        "\n",
        "# X_train_scaled = scaler.fit_transform(X_train)\n",
        "# X_test_scaled = scaler.transform(X_test)"
      ],
      "metadata": {
        "id": "UQfI4Me23APM"
      },
      "execution_count": 29,
      "outputs": []
    },
    {
      "cell_type": "markdown",
      "source": [
        "# RF Classifier"
      ],
      "metadata": {
        "id": "LRkDrbKB350m"
      }
    },
    {
      "cell_type": "code",
      "source": [
        "from sklearn.ensemble import RandomForestClassifier\n",
        "from sklearn.model_selection import GridSearchCV"
      ],
      "metadata": {
        "id": "481OX04O3AR4"
      },
      "execution_count": 30,
      "outputs": []
    },
    {
      "cell_type": "code",
      "source": [
        "# n_estimators=[150,200,400,750,1000 , 1250 , 1500,1750]\n",
        "# max_features= [2,3,4 , 'auto']\n",
        "# max_depth = [2,3,5,8,None]\n",
        "# bootstrap = [True,False]\n",
        "# param_grid = {'n_estimators' : n_estimators,\n",
        "#              'max_features' : max_features,\n",
        "#              'max_depth' : max_depth,\n",
        "#              'bootstrap' : bootstrap,\n",
        "#               } \n",
        "\n",
        "# rf_vanilla = RandomForestClassifier()\n",
        "# rf_grid_model = GridSearchCV(rf_vanilla,param_grid, n_jobs=-1, verbose=2 , cv = 5 , scoring = 'accuracy')\n",
        "# rf_grid_model.fit(X_train,y_train)"
      ],
      "metadata": {
        "id": "XXINjbt_3AXx"
      },
      "execution_count": 31,
      "outputs": []
    },
    {
      "cell_type": "code",
      "source": [
        "# rf_grid_model.best_score_"
      ],
      "metadata": {
        "id": "RZ-1XDf14CaS"
      },
      "execution_count": 32,
      "outputs": []
    },
    {
      "cell_type": "code",
      "source": [
        "# rf_grid_model.best_params_"
      ],
      "metadata": {
        "id": "VQZBbgyg4Ccw"
      },
      "execution_count": 33,
      "outputs": []
    },
    {
      "cell_type": "code",
      "source": [
        "# rfc_grid_model = RandomForestClassifier(n_estimators = rfc_grid_model.best_params_['n_estimators'] , bootstrap = rfc_grid_model.best_params_['bootstrap'] ,\n",
        "#                                         max_features = rfc_grid_model.best_params_['max_features'] ,\n",
        "#                                         max_depth = rfc_grid_model.best_params_['max_depth'],\n",
        "#                                         random_state = 53).fit(X_train , y_train)"
      ],
      "metadata": {
        "id": "0Hz0h5-r4F0S"
      },
      "execution_count": 34,
      "outputs": []
    },
    {
      "cell_type": "code",
      "source": [
        "rf_grid_model = RandomForestClassifier(n_estimators = 1500 , criterion = 'gini' , max_features=4, \n",
        "                                        max_depth = None , bootstrap = False, class_weight = 'balanced' ,\n",
        "                                        min_samples_split = 2 , n_jobs = -1) \n",
        "\n",
        "rf_grid_model.fit(X_train,y_train)"
      ],
      "metadata": {
        "colab": {
          "base_uri": "https://localhost:8080/"
        },
        "id": "FA7TG4EU3AU9",
        "outputId": "845bcec6-4bb2-4990-ab28-a3953b42d7d8"
      },
      "execution_count": 35,
      "outputs": [
        {
          "output_type": "execute_result",
          "data": {
            "text/plain": [
              "RandomForestClassifier(bootstrap=False, class_weight='balanced', max_features=4,\n",
              "                       n_estimators=1500, n_jobs=-1)"
            ]
          },
          "metadata": {},
          "execution_count": 35
        }
      ]
    },
    {
      "cell_type": "markdown",
      "source": [
        "# Model Evaluation"
      ],
      "metadata": {
        "id": "rlW14Plf4IzP"
      }
    },
    {
      "cell_type": "code",
      "source": [
        "from sklearn.metrics import accuracy_score, classification_report, plot_confusion_matrix\n",
        "from sklearn.model_selection import cross_validate"
      ],
      "metadata": {
        "id": "UwfIA_Fh3Acb"
      },
      "execution_count": 36,
      "outputs": []
    },
    {
      "cell_type": "code",
      "source": [
        "def eval_metric(model, X_train, y_train, X_test, y_test):\n",
        "    plot_confusion_matrix(model, X_test, y_test)\n",
        "    y_train_pred = model.predict(X_train)\n",
        "    y_pred = model.predict(X_test)\n",
        "    \n",
        "    print(\"Test Set\")\n",
        "    print(classification_report(y_test, y_pred), end='\\n')\n",
        "    print(\"Train Set\")\n",
        "    print(classification_report(y_train, y_train_pred))"
      ],
      "metadata": {
        "id": "aEKRzR3o4UB5"
      },
      "execution_count": 37,
      "outputs": []
    },
    {
      "cell_type": "code",
      "source": [
        "eval_metric(rf_grid_model, X_train, y_train, X_test, y_test)"
      ],
      "metadata": {
        "colab": {
          "base_uri": "https://localhost:8080/",
          "height": 716
        },
        "id": "WwtY96Ih3AaT",
        "outputId": "be32e664-4626-4a14-bdf2-7dd7f861c141"
      },
      "execution_count": 38,
      "outputs": [
        {
          "output_type": "stream",
          "name": "stderr",
          "text": [
            "/usr/local/lib/python3.7/dist-packages/sklearn/utils/deprecation.py:87: FutureWarning: Function plot_confusion_matrix is deprecated; Function `plot_confusion_matrix` is deprecated in 1.0 and will be removed in 1.2. Use one of the class methods: ConfusionMatrixDisplay.from_predictions or ConfusionMatrixDisplay.from_estimator.\n",
            "  warnings.warn(msg, category=FutureWarning)\n"
          ]
        },
        {
          "output_type": "stream",
          "name": "stdout",
          "text": [
            "Test Set\n",
            "              precision    recall  f1-score   support\n",
            "\n",
            "           1       0.96      0.94      0.95       456\n",
            "           2       0.98      0.98      0.98       460\n",
            "           3       0.95      0.98      0.96       446\n",
            "\n",
            "    accuracy                           0.96      1362\n",
            "   macro avg       0.96      0.96      0.96      1362\n",
            "weighted avg       0.96      0.96      0.96      1362\n",
            "\n",
            "Train Set\n",
            "              precision    recall  f1-score   support\n",
            "\n",
            "           1       1.00      1.00      1.00      2570\n",
            "           2       1.00      1.00      1.00      2566\n",
            "           3       1.00      1.00      1.00      2580\n",
            "\n",
            "    accuracy                           1.00      7716\n",
            "   macro avg       1.00      1.00      1.00      7716\n",
            "weighted avg       1.00      1.00      1.00      7716\n",
            "\n"
          ]
        },
        {
          "output_type": "display_data",
          "data": {
            "text/plain": [
              "<Figure size 432x288 with 2 Axes>"
            ],
            "image/png": "[encoded data removed]"
          },
          "metadata": {
            "needs_background": "light"
          }
        }
      ]
    },
    {
      "cell_type": "code",
      "source": [
        "rf_grid_model = RandomForestClassifier(n_estimators = 1500 , criterion = 'gini' , max_features=4, \n",
        "                                        max_depth = None , bootstrap = False, class_weight = 'balanced' ,\n",
        "                                        min_samples_split = 2 , n_jobs = -1) \n",
        "\n",
        "cross_validate(rf_grid_model , X_train , y_train , cv = 5 , scoring = 'accuracy')['test_score'].mean()"
      ],
      "metadata": {
        "colab": {
          "base_uri": "https://localhost:8080/"
        },
        "id": "LuJzYigo3AfU",
        "outputId": "33ea5f51-6ef3-4517-d4bd-b609cd6ee027"
      },
      "execution_count": 39,
      "outputs": [
        {
          "output_type": "execute_result",
          "data": {
            "text/plain": [
              "0.9534737356404822"
            ]
          },
          "metadata": {},
          "execution_count": 39
        }
      ]
    },
    {
      "cell_type": "code",
      "source": [
        "# Done"
      ],
      "metadata": {
        "id": "vDIbnnj426gf"
      },
      "execution_count": 40,
      "outputs": []
    }
  ]
}