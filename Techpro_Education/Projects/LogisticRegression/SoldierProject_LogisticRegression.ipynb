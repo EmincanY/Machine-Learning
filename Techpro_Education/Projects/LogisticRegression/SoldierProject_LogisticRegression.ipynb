{
  "nbformat": 4,
  "nbformat_minor": 0,
  "metadata": {
    "colab": {
      "provenance": [],
      "machine_shape": "hm"
    },
    "kernelspec": {
      "name": "python3",
      "display_name": "Python 3"
    },
    "language_info": {
      "name": "python"
    },
    "accelerator": "GPU"
  },
  "cells": [
    {
      "cell_type": "markdown",
      "source": [
        "# Import Libraries"
      ],
      "metadata": {
        "id": "p8tnUN2tG15Z"
      }
    },
    {
      "cell_type": "code",
      "execution_count": 1,
      "metadata": {
        "id": "jkrnJQ-5GuWM"
      },
      "outputs": [],
      "source": [
        "import numpy as np\n",
        "import pandas as pd\n",
        "\n",
        "import matplotlib.pyplot as plt\n",
        "import seaborn as sns"
      ]
    },
    {
      "cell_type": "markdown",
      "source": [
        "# Reading and Vieving the Dataset"
      ],
      "metadata": {
        "id": "eQ5dTy-uG5Cm"
      }
    },
    {
      "cell_type": "code",
      "source": [
        "df_male = pd.read_csv(r\"/content/drive/MyDrive/Colab_Notebooks/Datasets/ANSUR II MALE Public.csv\",encoding='latin-1') \n",
        "\n",
        "df_female = pd.read_csv(r\"/content/drive/MyDrive/Colab_Notebooks/Datasets/ANSUR II FEMALE Public.csv\",encoding='latin-1')\n",
        "\n",
        "df = pd.concat([df_male, df_female])"
      ],
      "metadata": {
        "id": "_mut6Gs9G2V-"
      },
      "execution_count": 2,
      "outputs": []
    },
    {
      "cell_type": "code",
      "source": [
        "df.reset_index(drop=True, inplace=True)"
      ],
      "metadata": {
        "id": "wV6hV55YG646"
      },
      "execution_count": 3,
      "outputs": []
    },
    {
      "cell_type": "code",
      "source": [
        "dropped = ['subjectid', \n",
        "           'SubjectNumericRace', \n",
        "           'Ethnicity', 'Heightin', \n",
        "           'Weightlbs', 'Date', \n",
        "           'Installation', 'Component', \n",
        "           'Branch', 'PrimaryMOS', \n",
        "           'SubjectId']"
      ],
      "metadata": {
        "id": "S5uA-LD8G67M"
      },
      "execution_count": 4,
      "outputs": []
    },
    {
      "cell_type": "code",
      "source": [
        "df.drop(dropped , axis = 1 ,inplace = True)"
      ],
      "metadata": {
        "id": "kQbWOEING69h"
      },
      "execution_count": 5,
      "outputs": []
    },
    {
      "cell_type": "code",
      "source": [
        "df.shape"
      ],
      "metadata": {
        "colab": {
          "base_uri": "https://localhost:8080/"
        },
        "id": "KUelwtkjG6_8",
        "outputId": "a62c0750-1ecd-43f5-969f-13a58e1d8e49"
      },
      "execution_count": 6,
      "outputs": [
        {
          "output_type": "execute_result",
          "data": {
            "text/plain": [
              "(6068, 98)"
            ]
          },
          "metadata": {},
          "execution_count": 6
        }
      ]
    },
    {
      "cell_type": "markdown",
      "source": [
        "## Dedecting Missing Values"
      ],
      "metadata": {
        "id": "nCTM0vAfHAp4"
      }
    },
    {
      "cell_type": "code",
      "source": [
        "df.isna().sum().sum()"
      ],
      "metadata": {
        "colab": {
          "base_uri": "https://localhost:8080/"
        },
        "id": "c3vJaPBKG7CW",
        "outputId": "4f171b2a-e130-461d-b0a0-39f82827b58f"
      },
      "execution_count": 7,
      "outputs": [
        {
          "output_type": "execute_result",
          "data": {
            "text/plain": [
              "0"
            ]
          },
          "metadata": {},
          "execution_count": 7
        }
      ]
    },
    {
      "cell_type": "code",
      "source": [
        "df.describe().T"
      ],
      "metadata": {
        "colab": {
          "base_uri": "https://localhost:8080/",
          "height": 424
        },
        "id": "nSCHIG-QHCqK",
        "outputId": "0a9902ed-4fca-48e4-dfb1-542aea6a81d9"
      },
      "execution_count": 8,
      "outputs": [
        {
          "output_type": "execute_result",
          "data": {
            "text/plain": [
              "                                 count         mean         std     min  \\\n",
              "abdominalextensiondepthsitting  6068.0   246.468688   37.400106   155.0   \n",
              "acromialheight                  6068.0  1406.161338   79.091048  1115.0   \n",
              "acromionradialelength           6068.0   327.374423   20.720018   249.0   \n",
              "anklecircumference              6068.0   224.891397   16.051833   156.0   \n",
              "axillaheight                    6068.0  1299.608767   72.022286  1038.0   \n",
              "...                                ...          ...         ...     ...   \n",
              "weightkg                        6068.0   797.093935  156.528164   358.0   \n",
              "wristcircumference              6068.0   169.002966   13.124513   124.0   \n",
              "wristheight                     6068.0   830.059987   47.650519   672.0   \n",
              "DODRace                         6068.0     1.615030    0.979156     1.0   \n",
              "Age                             6068.0    29.761206    8.674650    17.0   \n",
              "\n",
              "                                   25%     50%      75%     max  \n",
              "abdominalextensiondepthsitting   219.0   242.0   271.00   451.0  \n",
              "acromialheight                  1350.0  1410.0  1462.00  1683.0  \n",
              "acromionradialelength            313.0   328.0   341.25   393.0  \n",
              "anklecircumference               214.0   225.0   235.00   293.0  \n",
              "axillaheight                    1249.0  1302.0  1349.00  1553.0  \n",
              "...                                ...     ...      ...     ...  \n",
              "weightkg                         682.0   785.0   896.00  1442.0  \n",
              "wristcircumference               159.0   170.0   179.00   216.0  \n",
              "wristheight                      797.0   830.0   863.00  1009.0  \n",
              "DODRace                            1.0     1.0     2.00     8.0  \n",
              "Age                               23.0    28.0    36.00    58.0  \n",
              "\n",
              "[95 rows x 8 columns]"
            ],
            "text/html": [
              "\n",
              "  <div id=\"df-4a0d2bc5-707d-4970-b84d-48280bd91d48\">\n",
              "    <div class=\"colab-df-container\">\n",
              "      <div>\n",
              "<style scoped>\n",
              "    .dataframe tbody tr th:only-of-type {\n",
              "        vertical-align: middle;\n",
              "    }\n",
              "\n",
              "    .dataframe tbody tr th {\n",
              "        vertical-align: top;\n",
              "    }\n",
              "\n",
              "    .dataframe thead th {\n",
              "        text-align: right;\n",
              "    }\n",
              "</style>\n",
              "<table border=\"1\" class=\"dataframe\">\n",
              "  <thead>\n",
              "    <tr style=\"text-align: right;\">\n",
              "      <th></th>\n",
              "      <th>count</th>\n",
              "      <th>mean</th>\n",
              "      <th>std</th>\n",
              "      <th>min</th>\n",
              "      <th>25%</th>\n",
              "      <th>50%</th>\n",
              "      <th>75%</th>\n",
              "      <th>max</th>\n",
              "    </tr>\n",
              "  </thead>\n",
              "  <tbody>\n",
              "    <tr>\n",
              "      <th>abdominalextensiondepthsitting</th>\n",
              "      <td>6068.0</td>\n",
              "      <td>246.468688</td>\n",
              "      <td>37.400106</td>\n",
              "      <td>155.0</td>\n",
              "      <td>219.0</td>\n",
              "      <td>242.0</td>\n",
              "      <td>271.00</td>\n",
              "      <td>451.0</td>\n",
              "    </tr>\n",
              "    <tr>\n",
              "      <th>acromialheight</th>\n",
              "      <td>6068.0</td>\n",
              "      <td>1406.161338</td>\n",
              "      <td>79.091048</td>\n",
              "      <td>1115.0</td>\n",
              "      <td>1350.0</td>\n",
              "      <td>1410.0</td>\n",
              "      <td>1462.00</td>\n",
              "      <td>1683.0</td>\n",
              "    </tr>\n",
              "    <tr>\n",
              "      <th>acromionradialelength</th>\n",
              "      <td>6068.0</td>\n",
              "      <td>327.374423</td>\n",
              "      <td>20.720018</td>\n",
              "      <td>249.0</td>\n",
              "      <td>313.0</td>\n",
              "      <td>328.0</td>\n",
              "      <td>341.25</td>\n",
              "      <td>393.0</td>\n",
              "    </tr>\n",
              "    <tr>\n",
              "      <th>anklecircumference</th>\n",
              "      <td>6068.0</td>\n",
              "      <td>224.891397</td>\n",
              "      <td>16.051833</td>\n",
              "      <td>156.0</td>\n",
              "      <td>214.0</td>\n",
              "      <td>225.0</td>\n",
              "      <td>235.00</td>\n",
              "      <td>293.0</td>\n",
              "    </tr>\n",
              "    <tr>\n",
              "      <th>axillaheight</th>\n",
              "      <td>6068.0</td>\n",
              "      <td>1299.608767</td>\n",
              "      <td>72.022286</td>\n",
              "      <td>1038.0</td>\n",
              "      <td>1249.0</td>\n",
              "      <td>1302.0</td>\n",
              "      <td>1349.00</td>\n",
              "      <td>1553.0</td>\n",
              "    </tr>\n",
              "    <tr>\n",
              "      <th>...</th>\n",
              "      <td>...</td>\n",
              "      <td>...</td>\n",
              "      <td>...</td>\n",
              "      <td>...</td>\n",
              "      <td>...</td>\n",
              "      <td>...</td>\n",
              "      <td>...</td>\n",
              "      <td>...</td>\n",
              "    </tr>\n",
              "    <tr>\n",
              "      <th>weightkg</th>\n",
              "      <td>6068.0</td>\n",
              "      <td>797.093935</td>\n",
              "      <td>156.528164</td>\n",
              "      <td>358.0</td>\n",
              "      <td>682.0</td>\n",
              "      <td>785.0</td>\n",
              "      <td>896.00</td>\n",
              "      <td>1442.0</td>\n",
              "    </tr>\n",
              "    <tr>\n",
              "      <th>wristcircumference</th>\n",
              "      <td>6068.0</td>\n",
              "      <td>169.002966</td>\n",
              "      <td>13.124513</td>\n",
              "      <td>124.0</td>\n",
              "      <td>159.0</td>\n",
              "      <td>170.0</td>\n",
              "      <td>179.00</td>\n",
              "      <td>216.0</td>\n",
              "    </tr>\n",
              "    <tr>\n",
              "      <th>wristheight</th>\n",
              "      <td>6068.0</td>\n",
              "      <td>830.059987</td>\n",
              "      <td>47.650519</td>\n",
              "      <td>672.0</td>\n",
              "      <td>797.0</td>\n",
              "      <td>830.0</td>\n",
              "      <td>863.00</td>\n",
              "      <td>1009.0</td>\n",
              "    </tr>\n",
              "    <tr>\n",
              "      <th>DODRace</th>\n",
              "      <td>6068.0</td>\n",
              "      <td>1.615030</td>\n",
              "      <td>0.979156</td>\n",
              "      <td>1.0</td>\n",
              "      <td>1.0</td>\n",
              "      <td>1.0</td>\n",
              "      <td>2.00</td>\n",
              "      <td>8.0</td>\n",
              "    </tr>\n",
              "    <tr>\n",
              "      <th>Age</th>\n",
              "      <td>6068.0</td>\n",
              "      <td>29.761206</td>\n",
              "      <td>8.674650</td>\n",
              "      <td>17.0</td>\n",
              "      <td>23.0</td>\n",
              "      <td>28.0</td>\n",
              "      <td>36.00</td>\n",
              "      <td>58.0</td>\n",
              "    </tr>\n",
              "  </tbody>\n",
              "</table>\n",
              "<p>95 rows × 8 columns</p>\n",
              "</div>\n",
              "      <button class=\"colab-df-convert\" onclick=\"convertToInteractive('df-4a0d2bc5-707d-4970-b84d-48280bd91d48')\"\n",
              "              title=\"Convert this dataframe to an interactive table.\"\n",
              "              style=\"display:none;\">\n",
              "        \n",
              "  <svg xmlns=\"http://www.w3.org/2000/svg\" height=\"24px\"viewBox=\"0 0 24 24\"\n",
              "       width=\"24px\">\n",
              "    <path d=\"M0 0h24v24H0V0z\" fill=\"none\"/>\n",
              "    <path d=\"M18.56 5.44l.94 2.06.94-2.06 2.06-.94-2.06-.94-.94-2.06-.94 2.06-2.06.94zm-11 1L8.5 8.5l.94-2.06 2.06-.94-2.06-.94L8.5 2.5l-.94 2.06-2.06.94zm10 10l.94 2.06.94-2.06 2.06-.94-2.06-.94-.94-2.06-.94 2.06-2.06.94z\"/><path d=\"M17.41 7.96l-1.37-1.37c-.4-.4-.92-.59-1.43-.59-.52 0-1.04.2-1.43.59L10.3 9.45l-7.72 7.72c-.78.78-.78 2.05 0 2.83L4 21.41c.39.39.9.59 1.41.59.51 0 1.02-.2 1.41-.59l7.78-7.78 2.81-2.81c.8-.78.8-2.07 0-2.86zM5.41 20L4 18.59l7.72-7.72 1.47 1.35L5.41 20z\"/>\n",
              "  </svg>\n",
              "      </button>\n",
              "      \n",
              "  <style>\n",
              "    .colab-df-container {\n",
              "      display:flex;\n",
              "      flex-wrap:wrap;\n",
              "      gap: 12px;\n",
              "    }\n",
              "\n",
              "    .colab-df-convert {\n",
              "      background-color: #E8F0FE;\n",
              "      border: none;\n",
              "      border-radius: 50%;\n",
              "      cursor: pointer;\n",
              "      display: none;\n",
              "      fill: #1967D2;\n",
              "      height: 32px;\n",
              "      padding: 0 0 0 0;\n",
              "      width: 32px;\n",
              "    }\n",
              "\n",
              "    .colab-df-convert:hover {\n",
              "      background-color: #E2EBFA;\n",
              "      box-shadow: 0px 1px 2px rgba(60, 64, 67, 0.3), 0px 1px 3px 1px rgba(60, 64, 67, 0.15);\n",
              "      fill: #174EA6;\n",
              "    }\n",
              "\n",
              "    [theme=dark] .colab-df-convert {\n",
              "      background-color: #3B4455;\n",
              "      fill: #D2E3FC;\n",
              "    }\n",
              "\n",
              "    [theme=dark] .colab-df-convert:hover {\n",
              "      background-color: #434B5C;\n",
              "      box-shadow: 0px 1px 3px 1px rgba(0, 0, 0, 0.15);\n",
              "      filter: drop-shadow(0px 1px 2px rgba(0, 0, 0, 0.3));\n",
              "      fill: #FFFFFF;\n",
              "    }\n",
              "  </style>\n",
              "\n",
              "      <script>\n",
              "        const buttonEl =\n",
              "          document.querySelector('#df-4a0d2bc5-707d-4970-b84d-48280bd91d48 button.colab-df-convert');\n",
              "        buttonEl.style.display =\n",
              "          google.colab.kernel.accessAllowed ? 'block' : 'none';\n",
              "\n",
              "        async function convertToInteractive(key) {\n",
              "          const element = document.querySelector('#df-4a0d2bc5-707d-4970-b84d-48280bd91d48');\n",
              "          const dataTable =\n",
              "            await google.colab.kernel.invokeFunction('convertToInteractive',\n",
              "                                                     [key], {});\n",
              "          if (!dataTable) return;\n",
              "\n",
              "          const docLinkHtml = 'Like what you see? Visit the ' +\n",
              "            '<a target=\"_blank\" href=https://colab.research.google.com/notebooks/data_table.ipynb>data table notebook</a>'\n",
              "            + ' to learn more about interactive tables.';\n",
              "          element.innerHTML = '';\n",
              "          dataTable['output_type'] = 'display_data';\n",
              "          await google.colab.output.renderOutput(dataTable, element);\n",
              "          const docLink = document.createElement('div');\n",
              "          docLink.innerHTML = docLinkHtml;\n",
              "          element.appendChild(docLink);\n",
              "        }\n",
              "      </script>\n",
              "    </div>\n",
              "  </div>\n",
              "  "
            ]
          },
          "metadata": {},
          "execution_count": 8
        }
      ]
    },
    {
      "cell_type": "markdown",
      "source": [
        "## Outlier Dedection"
      ],
      "metadata": {
        "id": "yErkNrGeHHdu"
      }
    },
    {
      "cell_type": "code",
      "source": [
        "df.shape"
      ],
      "metadata": {
        "colab": {
          "base_uri": "https://localhost:8080/"
        },
        "id": "NMNaY-WxHCse",
        "outputId": "e52c582e-94aa-4c58-eebc-65218a405fde"
      },
      "execution_count": 9,
      "outputs": [
        {
          "output_type": "execute_result",
          "data": {
            "text/plain": [
              "(6068, 98)"
            ]
          },
          "metadata": {},
          "execution_count": 9
        }
      ]
    },
    {
      "cell_type": "code",
      "source": [
        "def outlier_deleter(df,target_col , whisker):\n",
        "  for col in df.drop(target_col , axis = 1).columns : \n",
        "    if df[col].dtype != 'object':\n",
        "      q3 =  np.percentile(df[col] , 75)\n",
        "      q1 =  np.percentile(df[col] , 25)\n",
        "\n",
        "      iqr = q3 - q1\n",
        "      low_lim = q1 - (whisker*iqr)\n",
        "      high_lim = q3 + (whisker*iqr)\n",
        "\n",
        "      outlier_indexes = df[ (df[col] > high_lim) | (df[col] < low_lim) ].index\n",
        "      df.drop(outlier_indexes , axis = 0 , inplace = True)\n",
        "      print(f'Total outlier {len(outlier_indexes)} in {col} column and dropped.')"
      ],
      "metadata": {
        "id": "2fZT5YQRHCux"
      },
      "execution_count": 10,
      "outputs": []
    },
    {
      "cell_type": "code",
      "source": [
        "outlier_deleter(df,'DODRace',3)"
      ],
      "metadata": {
        "colab": {
          "base_uri": "https://localhost:8080/"
        },
        "id": "_AKnFwCoHCxH",
        "outputId": "c3a42f9e-4973-4938-c980-9ccedfeb294c"
      },
      "execution_count": 11,
      "outputs": [
        {
          "output_type": "stream",
          "name": "stdout",
          "text": [
            "Total outlier 1 in abdominalextensiondepthsitting column and dropped.\n",
            "Total outlier 0 in acromialheight column and dropped.\n",
            "Total outlier 0 in acromionradialelength column and dropped.\n",
            "Total outlier 0 in anklecircumference column and dropped.\n",
            "Total outlier 0 in axillaheight column and dropped.\n",
            "Total outlier 0 in balloffootcircumference column and dropped.\n",
            "Total outlier 0 in balloffootlength column and dropped.\n",
            "Total outlier 0 in biacromialbreadth column and dropped.\n",
            "Total outlier 0 in bicepscircumferenceflexed column and dropped.\n",
            "Total outlier 0 in bicristalbreadth column and dropped.\n",
            "Total outlier 0 in bideltoidbreadth column and dropped.\n",
            "Total outlier 0 in bimalleolarbreadth column and dropped.\n",
            "Total outlier 0 in bitragionchinarc column and dropped.\n",
            "Total outlier 0 in bitragionsubmandibulararc column and dropped.\n",
            "Total outlier 0 in bizygomaticbreadth column and dropped.\n",
            "Total outlier 0 in buttockcircumference column and dropped.\n",
            "Total outlier 0 in buttockdepth column and dropped.\n",
            "Total outlier 0 in buttockheight column and dropped.\n",
            "Total outlier 0 in buttockkneelength column and dropped.\n",
            "Total outlier 0 in buttockpopliteallength column and dropped.\n",
            "Total outlier 0 in calfcircumference column and dropped.\n",
            "Total outlier 0 in cervicaleheight column and dropped.\n",
            "Total outlier 0 in chestbreadth column and dropped.\n",
            "Total outlier 0 in chestcircumference column and dropped.\n",
            "Total outlier 0 in chestdepth column and dropped.\n",
            "Total outlier 0 in chestheight column and dropped.\n",
            "Total outlier 0 in crotchheight column and dropped.\n",
            "Total outlier 0 in crotchlengthomphalion column and dropped.\n",
            "Total outlier 0 in crotchlengthposterioromphalion column and dropped.\n",
            "Total outlier 0 in earbreadth column and dropped.\n",
            "Total outlier 0 in earlength column and dropped.\n",
            "Total outlier 0 in earprotrusion column and dropped.\n",
            "Total outlier 0 in elbowrestheight column and dropped.\n",
            "Total outlier 0 in eyeheightsitting column and dropped.\n",
            "Total outlier 0 in footbreadthhorizontal column and dropped.\n",
            "Total outlier 0 in footlength column and dropped.\n",
            "Total outlier 0 in forearmcenterofgriplength column and dropped.\n",
            "Total outlier 0 in forearmcircumferenceflexed column and dropped.\n",
            "Total outlier 0 in forearmforearmbreadth column and dropped.\n",
            "Total outlier 0 in forearmhandlength column and dropped.\n",
            "Total outlier 0 in functionalleglength column and dropped.\n",
            "Total outlier 0 in handbreadth column and dropped.\n",
            "Total outlier 0 in handcircumference column and dropped.\n",
            "Total outlier 0 in handlength column and dropped.\n",
            "Total outlier 0 in headbreadth column and dropped.\n",
            "Total outlier 0 in headcircumference column and dropped.\n",
            "Total outlier 0 in headlength column and dropped.\n",
            "Total outlier 0 in heelanklecircumference column and dropped.\n",
            "Total outlier 0 in heelbreadth column and dropped.\n",
            "Total outlier 2 in hipbreadth column and dropped.\n",
            "Total outlier 2 in hipbreadthsitting column and dropped.\n",
            "Total outlier 0 in iliocristaleheight column and dropped.\n",
            "Total outlier 0 in interpupillarybreadth column and dropped.\n",
            "Total outlier 0 in interscyei column and dropped.\n",
            "Total outlier 0 in interscyeii column and dropped.\n",
            "Total outlier 0 in kneeheightmidpatella column and dropped.\n",
            "Total outlier 0 in kneeheightsitting column and dropped.\n",
            "Total outlier 0 in lateralfemoralepicondyleheight column and dropped.\n",
            "Total outlier 0 in lateralmalleolusheight column and dropped.\n",
            "Total outlier 0 in lowerthighcircumference column and dropped.\n",
            "Total outlier 0 in mentonsellionlength column and dropped.\n",
            "Total outlier 0 in neckcircumference column and dropped.\n",
            "Total outlier 0 in neckcircumferencebase column and dropped.\n",
            "Total outlier 0 in overheadfingertipreachsitting column and dropped.\n",
            "Total outlier 0 in palmlength column and dropped.\n",
            "Total outlier 0 in poplitealheight column and dropped.\n",
            "Total outlier 0 in radialestylionlength column and dropped.\n",
            "Total outlier 0 in shouldercircumference column and dropped.\n",
            "Total outlier 0 in shoulderelbowlength column and dropped.\n",
            "Total outlier 0 in shoulderlength column and dropped.\n",
            "Total outlier 0 in sittingheight column and dropped.\n",
            "Total outlier 0 in sleevelengthspinewrist column and dropped.\n",
            "Total outlier 0 in sleeveoutseam column and dropped.\n",
            "Total outlier 0 in span column and dropped.\n",
            "Total outlier 0 in stature column and dropped.\n",
            "Total outlier 0 in suprasternaleheight column and dropped.\n",
            "Total outlier 0 in tenthribheight column and dropped.\n",
            "Total outlier 0 in thighcircumference column and dropped.\n",
            "Total outlier 1 in thighclearance column and dropped.\n",
            "Total outlier 0 in thumbtipreach column and dropped.\n",
            "Total outlier 0 in tibialheight column and dropped.\n",
            "Total outlier 0 in tragiontopofhead column and dropped.\n",
            "Total outlier 0 in trochanterionheight column and dropped.\n",
            "Total outlier 0 in verticaltrunkcircumferenceusa column and dropped.\n",
            "Total outlier 0 in waistbacklength column and dropped.\n",
            "Total outlier 0 in waistbreadth column and dropped.\n",
            "Total outlier 0 in waistcircumference column and dropped.\n",
            "Total outlier 0 in waistdepth column and dropped.\n",
            "Total outlier 0 in waistfrontlengthsitting column and dropped.\n",
            "Total outlier 0 in waistheightomphalion column and dropped.\n",
            "Total outlier 0 in weightkg column and dropped.\n",
            "Total outlier 0 in wristcircumference column and dropped.\n",
            "Total outlier 0 in wristheight column and dropped.\n",
            "Total outlier 0 in Age column and dropped.\n"
          ]
        }
      ]
    },
    {
      "cell_type": "code",
      "source": [
        "df.shape"
      ],
      "metadata": {
        "colab": {
          "base_uri": "https://localhost:8080/"
        },
        "id": "1PKUash4HCzY",
        "outputId": "3d41c457-5567-422a-b778-dbe5ec074271"
      },
      "execution_count": 12,
      "outputs": [
        {
          "output_type": "execute_result",
          "data": {
            "text/plain": [
              "(6062, 98)"
            ]
          },
          "metadata": {},
          "execution_count": 12
        }
      ]
    },
    {
      "cell_type": "code",
      "source": [
        "df.reset_index(drop=True, inplace=True)"
      ],
      "metadata": {
        "id": "7qAzfCOgHC1d"
      },
      "execution_count": 13,
      "outputs": []
    },
    {
      "cell_type": "markdown",
      "source": [
        "## Looking the Target Variable"
      ],
      "metadata": {
        "id": "GtOW1Ip6HiPy"
      }
    },
    {
      "cell_type": "code",
      "source": [
        "df['DODRace'].value_counts()"
      ],
      "metadata": {
        "colab": {
          "base_uri": "https://localhost:8080/"
        },
        "id": "zS-N2KvCHC3z",
        "outputId": "336dc45e-14e6-48d1-d341-2065fc0e77ca"
      },
      "execution_count": 14,
      "outputs": [
        {
          "output_type": "execute_result",
          "data": {
            "text/plain": [
              "1    3789\n",
              "2    1295\n",
              "3     679\n",
              "4     188\n",
              "6      59\n",
              "5      49\n",
              "8       3\n",
              "Name: DODRace, dtype: int64"
            ]
          },
          "metadata": {},
          "execution_count": 14
        }
      ]
    },
    {
      "cell_type": "code",
      "source": [
        "df.drop(df[df['DODRace'] > 3].index, axis = 0, inplace=True) # We should drop some classes because there is less than 500 data. Model could'nt predict well them."
      ],
      "metadata": {
        "id": "RYXMVhXgHC6O"
      },
      "execution_count": 15,
      "outputs": []
    },
    {
      "cell_type": "code",
      "source": [
        "df.reset_index(inplace=True, drop=True)"
      ],
      "metadata": {
        "id": "QhNKT7hiHC9B"
      },
      "execution_count": 16,
      "outputs": []
    },
    {
      "cell_type": "code",
      "source": [
        "df.corr()['DODRace'].drop('DODRace').sort_values()"
      ],
      "metadata": {
        "colab": {
          "base_uri": "https://localhost:8080/"
        },
        "id": "2zm_yi4IHC_G",
        "outputId": "5ccfd3cb-eb68-4a14-da71-081da2c561cb"
      },
      "execution_count": 17,
      "outputs": [
        {
          "output_type": "execute_result",
          "data": {
            "text/plain": [
              "sittingheight           -0.324328\n",
              "eyeheightsitting        -0.319637\n",
              "wristheight             -0.268097\n",
              "stature                 -0.232939\n",
              "elbowrestheight         -0.227414\n",
              "                           ...   \n",
              "bizygomaticbreadth       0.032468\n",
              "thighcircumference       0.032510\n",
              "bitragionchinarc         0.083229\n",
              "heelbreadth              0.167020\n",
              "interpupillarybreadth    0.194209\n",
              "Name: DODRace, Length: 94, dtype: float64"
            ]
          },
          "metadata": {},
          "execution_count": 17
        }
      ]
    },
    {
      "cell_type": "code",
      "source": [
        "abs(df.corr()['DODRace'].drop('DODRace')).sort_values(ascending=False).head(10)"
      ],
      "metadata": {
        "colab": {
          "base_uri": "https://localhost:8080/"
        },
        "id": "0ytcGJbRHDBR",
        "outputId": "7d968839-5bfa-42ed-ef9e-36b209c8aeaa"
      },
      "execution_count": 18,
      "outputs": [
        {
          "output_type": "execute_result",
          "data": {
            "text/plain": [
              "sittingheight             0.324328\n",
              "eyeheightsitting          0.319637\n",
              "wristheight               0.268097\n",
              "stature                   0.232939\n",
              "elbowrestheight           0.227414\n",
              "lateralmalleolusheight    0.218593\n",
              "acromialheight            0.217652\n",
              "cervicaleheight           0.215988\n",
              "waistbacklength           0.208058\n",
              "axillaheight              0.205867\n",
              "Name: DODRace, dtype: float64"
            ]
          },
          "metadata": {},
          "execution_count": 18
        }
      ]
    },
    {
      "cell_type": "code",
      "source": [
        "# df.drop(abs(df.corr()['DODRace'].drop('DODRace')).sort_values(ascending=False).head(3).index , axis = 1 , inplace = True)"
      ],
      "metadata": {
        "id": "2rnvhH8ZHr5F"
      },
      "execution_count": 19,
      "outputs": []
    },
    {
      "cell_type": "code",
      "source": [
        "df.shape"
      ],
      "metadata": {
        "colab": {
          "base_uri": "https://localhost:8080/"
        },
        "id": "iubtBTDRHr7b",
        "outputId": "aca3f297-306b-43ae-e52f-345eefebff93"
      },
      "execution_count": 20,
      "outputs": [
        {
          "output_type": "execute_result",
          "data": {
            "text/plain": [
              "(5763, 98)"
            ]
          },
          "metadata": {},
          "execution_count": 20
        }
      ]
    },
    {
      "cell_type": "code",
      "source": [
        "df['DODRace'].value_counts()"
      ],
      "metadata": {
        "colab": {
          "base_uri": "https://localhost:8080/"
        },
        "id": "QdU79TgsHr90",
        "outputId": "1a54ed9f-4083-4a86-ef4b-ab313c713dd2"
      },
      "execution_count": 21,
      "outputs": [
        {
          "output_type": "execute_result",
          "data": {
            "text/plain": [
              "1    3789\n",
              "2    1295\n",
              "3     679\n",
              "Name: DODRace, dtype: int64"
            ]
          },
          "metadata": {},
          "execution_count": 21
        }
      ]
    },
    {
      "cell_type": "markdown",
      "source": [
        "## Creating X and y features"
      ],
      "metadata": {
        "id": "fb0CytkzHzKA"
      }
    },
    {
      "cell_type": "code",
      "source": [
        "# X = df.drop('DODRace',axis=1)\n",
        "X_ohe = pd.get_dummies(df.drop('DODRace',axis=1),drop_first=True) # This might be better.\n",
        "y = df['DODRace']"
      ],
      "metadata": {
        "id": "o6UrgJUKHsAO"
      },
      "execution_count": 22,
      "outputs": []
    },
    {
      "cell_type": "markdown",
      "source": [
        "## Handling Imbalanced Data"
      ],
      "metadata": {
        "id": "nQSZ92V9H9uG"
      }
    },
    {
      "cell_type": "code",
      "source": [
        "from imblearn.over_sampling import SMOTE\n",
        "\n",
        "oversample = SMOTE()\n",
        "X_ohe, y_smote = oversample.fit_resample(X_ohe, y)\n",
        "\n",
        "# This is doing oversampling."
      ],
      "metadata": {
        "id": "oc9ocGSmHsCi"
      },
      "execution_count": 23,
      "outputs": []
    },
    {
      "cell_type": "code",
      "source": [
        "# from imblearn.combine import SMOTETomek\n",
        "\n",
        "# smt = SMOTETomek(random_state=42)\n",
        "# X_ohe, y = smt.fit_resample(X_ohe, y)\n",
        "\n",
        "# It does both increment and decrement"
      ],
      "metadata": {
        "id": "IqnfI3tcHsE7"
      },
      "execution_count": 24,
      "outputs": []
    },
    {
      "cell_type": "code",
      "source": [
        "# from imblearn.combine import SMOTEENN\n",
        "\n",
        "# smt = SMOTEENN(random_state=42)\n",
        "# X_ohe, y = smt.fit_resample(X_ohe, y)"
      ],
      "metadata": {
        "id": "jvttfvEiHsHR"
      },
      "execution_count": 25,
      "outputs": []
    },
    {
      "cell_type": "markdown",
      "source": [
        "# LogisticRegression"
      ],
      "metadata": {
        "id": "WszUySzsIEht"
      }
    },
    {
      "cell_type": "markdown",
      "source": [
        "## Train | Test Split"
      ],
      "metadata": {
        "id": "nftMigERIXy_"
      }
    },
    {
      "cell_type": "code",
      "source": [
        "from sklearn.model_selection import train_test_split\n",
        "\n",
        "X_train, X_test, y_train, y_test = train_test_split(X_ohe, y_smote, test_size=0.2, random_state=53)"
      ],
      "metadata": {
        "id": "vUmzpcoQHsJk"
      },
      "execution_count": 26,
      "outputs": []
    },
    {
      "cell_type": "markdown",
      "source": [
        "## Scaling"
      ],
      "metadata": {
        "id": "2_VzivUTIe57"
      }
    },
    {
      "cell_type": "code",
      "source": [
        "from sklearn.preprocessing import MinMaxScaler, StandardScaler\n",
        "\n",
        "scaler = MinMaxScaler()\n",
        "# scaler = StandardScaler()\n",
        "\n",
        "X_train_scaled = scaler.fit_transform(X_train)\n",
        "X_test_scaled = scaler.transform(X_test)"
      ],
      "metadata": {
        "id": "28OsbWLxHsL0"
      },
      "execution_count": 27,
      "outputs": []
    },
    {
      "cell_type": "markdown",
      "source": [
        "## GridSearch For Best Model"
      ],
      "metadata": {
        "id": "4FyX8UylI_pi"
      }
    },
    {
      "cell_type": "code",
      "source": [
        "from sklearn.model_selection import GridSearchCV\n",
        "from sklearn.linear_model import LogisticRegression"
      ],
      "metadata": {
        "id": "dbd1Zpn3JEQ8"
      },
      "execution_count": 28,
      "outputs": []
    },
    {
      "cell_type": "code",
      "source": [
        "# log_vanilla = LogisticRegression(max_iter=10000, class_weight='balanced' , solver = 'liblinear' , random_state = 53)\n",
        "\n",
        "\n",
        "# param_grid = {'penalty' : ['l1','l2'] , \"C\" : np.linspace(1,300,100)}\n",
        "\n",
        "\n",
        "# log_grid_model = GridSearchCV(estimator=log_vanilla,\n",
        "#                           param_grid=param_grid,\n",
        "#                           cv=5,\n",
        "#                           scoring=\"accuracy\", \n",
        "#                           verbose = 2 , \n",
        "#                           n_jobs=-1)"
      ],
      "metadata": {
        "id": "LFkK1JfPJKlY"
      },
      "execution_count": 29,
      "outputs": []
    },
    {
      "cell_type": "code",
      "source": [
        "# log_grid_model.fit(X_train_scaled , y_train)"
      ],
      "metadata": {
        "id": "ULxCWJnbLhbd"
      },
      "execution_count": 30,
      "outputs": []
    },
    {
      "cell_type": "code",
      "source": [
        "# log_grid_model.best_score_"
      ],
      "metadata": {
        "id": "eJpLa7u8JKon"
      },
      "execution_count": 31,
      "outputs": []
    },
    {
      "cell_type": "code",
      "source": [
        "# log_grid_model.best_params_"
      ],
      "metadata": {
        "id": "FRkasbTOJKqG"
      },
      "execution_count": 32,
      "outputs": []
    },
    {
      "cell_type": "code",
      "source": [
        "# log_grid_model = LogisticRegression(C = log_grid_model.best_params_['C'] , max_iter=10000, class_weight='balanced' , solver = 'liblinear' , random_state = 53).fit(X_train_scaled , y_train)"
      ],
      "metadata": {
        "id": "OqnB9uNqJETU"
      },
      "execution_count": 33,
      "outputs": []
    },
    {
      "cell_type": "code",
      "source": [
        "log_grid_model = LogisticRegression(penalty = 'l1' , C = 113 , max_iter=10000, class_weight='balanced' , solver = 'liblinear' , random_state = 53).fit(X_train_scaled , y_train)"
      ],
      "metadata": {
        "id": "CaZOL-A_JbWa"
      },
      "execution_count": 34,
      "outputs": []
    },
    {
      "cell_type": "code",
      "source": [
        "# log_grid_model = LogisticRegression(penalty = 'l2' , C = 200 , max_iter=10000, class_weight='balanced' , solver = 'liblinear' , random_state = 53).fit(X_train_scaled , y_train)"
      ],
      "metadata": {
        "id": "i4y60fZJR_85"
      },
      "execution_count": 35,
      "outputs": []
    },
    {
      "cell_type": "markdown",
      "source": [
        "## Model Evaluation"
      ],
      "metadata": {
        "id": "9f5l3rm8IqXe"
      }
    },
    {
      "cell_type": "code",
      "source": [
        "from sklearn.metrics import accuracy_score, classification_report, plot_confusion_matrix"
      ],
      "metadata": {
        "id": "DNdmWguPIkAf"
      },
      "execution_count": 36,
      "outputs": []
    },
    {
      "cell_type": "code",
      "source": [
        "def eval_metric(model, X_train, y_train, X_test, y_test):\n",
        "    plot_confusion_matrix(model, X_test, y_test)\n",
        "    y_train_pred = model.predict(X_train)\n",
        "    y_pred = model.predict(X_test)\n",
        "    \n",
        "    print(\"Test Set\")\n",
        "    print(classification_report(y_test, y_pred), end='\\n')\n",
        "    print(\"Train Set\")\n",
        "    print(classification_report(y_train, y_train_pred))"
      ],
      "metadata": {
        "id": "71W1uqo8IkDA"
      },
      "execution_count": 37,
      "outputs": []
    },
    {
      "cell_type": "code",
      "source": [
        "eval_metric(log_grid_model , X_train_scaled , y_train , X_test_scaled , y_test)"
      ],
      "metadata": {
        "colab": {
          "base_uri": "https://localhost:8080/",
          "height": 717
        },
        "id": "NWLgNSc0KAIz",
        "outputId": "aac6b7ab-f8a4-48a2-d6fa-e21eb4ca6328"
      },
      "execution_count": 38,
      "outputs": [
        {
          "output_type": "stream",
          "name": "stderr",
          "text": [
            "/usr/local/lib/python3.7/dist-packages/sklearn/utils/deprecation.py:87: FutureWarning: Function plot_confusion_matrix is deprecated; Function `plot_confusion_matrix` is deprecated in 1.0 and will be removed in 1.2. Use one of the class methods: ConfusionMatrixDisplay.from_predictions or ConfusionMatrixDisplay.from_estimator.\n",
            "  warnings.warn(msg, category=FutureWarning)\n"
          ]
        },
        {
          "output_type": "stream",
          "name": "stdout",
          "text": [
            "Test Set\n",
            "              precision    recall  f1-score   support\n",
            "\n",
            "           1       0.90      0.92      0.91       777\n",
            "           2       0.92      0.94      0.93       755\n",
            "           3       0.89      0.86      0.88       742\n",
            "\n",
            "    accuracy                           0.91      2274\n",
            "   macro avg       0.91      0.91      0.91      2274\n",
            "weighted avg       0.91      0.91      0.91      2274\n",
            "\n",
            "Train Set\n",
            "              precision    recall  f1-score   support\n",
            "\n",
            "           1       0.92      0.94      0.93      3012\n",
            "           2       0.95      0.95      0.95      3034\n",
            "           3       0.92      0.89      0.90      3047\n",
            "\n",
            "    accuracy                           0.93      9093\n",
            "   macro avg       0.93      0.93      0.93      9093\n",
            "weighted avg       0.93      0.93      0.93      9093\n",
            "\n"
          ]
        },
        {
          "output_type": "display_data",
          "data": {
            "text/plain": [
              "<Figure size 432x288 with 2 Axes>"
            ],
            "image/png": "[encoded data removed]"
          },
          "metadata": {
            "needs_background": "light"
          }
        }
      ]
    },
    {
      "cell_type": "code",
      "source": [
        "from sklearn.model_selection import cross_validate\n",
        "\n",
        "log_grid_model = LogisticRegression(penalty = 'l1' , C = 113 , max_iter=10000, class_weight='balanced' , solver = 'liblinear' , random_state = 53)\n",
        "\n",
        "cross_validate(log_grid_model , X_train_scaled , y_train , cv = 5 , scoring = 'accuracy')['test_score'].mean()"
      ],
      "metadata": {
        "colab": {
          "base_uri": "https://localhost:8080/"
        },
        "id": "pui4akypKALV",
        "outputId": "882fd5aa-9a2b-4a46-b8e2-c4198f02ad62"
      },
      "execution_count": 39,
      "outputs": [
        {
          "output_type": "execute_result",
          "data": {
            "text/plain": [
              "0.9128991678717074"
            ]
          },
          "metadata": {},
          "execution_count": 39
        }
      ]
    },
    {
      "cell_type": "markdown",
      "source": [
        "## Visulization Multiclass Roc"
      ],
      "metadata": {
        "id": "xBlY3_hEJo9i"
      }
    },
    {
      "cell_type": "code",
      "source": [
        "log_grid_model.fit(X_train_scaled , y_train)"
      ],
      "metadata": {
        "colab": {
          "base_uri": "https://localhost:8080/"
        },
        "id": "10znc9opThbc",
        "outputId": "b63f6d50-718a-41e5-cc7c-c55d8a7c90cf"
      },
      "execution_count": 40,
      "outputs": [
        {
          "output_type": "execute_result",
          "data": {
            "text/plain": [
              "LogisticRegression(C=113, class_weight='balanced', max_iter=10000, penalty='l1',\n",
              "                   random_state=53, solver='liblinear')"
            ]
          },
          "metadata": {},
          "execution_count": 40
        }
      ]
    },
    {
      "cell_type": "code",
      "source": [
        "from sklearn.metrics import roc_curve, auc, plot_precision_recall_curve"
      ],
      "metadata": {
        "id": "Y-xLq1l_TGn4"
      },
      "execution_count": 41,
      "outputs": []
    },
    {
      "cell_type": "code",
      "source": [
        "def plot_multiclass_roc(clf, X_test, y_test, n_classes, figsize=(5,5)):\n",
        "    y_score = clf.decision_function(X_test)\n",
        "\n",
        "    # structures\n",
        "    fpr = dict()\n",
        "    tpr = dict()\n",
        "    roc_auc = dict()\n",
        "\n",
        "    # calculate dummies once\n",
        "    y_test_dummies = pd.get_dummies(y_test, drop_first=False).values\n",
        "    for i in range(n_classes):\n",
        "        fpr[i], tpr[i], _ = roc_curve(y_test_dummies[:, i], y_score[:, i])\n",
        "        roc_auc[i] = auc(fpr[i], tpr[i])\n",
        "\n",
        "    # roc for each class\n",
        "    fig, ax = plt.subplots(figsize=figsize)\n",
        "    ax.plot([0, 1], [0, 1], 'k--')\n",
        "    ax.set_xlim([0.0, 1.0])\n",
        "    ax.set_ylim([0.0, 1.05])\n",
        "    ax.set_xlabel('False Positive Rate')\n",
        "    ax.set_ylabel('True Positive Rate')\n",
        "    ax.set_title('Receiver operating characteristic example')\n",
        "    for i in range(n_classes):\n",
        "        ax.plot(fpr[i], tpr[i], label='ROC curve (area = %0.2f) for label %i' % (roc_auc[i], i))\n",
        "    ax.legend(loc=\"best\")\n",
        "    ax.grid(alpha=.4)\n",
        "    sns.despine()\n",
        "    plt.show()"
      ],
      "metadata": {
        "id": "GGaAQjPkKANz"
      },
      "execution_count": 42,
      "outputs": []
    },
    {
      "cell_type": "code",
      "source": [
        "plot_multiclass_roc(log_grid_model, X_train_scaled, y_train, n_classes=3, figsize=(16, 10))"
      ],
      "metadata": {
        "id": "e_Q-__J5KAQJ",
        "colab": {
          "base_uri": "https://localhost:8080/",
          "height": 621
        },
        "outputId": "525c17a0-6b24-4b86-e77a-f444d06ae378"
      },
      "execution_count": 43,
      "outputs": [
        {
          "output_type": "display_data",
          "data": {
            "text/plain": [
              "<Figure size 1152x720 with 1 Axes>"
            ],
            "image/png": "[encoded data removed]"
          },
          "metadata": {
            "needs_background": "light"
          }
        }
      ]
    },
    {
      "cell_type": "code",
      "source": [
        "plot_multiclass_roc(log_grid_model, X_test_scaled, y_test, n_classes=3, figsize=(16, 10))"
      ],
      "metadata": {
        "id": "WGZ2nSCaKASc",
        "colab": {
          "base_uri": "https://localhost:8080/",
          "height": 621
        },
        "outputId": "718832d7-f5b2-46a1-97bb-63aceeb14658"
      },
      "execution_count": 44,
      "outputs": [
        {
          "output_type": "display_data",
          "data": {
            "text/plain": [
              "<Figure size 1152x720 with 1 Axes>"
            ],
            "image/png": "[encoded data removed]"
          },
          "metadata": {
            "needs_background": "light"
          }
        }
      ]
    },
    {
      "cell_type": "code",
      "source": [
        "# Done"
      ],
      "metadata": {
        "id": "WTmhPi1CJbds"
      },
      "execution_count": 45,
      "outputs": []
    }
  ]
}